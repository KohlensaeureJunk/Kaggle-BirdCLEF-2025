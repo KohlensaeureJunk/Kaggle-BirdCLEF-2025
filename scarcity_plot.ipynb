{
 "cells": [
  {
   "cell_type": "code",
   "execution_count": 44,
   "id": "a1c6da76",
   "metadata": {},
   "outputs": [],
   "source": [
    "import pandas as pd\n",
    "import matplotlib.pyplot as plt\n",
    "import matplotlib"
   ]
  },
  {
   "cell_type": "code",
   "execution_count": 7,
   "id": "081faa30",
   "metadata": {},
   "outputs": [
    {
     "data": {
      "text/html": [
       "<div>\n",
       "<style scoped>\n",
       "    .dataframe tbody tr th:only-of-type {\n",
       "        vertical-align: middle;\n",
       "    }\n",
       "\n",
       "    .dataframe tbody tr th {\n",
       "        vertical-align: top;\n",
       "    }\n",
       "\n",
       "    .dataframe thead th {\n",
       "        text-align: right;\n",
       "    }\n",
       "</style>\n",
       "<table border=\"1\" class=\"dataframe\">\n",
       "  <thead>\n",
       "    <tr style=\"text-align: right;\">\n",
       "      <th></th>\n",
       "      <th>primary_label</th>\n",
       "      <th>secondary_labels</th>\n",
       "      <th>type</th>\n",
       "      <th>filename</th>\n",
       "      <th>collection</th>\n",
       "      <th>rating</th>\n",
       "      <th>url</th>\n",
       "      <th>latitude</th>\n",
       "      <th>longitude</th>\n",
       "      <th>scientific_name</th>\n",
       "      <th>common_name</th>\n",
       "      <th>author</th>\n",
       "      <th>license</th>\n",
       "    </tr>\n",
       "  </thead>\n",
       "  <tbody>\n",
       "    <tr>\n",
       "      <th>0</th>\n",
       "      <td>1139490</td>\n",
       "      <td>['']</td>\n",
       "      <td>['']</td>\n",
       "      <td>1139490/CSA36385.ogg</td>\n",
       "      <td>CSA</td>\n",
       "      <td>0.0</td>\n",
       "      <td>http://colecciones.humboldt.org.co/rec/sonidos...</td>\n",
       "      <td>7.3206</td>\n",
       "      <td>-73.7128</td>\n",
       "      <td>Ragoniella pulchella</td>\n",
       "      <td>Ragoniella pulchella</td>\n",
       "      <td>Fabio A. Sarria-S</td>\n",
       "      <td>cc-by-nc-sa 4.0</td>\n",
       "    </tr>\n",
       "    <tr>\n",
       "      <th>1</th>\n",
       "      <td>1139490</td>\n",
       "      <td>['']</td>\n",
       "      <td>['']</td>\n",
       "      <td>1139490/CSA36389.ogg</td>\n",
       "      <td>CSA</td>\n",
       "      <td>0.0</td>\n",
       "      <td>http://colecciones.humboldt.org.co/rec/sonidos...</td>\n",
       "      <td>7.3206</td>\n",
       "      <td>-73.7128</td>\n",
       "      <td>Ragoniella pulchella</td>\n",
       "      <td>Ragoniella pulchella</td>\n",
       "      <td>Fabio A. Sarria-S</td>\n",
       "      <td>cc-by-nc-sa 4.0</td>\n",
       "    </tr>\n",
       "    <tr>\n",
       "      <th>2</th>\n",
       "      <td>1192948</td>\n",
       "      <td>['']</td>\n",
       "      <td>['']</td>\n",
       "      <td>1192948/CSA36358.ogg</td>\n",
       "      <td>CSA</td>\n",
       "      <td>0.0</td>\n",
       "      <td>http://colecciones.humboldt.org.co/rec/sonidos...</td>\n",
       "      <td>7.3791</td>\n",
       "      <td>-73.7313</td>\n",
       "      <td>Oxyprora surinamensis</td>\n",
       "      <td>Oxyprora surinamensis</td>\n",
       "      <td>Fabio A. Sarria-S</td>\n",
       "      <td>cc-by-nc-sa 4.0</td>\n",
       "    </tr>\n",
       "    <tr>\n",
       "      <th>3</th>\n",
       "      <td>1192948</td>\n",
       "      <td>['']</td>\n",
       "      <td>['']</td>\n",
       "      <td>1192948/CSA36366.ogg</td>\n",
       "      <td>CSA</td>\n",
       "      <td>0.0</td>\n",
       "      <td>http://colecciones.humboldt.org.co/rec/sonidos...</td>\n",
       "      <td>7.2800</td>\n",
       "      <td>-73.8582</td>\n",
       "      <td>Oxyprora surinamensis</td>\n",
       "      <td>Oxyprora surinamensis</td>\n",
       "      <td>Fabio A. Sarria-S</td>\n",
       "      <td>cc-by-nc-sa 4.0</td>\n",
       "    </tr>\n",
       "    <tr>\n",
       "      <th>4</th>\n",
       "      <td>1192948</td>\n",
       "      <td>['']</td>\n",
       "      <td>['']</td>\n",
       "      <td>1192948/CSA36373.ogg</td>\n",
       "      <td>CSA</td>\n",
       "      <td>0.0</td>\n",
       "      <td>http://colecciones.humboldt.org.co/rec/sonidos...</td>\n",
       "      <td>7.3791</td>\n",
       "      <td>-73.7313</td>\n",
       "      <td>Oxyprora surinamensis</td>\n",
       "      <td>Oxyprora surinamensis</td>\n",
       "      <td>Fabio A. Sarria-S</td>\n",
       "      <td>cc-by-nc-sa 4.0</td>\n",
       "    </tr>\n",
       "  </tbody>\n",
       "</table>\n",
       "</div>"
      ],
      "text/plain": [
       "  primary_label secondary_labels  type              filename collection  \\\n",
       "0       1139490             ['']  ['']  1139490/CSA36385.ogg        CSA   \n",
       "1       1139490             ['']  ['']  1139490/CSA36389.ogg        CSA   \n",
       "2       1192948             ['']  ['']  1192948/CSA36358.ogg        CSA   \n",
       "3       1192948             ['']  ['']  1192948/CSA36366.ogg        CSA   \n",
       "4       1192948             ['']  ['']  1192948/CSA36373.ogg        CSA   \n",
       "\n",
       "   rating                                                url  latitude  \\\n",
       "0     0.0  http://colecciones.humboldt.org.co/rec/sonidos...    7.3206   \n",
       "1     0.0  http://colecciones.humboldt.org.co/rec/sonidos...    7.3206   \n",
       "2     0.0  http://colecciones.humboldt.org.co/rec/sonidos...    7.3791   \n",
       "3     0.0  http://colecciones.humboldt.org.co/rec/sonidos...    7.2800   \n",
       "4     0.0  http://colecciones.humboldt.org.co/rec/sonidos...    7.3791   \n",
       "\n",
       "   longitude        scientific_name            common_name             author  \\\n",
       "0   -73.7128   Ragoniella pulchella   Ragoniella pulchella  Fabio A. Sarria-S   \n",
       "1   -73.7128   Ragoniella pulchella   Ragoniella pulchella  Fabio A. Sarria-S   \n",
       "2   -73.7313  Oxyprora surinamensis  Oxyprora surinamensis  Fabio A. Sarria-S   \n",
       "3   -73.8582  Oxyprora surinamensis  Oxyprora surinamensis  Fabio A. Sarria-S   \n",
       "4   -73.7313  Oxyprora surinamensis  Oxyprora surinamensis  Fabio A. Sarria-S   \n",
       "\n",
       "           license  \n",
       "0  cc-by-nc-sa 4.0  \n",
       "1  cc-by-nc-sa 4.0  \n",
       "2  cc-by-nc-sa 4.0  \n",
       "3  cc-by-nc-sa 4.0  \n",
       "4  cc-by-nc-sa 4.0  "
      ]
     },
     "execution_count": 7,
     "metadata": {},
     "output_type": "execute_result"
    }
   ],
   "source": [
    "train_df = pd.read_csv(\"birdclef-2025/train.csv\")\n",
    "train_df.head()"
   ]
  },
  {
   "cell_type": "code",
   "execution_count": 5,
   "id": "4922ed8e",
   "metadata": {},
   "outputs": [
    {
     "data": {
      "text/html": [
       "<div>\n",
       "<style scoped>\n",
       "    .dataframe tbody tr th:only-of-type {\n",
       "        vertical-align: middle;\n",
       "    }\n",
       "\n",
       "    .dataframe tbody tr th {\n",
       "        vertical-align: top;\n",
       "    }\n",
       "\n",
       "    .dataframe thead th {\n",
       "        text-align: right;\n",
       "    }\n",
       "</style>\n",
       "<table border=\"1\" class=\"dataframe\">\n",
       "  <thead>\n",
       "    <tr style=\"text-align: right;\">\n",
       "      <th></th>\n",
       "      <th>primary_label</th>\n",
       "      <th>inat_taxon_id</th>\n",
       "      <th>scientific_name</th>\n",
       "      <th>common_name</th>\n",
       "      <th>class_name</th>\n",
       "    </tr>\n",
       "  </thead>\n",
       "  <tbody>\n",
       "    <tr>\n",
       "      <th>0</th>\n",
       "      <td>1139490</td>\n",
       "      <td>1139490</td>\n",
       "      <td>Ragoniella pulchella</td>\n",
       "      <td>Ragoniella pulchella</td>\n",
       "      <td>Insecta</td>\n",
       "    </tr>\n",
       "    <tr>\n",
       "      <th>1</th>\n",
       "      <td>1192948</td>\n",
       "      <td>1192948</td>\n",
       "      <td>Oxyprora surinamensis</td>\n",
       "      <td>Oxyprora surinamensis</td>\n",
       "      <td>Insecta</td>\n",
       "    </tr>\n",
       "    <tr>\n",
       "      <th>2</th>\n",
       "      <td>1194042</td>\n",
       "      <td>1194042</td>\n",
       "      <td>Copiphora colombiae</td>\n",
       "      <td>Copiphora colombiae</td>\n",
       "      <td>Insecta</td>\n",
       "    </tr>\n",
       "    <tr>\n",
       "      <th>3</th>\n",
       "      <td>126247</td>\n",
       "      <td>126247</td>\n",
       "      <td>Leptodactylus insularum</td>\n",
       "      <td>Spotted Foam-nest Frog</td>\n",
       "      <td>Amphibia</td>\n",
       "    </tr>\n",
       "    <tr>\n",
       "      <th>4</th>\n",
       "      <td>1346504</td>\n",
       "      <td>1346504</td>\n",
       "      <td>Neoconocephalus brachypterus</td>\n",
       "      <td>Neoconocephalus brachypterus</td>\n",
       "      <td>Insecta</td>\n",
       "    </tr>\n",
       "  </tbody>\n",
       "</table>\n",
       "</div>"
      ],
      "text/plain": [
       "  primary_label  inat_taxon_id               scientific_name  \\\n",
       "0       1139490        1139490          Ragoniella pulchella   \n",
       "1       1192948        1192948         Oxyprora surinamensis   \n",
       "2       1194042        1194042           Copiphora colombiae   \n",
       "3        126247         126247       Leptodactylus insularum   \n",
       "4       1346504        1346504  Neoconocephalus brachypterus   \n",
       "\n",
       "                    common_name class_name  \n",
       "0          Ragoniella pulchella    Insecta  \n",
       "1         Oxyprora surinamensis    Insecta  \n",
       "2           Copiphora colombiae    Insecta  \n",
       "3        Spotted Foam-nest Frog   Amphibia  \n",
       "4  Neoconocephalus brachypterus    Insecta  "
      ]
     },
     "execution_count": 5,
     "metadata": {},
     "output_type": "execute_result"
    }
   ],
   "source": [
    "taxonomy_df = pd.read_csv(\"birdclef-2025/taxonomy.csv\")\n",
    "taxonomy_df.head()"
   ]
  },
  {
   "cell_type": "code",
   "execution_count": 11,
   "id": "7315c72b",
   "metadata": {},
   "outputs": [
    {
     "name": "stdout",
     "output_type": "stream",
     "text": [
      "Number of common names: 206\n"
     ]
    }
   ],
   "source": [
    "all_names = taxonomy_df[\"common_name\"]\n",
    "print(f\"Number of common names: {len(all_names)}\")\n"
   ]
  },
  {
   "cell_type": "code",
   "execution_count": 12,
   "id": "5d00416c",
   "metadata": {},
   "outputs": [
    {
     "name": "stdout",
     "output_type": "stream",
     "text": [
      "Number of unique common names in train: 206\n"
     ]
    }
   ],
   "source": [
    "names_train = train_df[\"common_name\"]\n",
    "names_train_unique = names_train.unique()\n",
    "print(f\"Number of unique common names in train: {len(names_train_unique)}\")"
   ]
  },
  {
   "cell_type": "code",
   "execution_count": 33,
   "id": "02de093d",
   "metadata": {},
   "outputs": [
    {
     "data": {
      "text/plain": [
       "common_name\n",
       "Great Kiskadee                     990\n",
       "Common Pauraque                    808\n",
       "Tropical Kingbird                  787\n",
       "Roadside Hawk                      709\n",
       "Bananaquit                         610\n",
       "                                  ... \n",
       "Collared Peccary                     2\n",
       "Yellow-striped Poison Dart Frog      2\n",
       "Ragoniella pulchella                 2\n",
       "Common Rocket Frog                   2\n",
       "Colombian Niputidea Nurse Frog       2\n",
       "Name: count, Length: 206, dtype: int64"
      ]
     },
     "execution_count": 33,
     "metadata": {},
     "output_type": "execute_result"
    }
   ],
   "source": [
    "val_counts = names_train.value_counts()\n",
    "val_counts"
   ]
  },
  {
   "cell_type": "code",
   "execution_count": 31,
   "id": "da3e220f",
   "metadata": {},
   "outputs": [
    {
     "data": {
      "text/plain": [
       "<Axes: title={'center': 'Number of train samples per common name'}, xlabel='common_name'>"
      ]
     },
     "execution_count": 31,
     "metadata": {},
     "output_type": "execute_result"
    },
    {
     "data": {
      "image/png": "[encoded data removed]",
      "text/plain": [
       "<Figure size 1200x500 with 1 Axes>"
      ]
     },
     "metadata": {},
     "output_type": "display_data"
    }
   ],
   "source": [
    "names_train.value_counts().plot(kind=\"bar\", figsize=(12, 5), title=\"Number of train samples per common name\", xticks=[])"
   ]
  },
  {
   "cell_type": "code",
   "execution_count": 92,
   "id": "5344499e",
   "metadata": {},
   "outputs": [
    {
     "data": {
      "image/png": "[encoded data removed]",
      "text/plain": [
       "<Figure size 1500x600 with 1 Axes>"
      ]
     },
     "metadata": {},
     "output_type": "display_data"
    }
   ],
   "source": [
    "counts = val_counts.values\n",
    "matplotlib.rcParams['figure.dpi'] = 100\n",
    "plt.figure(figsize=(15, 6))\n",
    "plt.bar(range(len(counts)), counts, width=1, color=\"tab:red\")\n",
    "plt.xlim(-0.5, len(counts)-0.5)\n",
    "plt.yscale(\"log\")\n",
    "plt.xticks([])\n",
    "plt.xlabel(\"primary labels\")\n",
    "plt.ylabel(\"Number of Samples\")\n",
    "plt.ylim(1,10e2+300)\n",
    "plt.tick_params(labeltop=False, labelright=True, which =\"both\", right=True)\n"
   ]
  },
  {
   "cell_type": "code",
   "execution_count": 93,
   "id": "2c8ad1b5",
   "metadata": {},
   "outputs": [
    {
     "name": "stdout",
     "output_type": "stream",
     "text": [
      "Number of unique primary labels in train: 206\n"
     ]
    }
   ],
   "source": [
    "primary_labels = train_df[\"primary_label\"]\n",
    "primary_labels_unique = primary_labels.unique()\n",
    "print(f\"Number of unique primary labels in train: {len(primary_labels_unique)}\")"
   ]
  },
  {
   "cell_type": "code",
   "execution_count": 206,
   "id": "e3f3304a",
   "metadata": {},
   "outputs": [
    {
     "name": "stdout",
     "output_type": "stream",
     "text": [
      "Number of unique secondary labels in train: 132\n"
     ]
    }
   ],
   "source": [
    "secondary_labels = train_df[\"secondary_labels\"]\n",
    "all_secondary_labels = []\n",
    "for labels in secondary_labels:\n",
    "    if labels != \"['']\":\n",
    "        labels = labels.replace(\"'\", \"\").replace(\"[\", \"\").replace(\"]\", \"\")\n",
    "        all_secondary_labels.extend(labels.split(\", \"))\n",
    "all_secondary_labels = pd.Series(all_secondary_labels)\n",
    "all_secondary_labels.drop(all_secondary_labels[all_secondary_labels==''].keys(), inplace=True)\n",
    "secondary_labels_unique = pd.Series(all_secondary_labels.unique())\n",
    "print(f\"Number of unique secondary labels in train: {len(secondary_labels_unique)}\")"
   ]
  },
  {
   "cell_type": "code",
   "execution_count": 233,
   "id": "a86a3d99",
   "metadata": {},
   "outputs": [],
   "source": [
    "primary_labels_grouped = primary_labels.groupby(primary_labels).count().sort_values(ascending=False)\n",
    "secondary_labels_grouped = secondary_labels.groupby(all_secondary_labels).count().sort_values(ascending=False)\n"
   ]
  },
  {
   "cell_type": "code",
   "execution_count": 209,
   "id": "a6c34820",
   "metadata": {},
   "outputs": [
    {
     "data": {
      "text/html": [
       "<div>\n",
       "<style scoped>\n",
       "    .dataframe tbody tr th:only-of-type {\n",
       "        vertical-align: middle;\n",
       "    }\n",
       "\n",
       "    .dataframe tbody tr th {\n",
       "        vertical-align: top;\n",
       "    }\n",
       "\n",
       "    .dataframe thead th {\n",
       "        text-align: right;\n",
       "    }\n",
       "</style>\n",
       "<table border=\"1\" class=\"dataframe\">\n",
       "  <thead>\n",
       "    <tr style=\"text-align: right;\">\n",
       "      <th></th>\n",
       "      <th>primary_label</th>\n",
       "      <th>secondary_labels</th>\n",
       "    </tr>\n",
       "    <tr>\n",
       "      <th>primary_label</th>\n",
       "      <th></th>\n",
       "      <th></th>\n",
       "    </tr>\n",
       "  </thead>\n",
       "  <tbody>\n",
       "    <tr>\n",
       "      <th>grekis</th>\n",
       "      <td>990</td>\n",
       "      <td>489.0</td>\n",
       "    </tr>\n",
       "    <tr>\n",
       "      <th>compau</th>\n",
       "      <td>808</td>\n",
       "      <td>44.0</td>\n",
       "    </tr>\n",
       "    <tr>\n",
       "      <th>trokin</th>\n",
       "      <td>787</td>\n",
       "      <td>188.0</td>\n",
       "    </tr>\n",
       "    <tr>\n",
       "      <th>roahaw</th>\n",
       "      <td>709</td>\n",
       "      <td>2.0</td>\n",
       "    </tr>\n",
       "    <tr>\n",
       "      <th>banana</th>\n",
       "      <td>610</td>\n",
       "      <td>104.0</td>\n",
       "    </tr>\n",
       "    <tr>\n",
       "      <th>...</th>\n",
       "      <td>...</td>\n",
       "      <td>...</td>\n",
       "    </tr>\n",
       "    <tr>\n",
       "      <th>42113</th>\n",
       "      <td>2</td>\n",
       "      <td>NaN</td>\n",
       "    </tr>\n",
       "    <tr>\n",
       "      <th>21116</th>\n",
       "      <td>2</td>\n",
       "      <td>NaN</td>\n",
       "    </tr>\n",
       "    <tr>\n",
       "      <th>1139490</th>\n",
       "      <td>2</td>\n",
       "      <td>NaN</td>\n",
       "    </tr>\n",
       "    <tr>\n",
       "      <th>21038</th>\n",
       "      <td>2</td>\n",
       "      <td>NaN</td>\n",
       "    </tr>\n",
       "    <tr>\n",
       "      <th>64862</th>\n",
       "      <td>2</td>\n",
       "      <td>NaN</td>\n",
       "    </tr>\n",
       "  </tbody>\n",
       "</table>\n",
       "<p>206 rows × 2 columns</p>\n",
       "</div>"
      ],
      "text/plain": [
       "               primary_label  secondary_labels\n",
       "primary_label                                 \n",
       "grekis                   990             489.0\n",
       "compau                   808              44.0\n",
       "trokin                   787             188.0\n",
       "roahaw                   709               2.0\n",
       "banana                   610             104.0\n",
       "...                      ...               ...\n",
       "42113                      2               NaN\n",
       "21116                      2               NaN\n",
       "1139490                    2               NaN\n",
       "21038                      2               NaN\n",
       "64862                      2               NaN\n",
       "\n",
       "[206 rows x 2 columns]"
      ]
     },
     "execution_count": 209,
     "metadata": {},
     "output_type": "execute_result"
    }
   ],
   "source": [
    "merged_label_counts = pd.merge(primary_labels_grouped, secondary_labels_grouped, how=\"left\", left_index=True, right_index=True)\n",
    "merged_label_counts"
   ]
  },
  {
   "cell_type": "code",
   "execution_count": 232,
   "id": "5d8bb616",
   "metadata": {},
   "outputs": [
    {
     "data": {
      "image/png": "[encoded data removed]",
      "text/plain": [
       "<Figure size 1500x600 with 1 Axes>"
      ]
     },
     "metadata": {},
     "output_type": "display_data"
    }
   ],
   "source": [
    "matplotlib.rcParams['figure.dpi'] = 100\n",
    "plt.figure(figsize=(15, 6))\n",
    "plt.bar(range(len(primary_labels_grouped)), merged_label_counts[\"primary_label\"], width=1, color=\"tab:red\", label=f\"primary_labels (Σ={len(primary_labels_grouped)})\")\n",
    "plt.bar(range(len(primary_labels_grouped)), merged_label_counts[\"secondary_labels\"], width=1, color=\"tab:cyan\", label=f\"secondary_labels (Σ={len(secondary_labels_grouped)})\")\n",
    "plt.xlim(-0.5, len(counts)-0.5)\n",
    "plt.yscale(\"log\")\n",
    "plt.xticks([])\n",
    "plt.xlabel(\"Labels\")\n",
    "plt.ylabel(\"Number of Samples\")\n",
    "plt.ylim(1,10e2+300)\n",
    "plt.tick_params(labeltop=False, labelright=True, which =\"both\", right=True)\n",
    "plt.legend(loc=\"upper right\")\n",
    "plt.text\n",
    "plt.savefig(\"scarcity_plot.png\", dpi=300)\n",
    "plt.savefig(\"scarcity_plot.svg\", dpi=600)"
   ]
  },
  {
   "cell_type": "code",
   "execution_count": null,
   "id": "2141f3d8",
   "metadata": {},
   "outputs": [],
   "source": []
  }
 ],
 "metadata": {
  "kernelspec": {
   "display_name": ".birdclef_env",
   "language": "python",
   "name": "python3"
  },
  "language_info": {
   "codemirror_mode": {
    "name": "ipython",
    "version": 3
   },
   "file_extension": ".py",
   "mimetype": "text/x-python",
   "name": "python",
   "nbconvert_exporter": "python",
   "pygments_lexer": "ipython3",
   "version": "3.11.2"
  }
 },
 "nbformat": 4,
 "nbformat_minor": 5
}
