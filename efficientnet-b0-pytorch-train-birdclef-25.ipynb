{
 "cells": [
  {
   "cell_type": "markdown",
   "id": "dd19261b",
   "metadata": {
    "papermill": {
     "duration": 0.00461,
     "end_time": "2025-03-17T14:00:32.494653",
     "exception": false,
     "start_time": "2025-03-17T14:00:32.490043",
     "status": "completed"
    },
    "tags": []
   },
   "source": [
    "# **BirdCLEF 2025 Training Notebook**\n",
    "\n",
    "This is a baseline training pipeline for BirdCLEF 2025 using EfficientNetB0 with PyTorch and Timm(for pretrained EffNet). You can check inference and preprocessing notebooks in the following links: \n",
    "\n",
    "- [EfficientNet B0 Pytorch [Inference] | BirdCLEF'25](https://www.kaggle.com/code/kadircandrisolu/efficientnet-b0-pytorch-inference-birdclef-25)\n",
    "\n",
    "  \n",
    "- [Transforming Audio-to-Mel Spec. | BirdCLEF'25](https://www.kaggle.com/code/kadircandrisolu/transforming-audio-to-mel-spec-birdclef-25)  \n",
    "\n",
    "Note that by default this notebook is in Debug Mode, so it will only train the model with 2 epochs, but the [weight](https://www.kaggle.com/datasets/kadircandrisolu/birdclef25-effnetb0-starter-weight) I used in the inference notebook was obtained after 10 epochs of training.\n",
    "\n",
    "**Features**\n",
    "* Implement with Pytorch and Timm\n",
    "* Flexible audio processing with both pre-computed and on-the-fly mel spectrograms\n",
    "* Stratified 5-fold cross-validation with ensemble capability\n",
    "* Mixup training for improved generalization\n",
    "* Spectrogram augmentations (time/frequency masking, brightness adjustment)\n",
    "* AdamW optimizer with Cosine Annealing LR scheduling\n",
    "* Debug mode for quick experimentation with smaller datasets\n",
    "\n",
    "**Pre-computed Spectrograms**\n",
    "For faster training, you can use pre-computed mel spectrograms from [this dataset](https://www.kaggle.com/datasets/kadircandrisolu/birdclef25-mel-spectrograms) by setting `LOAD_DATA = True`"
   ]
  },
  {
   "cell_type": "markdown",
   "id": "34a699fa",
   "metadata": {
    "papermill": {
     "duration": 0.003494,
     "end_time": "2025-03-17T14:00:32.502085",
     "exception": false,
     "start_time": "2025-03-17T14:00:32.498591",
     "status": "completed"
    },
    "tags": []
   },
   "source": [
    "## Libraries"
   ]
  },
  {
   "cell_type": "code",
   "execution_count": 1,
   "id": "f7ca2ea8",
   "metadata": {
    "execution": {
     "iopub.execute_input": "2025-03-17T14:00:32.510711Z",
     "iopub.status.busy": "2025-03-17T14:00:32.510382Z",
     "iopub.status.idle": "2025-03-17T14:00:46.238785Z",
     "shell.execute_reply": "2025-03-17T14:00:46.238073Z"
    },
    "papermill": {
     "duration": 13.73451,
     "end_time": "2025-03-17T14:00:46.240399",
     "exception": false,
     "start_time": "2025-03-17T14:00:32.505889",
     "status": "completed"
    },
    "tags": []
   },
   "outputs": [],
   "source": [
    "# Basic imports\n",
    "import numpy as np, pandas as pd, os, random, warnings, json, datetime, time\n",
    "from tqdm.auto import tqdm\n",
    "\n",
    "\n",
    "# Specific imports\n",
    "import logging\n",
    "from metric_logger import MetricLogger\n",
    "\n",
    "# PyTorch imports\n",
    "import torch\n",
    "import torch.nn as nn\n",
    "import torch.nn.functional as F\n",
    "import torch.optim as optim\n",
    "from torch.optim import lr_scheduler\n",
    "from torch.utils.data import Dataset, DataLoader\n",
    "from torch.amp import autocast, GradScaler\n",
    "\n",
    "# Other ML imports\n",
    "from sklearn.model_selection import StratifiedKFold\n",
    "import timm\n",
    "\n",
    "# Custom imports\n",
    "from processing import process_audio_file\n",
    "from utilities import set_seed, collate_fn\n",
    "from training_utilities import get_scheduler, get_criterion, clean_gpu_memory, compile_model, calculate_soft_label_metrics\n",
    "\n",
    "# Suppress warnings and set logging level\n",
    "warnings.filterwarnings(\"ignore\")\n",
    "logging.basicConfig(level=logging.ERROR)"
   ]
  },
  {
   "cell_type": "markdown",
   "id": "0d0f9c08",
   "metadata": {
    "papermill": {
     "duration": 0.003721,
     "end_time": "2025-03-17T14:00:46.248317",
     "exception": false,
     "start_time": "2025-03-17T14:00:46.244596",
     "status": "completed"
    },
    "tags": []
   },
   "source": [
    "## Configuration"
   ]
  },
  {
   "cell_type": "code",
   "execution_count": 2,
   "id": "06591264",
   "metadata": {
    "execution": {
     "iopub.execute_input": "2025-03-17T14:00:46.256618Z",
     "iopub.status.busy": "2025-03-17T14:00:46.256366Z",
     "iopub.status.idle": "2025-03-17T14:00:46.333416Z",
     "shell.execute_reply": "2025-03-17T14:00:46.332684Z"
    },
    "papermill": {
     "duration": 0.082704,
     "end_time": "2025-03-17T14:00:46.334712",
     "exception": false,
     "start_time": "2025-03-17T14:00:46.252008",
     "status": "completed"
    },
    "tags": []
   },
   "outputs": [
    {
     "name": "stdout",
     "output_type": "stream",
     "text": [
      "Using device: cuda\n"
     ]
    }
   ],
   "source": [
    "class CFG:\n",
    "    \n",
    "    seed = 42\n",
    "    debug = False \n",
    "    LOAD_DATA = True\n",
    "    \n",
    "    # Paths and directories\n",
    "    OUTPUT_DIR = 'output/'\n",
    "    plots_dir = 'output/plots/'\n",
    "    metrics_dir = 'output/metrics/'\n",
    "    configs_dir = 'output/configs/'\n",
    "    models_dir = 'output/models/'\n",
    "    train_datadir = 'birdclef-2025/train_audio'\n",
    "    train_csv = 'birdclef-2025/train.csv'\n",
    "    train_soundscapes = 'birdclef-2025/train_soundscapes'\n",
    "    test_soundscapes = 'birdclef-2025/test_soundscapes'\n",
    "    submission_csv = 'birdclef-2025/sample_submission.csv'\n",
    "    taxonomy_csv = 'birdclef-2025/taxonomy.csv'\n",
    "    spectrogram_npy = 'archive/train_melspec_5_256_256.npy'\n",
    "    train_soundscapes_spectrograms = 'archive/train_soundscapes_melspec_12x5_256_256/'\n",
    "    \n",
    "    # Label processing\n",
    "    secondary_weight = 0.7 \n",
    "    use_external_pseudolabels = True\n",
    "    use_soft_labels = False\n",
    "    normalize_labels = False\n",
    "    external_pseudolabels = 'pseudolabels_even_better.csv'\n",
    "    pseudolabel_confidence_threshold = 0.04  # Only use predictions above this threshold, only if using hard labels\n",
    "    max_pseudolabels = 25000  # Maximum number of pseudolabeled samples to use\n",
    "    stratified_pseudolabels = True  # Use stratified sampling for pseudolabels (currently only for hard labels)\n",
    " \n",
    "    timestamp = datetime.datetime.now().strftime(\"%Y%m%d_%H%M%S\")\n",
    "\n",
    "    # Training settings\n",
    "    epochs = 20\n",
    "    n_fold = 5\n",
    "    use_early_stopping = True\n",
    "    early_stopping_epochs = 3 \n",
    "\n",
    "    # Mel spectrogram parameters\n",
    "    FS = 32000\n",
    "    TARGET_DURATION = 5.0\n",
    "    TARGET_SHAPE = (256, 256)\n",
    "    N_FFT = 1024\n",
    "    HOP_LENGTH = 512\n",
    "    N_MELS = 128\n",
    "    FMIN = 50\n",
    "    FMAX = 14000\n",
    "    \n",
    "    device = 'cuda' if torch.cuda.is_available() else 'cpu'\n",
    "    print(f\"Using device: {device}\")\n",
    "    \n",
    "    # Loss parameters\n",
    "    criterion = 'CombinedLoss'  # Options: 'BCEWithLogitsLoss', 'FocalLoss', 'CombinedLoss'\n",
    "    focal_alpha = 1.0\n",
    "    focal_gamma = 3.0\n",
    "    bce_weight = 0.5\n",
    "    focal_weight = 0.5\n",
    "\n",
    "    # optimizer parameters\n",
    "    lr = 0.5*1e-3 \n",
    "    weight_decay = 1e-5\n",
    "\n",
    "    #scheduler parameters\n",
    "    scheduler = 'CosineAnnealingLR'\n",
    "    min_lr = 1e-6\n",
    "    use_lr_warmup = True\n",
    "    warmup_epochs = 3\n",
    "\n",
    "    # augmentation options\n",
    "    aug_prob = 0.5\n",
    "    spec_augment = True\n",
    "    spec_augment_params = {\n",
    "        'time_mask_param': 30,\n",
    "        'freq_mask_param': 20,\n",
    "        'num_masks': 2,\n",
    "    }\n",
    "    mixup_alpha = 0.5\n",
    "    cutmix_alpha = 1.0\n",
    "    use_cutmix = True\n",
    "    \n",
    "    # Model architecture options\n",
    "    model_name = 'efficientnet_b1'  # Options: 'efficientnetv2_s', 'convnext_tiny', 'efficientnet_b0' \n",
    "    pretrained = True\n",
    "    in_channels = 1\n",
    "    dropout_rate = 0.2\n",
    "    drop_path_rate = 0.2\n",
    "\n",
    "    # Memory and speed optimizations\n",
    "    gradient_accumulation_steps = 4  # Increase effective batch size without more memory\n",
    "    use_amp = True                   # Use automatic mixed precision\n",
    "    pin_memory = True                # Faster data transfer to GPU\n",
    "    persistent_workers = True        # Keep workers alive between epochs\n",
    "    num_workers = 0                  # Match to number of CPU cores\n",
    "    prefetch_factor = 4              # Number of batches to prefetch (default is 2)\n",
    "    batch_size = 32                  # Effective batch size will be batch_size * gradient_accumulation_steps\n",
    "    \n",
    "    # Compiler settings\n",
    "    compile_backend = \"inductor\"        # Options: \"eager\", \"torchscript\", \"onnx\", \"inductor\"\n",
    "    compile_mode = \"default\"         # Options: \"default\", \"reduce-overhead\", \"max-autotune\"\n",
    "\n",
    "    def update_debug_settings(self):\n",
    "        if self.debug:\n",
    "            self.n_fold = 2\n",
    "            self.epochs = 2\n",
    "\n",
    "    def save_config(self):\n",
    "        \"\"\"Save configuration to file unless in debug mode\"\"\"\n",
    "        if not self.debug:    \n",
    "            config_dict = {attr: getattr(self, attr) for attr in dir(self) if not attr.startswith('__') and not callable(getattr(self, attr))}\n",
    "            filename = f\"config_{self.timestamp}_{self.model_name}.json\"\n",
    "            filepath = os.path.join(self.configs_dir, filename)\n",
    "            \n",
    "            with open(filepath, 'w') as f:\n",
    "                json.dump(config_dict, f, indent=4, default=str)\n",
    "            print(f\"Config saved to {filepath}\")\n",
    "\n",
    "cfg = CFG()\n",
    "set_seed(cfg.seed)\n",
    "cfg.update_debug_settings()"
   ]
  },
  {
   "cell_type": "markdown",
   "id": "e3c4bc37",
   "metadata": {
    "papermill": {
     "duration": 0.003588,
     "end_time": "2025-03-17T14:00:46.367790",
     "exception": false,
     "start_time": "2025-03-17T14:00:46.364202",
     "status": "completed"
    },
    "tags": []
   },
   "source": [
    "## Pre-processing\n",
    "These functions handle the transformation of audio files to mel spectrograms for model input, with flexibility controlled by the `LOAD_DATA` parameter. The process involves either loading pre-computed spectrograms from this [dataset](https://www.kaggle.com/datasets/kadircandrisolu/birdclef25-mel-spectrograms) (when `LOAD_DATA=True`) or dynamically generating them (when `LOAD_DATA=False`), transforming audio data into spectrogram representations, and preparing it for the neural network."
   ]
  },
  {
   "cell_type": "markdown",
   "id": "939033bf",
   "metadata": {
    "papermill": {
     "duration": 0.003549,
     "end_time": "2025-03-17T14:00:46.393394",
     "exception": false,
     "start_time": "2025-03-17T14:00:46.389845",
     "status": "completed"
    },
    "tags": []
   },
   "source": [
    "## Dataset Preparation and Data Augmentations\n",
    "We'll convert audio to mel spectrograms and apply random augmentations with 50% probability each - including time stretching, pitch shifting, and volume adjustments. This randomized approach creates diverse training samples from the same audio files"
   ]
  },
  {
   "cell_type": "code",
   "execution_count": 3,
   "id": "b6b2ea48",
   "metadata": {
    "execution": {
     "iopub.execute_input": "2025-03-17T14:00:46.401415Z",
     "iopub.status.busy": "2025-03-17T14:00:46.401216Z",
     "iopub.status.idle": "2025-03-17T14:00:46.413659Z",
     "shell.execute_reply": "2025-03-17T14:00:46.412877Z"
    },
    "papermill": {
     "duration": 0.017836,
     "end_time": "2025-03-17T14:00:46.414835",
     "exception": false,
     "start_time": "2025-03-17T14:00:46.396999",
     "status": "completed"
    },
    "tags": []
   },
   "outputs": [],
   "source": [
    "class BirdCLEFDatasetFromNPY(Dataset):\n",
    "    \n",
    "    def __init__(self, df, cfg, spectrograms=None, mode=\"train\"):\n",
    "        self.df = df\n",
    "        self.cfg = cfg\n",
    "        self.mode = mode\n",
    "        self.spectrograms = spectrograms\n",
    "        \n",
    "        taxonomy_df = pd.read_csv(self.cfg.taxonomy_csv)\n",
    "        self.species_ids = taxonomy_df['primary_label'].tolist()\n",
    "        self.num_classes = len(self.species_ids)\n",
    "        self.label_to_idx = {label: idx for idx, label in enumerate(self.species_ids)}\n",
    "        \n",
    "        if cfg.debug:\n",
    "            self.df = self.df.sample(min(1000, len(self.df)), random_state=cfg.seed).reset_index(drop=True)\n",
    "    \n",
    "    def __len__(self):\n",
    "        return len(self.df)\n",
    "    \n",
    "    def __getitem__(self, idx):\n",
    "        \n",
    "        row = self.df.iloc[idx]\n",
    "        samplename = row['samplename']\n",
    "\n",
    "        if self.spectrograms and samplename in self.spectrograms:\n",
    "            spec = self.spectrograms[samplename]\n",
    "        elif not self.cfg.LOAD_DATA:\n",
    "            spec = process_audio_file(row['filepath'], self.cfg)\n",
    "        else: \n",
    "            spec = np.zeros(self.cfg.TARGET_SHAPE, dtype=np.float32)\n",
    "            print(f\"Warning: Spectrogram for {samplename} not found and could not be generated\")    \n",
    "\n",
    "        spec = torch.from_numpy(spec).float().unsqueeze(0)  # Add channel dimension\n",
    "\n",
    "        if self.mode == \"train\" and random.random() < self.cfg.aug_prob:\n",
    "            spec = self.apply_spec_augmentations(spec)\n",
    "        \n",
    "        if row[\"primary_label\"] == 'soft': # soft label\n",
    "            target = row['secondary_labels'] # already normalized if normalize_labels is True\n",
    "        else:\n",
    "            target = self.encode_label(row['primary_label'], 1.0)\n",
    "            if 'secondary_labels' in row and row['secondary_labels'] not in [[''], None, np.nan, []]:\n",
    "                if isinstance(row['secondary_labels'], str):\n",
    "                    secondary_labels = eval(row['secondary_labels'])\n",
    "                    num_secondary_labels = 1\n",
    "                else:\n",
    "                    secondary_labels = row['secondary_labels']\n",
    "                    num_secondary_labels = len(secondary_labels)\n",
    "                \n",
    "                for label in secondary_labels:\n",
    "                    idx = self.label_to_idx.get(label)\n",
    "                    if idx is not None:\n",
    "                        target[idx] = cfg.secondary_weight/num_secondary_labels\n",
    "                    else:\n",
    "                        num_secondary_labels -= 1  # Ignore labels not in taxonomy\n",
    "                if cfg.normalize_labels:\n",
    "                    target /= np.sum(target)\n",
    "\n",
    "            \n",
    "        item = {\n",
    "            'melspec': spec, \n",
    "            'target': torch.from_numpy(target).float(),\n",
    "        }\n",
    "                \n",
    "        return item\n",
    "    \n",
    "    def apply_spec_augmentations(self, spec):\n",
    "        \"\"\"Apply augmentations to spectrogram\"\"\"\n",
    "        \n",
    "        # Time/frequency masking\n",
    "        if random.random() < 0.5:\n",
    "            for _ in range(random.randint(1, 3)):\n",
    "                width = random.randint(5, 20)\n",
    "                start = random.randint(0, spec.shape[2] - width)\n",
    "                spec[0, :, start:start+width] = 0\n",
    "        \n",
    "        if random.random() < 0.5:\n",
    "            for _ in range(random.randint(1, 3)):\n",
    "                height = random.randint(5, 20)\n",
    "                start = random.randint(0, spec.shape[1] - height)\n",
    "                spec[0, start:start+height, :] = 0\n",
    "        \n",
    "        # Random brightness/contrast adjustment\n",
    "        if random.random() < 0.5:\n",
    "            gain = random.uniform(0.8, 1.2)\n",
    "            bias = random.uniform(-0.1, 0.1)\n",
    "            spec = spec * gain + bias\n",
    "            spec = torch.clamp(spec, 0, 1)\n",
    "        \n",
    "        # Gaussian noise for robustness\n",
    "        if random.random() < 0.3:\n",
    "            noise = torch.randn_like(spec) * random.uniform(0.001, 0.005)\n",
    "            spec = spec + noise\n",
    "            spec = torch.clamp(spec, 0, 1)\n",
    "            \n",
    "        # Random time/frequency shifts\n",
    "        if random.random() < 0.3:\n",
    "            shift_x = random.randint(-4, 4)\n",
    "            shift_y = random.randint(-4, 4)\n",
    "            spec = torch.roll(spec, shifts=(shift_y, shift_x), dims=(1, 2))\n",
    "        \n",
    "        return spec\n",
    "    \n",
    "    def encode_label(self, label, weight):\n",
    "        \"\"\"Encode label to one-hot vector\"\"\"\n",
    "        target = np.zeros(self.num_classes)\n",
    "        idx = self.label_to_idx.get(label)\n",
    "        if idx is not None:\n",
    "            target[idx] = weight\n",
    "        return target"
   ]
  },
  {
   "cell_type": "markdown",
   "id": "7cbb84a1",
   "metadata": {
    "papermill": {
     "duration": 0.003491,
     "end_time": "2025-03-17T14:00:46.436543",
     "exception": false,
     "start_time": "2025-03-17T14:00:46.433052",
     "status": "completed"
    },
    "tags": []
   },
   "source": [
    "## Model Definition"
   ]
  },
  {
   "cell_type": "code",
   "execution_count": 4,
   "id": "741451ce",
   "metadata": {
    "execution": {
     "iopub.execute_input": "2025-03-17T14:00:46.444643Z",
     "iopub.status.busy": "2025-03-17T14:00:46.444412Z",
     "iopub.status.idle": "2025-03-17T14:00:46.452684Z",
     "shell.execute_reply": "2025-03-17T14:00:46.452070Z"
    },
    "papermill": {
     "duration": 0.013532,
     "end_time": "2025-03-17T14:00:46.453738",
     "exception": false,
     "start_time": "2025-03-17T14:00:46.440206",
     "status": "completed"
    },
    "tags": []
   },
   "outputs": [],
   "source": [
    "class BirdCLEFModel(nn.Module):\n",
    "    def __init__(self, cfg):\n",
    "        super().__init__()\n",
    "        self.cfg = cfg\n",
    "        taxonomy_df = pd.read_csv(cfg.taxonomy_csv)\n",
    "        cfg.num_classes = len(taxonomy_df)\n",
    "        \n",
    "        # Support for different model architectures\n",
    "        self.backbone = timm.create_model(\n",
    "            cfg.model_name,\n",
    "            pretrained=cfg.pretrained,\n",
    "            in_chans=cfg.in_channels,\n",
    "            drop_rate=cfg.dropout_rate,\n",
    "            drop_path_rate=cfg.drop_path_rate if hasattr(cfg, 'drop_path_rate') else 0.2\n",
    "        )\n",
    "        \n",
    "        # Extract feature dimension based on model type\n",
    "        if 'efficientnet' in cfg.model_name:\n",
    "            backbone_out = self.backbone.classifier.in_features\n",
    "            self.backbone.classifier = nn.Identity()\n",
    "        elif 'convnext' in cfg.model_name:\n",
    "            backbone_out = self.backbone.head.fc.in_features\n",
    "            self.backbone.head.fc = nn.Identity()\n",
    "        elif 'resnet' in cfg.model_name:\n",
    "            backbone_out = self.backbone.fc.in_features\n",
    "            self.backbone.fc = nn.Identity()\n",
    "        else:\n",
    "            backbone_out = self.backbone.get_classifier().in_features\n",
    "            self.backbone.reset_classifier(0, '')\n",
    "        \n",
    "        self.pooling = nn.AdaptiveAvgPool2d(1)\n",
    "        self.feat_dim = backbone_out\n",
    "        \n",
    "        # Add an additional projection layer for better feature representation\n",
    "        if hasattr(cfg, 'projection_dim') and cfg.projection_dim > 0:\n",
    "            self.projection = nn.Sequential(\n",
    "                nn.Linear(backbone_out, cfg.projection_dim),\n",
    "                nn.BatchNorm1d(cfg.projection_dim),\n",
    "                nn.ReLU(inplace=True),\n",
    "                nn.Dropout(0.3),\n",
    "                nn.Linear(cfg.projection_dim, cfg.num_classes)\n",
    "            )\n",
    "            self.classifier = self.projection\n",
    "        else:\n",
    "            self.classifier = nn.Linear(backbone_out, cfg.num_classes)\n",
    "        \n",
    "        # Mixup and CutMix support\n",
    "        self.mixup_enabled = hasattr(cfg, 'mixup_alpha') and cfg.mixup_alpha > 0\n",
    "        self.cutmix_enabled = hasattr(cfg, 'use_cutmix') and cfg.use_cutmix and hasattr(cfg, 'cutmix_alpha') and cfg.cutmix_alpha > 0\n",
    "        \n",
    "        if self.mixup_enabled:\n",
    "            self.mixup_alpha = cfg.mixup_alpha\n",
    "        if self.cutmix_enabled:\n",
    "            self.cutmix_alpha = cfg.cutmix_alpha\n",
    "    \n",
    "    def forward(self, x, targets=None):\n",
    "    \n",
    "        if self.training and self.mixup_enabled and targets is not None:\n",
    "            mixed_x, targets_a, targets_b, lam = self.mixup_data(x, targets)\n",
    "            x = mixed_x\n",
    "        else:\n",
    "            targets_a, targets_b, lam = None, None, None\n",
    "        \n",
    "        features = self.backbone(x)\n",
    "        \n",
    "        if isinstance(features, dict):\n",
    "            features = features['features']\n",
    "            \n",
    "        if len(features.shape) == 4:\n",
    "            features = self.pooling(features)\n",
    "            features = features.view(features.size(0), -1)\n",
    "        \n",
    "        logits = self.classifier(features)\n",
    "        \n",
    "        if self.training and self.mixup_enabled and targets is not None:\n",
    "            loss = self.mixup_criterion(F.binary_cross_entropy_with_logits, logits, targets_a, targets_b, lam)\n",
    "            return logits, loss\n",
    "            \n",
    "        return logits\n",
    "    \n",
    "    def mixup_data(self, x, targets):\n",
    "        \"\"\"Applies mixup to the data batch\"\"\"\n",
    "        batch_size = x.size(0)\n",
    "        lam = np.random.beta(self.mixup_alpha, self.mixup_alpha)\n",
    "        indices = torch.randperm(batch_size).to(x.device, non_blocking=True)\n",
    "        mixed_x = lam * x + (1 - lam) * x[indices]\n",
    "        \n",
    "        return mixed_x, targets, targets[indices], lam\n",
    "    \n",
    "    def mixup_criterion(self, criterion, pred, y_a, y_b, lam):\n",
    "        \"\"\"Applies mixup to the loss function\"\"\"\n",
    "        return lam * criterion(pred, y_a) + (1 - lam) * criterion(pred, y_b)\n",
    "    \n",
    "    def cutmix_data(self, x, targets):\n",
    "        batch_size = x.size(0)\n",
    "        lam = np.random.beta(self.cutmix_alpha, self.cutmix_alpha)\n",
    "        \n",
    "        # Get random indices for mixing\n",
    "        indices = torch.randperm(batch_size).to(x.device)\n",
    "        \n",
    "        # Get random box coordinates\n",
    "        W, H = x.size(2), x.size(3)\n",
    "        cut_ratio = np.sqrt(1. - lam)\n",
    "        cut_w = np.int_(W * cut_ratio)\n",
    "        cut_h = np.int_(H * cut_ratio)\n",
    "        \n",
    "        cx = np.random.randint(W)\n",
    "        cy = np.random.randint(H)\n",
    "        \n",
    "        bbx1 = np.clip(cx - cut_w // 2, 0, W)\n",
    "        bby1 = np.clip(cy - cut_h // 2, 0, H)\n",
    "        bbx2 = np.clip(cx + cut_w // 2, 0, W)\n",
    "        bby2 = np.clip(cy + cut_h // 2, 0, H)\n",
    "        \n",
    "        # Apply cutmix\n",
    "        x_mixed = x.clone()\n",
    "        x_mixed[:, :, bbx1:bbx2, bby1:bby2] = x[indices, :, bbx1:bbx2, bby1:bby2]\n",
    "        \n",
    "        # Adjust lambda to actual area ratio\n",
    "        lam = 1 - ((bbx2 - bbx1) * (bby2 - bby1) / (W * H))\n",
    "        \n",
    "        return x_mixed, targets, targets[indices], lam"
   ]
  },
  {
   "cell_type": "markdown",
   "id": "5aa08772",
   "metadata": {
    "papermill": {
     "duration": 0.003637,
     "end_time": "2025-03-17T14:00:46.461097",
     "exception": false,
     "start_time": "2025-03-17T14:00:46.457460",
     "status": "completed"
    },
    "tags": []
   },
   "source": [
    "## Training Utilities\n",
    "We are configuring our optimization strategy with the AdamW optimizer, cosine scheduling, and the BCEWithLogitsLoss criterion."
   ]
  },
  {
   "cell_type": "markdown",
   "id": "25fd70fd",
   "metadata": {
    "papermill": {
     "duration": 0.003514,
     "end_time": "2025-03-17T14:00:46.483348",
     "exception": false,
     "start_time": "2025-03-17T14:00:46.479834",
     "status": "completed"
    },
    "tags": []
   },
   "source": [
    "## Training Loop"
   ]
  },
  {
   "cell_type": "code",
   "execution_count": 5,
   "id": "d944f8ff",
   "metadata": {
    "execution": {
     "iopub.execute_input": "2025-03-17T14:00:46.491507Z",
     "iopub.status.busy": "2025-03-17T14:00:46.491314Z",
     "iopub.status.idle": "2025-03-17T14:00:46.504038Z",
     "shell.execute_reply": "2025-03-17T14:00:46.503466Z"
    },
    "papermill": {
     "duration": 0.018173,
     "end_time": "2025-03-17T14:00:46.505200",
     "exception": false,
     "start_time": "2025-03-17T14:00:46.487027",
     "status": "completed"
    },
    "tags": []
   },
   "outputs": [],
   "source": [
    "def train_one_epoch(model, loader, optimizer, criterion, device, scheduler=None, use_amp=True, grad_accum_steps=1):\n",
    "    model.train()\n",
    "    scaler = GradScaler(enabled=use_amp)\n",
    "    \n",
    "    # Use lists to accumulate batches, but don't keep all outputs in memory\n",
    "    batch_count = 0\n",
    "    num_batches = len(loader)\n",
    "    running_loss = 0\n",
    "    outputs_for_metrics = []\n",
    "    targets_for_metrics = []\n",
    "    metric_collection_interval = min(100, len(loader) // 10 or 1)\n",
    "\n",
    "    optimizer.zero_grad(set_to_none=True)\n",
    "    pbar = tqdm(enumerate(loader), total=len(loader), desc=\"Training\")\n",
    "    \n",
    "    # Track additional metrics\n",
    "    total_samples = 0\n",
    "    epoch_start_time = time.time()\n",
    "    \n",
    "    for step, batch in pbar:\n",
    "        # Move to device with non_blocking for potential speedup\n",
    "        inputs = batch['melspec'].to(device, non_blocking=True)\n",
    "        targets = batch['target'].to(device, non_blocking=True)\n",
    "        \n",
    "        with autocast(enabled=use_amp, device_type=device):\n",
    "            # Handle model outputs with mixup/cutmix\n",
    "            if (model.mixup_enabled or model.cutmix_enabled) and model.training:\n",
    "                if model.mixup_enabled and model.cutmix_enabled:\n",
    "                    # Randomly choose between mixup and cutmix\n",
    "                    if random.random() < 0.5:\n",
    "                        mixed_x, targets_a, targets_b, lam = model.mixup_data(inputs, targets)\n",
    "                    else:\n",
    "                        mixed_x, targets_a, targets_b, lam = model.cutmix_data(inputs, targets)\n",
    "                elif model.mixup_enabled:\n",
    "                    mixed_x, targets_a, targets_b, lam = model.mixup_data(inputs, targets)\n",
    "                else:\n",
    "                    mixed_x, targets_a, targets_b, lam = model.cutmix_data(inputs, targets)\n",
    "                    \n",
    "                outputs = model(mixed_x)\n",
    "                loss = lam * criterion(outputs, targets_a) + (1 - lam) * criterion(outputs, targets_b)\n",
    "            else:\n",
    "                outputs = model(inputs)\n",
    "                loss = criterion(outputs, targets)\n",
    "        \n",
    "        # Normalize loss for gradient accumulation\n",
    "        loss = loss / grad_accum_steps\n",
    "        scaler.scale(loss).backward()\n",
    "        \n",
    "        batch_count += 1\n",
    "        running_loss += loss.item() * grad_accum_steps\n",
    "        total_samples += inputs.size(0)\n",
    "        \n",
    "        # Only collect some batches for metrics to save memory\n",
    "        if step % metric_collection_interval == 0:\n",
    "            outputs_for_metrics.append(outputs.detach().cpu())\n",
    "            targets_for_metrics.append(targets.detach().cpu())\n",
    "        \n",
    "        # Step optimizer after accumulating gradients\n",
    "        if batch_count % grad_accum_steps == 0 or step == len(loader) - 1:\n",
    "            # Unscale before possible gradient clipping\n",
    "            scaler.unscale_(optimizer)\n",
    "            scaler.step(optimizer)\n",
    "            scaler.update()\n",
    "            optimizer.zero_grad(set_to_none=True)\n",
    "            \n",
    "            if scheduler and isinstance(scheduler, lr_scheduler.OneCycleLR):\n",
    "                scheduler.step()\n",
    "\n",
    "        # Update progress bar with running loss\n",
    "        pbar.set_postfix({\n",
    "            'it/s/bs' : pbar.n / pbar.format_dict['elapsed'] / cfg.batch_size,\n",
    "            'train_loss': running_loss / (step + 1),\n",
    "            'lr': optimizer.param_groups[0]['lr'],\n",
    "        })\n",
    "        \n",
    "        # Free memory explicitly\n",
    "        del inputs, outputs\n",
    "        if step % 10 == 0:  # Periodically clear CUDA cache\n",
    "            torch.cuda.empty_cache()\n",
    "\n",
    "    # Calculate comprehensive metrics for soft labels\n",
    "    epoch_time = time.time() - epoch_start_time\n",
    "    \n",
    "    all_outputs = torch.cat(outputs_for_metrics)\n",
    "    all_targets = torch.cat(targets_for_metrics)\n",
    "    soft_metrics = calculate_soft_label_metrics(all_targets.numpy(), torch.sigmoid(all_outputs).numpy())\n",
    "    auc = soft_metrics['macro_auc']\n",
    "        \n",
    "    avg_loss = running_loss / len(loader)\n",
    "    \n",
    "    # Return comprehensive metrics\n",
    "    metrics = {\n",
    "        'train_loss': avg_loss,\n",
    "        'train_auc': auc,\n",
    "        'learning_rate': optimizer.param_groups[0]['lr'],\n",
    "        'epoch_time_minutes': epoch_time / 60,\n",
    "        'samples_per_second': total_samples / epoch_time,\n",
    "        'total_samples': total_samples\n",
    "    }\n",
    "    \n",
    "    del outputs_for_metrics, targets_for_metrics\n",
    "    torch.cuda.empty_cache()\n",
    "    \n",
    "    return metrics\n",
    "\n",
    "# Fixed validate function to properly accumulate predictions\n",
    "def validate(model, loader, criterion, device, use_amp=True):\n",
    "    model.eval()\n",
    "    total_loss = 0.0\n",
    "    \n",
    "    # Store all predictions and targets for final metrics\n",
    "    all_probs_accumulated = []\n",
    "    all_targets_accumulated = []\n",
    "    total_samples = 0\n",
    "    val_start_time = time.time()\n",
    "    \n",
    "    with torch.no_grad():\n",
    "        for batch_idx, batch in enumerate(tqdm(loader, desc=\"Validation\")):\n",
    "            inputs = batch['melspec'].to(device, non_blocking=True)\n",
    "            targets = batch['target'].to(device, non_blocking=True)\n",
    "\n",
    "            with autocast(enabled=use_amp, device_type=device):\n",
    "                outputs = model(inputs)\n",
    "                loss = criterion(outputs, targets)\n",
    "\n",
    "            total_loss += loss.item()\n",
    "            total_samples += inputs.size(0)\n",
    "            \n",
    "            probs = torch.sigmoid(outputs).cpu().numpy()\n",
    "            targets_np = targets.cpu().numpy()\n",
    "            \n",
    "            # Accumulate all predictions and targets\n",
    "            all_probs_accumulated.append(probs)\n",
    "            all_targets_accumulated.append(targets_np)\n",
    "            \n",
    "            # Clear memory periodically but keep accumulating\n",
    "            del inputs, outputs, targets, probs, targets_np\n",
    "            if batch_idx % 10 == 0:\n",
    "                torch.cuda.empty_cache()\n",
    "    \n",
    "    # Combine all accumulated predictions and targets\n",
    "    probs_array = np.vstack(all_probs_accumulated)\n",
    "    targets_array = np.vstack(all_targets_accumulated)\n",
    "    \n",
    "    val_time = time.time() - val_start_time\n",
    "    \n",
    "    # Use macro-averaged AUC as primary metric\n",
    "    soft_metrics = calculate_soft_label_metrics(targets_array, probs_array)\n",
    "    auc = soft_metrics['macro_auc']\n",
    "    valid_classes = soft_metrics['valid_classes']\n",
    "    \n",
    "    avg_loss = total_loss / len(loader)\n",
    "    \n",
    "    # Return comprehensive metrics focused on macro-averaged AUC\n",
    "    metrics = {\n",
    "        'val_loss': avg_loss,\n",
    "        'val_auc': auc,  # This is macro-averaged AUC\n",
    "        'val_valid_classes': valid_classes,\n",
    "        'val_time_minutes': val_time / 60,\n",
    "        'val_samples_per_second': total_samples / val_time if val_time > 0 else 0,\n",
    "        'val_total_samples': total_samples\n",
    "    }\n",
    "    \n",
    "    # Return ROC data\n",
    "    roc_data = (targets_array, probs_array)\n",
    "    \n",
    "    # Clean up memory\n",
    "    del all_probs_accumulated, all_targets_accumulated\n",
    "    torch.cuda.empty_cache()\n",
    "    \n",
    "    return metrics, roc_data"
   ]
  },
  {
   "cell_type": "code",
   "execution_count": 6,
   "id": "58af85f3",
   "metadata": {},
   "outputs": [],
   "source": [
    "def load_soft_pseudolabels(df, cfg, seed=None):\n",
    "    \"\"\"\n",
    "    Load soft pseudolabels.\n",
    "    \"\"\"\n",
    "    # Can use different seeds e.g. for different folds\n",
    "    random_seed = seed if seed is not None else cfg.seed\n",
    "    np.random.seed(random_seed)\n",
    "\n",
    "    print(f\"Found {len(df)} samples in the pseudolabels\")\n",
    "    if cfg.debug:\n",
    "        df = df.sample(min(1000, len(df)), random_state=random_seed).reset_index(drop=True)\n",
    "    \n",
    "    label_col = df.columns[1:]\n",
    "    \n",
    "    # Normalize probabilities to sum to 1 for each row\n",
    "    if cfg.normalize_labels:\n",
    "        df[label_col] = df[label_col].div(df[label_col].sum(axis=1), axis=0)\n",
    "        \n",
    "    # Sample to restrict to max_pseudolabels\n",
    "    df = df.sample(min(cfg.max_pseudolabels, len(df)), random_state=random_seed).reset_index(drop=True)\n",
    "    row_ids = df[\"row_id\"]\n",
    "\n",
    "    # Convert to training-compatible DataFrame format\n",
    "    label_df = pd.DataFrame({\n",
    "        'samplename': row_ids,\n",
    "        'filename': [f\"{'_'.join(x.split('_')[:3])}.ogg\" for x in row_ids],\n",
    "        'timestamp': [int(x.split('_')[3]) for x in row_ids],\n",
    "        'primary_label' : [\"soft\"] * len(row_ids),\n",
    "        'secondary_labels': [df.loc[df[\"row_id\"]==x].to_numpy()[0, 1:].astype(np.float32) for x in row_ids]\n",
    "    })\n",
    "    label_df['filepath'] = label_df['filename'].apply(lambda x: os.path.join(cfg.train_soundscapes, x))\n",
    "    print(f\"Loaded {len(label_df)} pseudolabels\")\n",
    "\n",
    "    return label_df"
   ]
  },
  {
   "cell_type": "code",
   "execution_count": 7,
   "id": "37a41dd8",
   "metadata": {},
   "outputs": [],
   "source": [
    "def load_pseudolabels(df, cfg, seed=None):\n",
    "    \"\"\"\n",
    "    Load pseudolabels and sample to ensure balanced class representation.\n",
    "    Returns a maximum of cfg.max_pseudolabels samples with balanced label distribution.\n",
    "    \"\"\"\n",
    "    random_seed = seed if seed is not None else cfg.seed\n",
    "    np.random.seed(random_seed)\n",
    "    \n",
    "    if cfg.debug:\n",
    "        df = df.sample(min(1000, len(df)), random_state=random_seed).reset_index(drop=True)\n",
    "    \n",
    "    label_cols = df.columns[1:]\n",
    "    \n",
    "    # Step 1: Find samples where at least one prediction passes the confidence threshold\n",
    "    # Calculate row sums first to filter out rows with no valid predictions\n",
    "    df_filtered = df.copy()\n",
    "    row_sums = df_filtered[label_cols].sum(axis=1)\n",
    "    df_filtered = df_filtered[row_sums > 0].reset_index(drop=True)\n",
    "    \n",
    "    # Normalize probabilities to sum to 1 for each row\n",
    "    if cfg.normalize_labels:\n",
    "        df_filtered[label_cols] = df_filtered[label_cols].div(df_filtered[label_cols].sum(axis=1), axis=0)\n",
    "    \n",
    "    # Create mask for values that pass threshold\n",
    "    mask = df_filtered[label_cols] >= cfg.pseudolabel_confidence_threshold\n",
    "    \n",
    "    # Get indices and values of samples with predictions above threshold using the mask\n",
    "    valid_samples = {}  # {row_id: [labels sorted by confidence]}\n",
    "    \n",
    "    for idx, row in df_filtered.iterrows():\n",
    "        row_id = row['row_id']\n",
    "        # Use the mask to get valid labels for this row\n",
    "        valid_mask = mask.iloc[idx]\n",
    "        valid_label_cols = label_cols[valid_mask]\n",
    "        \n",
    "        if len(valid_label_cols) > 0:\n",
    "            # Get confidences for valid labels and sort them\n",
    "            confidences = row[valid_label_cols]\n",
    "            # Create (confidence, label) pairs and sort by confidence\n",
    "            label_conf_pairs = [(label, conf) for label, conf in zip(valid_label_cols, confidences)]\n",
    "            label_conf_pairs.sort(key=lambda x: x[1], reverse=True)\n",
    "            # Extract just the sorted labels\n",
    "            valid_samples[row_id] = [label for label, _ in label_conf_pairs]\n",
    "    \n",
    "    print(f\"Found {len(valid_samples)} samples with confidence > {cfg.pseudolabel_confidence_threshold}\")\n",
    "    \n",
    "    # Step 2: Apply stratified sampling if enabled\n",
    "    if cfg.stratified_pseudolabels and len(valid_samples) > cfg.max_pseudolabels:\n",
    "        print(\"Stratified sampling of pseudolabels\")\n",
    "        \n",
    "        # Create label-to-samples mapping\n",
    "        label_to_samples = {}\n",
    "        for sample_id, labels in valid_samples.items():\n",
    "            for label in labels:\n",
    "                if label not in label_to_samples:\n",
    "                    label_to_samples[label] = []\n",
    "                label_to_samples[label].append(sample_id)\n",
    "        \n",
    "        # Calculate target samples per label for balanced distribution\n",
    "        num_unique_labels = len(label_to_samples)\n",
    "        target_per_label = max(1, int(cfg.max_pseudolabels / num_unique_labels))\n",
    "        \n",
    "        print(f\"Found {num_unique_labels} unique bird species in pseudolabels\")\n",
    "        print(f\"Target ~{target_per_label} samples per species to stay under {cfg.max_pseudolabels} total\")\n",
    "        \n",
    "        # Shuffle labels for randomness across folds\n",
    "        shuffled_labels = list(label_to_samples.keys())\n",
    "        random.seed(random_seed)\n",
    "        random.shuffle(shuffled_labels)\n",
    "        \n",
    "        # Sample entries for each label\n",
    "        selected_samples = set()\n",
    "        \n",
    "        for label in shuffled_labels:\n",
    "            samples = label_to_samples[label]\n",
    "            # Shuffle samples with deterministic but different seed per label\n",
    "            samples_seed = random_seed + hash(label) % 10000\n",
    "            random.seed(samples_seed)\n",
    "            random.shuffle(samples)\n",
    "            \n",
    "            # Take at most target_per_label samples\n",
    "            selected = samples[:target_per_label]\n",
    "            selected_samples.update(selected)\n",
    "            \n",
    "            # Stop if we've reached the max pseudolabels\n",
    "            if len(selected_samples) >= cfg.max_pseudolabels:\n",
    "                break\n",
    "        \n",
    "        # Filter valid_samples to only include selected samples\n",
    "        valid_samples = {k: v for k, v in valid_samples.items() if k in selected_samples}\n",
    "        print(f\"Sampled {len(valid_samples)} pseudolabeled samples\")\n",
    "    else:\n",
    "        print(f\"Using randomly selected {cfg.max_pseudolabels} pseudolabels that pass confidence threshold\")\n",
    "    \n",
    "    # Step 3: Convert to training-compatible DataFrame format\n",
    "    # First, create a dataframe just with the row_ids we need\n",
    "    rows_to_keep = random.sample(list(valid_samples.keys()), min(cfg.max_pseudolabels, len(valid_samples)))\n",
    "\n",
    "    label_df = pd.DataFrame({\n",
    "        'samplename': rows_to_keep,\n",
    "        'filename': [f\"{'_'.join(x.split('_')[:3])}.ogg\" for x in rows_to_keep],\n",
    "        'timestamp': [int(x.split('_')[3]) for x in rows_to_keep],\n",
    "        'primary_label': [valid_samples[x][0] for x in rows_to_keep],\n",
    "        'secondary_labels': [valid_samples[x][1:] for x in rows_to_keep]\n",
    "    })\n",
    "    \n",
    "    # Add filepath column \n",
    "    label_df['filepath'] = label_df['filename'].apply(lambda x: os.path.join(cfg.train_soundscapes, x))\n",
    "    \n",
    "    return label_df"
   ]
  },
  {
   "cell_type": "code",
   "execution_count": 8,
   "id": "5de76a1c",
   "metadata": {
    "execution": {
     "iopub.execute_input": "2025-03-17T14:00:46.520217Z",
     "iopub.status.busy": "2025-03-17T14:00:46.520008Z",
     "iopub.status.idle": "2025-03-17T14:00:46.531337Z",
     "shell.execute_reply": "2025-03-17T14:00:46.530758Z"
    },
    "papermill": {
     "duration": 0.016548,
     "end_time": "2025-03-17T14:00:46.532461",
     "exception": false,
     "start_time": "2025-03-17T14:00:46.515913",
     "status": "completed"
    },
    "tags": []
   },
   "outputs": [],
   "source": [
    "def run_training(df, cfg, soundscape_df=None):\n",
    "    taxonomy_df = pd.read_csv(cfg.taxonomy_csv)\n",
    "    species_ids = taxonomy_df['primary_label'].tolist()\n",
    "    cfg.num_classes = len(species_ids)\n",
    "\n",
    "    if cfg.LOAD_DATA:\n",
    "        spectrograms = np.load(cfg.spectrogram_npy, allow_pickle=True).item()\n",
    "        print(f\"Loaded {len(spectrograms)} pre-computed mel spectrograms for labeled data\")\n",
    "    else:   \n",
    "        spectrograms = None\n",
    "        print(\"Will generate spectrograms on-the-fly during training.\")\n",
    "\n",
    "    df['filepath'] = cfg.train_datadir + '/' + df.filename\n",
    "    df['samplename'] = df.filename.map(lambda x: x.split('/')[0] + '-' + x.split('/')[-1].split('.')[0])\n",
    "\n",
    "    if cfg.use_external_pseudolabels and soundscape_df is not None:\n",
    "        print(f\"Loading external pseudolabels (soft == {cfg.use_soft_labels})\")\n",
    "        if cfg.use_soft_labels:\n",
    "            pseudolabel_df = load_soft_pseudolabels(soundscape_df, cfg)\n",
    "        else:\n",
    "            pseudolabel_df = load_pseudolabels(soundscape_df, cfg)\n",
    "        df = pd.concat([df, pseudolabel_df], ignore_index=True)\n",
    "        df = df.sample(frac=1, random_state=cfg.seed).reset_index(drop=True)\n",
    "\n",
    "        for _, row in tqdm(pseudolabel_df.iterrows(), desc=\"Loading soundscape spectrograms\", total=len(pseudolabel_df)):\n",
    "            spectrograms[row['samplename']] = np.load(f\"{cfg.train_soundscapes_spectrograms}{row['samplename']}.npy\", allow_pickle=True)\n",
    "\n",
    "    if cfg.n_fold > 1:\n",
    "        skf = StratifiedKFold(n_splits=cfg.n_fold, shuffle=True, random_state=cfg.seed)\n",
    "        folds = skf.split(df, df['primary_label'])\n",
    "    else:\n",
    "        folds = [(np.arange(len(df)), np.arange(len(df)))]\n",
    "\n",
    "    best_scores = []\n",
    "    all_fold_metrics = []\n",
    "    \n",
    "    # Create one shared metric logger for all folds\n",
    "    metric_logger = MetricLogger(cfg)\n",
    "            \n",
    "    for fold, (train_idx, val_idx) in enumerate(folds):\n",
    "        print(f'\\n{\"=\"*30} Fold {fold} {\"=\"*30}')\n",
    "        \n",
    "        train_df = df.iloc[train_idx].reset_index(drop=True)\n",
    "        val_df = df.iloc[val_idx].reset_index(drop=True)\n",
    "        \n",
    "        print(f'Training set: {len(train_df)} samples')\n",
    "        print(f'Validation set: {len(val_df)} samples')\n",
    "\n",
    "        # Prepare datasets\n",
    "        train_dataset = BirdCLEFDatasetFromNPY(train_df, cfg, spectrograms=spectrograms, mode='train')\n",
    "        val_dataset = BirdCLEFDatasetFromNPY(val_df, cfg, spectrograms=spectrograms, mode='valid')\n",
    "        \n",
    "        # Prepare data loaders\n",
    "        train_loader = DataLoader(\n",
    "            train_dataset, \n",
    "            batch_size=cfg.batch_size, \n",
    "            shuffle=True, \n",
    "            num_workers=cfg.num_workers,\n",
    "            pin_memory=cfg.pin_memory,\n",
    "            persistent_workers=cfg.persistent_workers if cfg.num_workers > 0 else False,\n",
    "            prefetch_factor=cfg.prefetch_factor if cfg.num_workers > 0 else None,\n",
    "            collate_fn=collate_fn,\n",
    "            drop_last=True\n",
    "        )\n",
    "\n",
    "        val_loader = DataLoader(\n",
    "            val_dataset, \n",
    "            batch_size=cfg.batch_size * 2,\n",
    "            shuffle=False, \n",
    "            num_workers=cfg.num_workers,\n",
    "            pin_memory=cfg.pin_memory,\n",
    "            persistent_workers=cfg.persistent_workers if cfg.num_workers > 0 else False,\n",
    "            prefetch_factor=cfg.prefetch_factor if cfg.num_workers > 0 else None,\n",
    "            collate_fn=collate_fn\n",
    "        )\n",
    "\n",
    "        print(f\"\\n{'-'*20} Training Model {'-'*20}\")\n",
    "        model = BirdCLEFModel(cfg).to(cfg.device, non_blocking=True)\n",
    "        model = compile_model(model, cfg)\n",
    "        optimizer = optim.AdamW(\n",
    "            model.parameters(),\n",
    "            lr=cfg.lr,\n",
    "            weight_decay=cfg.weight_decay\n",
    "        )\n",
    "        criterion = get_criterion(cfg)\n",
    "\n",
    "        if cfg.scheduler == 'CosineAnnealingLR':\n",
    "            cfg.T_max = cfg.epochs\n",
    "        scheduler = get_scheduler(optimizer, cfg, len(train_loader))\n",
    "        \n",
    "        best_auc, best_epoch = 0, 0\n",
    "        fold_start_time = time.time()\n",
    "        \n",
    "        for epoch in range(cfg.epochs):\n",
    "            print(f\"\\n{'='*50}\")\n",
    "            print(f\"Epoch {epoch+1}/{cfg.epochs} | Fold {fold}\")\n",
    "            print(f\"{'='*50}\")\n",
    "            \n",
    "            # Get comprehensive training metrics\n",
    "            train_metrics = train_one_epoch(\n",
    "                model, train_loader, optimizer, criterion, cfg.device,\n",
    "                scheduler if isinstance(scheduler, lr_scheduler.OneCycleLR) else None,\n",
    "                use_amp=cfg.use_amp,\n",
    "                grad_accum_steps=cfg.gradient_accumulation_steps\n",
    "            )\n",
    "            \n",
    "            # Get comprehensive validation metrics\n",
    "            val_metrics, roc_data = validate(model, val_loader, criterion, cfg.device, \n",
    "                                use_amp=cfg.use_amp)\n",
    "            \n",
    "            # Log metrics to our metrics dataframe\n",
    "            metric_logger.log_metrics(epoch, fold, train_metrics, val_metrics, roc_data)\n",
    "            \n",
    "            if scheduler is not None and not isinstance(scheduler, lr_scheduler.OneCycleLR):\n",
    "                if isinstance(scheduler, lr_scheduler.ReduceLROnPlateau):\n",
    "                    scheduler.step(val_metrics['val_loss'])\n",
    "                else:\n",
    "                    scheduler.step()\n",
    "            \n",
    "            # Print epoch summary\n",
    "            print(f\"\\n--- Epoch {epoch+1} Summary ---\")\n",
    "            print(f\"Train Loss: {train_metrics['train_loss']:.4f}, Train AUC: {train_metrics['train_auc']:.4f}\")\n",
    "            print(f\"Val Loss: {val_metrics['val_loss']:.4f}, Val AUC: {val_metrics['val_auc']:.4f}\")\n",
    "            print(f\"LR: {train_metrics['learning_rate']:.6f}, Epoch Time: {train_metrics['epoch_time_minutes']:.2f}m\")\n",
    "            print(f\"Valid Classes: {val_metrics['val_valid_classes']}\")\n",
    "            \n",
    "            if val_metrics['val_auc'] > best_auc:\n",
    "                best_auc = val_metrics['val_auc']\n",
    "                best_epoch = epoch + 1\n",
    "                print(f\"New best AUC: {best_auc:.4f} at epoch {best_epoch}\")\n",
    "                \n",
    "                # Only save model if not in debug mode\n",
    "                if not cfg.debug:\n",
    "                    model_path = f\"{cfg.models_dir}/model_{cfg.timestamp}_{cfg.model_name}_fold{fold}.pth\"\n",
    "                    torch.save({\n",
    "                        'model_state_dict': model.state_dict(),\n",
    "                        'optimizer_state_dict': optimizer.state_dict(),\n",
    "                        'scheduler_state_dict': scheduler.state_dict() if scheduler else None,\n",
    "                        'epoch': epoch,\n",
    "                        'best_auc': best_auc,\n",
    "                        'cfg': cfg\n",
    "                    }, model_path)\n",
    "                if cfg.use_early_stopping and epoch - best_epoch >= (cfg.early_stopping_epochs - 1):\n",
    "                    print(f\"Early stopping at epoch {epoch+1}\")\n",
    "                    break\n",
    "        \n",
    "        # Calculate fold completion time\n",
    "        fold_time = time.time() - fold_start_time\n",
    "        fold_metrics = {\n",
    "            'fold_time_minutes': fold_time / 60,\n",
    "            'best_epoch': best_epoch,\n",
    "            'best_val_auc': best_auc\n",
    "        }\n",
    "        all_fold_metrics.append(fold_metrics)\n",
    "        \n",
    "        best_scores.append(best_auc)\n",
    "        print(f\"\\n*** FOLD {fold} COMPLETE ***\")\n",
    "        print(f\"Best AUC: {best_auc:.4f} at epoch {best_epoch}\")\n",
    "        print(f\"Fold training time: {fold_time/60:.1f} minutes\")\n",
    "        \n",
    "        del model, optimizer, scheduler\n",
    "        del train_loader, val_loader\n",
    "        del train_dataset, val_dataset\n",
    "        clean_gpu_memory()\n",
    "    \n",
    "    # Final comprehensive reporting\n",
    "    print(\"\\n\" + \"=\"*60)\n",
    "    print(\"CROSS-VALIDATION RESULTS:\")\n",
    "    print(\"=\"*60)\n",
    "    for fold, score in enumerate(best_scores):\n",
    "        print(f\"Fold {fold}: {score:.4f} (Best epoch: {all_fold_metrics[fold]['best_epoch']})\")\n",
    "    \n",
    "    print(f\"\\nMean AUC: {np.mean(best_scores):.4f} ± {np.std(best_scores):.4f}\")\n",
    "    print(f\"Min AUC: {np.min(best_scores):.4f}\")\n",
    "    print(f\"Max AUC: {np.max(best_scores):.4f}\")\n",
    "    print(\"=\"*60)\n",
    "    \n",
    "    # Generate and save plots\n",
    "    if not cfg.debug:\n",
    "        metric_logger.plot_metrics()\n",
    "        \n",
    "    return best_scores"
   ]
  },
  {
   "cell_type": "code",
   "execution_count": 9,
   "id": "9c0e6b49",
   "metadata": {
    "execution": {
     "iopub.execute_input": "2025-03-17T14:00:46.540675Z",
     "iopub.status.busy": "2025-03-17T14:00:46.540437Z",
     "iopub.status.idle": "2025-03-17T14:02:12.293026Z",
     "shell.execute_reply": "2025-03-17T14:02:12.292000Z"
    },
    "papermill": {
     "duration": 85.763673,
     "end_time": "2025-03-17T14:02:12.299868",
     "exception": false,
     "start_time": "2025-03-17T14:00:46.536195",
     "status": "completed"
    },
    "tags": []
   },
   "outputs": [
    {
     "name": "stdout",
     "output_type": "stream",
     "text": [
      "\n",
      "Loading training data...\n",
      "Will use external pseudolabels from: pseudolabels_even_better.csv\n",
      "\n",
      "Starting training...\n",
      "LOAD_DATA is set to True\n",
      "Loaded 28579 pre-computed mel spectrograms for labeled data\n",
      "Loading external pseudolabels (soft == False)\n",
      "Found 116712 samples with confidence > 0.04\n",
      "Stratified sampling of pseudolabels\n",
      "Found 206 unique bird species in pseudolabels\n",
      "Target ~121 samples per species to stay under 25000 total\n",
      "Sampled 20505 pseudolabeled samples\n"
     ]
    },
    {
     "data": {
      "application/vnd.jupyter.widget-view+json": {
       "model_id": "f8ac75b11efa46d1a771adb5cbc81dfd",
       "version_major": 2,
       "version_minor": 0
      },
      "text/plain": [
       "Loading soundscape spectrograms:   0%|          | 0/20505 [00:00<?, ?it/s]"
      ]
     },
     "metadata": {},
     "output_type": "display_data"
    },
    {
     "name": "stdout",
     "output_type": "stream",
     "text": [
      "\n",
      "============================== Fold 0 ==============================\n",
      "Training set: 39267 samples\n",
      "Validation set: 9817 samples\n",
      "\n",
      "-------------------- Training Model --------------------\n",
      "Model compiled successfully with backend 'inductor', mode 'default'\n",
      "\n",
      "==================================================\n",
      "Epoch 1/20 | Fold 0\n",
      "==================================================\n"
     ]
    },
    {
     "data": {
      "application/vnd.jupyter.widget-view+json": {
       "model_id": "d66dc8bbbe27461c914e0b19fb1d983f",
       "version_major": 2,
       "version_minor": 0
      },
      "text/plain": [
       "Training:   0%|          | 0/1227 [00:00<?, ?it/s]"
      ]
     },
     "metadata": {},
     "output_type": "display_data"
    },
    {
     "data": {
      "application/vnd.jupyter.widget-view+json": {
       "model_id": "a5efc1a6d0b746e1922b2f4b3efd0910",
       "version_major": 2,
       "version_minor": 0
      },
      "text/plain": [
       "Validation:   0%|          | 0/154 [00:00<?, ?it/s]"
      ]
     },
     "metadata": {},
     "output_type": "display_data"
    },
    {
     "name": "stdout",
     "output_type": "stream",
     "text": [
      "Initial best epoch for fold 0: epoch 1, AUC: 0.7199\n",
      "\n",
      "--- Epoch 1 Summary ---\n",
      "Train Loss: 0.0350, Train AUC: 0.5279\n",
      "Val Loss: 0.0254, Val AUC: 0.7199\n",
      "LR: 0.000500, Epoch Time: 3.62m\n",
      "Valid Classes: 206\n",
      "New best AUC: 0.7199 at epoch 1\n",
      "\n",
      "==================================================\n",
      "Epoch 2/20 | Fold 0\n",
      "==================================================\n"
     ]
    },
    {
     "data": {
      "application/vnd.jupyter.widget-view+json": {
       "model_id": "bfcf45182ef440cc875a65279386d98f",
       "version_major": 2,
       "version_minor": 0
      },
      "text/plain": [
       "Training:   0%|          | 0/1227 [00:00<?, ?it/s]"
      ]
     },
     "metadata": {},
     "output_type": "display_data"
    },
    {
     "data": {
      "application/vnd.jupyter.widget-view+json": {
       "model_id": "29bf996650cf43d2a50783344fce22c3",
       "version_major": 2,
       "version_minor": 0
      },
      "text/plain": [
       "Validation:   0%|          | 0/154 [00:00<?, ?it/s]"
      ]
     },
     "metadata": {},
     "output_type": "display_data"
    },
    {
     "name": "stdout",
     "output_type": "stream",
     "text": [
      "New best epoch for fold 0: epoch 2, AUC: 0.8363\n",
      "\n",
      "--- Epoch 2 Summary ---\n",
      "Train Loss: 0.0254, Train AUC: 0.6380\n",
      "Val Loss: 0.0212, Val AUC: 0.8363\n",
      "LR: 0.000500, Epoch Time: 3.30m\n",
      "Valid Classes: 206\n",
      "New best AUC: 0.8363 at epoch 2\n",
      "\n",
      "==================================================\n",
      "Epoch 3/20 | Fold 0\n",
      "==================================================\n"
     ]
    },
    {
     "data": {
      "application/vnd.jupyter.widget-view+json": {
       "model_id": "ed902000e6af413e91481503e75d2732",
       "version_major": 2,
       "version_minor": 0
      },
      "text/plain": [
       "Training:   0%|          | 0/1227 [00:00<?, ?it/s]"
      ]
     },
     "metadata": {},
     "output_type": "display_data"
    },
    {
     "data": {
      "application/vnd.jupyter.widget-view+json": {
       "model_id": "e0a1dac5c7984c9586cc039f05332c05",
       "version_major": 2,
       "version_minor": 0
      },
      "text/plain": [
       "Validation:   0%|          | 0/154 [00:00<?, ?it/s]"
      ]
     },
     "metadata": {},
     "output_type": "display_data"
    },
    {
     "name": "stdout",
     "output_type": "stream",
     "text": [
      "New best epoch for fold 0: epoch 3, AUC: 0.8725\n",
      "\n",
      "--- Epoch 3 Summary ---\n",
      "Train Loss: 0.0234, Train AUC: 0.7164\n",
      "Val Loss: 0.0190, Val AUC: 0.8725\n",
      "LR: 0.000500, Epoch Time: 3.30m\n",
      "Valid Classes: 206\n",
      "New best AUC: 0.8725 at epoch 3\n",
      "\n",
      "==================================================\n",
      "Epoch 4/20 | Fold 0\n",
      "==================================================\n"
     ]
    },
    {
     "data": {
      "application/vnd.jupyter.widget-view+json": {
       "model_id": "bd69ed2a487b4a00a8341532eb557246",
       "version_major": 2,
       "version_minor": 0
      },
      "text/plain": [
       "Training:   0%|          | 0/1227 [00:00<?, ?it/s]"
      ]
     },
     "metadata": {},
     "output_type": "display_data"
    },
    {
     "data": {
      "application/vnd.jupyter.widget-view+json": {
       "model_id": "1c2f6a64e2ef40079493eb933eaf2952",
       "version_major": 2,
       "version_minor": 0
      },
      "text/plain": [
       "Validation:   0%|          | 0/154 [00:00<?, ?it/s]"
      ]
     },
     "metadata": {},
     "output_type": "display_data"
    },
    {
     "name": "stdout",
     "output_type": "stream",
     "text": [
      "New best epoch for fold 0: epoch 4, AUC: 0.8874\n",
      "\n",
      "--- Epoch 4 Summary ---\n",
      "Train Loss: 0.0224, Train AUC: 0.7296\n",
      "Val Loss: 0.0180, Val AUC: 0.8874\n",
      "LR: 0.000500, Epoch Time: 3.30m\n",
      "Valid Classes: 206\n",
      "New best AUC: 0.8874 at epoch 4\n",
      "\n",
      "==================================================\n",
      "Epoch 5/20 | Fold 0\n",
      "==================================================\n"
     ]
    },
    {
     "data": {
      "application/vnd.jupyter.widget-view+json": {
       "model_id": "40d8fdccc54940d5a590502c6e81e0f4",
       "version_major": 2,
       "version_minor": 0
      },
      "text/plain": [
       "Training:   0%|          | 0/1227 [00:00<?, ?it/s]"
      ]
     },
     "metadata": {},
     "output_type": "display_data"
    },
    {
     "data": {
      "application/vnd.jupyter.widget-view+json": {
       "model_id": "db05fd9682154a4a9f47afbaf64e5e2a",
       "version_major": 2,
       "version_minor": 0
      },
      "text/plain": [
       "Validation:   0%|          | 0/154 [00:00<?, ?it/s]"
      ]
     },
     "metadata": {},
     "output_type": "display_data"
    },
    {
     "name": "stdout",
     "output_type": "stream",
     "text": [
      "New best epoch for fold 0: epoch 5, AUC: 0.8988\n",
      "\n",
      "--- Epoch 5 Summary ---\n",
      "Train Loss: 0.0215, Train AUC: 0.7898\n",
      "Val Loss: 0.0168, Val AUC: 0.8988\n",
      "LR: 0.000500, Epoch Time: 3.30m\n",
      "Valid Classes: 206\n",
      "New best AUC: 0.8988 at epoch 5\n",
      "\n",
      "==================================================\n",
      "Epoch 6/20 | Fold 0\n",
      "==================================================\n"
     ]
    },
    {
     "data": {
      "application/vnd.jupyter.widget-view+json": {
       "model_id": "3a9a762ed72d4063a2f3bc4bbd42d605",
       "version_major": 2,
       "version_minor": 0
      },
      "text/plain": [
       "Training:   0%|          | 0/1227 [00:00<?, ?it/s]"
      ]
     },
     "metadata": {},
     "output_type": "display_data"
    },
    {
     "data": {
      "application/vnd.jupyter.widget-view+json": {
       "model_id": "ae01aa8def1c44e59a1d858148cc2c42",
       "version_major": 2,
       "version_minor": 0
      },
      "text/plain": [
       "Validation:   0%|          | 0/154 [00:00<?, ?it/s]"
      ]
     },
     "metadata": {},
     "output_type": "display_data"
    },
    {
     "name": "stdout",
     "output_type": "stream",
     "text": [
      "New best epoch for fold 0: epoch 6, AUC: 0.9073\n",
      "\n",
      "--- Epoch 6 Summary ---\n",
      "Train Loss: 0.0210, Train AUC: 0.8043\n",
      "Val Loss: 0.0160, Val AUC: 0.9073\n",
      "LR: 0.000497, Epoch Time: 3.30m\n",
      "Valid Classes: 206\n",
      "New best AUC: 0.9073 at epoch 6\n",
      "\n",
      "==================================================\n",
      "Epoch 7/20 | Fold 0\n",
      "==================================================\n"
     ]
    },
    {
     "data": {
      "application/vnd.jupyter.widget-view+json": {
       "model_id": "36d5ccc8934f42d2990ef09ce764bbdc",
       "version_major": 2,
       "version_minor": 0
      },
      "text/plain": [
       "Training:   0%|          | 0/1227 [00:00<?, ?it/s]"
      ]
     },
     "metadata": {},
     "output_type": "display_data"
    },
    {
     "data": {
      "application/vnd.jupyter.widget-view+json": {
       "model_id": "67973ba67ee34dc88c924261b2e225b4",
       "version_major": 2,
       "version_minor": 0
      },
      "text/plain": [
       "Validation:   0%|          | 0/154 [00:00<?, ?it/s]"
      ]
     },
     "metadata": {},
     "output_type": "display_data"
    },
    {
     "name": "stdout",
     "output_type": "stream",
     "text": [
      "New best epoch for fold 0: epoch 7, AUC: 0.9129\n",
      "\n",
      "--- Epoch 7 Summary ---\n",
      "Train Loss: 0.0205, Train AUC: 0.7662\n",
      "Val Loss: 0.0156, Val AUC: 0.9129\n",
      "LR: 0.000488, Epoch Time: 3.32m\n",
      "Valid Classes: 206\n",
      "New best AUC: 0.9129 at epoch 7\n",
      "\n",
      "==================================================\n",
      "Epoch 8/20 | Fold 0\n",
      "==================================================\n"
     ]
    },
    {
     "data": {
      "application/vnd.jupyter.widget-view+json": {
       "model_id": "f61b0f7d3dda40de8c171e98b3a864e4",
       "version_major": 2,
       "version_minor": 0
      },
      "text/plain": [
       "Training:   0%|          | 0/1227 [00:00<?, ?it/s]"
      ]
     },
     "metadata": {},
     "output_type": "display_data"
    },
    {
     "data": {
      "application/vnd.jupyter.widget-view+json": {
       "model_id": "88a617ceb7d74ee4b37475a16a1cfd8e",
       "version_major": 2,
       "version_minor": 0
      },
      "text/plain": [
       "Validation:   0%|          | 0/154 [00:00<?, ?it/s]"
      ]
     },
     "metadata": {},
     "output_type": "display_data"
    },
    {
     "name": "stdout",
     "output_type": "stream",
     "text": [
      "\n",
      "--- Epoch 8 Summary ---\n",
      "Train Loss: 0.0203, Train AUC: 0.7203\n",
      "Val Loss: 0.0154, Val AUC: 0.9119\n",
      "LR: 0.000473, Epoch Time: 3.30m\n",
      "Valid Classes: 206\n",
      "\n",
      "==================================================\n",
      "Epoch 9/20 | Fold 0\n",
      "==================================================\n"
     ]
    },
    {
     "data": {
      "application/vnd.jupyter.widget-view+json": {
       "model_id": "8581713b324a42d3ad273dbead0c39f5",
       "version_major": 2,
       "version_minor": 0
      },
      "text/plain": [
       "Training:   0%|          | 0/1227 [00:00<?, ?it/s]"
      ]
     },
     "metadata": {},
     "output_type": "display_data"
    },
    {
     "data": {
      "application/vnd.jupyter.widget-view+json": {
       "model_id": "5a0aea0a96c7456a94c9449cecab8d07",
       "version_major": 2,
       "version_minor": 0
      },
      "text/plain": [
       "Validation:   0%|          | 0/154 [00:00<?, ?it/s]"
      ]
     },
     "metadata": {},
     "output_type": "display_data"
    },
    {
     "name": "stdout",
     "output_type": "stream",
     "text": [
      "New best epoch for fold 0: epoch 9, AUC: 0.9202\n",
      "\n",
      "--- Epoch 9 Summary ---\n",
      "Train Loss: 0.0200, Train AUC: 0.7489\n",
      "Val Loss: 0.0149, Val AUC: 0.9202\n",
      "LR: 0.000452, Epoch Time: 3.45m\n",
      "Valid Classes: 206\n",
      "New best AUC: 0.9202 at epoch 9\n",
      "\n",
      "==================================================\n",
      "Epoch 10/20 | Fold 0\n",
      "==================================================\n"
     ]
    },
    {
     "data": {
      "application/vnd.jupyter.widget-view+json": {
       "model_id": "f3e84a216fd04c09b903bf5847ec8ada",
       "version_major": 2,
       "version_minor": 0
      },
      "text/plain": [
       "Training:   0%|          | 0/1227 [00:00<?, ?it/s]"
      ]
     },
     "metadata": {},
     "output_type": "display_data"
    },
    {
     "data": {
      "application/vnd.jupyter.widget-view+json": {
       "model_id": "3f6b1fadf78e49d0b1bea001f67cf37f",
       "version_major": 2,
       "version_minor": 0
      },
      "text/plain": [
       "Validation:   0%|          | 0/154 [00:00<?, ?it/s]"
      ]
     },
     "metadata": {},
     "output_type": "display_data"
    },
    {
     "name": "stdout",
     "output_type": "stream",
     "text": [
      "\n",
      "--- Epoch 10 Summary ---\n",
      "Train Loss: 0.0196, Train AUC: 0.7796\n",
      "Val Loss: 0.0147, Val AUC: 0.9201\n",
      "LR: 0.000427, Epoch Time: 3.40m\n",
      "Valid Classes: 206\n",
      "\n",
      "==================================================\n",
      "Epoch 11/20 | Fold 0\n",
      "==================================================\n"
     ]
    },
    {
     "data": {
      "application/vnd.jupyter.widget-view+json": {
       "model_id": "660ba2e743c646b5a90d758a10a833f1",
       "version_major": 2,
       "version_minor": 0
      },
      "text/plain": [
       "Training:   0%|          | 0/1227 [00:00<?, ?it/s]"
      ]
     },
     "metadata": {},
     "output_type": "display_data"
    },
    {
     "data": {
      "application/vnd.jupyter.widget-view+json": {
       "model_id": "e0caf98be17a488d8750cf4ccc327e5c",
       "version_major": 2,
       "version_minor": 0
      },
      "text/plain": [
       "Validation:   0%|          | 0/154 [00:00<?, ?it/s]"
      ]
     },
     "metadata": {},
     "output_type": "display_data"
    },
    {
     "name": "stdout",
     "output_type": "stream",
     "text": [
      "New best epoch for fold 0: epoch 11, AUC: 0.9227\n",
      "\n",
      "--- Epoch 11 Summary ---\n",
      "Train Loss: 0.0193, Train AUC: 0.7489\n",
      "Val Loss: 0.0145, Val AUC: 0.9227\n",
      "LR: 0.000397, Epoch Time: 3.34m\n",
      "Valid Classes: 206\n",
      "New best AUC: 0.9227 at epoch 11\n",
      "\n",
      "==================================================\n",
      "Epoch 12/20 | Fold 0\n",
      "==================================================\n"
     ]
    },
    {
     "data": {
      "application/vnd.jupyter.widget-view+json": {
       "model_id": "d1302ca0267b4923b30e4f5fcf8bf1ba",
       "version_major": 2,
       "version_minor": 0
      },
      "text/plain": [
       "Training:   0%|          | 0/1227 [00:00<?, ?it/s]"
      ]
     },
     "metadata": {},
     "output_type": "display_data"
    },
    {
     "data": {
      "application/vnd.jupyter.widget-view+json": {
       "model_id": "91ed664d58de461089ff1cf860f96a83",
       "version_major": 2,
       "version_minor": 0
      },
      "text/plain": [
       "Validation:   0%|          | 0/154 [00:00<?, ?it/s]"
      ]
     },
     "metadata": {},
     "output_type": "display_data"
    },
    {
     "name": "stdout",
     "output_type": "stream",
     "text": [
      "New best epoch for fold 0: epoch 12, AUC: 0.9270\n",
      "\n",
      "--- Epoch 12 Summary ---\n",
      "Train Loss: 0.0193, Train AUC: 0.8047\n",
      "Val Loss: 0.0144, Val AUC: 0.9270\n",
      "LR: 0.000364, Epoch Time: 3.37m\n",
      "Valid Classes: 206\n",
      "New best AUC: 0.9270 at epoch 12\n",
      "\n",
      "==================================================\n",
      "Epoch 13/20 | Fold 0\n",
      "==================================================\n"
     ]
    },
    {
     "data": {
      "application/vnd.jupyter.widget-view+json": {
       "model_id": "87f1d556b9aa484ebbf8ec757a4fc08a",
       "version_major": 2,
       "version_minor": 0
      },
      "text/plain": [
       "Training:   0%|          | 0/1227 [00:00<?, ?it/s]"
      ]
     },
     "metadata": {},
     "output_type": "display_data"
    },
    {
     "data": {
      "application/vnd.jupyter.widget-view+json": {
       "model_id": "3f5e818682f543a190b6fc74f6e87839",
       "version_major": 2,
       "version_minor": 0
      },
      "text/plain": [
       "Validation:   0%|          | 0/154 [00:00<?, ?it/s]"
      ]
     },
     "metadata": {},
     "output_type": "display_data"
    },
    {
     "name": "stdout",
     "output_type": "stream",
     "text": [
      "\n",
      "--- Epoch 13 Summary ---\n",
      "Train Loss: 0.0189, Train AUC: 0.8369\n",
      "Val Loss: 0.0145, Val AUC: 0.9247\n",
      "LR: 0.000328, Epoch Time: 3.34m\n",
      "Valid Classes: 206\n",
      "\n",
      "==================================================\n",
      "Epoch 14/20 | Fold 0\n",
      "==================================================\n"
     ]
    },
    {
     "data": {
      "application/vnd.jupyter.widget-view+json": {
       "model_id": "d2bb9e9c9016494fa0dbfec5fb4e6ebc",
       "version_major": 2,
       "version_minor": 0
      },
      "text/plain": [
       "Training:   0%|          | 0/1227 [00:00<?, ?it/s]"
      ]
     },
     "metadata": {},
     "output_type": "display_data"
    },
    {
     "data": {
      "application/vnd.jupyter.widget-view+json": {
       "model_id": "17298f75a5e7411fb03b3979034199b9",
       "version_major": 2,
       "version_minor": 0
      },
      "text/plain": [
       "Validation:   0%|          | 0/154 [00:00<?, ?it/s]"
      ]
     },
     "metadata": {},
     "output_type": "display_data"
    },
    {
     "name": "stdout",
     "output_type": "stream",
     "text": [
      "\n",
      "--- Epoch 14 Summary ---\n",
      "Train Loss: 0.0187, Train AUC: 0.8131\n",
      "Val Loss: 0.0141, Val AUC: 0.9268\n",
      "LR: 0.000290, Epoch Time: 3.34m\n",
      "Valid Classes: 206\n",
      "\n",
      "==================================================\n",
      "Epoch 15/20 | Fold 0\n",
      "==================================================\n"
     ]
    },
    {
     "data": {
      "application/vnd.jupyter.widget-view+json": {
       "model_id": "bb619a91124741f0b6fa5c01ab7866e8",
       "version_major": 2,
       "version_minor": 0
      },
      "text/plain": [
       "Training:   0%|          | 0/1227 [00:00<?, ?it/s]"
      ]
     },
     "metadata": {},
     "output_type": "display_data"
    },
    {
     "data": {
      "application/vnd.jupyter.widget-view+json": {
       "model_id": "3af03ca1258543f490641e46e5749169",
       "version_major": 2,
       "version_minor": 0
      },
      "text/plain": [
       "Validation:   0%|          | 0/154 [00:00<?, ?it/s]"
      ]
     },
     "metadata": {},
     "output_type": "display_data"
    },
    {
     "name": "stdout",
     "output_type": "stream",
     "text": [
      "New best epoch for fold 0: epoch 15, AUC: 0.9290\n",
      "\n",
      "--- Epoch 15 Summary ---\n",
      "Train Loss: 0.0185, Train AUC: 0.7705\n",
      "Val Loss: 0.0156, Val AUC: 0.9290\n",
      "LR: 0.000251, Epoch Time: 3.34m\n",
      "Valid Classes: 206\n",
      "New best AUC: 0.9290 at epoch 15\n",
      "\n",
      "==================================================\n",
      "Epoch 16/20 | Fold 0\n",
      "==================================================\n"
     ]
    },
    {
     "data": {
      "application/vnd.jupyter.widget-view+json": {
       "model_id": "01a0f0d72c7c4cffb8f24ea91baa6553",
       "version_major": 2,
       "version_minor": 0
      },
      "text/plain": [
       "Training:   0%|          | 0/1227 [00:00<?, ?it/s]"
      ]
     },
     "metadata": {},
     "output_type": "display_data"
    },
    {
     "data": {
      "application/vnd.jupyter.widget-view+json": {
       "model_id": "d61209eccd2e41af9f5101af1848b3f4",
       "version_major": 2,
       "version_minor": 0
      },
      "text/plain": [
       "Validation:   0%|          | 0/154 [00:00<?, ?it/s]"
      ]
     },
     "metadata": {},
     "output_type": "display_data"
    },
    {
     "name": "stdout",
     "output_type": "stream",
     "text": [
      "\n",
      "--- Epoch 16 Summary ---\n",
      "Train Loss: 0.0184, Train AUC: 0.6628\n",
      "Val Loss: 0.0141, Val AUC: 0.9273\n",
      "LR: 0.000211, Epoch Time: 3.34m\n",
      "Valid Classes: 206\n",
      "\n",
      "==================================================\n",
      "Epoch 17/20 | Fold 0\n",
      "==================================================\n"
     ]
    },
    {
     "data": {
      "application/vnd.jupyter.widget-view+json": {
       "model_id": "a4ff991b36d243f1ad5932666b9a2ae3",
       "version_major": 2,
       "version_minor": 0
      },
      "text/plain": [
       "Training:   0%|          | 0/1227 [00:00<?, ?it/s]"
      ]
     },
     "metadata": {},
     "output_type": "display_data"
    },
    {
     "data": {
      "application/vnd.jupyter.widget-view+json": {
       "model_id": "7ff33cc3897e4e3687ddb531a3bf6fcc",
       "version_major": 2,
       "version_minor": 0
      },
      "text/plain": [
       "Validation:   0%|          | 0/154 [00:00<?, ?it/s]"
      ]
     },
     "metadata": {},
     "output_type": "display_data"
    },
    {
     "name": "stdout",
     "output_type": "stream",
     "text": [
      "Warning: NaN values detected in predictions. Replacing with zeros.\n",
      "\n",
      "--- Epoch 17 Summary ---\n",
      "Train Loss: 0.0181, Train AUC: 0.7987\n",
      "Val Loss: nan, Val AUC: 0.9284\n",
      "LR: 0.000173, Epoch Time: 3.35m\n",
      "Valid Classes: 206\n",
      "\n",
      "==================================================\n",
      "Epoch 18/20 | Fold 0\n",
      "==================================================\n"
     ]
    },
    {
     "data": {
      "application/vnd.jupyter.widget-view+json": {
       "model_id": "4ee22a245d094943b3b39726ebe63a6c",
       "version_major": 2,
       "version_minor": 0
      },
      "text/plain": [
       "Training:   0%|          | 0/1227 [00:00<?, ?it/s]"
      ]
     },
     "metadata": {},
     "output_type": "display_data"
    },
    {
     "data": {
      "application/vnd.jupyter.widget-view+json": {
       "model_id": "7c91179cf2864b4aa42adfba80d334b4",
       "version_major": 2,
       "version_minor": 0
      },
      "text/plain": [
       "Validation:   0%|          | 0/154 [00:00<?, ?it/s]"
      ]
     },
     "metadata": {},
     "output_type": "display_data"
    },
    {
     "name": "stdout",
     "output_type": "stream",
     "text": [
      "Warning: NaN values detected in predictions. Replacing with zeros.\n",
      "\n",
      "--- Epoch 18 Summary ---\n",
      "Train Loss: 0.0179, Train AUC: 0.7270\n",
      "Val Loss: nan, Val AUC: 0.9267\n",
      "LR: 0.000137, Epoch Time: 3.30m\n",
      "Valid Classes: 206\n",
      "\n",
      "==================================================\n",
      "Epoch 19/20 | Fold 0\n",
      "==================================================\n"
     ]
    },
    {
     "data": {
      "application/vnd.jupyter.widget-view+json": {
       "model_id": "ac8e986875fe4c3dad220c1a5e3fa3ea",
       "version_major": 2,
       "version_minor": 0
      },
      "text/plain": [
       "Training:   0%|          | 0/1227 [00:00<?, ?it/s]"
      ]
     },
     "metadata": {},
     "output_type": "display_data"
    },
    {
     "data": {
      "application/vnd.jupyter.widget-view+json": {
       "model_id": "942f645b89de4c209737091aaf691a39",
       "version_major": 2,
       "version_minor": 0
      },
      "text/plain": [
       "Validation:   0%|          | 0/154 [00:00<?, ?it/s]"
      ]
     },
     "metadata": {},
     "output_type": "display_data"
    },
    {
     "name": "stdout",
     "output_type": "stream",
     "text": [
      "Warning: NaN values detected in predictions. Replacing with zeros.\n",
      "\n",
      "--- Epoch 19 Summary ---\n",
      "Train Loss: 0.0175, Train AUC: 0.8221\n",
      "Val Loss: nan, Val AUC: 0.9258\n",
      "LR: 0.000104, Epoch Time: 3.29m\n",
      "Valid Classes: 206\n",
      "\n",
      "==================================================\n",
      "Epoch 20/20 | Fold 0\n",
      "==================================================\n"
     ]
    },
    {
     "data": {
      "application/vnd.jupyter.widget-view+json": {
       "model_id": "149642361b60494cae4b1db9cdcc5201",
       "version_major": 2,
       "version_minor": 0
      },
      "text/plain": [
       "Training:   0%|          | 0/1227 [00:00<?, ?it/s]"
      ]
     },
     "metadata": {},
     "output_type": "display_data"
    },
    {
     "data": {
      "application/vnd.jupyter.widget-view+json": {
       "model_id": "640cbedd84d64bc7b4af2216eea1ba97",
       "version_major": 2,
       "version_minor": 0
      },
      "text/plain": [
       "Validation:   0%|          | 0/154 [00:00<?, ?it/s]"
      ]
     },
     "metadata": {},
     "output_type": "display_data"
    },
    {
     "name": "stdout",
     "output_type": "stream",
     "text": [
      "Warning: NaN values detected in predictions. Replacing with zeros.\n",
      "\n",
      "--- Epoch 20 Summary ---\n",
      "Train Loss: 0.0175, Train AUC: 0.7991\n",
      "Val Loss: nan, Val AUC: 0.9259\n",
      "LR: 0.000074, Epoch Time: 3.29m\n",
      "Valid Classes: 206\n",
      "\n",
      "*** FOLD 0 COMPLETE ***\n",
      "Best AUC: 0.9290 at epoch 15\n",
      "Fold training time: 72.4 minutes\n",
      "\n",
      "============================== Fold 1 ==============================\n",
      "Training set: 39267 samples\n",
      "Validation set: 9817 samples\n",
      "\n",
      "-------------------- Training Model --------------------\n",
      "Model compiled successfully with backend 'inductor', mode 'default'\n",
      "\n",
      "==================================================\n",
      "Epoch 1/20 | Fold 1\n",
      "==================================================\n"
     ]
    },
    {
     "data": {
      "application/vnd.jupyter.widget-view+json": {
       "model_id": "2c4121f7b1944ce89b4e0ceb0ef9433d",
       "version_major": 2,
       "version_minor": 0
      },
      "text/plain": [
       "Training:   0%|          | 0/1227 [00:00<?, ?it/s]"
      ]
     },
     "metadata": {},
     "output_type": "display_data"
    },
    {
     "data": {
      "application/vnd.jupyter.widget-view+json": {
       "model_id": "366046a6f63148a4a1d71d1d395ce54b",
       "version_major": 2,
       "version_minor": 0
      },
      "text/plain": [
       "Validation:   0%|          | 0/154 [00:00<?, ?it/s]"
      ]
     },
     "metadata": {},
     "output_type": "display_data"
    },
    {
     "name": "stdout",
     "output_type": "stream",
     "text": [
      "Initial best epoch for fold 1: epoch 1, AUC: 0.5360\n",
      "\n",
      "--- Epoch 1 Summary ---\n",
      "Train Loss: 0.0355, Train AUC: 0.5054\n",
      "Val Loss: 0.0285, Val AUC: 0.5360\n",
      "LR: 0.000500, Epoch Time: 3.30m\n",
      "Valid Classes: 206\n",
      "New best AUC: 0.5360 at epoch 1\n",
      "\n",
      "==================================================\n",
      "Epoch 2/20 | Fold 1\n",
      "==================================================\n"
     ]
    },
    {
     "data": {
      "application/vnd.jupyter.widget-view+json": {
       "model_id": "3f94037e7a254b11aaae6f2888b3d6aa",
       "version_major": 2,
       "version_minor": 0
      },
      "text/plain": [
       "Training:   0%|          | 0/1227 [00:00<?, ?it/s]"
      ]
     },
     "metadata": {},
     "output_type": "display_data"
    },
    {
     "data": {
      "application/vnd.jupyter.widget-view+json": {
       "model_id": "a378ef6bbff741de8aea9efd515baf29",
       "version_major": 2,
       "version_minor": 0
      },
      "text/plain": [
       "Validation:   0%|          | 0/154 [00:00<?, ?it/s]"
      ]
     },
     "metadata": {},
     "output_type": "display_data"
    },
    {
     "name": "stdout",
     "output_type": "stream",
     "text": [
      "New best epoch for fold 1: epoch 2, AUC: 0.6468\n",
      "\n",
      "--- Epoch 2 Summary ---\n",
      "Train Loss: 0.0280, Train AUC: 0.5487\n",
      "Val Loss: 0.0267, Val AUC: 0.6468\n",
      "LR: 0.000500, Epoch Time: 3.29m\n",
      "Valid Classes: 206\n",
      "New best AUC: 0.6468 at epoch 2\n",
      "\n",
      "==================================================\n",
      "Epoch 3/20 | Fold 1\n",
      "==================================================\n"
     ]
    },
    {
     "data": {
      "application/vnd.jupyter.widget-view+json": {
       "model_id": "e75b048af8804ba1bb9ccfbad4038054",
       "version_major": 2,
       "version_minor": 0
      },
      "text/plain": [
       "Training:   0%|          | 0/1227 [00:00<?, ?it/s]"
      ]
     },
     "metadata": {},
     "output_type": "display_data"
    },
    {
     "data": {
      "application/vnd.jupyter.widget-view+json": {
       "model_id": "4db84c248e1d4ca8ac54add21c8eac1a",
       "version_major": 2,
       "version_minor": 0
      },
      "text/plain": [
       "Validation:   0%|          | 0/154 [00:00<?, ?it/s]"
      ]
     },
     "metadata": {},
     "output_type": "display_data"
    },
    {
     "name": "stdout",
     "output_type": "stream",
     "text": [
      "New best epoch for fold 1: epoch 3, AUC: 0.7549\n",
      "\n",
      "--- Epoch 3 Summary ---\n",
      "Train Loss: 0.0271, Train AUC: 0.6068\n",
      "Val Loss: 0.0247, Val AUC: 0.7549\n",
      "LR: 0.000500, Epoch Time: 3.29m\n",
      "Valid Classes: 206\n",
      "New best AUC: 0.7549 at epoch 3\n",
      "\n",
      "==================================================\n",
      "Epoch 4/20 | Fold 1\n",
      "==================================================\n"
     ]
    },
    {
     "data": {
      "application/vnd.jupyter.widget-view+json": {
       "model_id": "86cc83cd9d0246ed99d6f3f9ff7dda8c",
       "version_major": 2,
       "version_minor": 0
      },
      "text/plain": [
       "Training:   0%|          | 0/1227 [00:00<?, ?it/s]"
      ]
     },
     "metadata": {},
     "output_type": "display_data"
    },
    {
     "data": {
      "application/vnd.jupyter.widget-view+json": {
       "model_id": "b85529593ea74f428a31dfa2e8619536",
       "version_major": 2,
       "version_minor": 0
      },
      "text/plain": [
       "Validation:   0%|          | 0/154 [00:00<?, ?it/s]"
      ]
     },
     "metadata": {},
     "output_type": "display_data"
    },
    {
     "name": "stdout",
     "output_type": "stream",
     "text": [
      "New best epoch for fold 1: epoch 4, AUC: 0.7864\n",
      "\n",
      "--- Epoch 4 Summary ---\n",
      "Train Loss: 0.0259, Train AUC: 0.6603\n",
      "Val Loss: 0.0242, Val AUC: 0.7864\n",
      "LR: 0.000500, Epoch Time: 3.29m\n",
      "Valid Classes: 206\n",
      "New best AUC: 0.7864 at epoch 4\n",
      "\n",
      "==================================================\n",
      "Epoch 5/20 | Fold 1\n",
      "==================================================\n"
     ]
    },
    {
     "data": {
      "application/vnd.jupyter.widget-view+json": {
       "model_id": "64318f95383b4d318a5a82cd7028a4f9",
       "version_major": 2,
       "version_minor": 0
      },
      "text/plain": [
       "Training:   0%|          | 0/1227 [00:00<?, ?it/s]"
      ]
     },
     "metadata": {},
     "output_type": "display_data"
    },
    {
     "data": {
      "application/vnd.jupyter.widget-view+json": {
       "model_id": "e7da38ba95bf44c480390b53bbfe6b25",
       "version_major": 2,
       "version_minor": 0
      },
      "text/plain": [
       "Validation:   0%|          | 0/154 [00:00<?, ?it/s]"
      ]
     },
     "metadata": {},
     "output_type": "display_data"
    },
    {
     "name": "stdout",
     "output_type": "stream",
     "text": [
      "New best epoch for fold 1: epoch 5, AUC: 0.8416\n",
      "\n",
      "--- Epoch 5 Summary ---\n",
      "Train Loss: 0.0249, Train AUC: 0.6320\n",
      "Val Loss: 0.0216, Val AUC: 0.8416\n",
      "LR: 0.000500, Epoch Time: 3.29m\n",
      "Valid Classes: 206\n",
      "New best AUC: 0.8416 at epoch 5\n",
      "\n",
      "==================================================\n",
      "Epoch 6/20 | Fold 1\n",
      "==================================================\n"
     ]
    },
    {
     "data": {
      "application/vnd.jupyter.widget-view+json": {
       "model_id": "45bc5cd9433241329fc592498909627d",
       "version_major": 2,
       "version_minor": 0
      },
      "text/plain": [
       "Training:   0%|          | 0/1227 [00:00<?, ?it/s]"
      ]
     },
     "metadata": {},
     "output_type": "display_data"
    },
    {
     "data": {
      "application/vnd.jupyter.widget-view+json": {
       "model_id": "a8569cf2a30c4a728bc906ddbe885637",
       "version_major": 2,
       "version_minor": 0
      },
      "text/plain": [
       "Validation:   0%|          | 0/154 [00:00<?, ?it/s]"
      ]
     },
     "metadata": {},
     "output_type": "display_data"
    },
    {
     "name": "stdout",
     "output_type": "stream",
     "text": [
      "New best epoch for fold 1: epoch 6, AUC: 0.8555\n",
      "\n",
      "--- Epoch 6 Summary ---\n",
      "Train Loss: 0.0242, Train AUC: 0.7377\n",
      "Val Loss: 0.0206, Val AUC: 0.8555\n",
      "LR: 0.000497, Epoch Time: 3.29m\n",
      "Valid Classes: 206\n",
      "New best AUC: 0.8555 at epoch 6\n",
      "\n",
      "==================================================\n",
      "Epoch 7/20 | Fold 1\n",
      "==================================================\n"
     ]
    },
    {
     "data": {
      "application/vnd.jupyter.widget-view+json": {
       "model_id": "5fccd604a12d4cfbbdccfb875b3adecd",
       "version_major": 2,
       "version_minor": 0
      },
      "text/plain": [
       "Training:   0%|          | 0/1227 [00:00<?, ?it/s]"
      ]
     },
     "metadata": {},
     "output_type": "display_data"
    },
    {
     "data": {
      "application/vnd.jupyter.widget-view+json": {
       "model_id": "8390bb013ca7481ebf2ef50051a49b33",
       "version_major": 2,
       "version_minor": 0
      },
      "text/plain": [
       "Validation:   0%|          | 0/154 [00:00<?, ?it/s]"
      ]
     },
     "metadata": {},
     "output_type": "display_data"
    },
    {
     "name": "stdout",
     "output_type": "stream",
     "text": [
      "New best epoch for fold 1: epoch 7, AUC: 0.8720\n",
      "\n",
      "--- Epoch 7 Summary ---\n",
      "Train Loss: 0.0237, Train AUC: 0.7369\n",
      "Val Loss: 0.0199, Val AUC: 0.8720\n",
      "LR: 0.000488, Epoch Time: 3.29m\n",
      "Valid Classes: 206\n",
      "New best AUC: 0.8720 at epoch 7\n",
      "\n",
      "==================================================\n",
      "Epoch 8/20 | Fold 1\n",
      "==================================================\n"
     ]
    },
    {
     "data": {
      "application/vnd.jupyter.widget-view+json": {
       "model_id": "15379a52377e43579eb5a35915e95c8e",
       "version_major": 2,
       "version_minor": 0
      },
      "text/plain": [
       "Training:   0%|          | 0/1227 [00:00<?, ?it/s]"
      ]
     },
     "metadata": {},
     "output_type": "display_data"
    },
    {
     "data": {
      "application/vnd.jupyter.widget-view+json": {
       "model_id": "e05a6760ff0342bd9c56f742c6a4c4dd",
       "version_major": 2,
       "version_minor": 0
      },
      "text/plain": [
       "Validation:   0%|          | 0/154 [00:00<?, ?it/s]"
      ]
     },
     "metadata": {},
     "output_type": "display_data"
    },
    {
     "name": "stdout",
     "output_type": "stream",
     "text": [
      "\n",
      "--- Epoch 8 Summary ---\n",
      "Train Loss: 0.0232, Train AUC: 0.7129\n",
      "Val Loss: 0.0197, Val AUC: 0.8665\n",
      "LR: 0.000473, Epoch Time: 3.29m\n",
      "Valid Classes: 206\n",
      "\n",
      "==================================================\n",
      "Epoch 9/20 | Fold 1\n",
      "==================================================\n"
     ]
    },
    {
     "data": {
      "application/vnd.jupyter.widget-view+json": {
       "model_id": "f25e432c3aca43608eb746a0280dcebe",
       "version_major": 2,
       "version_minor": 0
      },
      "text/plain": [
       "Training:   0%|          | 0/1227 [00:00<?, ?it/s]"
      ]
     },
     "metadata": {},
     "output_type": "display_data"
    },
    {
     "data": {
      "application/vnd.jupyter.widget-view+json": {
       "model_id": "a01e15277c09477186568addb97ecce2",
       "version_major": 2,
       "version_minor": 0
      },
      "text/plain": [
       "Validation:   0%|          | 0/154 [00:00<?, ?it/s]"
      ]
     },
     "metadata": {},
     "output_type": "display_data"
    },
    {
     "name": "stdout",
     "output_type": "stream",
     "text": [
      "New best epoch for fold 1: epoch 9, AUC: 0.8758\n",
      "\n",
      "--- Epoch 9 Summary ---\n",
      "Train Loss: 0.0229, Train AUC: 0.7039\n",
      "Val Loss: 0.0191, Val AUC: 0.8758\n",
      "LR: 0.000452, Epoch Time: 3.29m\n",
      "Valid Classes: 206\n",
      "New best AUC: 0.8758 at epoch 9\n",
      "\n",
      "==================================================\n",
      "Epoch 10/20 | Fold 1\n",
      "==================================================\n"
     ]
    },
    {
     "data": {
      "application/vnd.jupyter.widget-view+json": {
       "model_id": "a6205998b1864c3cb40c328507455afe",
       "version_major": 2,
       "version_minor": 0
      },
      "text/plain": [
       "Training:   0%|          | 0/1227 [00:00<?, ?it/s]"
      ]
     },
     "metadata": {},
     "output_type": "display_data"
    },
    {
     "data": {
      "application/vnd.jupyter.widget-view+json": {
       "model_id": "c73b4f418d044949bdb28c104cacc3c7",
       "version_major": 2,
       "version_minor": 0
      },
      "text/plain": [
       "Validation:   0%|          | 0/154 [00:00<?, ?it/s]"
      ]
     },
     "metadata": {},
     "output_type": "display_data"
    },
    {
     "name": "stdout",
     "output_type": "stream",
     "text": [
      "New best epoch for fold 1: epoch 10, AUC: 0.8872\n",
      "\n",
      "--- Epoch 10 Summary ---\n",
      "Train Loss: 0.0227, Train AUC: 0.6322\n",
      "Val Loss: 0.0187, Val AUC: 0.8872\n",
      "LR: 0.000427, Epoch Time: 3.29m\n",
      "Valid Classes: 206\n",
      "New best AUC: 0.8872 at epoch 10\n",
      "\n",
      "==================================================\n",
      "Epoch 11/20 | Fold 1\n",
      "==================================================\n"
     ]
    },
    {
     "data": {
      "application/vnd.jupyter.widget-view+json": {
       "model_id": "dfe98006d44842aa8d74d206ef6716b3",
       "version_major": 2,
       "version_minor": 0
      },
      "text/plain": [
       "Training:   0%|          | 0/1227 [00:00<?, ?it/s]"
      ]
     },
     "metadata": {},
     "output_type": "display_data"
    },
    {
     "data": {
      "application/vnd.jupyter.widget-view+json": {
       "model_id": "fe988093bfa0463487e67420bb2a4420",
       "version_major": 2,
       "version_minor": 0
      },
      "text/plain": [
       "Validation:   0%|          | 0/154 [00:00<?, ?it/s]"
      ]
     },
     "metadata": {},
     "output_type": "display_data"
    },
    {
     "name": "stdout",
     "output_type": "stream",
     "text": [
      "\n",
      "--- Epoch 11 Summary ---\n",
      "Train Loss: 0.0222, Train AUC: 0.7190\n",
      "Val Loss: 0.0184, Val AUC: 0.8869\n",
      "LR: 0.000397, Epoch Time: 3.29m\n",
      "Valid Classes: 206\n",
      "\n",
      "==================================================\n",
      "Epoch 12/20 | Fold 1\n",
      "==================================================\n"
     ]
    },
    {
     "data": {
      "application/vnd.jupyter.widget-view+json": {
       "model_id": "c94bb15da1a74bfbbf69b863ad445638",
       "version_major": 2,
       "version_minor": 0
      },
      "text/plain": [
       "Training:   0%|          | 0/1227 [00:00<?, ?it/s]"
      ]
     },
     "metadata": {},
     "output_type": "display_data"
    },
    {
     "data": {
      "application/vnd.jupyter.widget-view+json": {
       "model_id": "40b251099c7c4a7babd218babc8482ac",
       "version_major": 2,
       "version_minor": 0
      },
      "text/plain": [
       "Validation:   0%|          | 0/154 [00:00<?, ?it/s]"
      ]
     },
     "metadata": {},
     "output_type": "display_data"
    },
    {
     "name": "stdout",
     "output_type": "stream",
     "text": [
      "New best epoch for fold 1: epoch 12, AUC: 0.8873\n",
      "\n",
      "--- Epoch 12 Summary ---\n",
      "Train Loss: 0.0221, Train AUC: 0.7454\n",
      "Val Loss: 0.0185, Val AUC: 0.8873\n",
      "LR: 0.000364, Epoch Time: 3.29m\n",
      "Valid Classes: 206\n",
      "New best AUC: 0.8873 at epoch 12\n",
      "\n",
      "==================================================\n",
      "Epoch 13/20 | Fold 1\n",
      "==================================================\n"
     ]
    },
    {
     "data": {
      "application/vnd.jupyter.widget-view+json": {
       "model_id": "8d13f14d751a4ae0a387b0d2293c1099",
       "version_major": 2,
       "version_minor": 0
      },
      "text/plain": [
       "Training:   0%|          | 0/1227 [00:00<?, ?it/s]"
      ]
     },
     "metadata": {},
     "output_type": "display_data"
    },
    {
     "data": {
      "application/vnd.jupyter.widget-view+json": {
       "model_id": "4a92664f24434be89f33dd1fb5e0e135",
       "version_major": 2,
       "version_minor": 0
      },
      "text/plain": [
       "Validation:   0%|          | 0/154 [00:00<?, ?it/s]"
      ]
     },
     "metadata": {},
     "output_type": "display_data"
    },
    {
     "name": "stdout",
     "output_type": "stream",
     "text": [
      "New best epoch for fold 1: epoch 13, AUC: 0.8975\n",
      "\n",
      "--- Epoch 13 Summary ---\n",
      "Train Loss: 0.0217, Train AUC: 0.8016\n",
      "Val Loss: 0.0178, Val AUC: 0.8975\n",
      "LR: 0.000328, Epoch Time: 3.29m\n",
      "Valid Classes: 206\n",
      "New best AUC: 0.8975 at epoch 13\n",
      "\n",
      "==================================================\n",
      "Epoch 14/20 | Fold 1\n",
      "==================================================\n"
     ]
    },
    {
     "data": {
      "application/vnd.jupyter.widget-view+json": {
       "model_id": "3621b91d8e8246ad9713a5ad3a20e347",
       "version_major": 2,
       "version_minor": 0
      },
      "text/plain": [
       "Training:   0%|          | 0/1227 [00:00<?, ?it/s]"
      ]
     },
     "metadata": {},
     "output_type": "display_data"
    },
    {
     "data": {
      "application/vnd.jupyter.widget-view+json": {
       "model_id": "927d7d1d881c43bd87aa540a898d7447",
       "version_major": 2,
       "version_minor": 0
      },
      "text/plain": [
       "Validation:   0%|          | 0/154 [00:00<?, ?it/s]"
      ]
     },
     "metadata": {},
     "output_type": "display_data"
    },
    {
     "name": "stdout",
     "output_type": "stream",
     "text": [
      "New best epoch for fold 1: epoch 14, AUC: 0.8981\n",
      "\n",
      "--- Epoch 14 Summary ---\n",
      "Train Loss: 0.0217, Train AUC: 0.7530\n",
      "Val Loss: 0.0175, Val AUC: 0.8981\n",
      "LR: 0.000290, Epoch Time: 3.29m\n",
      "Valid Classes: 206\n",
      "New best AUC: 0.8981 at epoch 14\n",
      "\n",
      "==================================================\n",
      "Epoch 15/20 | Fold 1\n",
      "==================================================\n"
     ]
    },
    {
     "data": {
      "application/vnd.jupyter.widget-view+json": {
       "model_id": "8916bdf96a7641d4bd42f0c509b75f45",
       "version_major": 2,
       "version_minor": 0
      },
      "text/plain": [
       "Training:   0%|          | 0/1227 [00:00<?, ?it/s]"
      ]
     },
     "metadata": {},
     "output_type": "display_data"
    },
    {
     "data": {
      "application/vnd.jupyter.widget-view+json": {
       "model_id": "2224cebabc9d4b3d8ba543641b3ca56a",
       "version_major": 2,
       "version_minor": 0
      },
      "text/plain": [
       "Validation:   0%|          | 0/154 [00:00<?, ?it/s]"
      ]
     },
     "metadata": {},
     "output_type": "display_data"
    },
    {
     "name": "stdout",
     "output_type": "stream",
     "text": [
      "\n",
      "--- Epoch 15 Summary ---\n",
      "Train Loss: 0.0215, Train AUC: 0.7740\n",
      "Val Loss: 0.0175, Val AUC: 0.8961\n",
      "LR: 0.000251, Epoch Time: 3.29m\n",
      "Valid Classes: 206\n",
      "\n",
      "==================================================\n",
      "Epoch 16/20 | Fold 1\n",
      "==================================================\n"
     ]
    },
    {
     "data": {
      "application/vnd.jupyter.widget-view+json": {
       "model_id": "ca4d6211a8074e54933ba048e7c9d98c",
       "version_major": 2,
       "version_minor": 0
      },
      "text/plain": [
       "Training:   0%|          | 0/1227 [00:00<?, ?it/s]"
      ]
     },
     "metadata": {},
     "output_type": "display_data"
    },
    {
     "data": {
      "application/vnd.jupyter.widget-view+json": {
       "model_id": "4b658ae63bd046e2b3eacf0313e085b1",
       "version_major": 2,
       "version_minor": 0
      },
      "text/plain": [
       "Validation:   0%|          | 0/154 [00:00<?, ?it/s]"
      ]
     },
     "metadata": {},
     "output_type": "display_data"
    },
    {
     "name": "stdout",
     "output_type": "stream",
     "text": [
      "New best epoch for fold 1: epoch 16, AUC: 0.9013\n",
      "\n",
      "--- Epoch 16 Summary ---\n",
      "Train Loss: 0.0212, Train AUC: 0.7089\n",
      "Val Loss: 0.0172, Val AUC: 0.9013\n",
      "LR: 0.000211, Epoch Time: 3.29m\n",
      "Valid Classes: 206\n",
      "New best AUC: 0.9013 at epoch 16\n",
      "\n",
      "==================================================\n",
      "Epoch 17/20 | Fold 1\n",
      "==================================================\n"
     ]
    },
    {
     "data": {
      "application/vnd.jupyter.widget-view+json": {
       "model_id": "46b98fbffc514c5b8cc53ad47504995f",
       "version_major": 2,
       "version_minor": 0
      },
      "text/plain": [
       "Training:   0%|          | 0/1227 [00:00<?, ?it/s]"
      ]
     },
     "metadata": {},
     "output_type": "display_data"
    },
    {
     "data": {
      "application/vnd.jupyter.widget-view+json": {
       "model_id": "b55f0d828ea04d9482567f2705c0cae6",
       "version_major": 2,
       "version_minor": 0
      },
      "text/plain": [
       "Validation:   0%|          | 0/154 [00:00<?, ?it/s]"
      ]
     },
     "metadata": {},
     "output_type": "display_data"
    },
    {
     "name": "stdout",
     "output_type": "stream",
     "text": [
      "New best epoch for fold 1: epoch 17, AUC: 0.9032\n",
      "\n",
      "--- Epoch 17 Summary ---\n",
      "Train Loss: 0.0210, Train AUC: 0.7604\n",
      "Val Loss: 0.0169, Val AUC: 0.9032\n",
      "LR: 0.000173, Epoch Time: 3.29m\n",
      "Valid Classes: 206\n",
      "New best AUC: 0.9032 at epoch 17\n",
      "\n",
      "==================================================\n",
      "Epoch 18/20 | Fold 1\n",
      "==================================================\n"
     ]
    },
    {
     "data": {
      "application/vnd.jupyter.widget-view+json": {
       "model_id": "3b5276e0dc784f21a03bcf3e429a8244",
       "version_major": 2,
       "version_minor": 0
      },
      "text/plain": [
       "Training:   0%|          | 0/1227 [00:00<?, ?it/s]"
      ]
     },
     "metadata": {},
     "output_type": "display_data"
    },
    {
     "data": {
      "application/vnd.jupyter.widget-view+json": {
       "model_id": "29fd0bc679f841ea8d633638eb57f705",
       "version_major": 2,
       "version_minor": 0
      },
      "text/plain": [
       "Validation:   0%|          | 0/154 [00:00<?, ?it/s]"
      ]
     },
     "metadata": {},
     "output_type": "display_data"
    },
    {
     "name": "stdout",
     "output_type": "stream",
     "text": [
      "New best epoch for fold 1: epoch 18, AUC: 0.9039\n",
      "\n",
      "--- Epoch 18 Summary ---\n",
      "Train Loss: 0.0208, Train AUC: 0.7512\n",
      "Val Loss: 0.0168, Val AUC: 0.9039\n",
      "LR: 0.000137, Epoch Time: 3.29m\n",
      "Valid Classes: 206\n",
      "New best AUC: 0.9039 at epoch 18\n",
      "\n",
      "==================================================\n",
      "Epoch 19/20 | Fold 1\n",
      "==================================================\n"
     ]
    },
    {
     "data": {
      "application/vnd.jupyter.widget-view+json": {
       "model_id": "8421e1a73388430c93d3b869dda3fb6b",
       "version_major": 2,
       "version_minor": 0
      },
      "text/plain": [
       "Training:   0%|          | 0/1227 [00:00<?, ?it/s]"
      ]
     },
     "metadata": {},
     "output_type": "display_data"
    },
    {
     "data": {
      "application/vnd.jupyter.widget-view+json": {
       "model_id": "76f6e7f05e434dd0a6680b3ff78c68b2",
       "version_major": 2,
       "version_minor": 0
      },
      "text/plain": [
       "Validation:   0%|          | 0/154 [00:00<?, ?it/s]"
      ]
     },
     "metadata": {},
     "output_type": "display_data"
    },
    {
     "name": "stdout",
     "output_type": "stream",
     "text": [
      "New best epoch for fold 1: epoch 19, AUC: 0.9043\n",
      "\n",
      "--- Epoch 19 Summary ---\n",
      "Train Loss: 0.0206, Train AUC: 0.7742\n",
      "Val Loss: 0.0167, Val AUC: 0.9043\n",
      "LR: 0.000104, Epoch Time: 3.29m\n",
      "Valid Classes: 206\n",
      "New best AUC: 0.9043 at epoch 19\n",
      "\n",
      "==================================================\n",
      "Epoch 20/20 | Fold 1\n",
      "==================================================\n"
     ]
    },
    {
     "data": {
      "application/vnd.jupyter.widget-view+json": {
       "model_id": "fc5ddd5398d547c6be3314f31b585b9c",
       "version_major": 2,
       "version_minor": 0
      },
      "text/plain": [
       "Training:   0%|          | 0/1227 [00:00<?, ?it/s]"
      ]
     },
     "metadata": {},
     "output_type": "display_data"
    },
    {
     "data": {
      "application/vnd.jupyter.widget-view+json": {
       "model_id": "3cfb696db26b469a9d2eff1519218827",
       "version_major": 2,
       "version_minor": 0
      },
      "text/plain": [
       "Validation:   0%|          | 0/154 [00:00<?, ?it/s]"
      ]
     },
     "metadata": {},
     "output_type": "display_data"
    },
    {
     "name": "stdout",
     "output_type": "stream",
     "text": [
      "New best epoch for fold 1: epoch 20, AUC: 0.9047\n",
      "\n",
      "--- Epoch 20 Summary ---\n",
      "Train Loss: 0.0205, Train AUC: 0.7856\n",
      "Val Loss: 0.0167, Val AUC: 0.9047\n",
      "LR: 0.000074, Epoch Time: 3.29m\n",
      "Valid Classes: 206\n",
      "New best AUC: 0.9047 at epoch 20\n",
      "\n",
      "*** FOLD 1 COMPLETE ***\n",
      "Best AUC: 0.9047 at epoch 20\n",
      "Fold training time: 71.0 minutes\n",
      "\n",
      "============================== Fold 2 ==============================\n",
      "Training set: 39267 samples\n",
      "Validation set: 9817 samples\n",
      "\n",
      "-------------------- Training Model --------------------\n",
      "Model compiled successfully with backend 'inductor', mode 'default'\n",
      "\n",
      "==================================================\n",
      "Epoch 1/20 | Fold 2\n",
      "==================================================\n"
     ]
    },
    {
     "data": {
      "application/vnd.jupyter.widget-view+json": {
       "model_id": "996927bb5bac4182898b5aa730e01f31",
       "version_major": 2,
       "version_minor": 0
      },
      "text/plain": [
       "Training:   0%|          | 0/1227 [00:00<?, ?it/s]"
      ]
     },
     "metadata": {},
     "output_type": "display_data"
    },
    {
     "data": {
      "application/vnd.jupyter.widget-view+json": {
       "model_id": "548466c3c1f24cc7822c779be6593d67",
       "version_major": 2,
       "version_minor": 0
      },
      "text/plain": [
       "Validation:   0%|          | 0/154 [00:00<?, ?it/s]"
      ]
     },
     "metadata": {},
     "output_type": "display_data"
    },
    {
     "name": "stdout",
     "output_type": "stream",
     "text": [
      "Initial best epoch for fold 2: epoch 1, AUC: 0.5247\n",
      "\n",
      "--- Epoch 1 Summary ---\n",
      "Train Loss: 0.0355, Train AUC: 0.4963\n",
      "Val Loss: 0.0285, Val AUC: 0.5247\n",
      "LR: 0.000500, Epoch Time: 3.30m\n",
      "Valid Classes: 206\n",
      "New best AUC: 0.5247 at epoch 1\n",
      "\n",
      "==================================================\n",
      "Epoch 2/20 | Fold 2\n",
      "==================================================\n"
     ]
    },
    {
     "data": {
      "application/vnd.jupyter.widget-view+json": {
       "model_id": "7f7a4cf9f68b4e28994a685bef1d797e",
       "version_major": 2,
       "version_minor": 0
      },
      "text/plain": [
       "Training:   0%|          | 0/1227 [00:00<?, ?it/s]"
      ]
     },
     "metadata": {},
     "output_type": "display_data"
    },
    {
     "data": {
      "application/vnd.jupyter.widget-view+json": {
       "model_id": "ae8e706d9565446694d73eeadfbac55f",
       "version_major": 2,
       "version_minor": 0
      },
      "text/plain": [
       "Validation:   0%|          | 0/154 [00:00<?, ?it/s]"
      ]
     },
     "metadata": {},
     "output_type": "display_data"
    },
    {
     "name": "stdout",
     "output_type": "stream",
     "text": [
      "New best epoch for fold 2: epoch 2, AUC: 0.6032\n",
      "\n",
      "--- Epoch 2 Summary ---\n",
      "Train Loss: 0.0284, Train AUC: 0.5151\n",
      "Val Loss: 0.0277, Val AUC: 0.6032\n",
      "LR: 0.000500, Epoch Time: 3.29m\n",
      "Valid Classes: 206\n",
      "New best AUC: 0.6032 at epoch 2\n",
      "\n",
      "==================================================\n",
      "Epoch 3/20 | Fold 2\n",
      "==================================================\n"
     ]
    },
    {
     "data": {
      "application/vnd.jupyter.widget-view+json": {
       "model_id": "39f8fe52f7ef4a02ac31e8f3b21339bc",
       "version_major": 2,
       "version_minor": 0
      },
      "text/plain": [
       "Training:   0%|          | 0/1227 [00:00<?, ?it/s]"
      ]
     },
     "metadata": {},
     "output_type": "display_data"
    },
    {
     "data": {
      "application/vnd.jupyter.widget-view+json": {
       "model_id": "630a19a6da8f40329150afae687da2d9",
       "version_major": 2,
       "version_minor": 0
      },
      "text/plain": [
       "Validation:   0%|          | 0/154 [00:00<?, ?it/s]"
      ]
     },
     "metadata": {},
     "output_type": "display_data"
    },
    {
     "name": "stdout",
     "output_type": "stream",
     "text": [
      "New best epoch for fold 2: epoch 3, AUC: 0.6958\n",
      "\n",
      "--- Epoch 3 Summary ---\n",
      "Train Loss: 0.0276, Train AUC: 0.5855\n",
      "Val Loss: 0.0261, Val AUC: 0.6958\n",
      "LR: 0.000500, Epoch Time: 3.29m\n",
      "Valid Classes: 206\n",
      "New best AUC: 0.6958 at epoch 3\n",
      "\n",
      "==================================================\n",
      "Epoch 4/20 | Fold 2\n",
      "==================================================\n"
     ]
    },
    {
     "data": {
      "application/vnd.jupyter.widget-view+json": {
       "model_id": "6319ace6c7b84c69972f2a832df424f8",
       "version_major": 2,
       "version_minor": 0
      },
      "text/plain": [
       "Training:   0%|          | 0/1227 [00:00<?, ?it/s]"
      ]
     },
     "metadata": {},
     "output_type": "display_data"
    },
    {
     "data": {
      "application/vnd.jupyter.widget-view+json": {
       "model_id": "ccd6c5faf0744e1a83ba9edb6ca31852",
       "version_major": 2,
       "version_minor": 0
      },
      "text/plain": [
       "Validation:   0%|          | 0/154 [00:00<?, ?it/s]"
      ]
     },
     "metadata": {},
     "output_type": "display_data"
    },
    {
     "name": "stdout",
     "output_type": "stream",
     "text": [
      "New best epoch for fold 2: epoch 4, AUC: 0.7685\n",
      "\n",
      "--- Epoch 4 Summary ---\n",
      "Train Loss: 0.0267, Train AUC: 0.5948\n",
      "Val Loss: 0.0247, Val AUC: 0.7685\n",
      "LR: 0.000500, Epoch Time: 3.29m\n",
      "Valid Classes: 206\n",
      "New best AUC: 0.7685 at epoch 4\n",
      "\n",
      "==================================================\n",
      "Epoch 5/20 | Fold 2\n",
      "==================================================\n"
     ]
    },
    {
     "data": {
      "application/vnd.jupyter.widget-view+json": {
       "model_id": "2be934e7360b4e5c913dc5a2777b85c8",
       "version_major": 2,
       "version_minor": 0
      },
      "text/plain": [
       "Training:   0%|          | 0/1227 [00:00<?, ?it/s]"
      ]
     },
     "metadata": {},
     "output_type": "display_data"
    },
    {
     "data": {
      "application/vnd.jupyter.widget-view+json": {
       "model_id": "b7eebfcc1ba040ae8503730a61d5b1c7",
       "version_major": 2,
       "version_minor": 0
      },
      "text/plain": [
       "Validation:   0%|          | 0/154 [00:00<?, ?it/s]"
      ]
     },
     "metadata": {},
     "output_type": "display_data"
    },
    {
     "name": "stdout",
     "output_type": "stream",
     "text": [
      "New best epoch for fold 2: epoch 5, AUC: 0.7886\n",
      "\n",
      "--- Epoch 5 Summary ---\n",
      "Train Loss: 0.0259, Train AUC: 0.6635\n",
      "Val Loss: 0.0238, Val AUC: 0.7886\n",
      "LR: 0.000500, Epoch Time: 3.29m\n",
      "Valid Classes: 206\n",
      "New best AUC: 0.7886 at epoch 5\n",
      "\n",
      "==================================================\n",
      "Epoch 6/20 | Fold 2\n",
      "==================================================\n"
     ]
    },
    {
     "data": {
      "application/vnd.jupyter.widget-view+json": {
       "model_id": "20958391d50244fdbed611ba6df1d8af",
       "version_major": 2,
       "version_minor": 0
      },
      "text/plain": [
       "Training:   0%|          | 0/1227 [00:00<?, ?it/s]"
      ]
     },
     "metadata": {},
     "output_type": "display_data"
    },
    {
     "data": {
      "application/vnd.jupyter.widget-view+json": {
       "model_id": "5d3b9a5a31dc48e780e011bf1b3c7f83",
       "version_major": 2,
       "version_minor": 0
      },
      "text/plain": [
       "Validation:   0%|          | 0/154 [00:00<?, ?it/s]"
      ]
     },
     "metadata": {},
     "output_type": "display_data"
    },
    {
     "name": "stdout",
     "output_type": "stream",
     "text": [
      "New best epoch for fold 2: epoch 6, AUC: 0.7936\n",
      "\n",
      "--- Epoch 6 Summary ---\n",
      "Train Loss: 0.0253, Train AUC: 0.6409\n",
      "Val Loss: 0.0235, Val AUC: 0.7936\n",
      "LR: 0.000497, Epoch Time: 3.29m\n",
      "Valid Classes: 206\n",
      "New best AUC: 0.7936 at epoch 6\n",
      "\n",
      "==================================================\n",
      "Epoch 7/20 | Fold 2\n",
      "==================================================\n"
     ]
    },
    {
     "data": {
      "application/vnd.jupyter.widget-view+json": {
       "model_id": "478fd2617daf41eda40adcf9d9e1458d",
       "version_major": 2,
       "version_minor": 0
      },
      "text/plain": [
       "Training:   0%|          | 0/1227 [00:00<?, ?it/s]"
      ]
     },
     "metadata": {},
     "output_type": "display_data"
    },
    {
     "data": {
      "application/vnd.jupyter.widget-view+json": {
       "model_id": "059d89404a4049528befff79f9fe1133",
       "version_major": 2,
       "version_minor": 0
      },
      "text/plain": [
       "Validation:   0%|          | 0/154 [00:00<?, ?it/s]"
      ]
     },
     "metadata": {},
     "output_type": "display_data"
    },
    {
     "name": "stdout",
     "output_type": "stream",
     "text": [
      "New best epoch for fold 2: epoch 7, AUC: 0.8236\n",
      "\n",
      "--- Epoch 7 Summary ---\n",
      "Train Loss: 0.0249, Train AUC: 0.6736\n",
      "Val Loss: 0.0223, Val AUC: 0.8236\n",
      "LR: 0.000488, Epoch Time: 3.29m\n",
      "Valid Classes: 206\n",
      "New best AUC: 0.8236 at epoch 7\n",
      "\n",
      "==================================================\n",
      "Epoch 8/20 | Fold 2\n",
      "==================================================\n"
     ]
    },
    {
     "data": {
      "application/vnd.jupyter.widget-view+json": {
       "model_id": "925835bb744048aa9c4ed37b1f8c3587",
       "version_major": 2,
       "version_minor": 0
      },
      "text/plain": [
       "Training:   0%|          | 0/1227 [00:00<?, ?it/s]"
      ]
     },
     "metadata": {},
     "output_type": "display_data"
    },
    {
     "data": {
      "application/vnd.jupyter.widget-view+json": {
       "model_id": "7a35bc332bcb433a919c4573eaffb6ca",
       "version_major": 2,
       "version_minor": 0
      },
      "text/plain": [
       "Validation:   0%|          | 0/154 [00:00<?, ?it/s]"
      ]
     },
     "metadata": {},
     "output_type": "display_data"
    },
    {
     "name": "stdout",
     "output_type": "stream",
     "text": [
      "New best epoch for fold 2: epoch 8, AUC: 0.8266\n",
      "\n",
      "--- Epoch 8 Summary ---\n",
      "Train Loss: 0.0245, Train AUC: 0.6918\n",
      "Val Loss: 0.0223, Val AUC: 0.8266\n",
      "LR: 0.000473, Epoch Time: 3.29m\n",
      "Valid Classes: 206\n",
      "New best AUC: 0.8266 at epoch 8\n",
      "\n",
      "==================================================\n",
      "Epoch 9/20 | Fold 2\n",
      "==================================================\n"
     ]
    },
    {
     "data": {
      "application/vnd.jupyter.widget-view+json": {
       "model_id": "328d92f800854181ad1b28905f137f5b",
       "version_major": 2,
       "version_minor": 0
      },
      "text/plain": [
       "Training:   0%|          | 0/1227 [00:00<?, ?it/s]"
      ]
     },
     "metadata": {},
     "output_type": "display_data"
    },
    {
     "data": {
      "application/vnd.jupyter.widget-view+json": {
       "model_id": "d06f6a45a27f463f8feeea97d14e65cd",
       "version_major": 2,
       "version_minor": 0
      },
      "text/plain": [
       "Validation:   0%|          | 0/154 [00:00<?, ?it/s]"
      ]
     },
     "metadata": {},
     "output_type": "display_data"
    },
    {
     "name": "stdout",
     "output_type": "stream",
     "text": [
      "New best epoch for fold 2: epoch 9, AUC: 0.8410\n",
      "\n",
      "--- Epoch 9 Summary ---\n",
      "Train Loss: 0.0243, Train AUC: 0.7307\n",
      "Val Loss: 0.0214, Val AUC: 0.8410\n",
      "LR: 0.000452, Epoch Time: 3.29m\n",
      "Valid Classes: 206\n",
      "New best AUC: 0.8410 at epoch 9\n",
      "\n",
      "==================================================\n",
      "Epoch 10/20 | Fold 2\n",
      "==================================================\n"
     ]
    },
    {
     "data": {
      "application/vnd.jupyter.widget-view+json": {
       "model_id": "b1281a8aa3d34c5788de441934762e81",
       "version_major": 2,
       "version_minor": 0
      },
      "text/plain": [
       "Training:   0%|          | 0/1227 [00:00<?, ?it/s]"
      ]
     },
     "metadata": {},
     "output_type": "display_data"
    },
    {
     "data": {
      "application/vnd.jupyter.widget-view+json": {
       "model_id": "274640b14db34b8f816081b0e814e21b",
       "version_major": 2,
       "version_minor": 0
      },
      "text/plain": [
       "Validation:   0%|          | 0/154 [00:00<?, ?it/s]"
      ]
     },
     "metadata": {},
     "output_type": "display_data"
    },
    {
     "name": "stdout",
     "output_type": "stream",
     "text": [
      "New best epoch for fold 2: epoch 10, AUC: 0.8519\n",
      "\n",
      "--- Epoch 10 Summary ---\n",
      "Train Loss: 0.0239, Train AUC: 0.6865\n",
      "Val Loss: 0.0211, Val AUC: 0.8519\n",
      "LR: 0.000427, Epoch Time: 3.29m\n",
      "Valid Classes: 206\n",
      "New best AUC: 0.8519 at epoch 10\n",
      "\n",
      "==================================================\n",
      "Epoch 11/20 | Fold 2\n",
      "==================================================\n"
     ]
    },
    {
     "data": {
      "application/vnd.jupyter.widget-view+json": {
       "model_id": "d1a7f16d36ce4a059944951fe8e7de95",
       "version_major": 2,
       "version_minor": 0
      },
      "text/plain": [
       "Training:   0%|          | 0/1227 [00:00<?, ?it/s]"
      ]
     },
     "metadata": {},
     "output_type": "display_data"
    },
    {
     "data": {
      "application/vnd.jupyter.widget-view+json": {
       "model_id": "260a55152890442996f043323ab0e64e",
       "version_major": 2,
       "version_minor": 0
      },
      "text/plain": [
       "Validation:   0%|          | 0/154 [00:00<?, ?it/s]"
      ]
     },
     "metadata": {},
     "output_type": "display_data"
    },
    {
     "name": "stdout",
     "output_type": "stream",
     "text": [
      "\n",
      "--- Epoch 11 Summary ---\n",
      "Train Loss: 0.0237, Train AUC: 0.6620\n",
      "Val Loss: 0.0208, Val AUC: 0.8516\n",
      "LR: 0.000397, Epoch Time: 3.29m\n",
      "Valid Classes: 206\n",
      "\n",
      "==================================================\n",
      "Epoch 12/20 | Fold 2\n",
      "==================================================\n"
     ]
    },
    {
     "data": {
      "application/vnd.jupyter.widget-view+json": {
       "model_id": "71a9ed3d75db496da2864ca1f19b979a",
       "version_major": 2,
       "version_minor": 0
      },
      "text/plain": [
       "Training:   0%|          | 0/1227 [00:00<?, ?it/s]"
      ]
     },
     "metadata": {},
     "output_type": "display_data"
    },
    {
     "data": {
      "application/vnd.jupyter.widget-view+json": {
       "model_id": "1877d7dc4d7f4df795de2fa1b8349abd",
       "version_major": 2,
       "version_minor": 0
      },
      "text/plain": [
       "Validation:   0%|          | 0/154 [00:00<?, ?it/s]"
      ]
     },
     "metadata": {},
     "output_type": "display_data"
    },
    {
     "name": "stdout",
     "output_type": "stream",
     "text": [
      "New best epoch for fold 2: epoch 12, AUC: 0.8590\n",
      "\n",
      "--- Epoch 12 Summary ---\n",
      "Train Loss: 0.0235, Train AUC: 0.7235\n",
      "Val Loss: 0.0205, Val AUC: 0.8590\n",
      "LR: 0.000364, Epoch Time: 3.29m\n",
      "Valid Classes: 206\n",
      "New best AUC: 0.8590 at epoch 12\n",
      "\n",
      "==================================================\n",
      "Epoch 13/20 | Fold 2\n",
      "==================================================\n"
     ]
    },
    {
     "data": {
      "application/vnd.jupyter.widget-view+json": {
       "model_id": "b806ce5ef0304f82802418c3fa32a67f",
       "version_major": 2,
       "version_minor": 0
      },
      "text/plain": [
       "Training:   0%|          | 0/1227 [00:00<?, ?it/s]"
      ]
     },
     "metadata": {},
     "output_type": "display_data"
    },
    {
     "data": {
      "application/vnd.jupyter.widget-view+json": {
       "model_id": "9eaee7c8b5b6410fb2fe82511537a66b",
       "version_major": 2,
       "version_minor": 0
      },
      "text/plain": [
       "Validation:   0%|          | 0/154 [00:00<?, ?it/s]"
      ]
     },
     "metadata": {},
     "output_type": "display_data"
    },
    {
     "name": "stdout",
     "output_type": "stream",
     "text": [
      "New best epoch for fold 2: epoch 13, AUC: 0.8619\n",
      "\n",
      "--- Epoch 13 Summary ---\n",
      "Train Loss: 0.0233, Train AUC: 0.7324\n",
      "Val Loss: 0.0204, Val AUC: 0.8619\n",
      "LR: 0.000328, Epoch Time: 3.29m\n",
      "Valid Classes: 206\n",
      "New best AUC: 0.8619 at epoch 13\n",
      "\n",
      "==================================================\n",
      "Epoch 14/20 | Fold 2\n",
      "==================================================\n"
     ]
    },
    {
     "data": {
      "application/vnd.jupyter.widget-view+json": {
       "model_id": "fbdfcd7642dd49ffb97213a7a85679e4",
       "version_major": 2,
       "version_minor": 0
      },
      "text/plain": [
       "Training:   0%|          | 0/1227 [00:00<?, ?it/s]"
      ]
     },
     "metadata": {},
     "output_type": "display_data"
    },
    {
     "data": {
      "application/vnd.jupyter.widget-view+json": {
       "model_id": "17abfb9f7ddc4d9fb0b87b343ef1d505",
       "version_major": 2,
       "version_minor": 0
      },
      "text/plain": [
       "Validation:   0%|          | 0/154 [00:00<?, ?it/s]"
      ]
     },
     "metadata": {},
     "output_type": "display_data"
    },
    {
     "name": "stdout",
     "output_type": "stream",
     "text": [
      "New best epoch for fold 2: epoch 14, AUC: 0.8659\n",
      "\n",
      "--- Epoch 14 Summary ---\n",
      "Train Loss: 0.0231, Train AUC: 0.7150\n",
      "Val Loss: 0.0201, Val AUC: 0.8659\n",
      "LR: 0.000290, Epoch Time: 3.29m\n",
      "Valid Classes: 206\n",
      "New best AUC: 0.8659 at epoch 14\n",
      "\n",
      "==================================================\n",
      "Epoch 15/20 | Fold 2\n",
      "==================================================\n"
     ]
    },
    {
     "data": {
      "application/vnd.jupyter.widget-view+json": {
       "model_id": "16f73f9a68d5455aac28a3e99e3bda2b",
       "version_major": 2,
       "version_minor": 0
      },
      "text/plain": [
       "Training:   0%|          | 0/1227 [00:00<?, ?it/s]"
      ]
     },
     "metadata": {},
     "output_type": "display_data"
    },
    {
     "data": {
      "application/vnd.jupyter.widget-view+json": {
       "model_id": "24b53dc7f6db4fafaa8ef51e8f233654",
       "version_major": 2,
       "version_minor": 0
      },
      "text/plain": [
       "Validation:   0%|          | 0/154 [00:00<?, ?it/s]"
      ]
     },
     "metadata": {},
     "output_type": "display_data"
    },
    {
     "name": "stdout",
     "output_type": "stream",
     "text": [
      "New best epoch for fold 2: epoch 15, AUC: 0.8678\n",
      "\n",
      "--- Epoch 15 Summary ---\n",
      "Train Loss: 0.0229, Train AUC: 0.6996\n",
      "Val Loss: 0.0200, Val AUC: 0.8678\n",
      "LR: 0.000251, Epoch Time: 3.29m\n",
      "Valid Classes: 206\n",
      "New best AUC: 0.8678 at epoch 15\n",
      "\n",
      "==================================================\n",
      "Epoch 16/20 | Fold 2\n",
      "==================================================\n"
     ]
    },
    {
     "data": {
      "application/vnd.jupyter.widget-view+json": {
       "model_id": "98a980b6ca684ddc947e68f7882da4ab",
       "version_major": 2,
       "version_minor": 0
      },
      "text/plain": [
       "Training:   0%|          | 0/1227 [00:00<?, ?it/s]"
      ]
     },
     "metadata": {},
     "output_type": "display_data"
    },
    {
     "data": {
      "application/vnd.jupyter.widget-view+json": {
       "model_id": "8e64138c01f142319df313f5621b4065",
       "version_major": 2,
       "version_minor": 0
      },
      "text/plain": [
       "Validation:   0%|          | 0/154 [00:00<?, ?it/s]"
      ]
     },
     "metadata": {},
     "output_type": "display_data"
    },
    {
     "name": "stdout",
     "output_type": "stream",
     "text": [
      "New best epoch for fold 2: epoch 16, AUC: 0.8692\n",
      "\n",
      "--- Epoch 16 Summary ---\n",
      "Train Loss: 0.0227, Train AUC: 0.7256\n",
      "Val Loss: 0.0199, Val AUC: 0.8692\n",
      "LR: 0.000211, Epoch Time: 3.29m\n",
      "Valid Classes: 206\n",
      "New best AUC: 0.8692 at epoch 16\n",
      "\n",
      "==================================================\n",
      "Epoch 17/20 | Fold 2\n",
      "==================================================\n"
     ]
    },
    {
     "data": {
      "application/vnd.jupyter.widget-view+json": {
       "model_id": "6515dc0e03cf43bf82e716e2a7774f39",
       "version_major": 2,
       "version_minor": 0
      },
      "text/plain": [
       "Training:   0%|          | 0/1227 [00:00<?, ?it/s]"
      ]
     },
     "metadata": {},
     "output_type": "display_data"
    },
    {
     "data": {
      "application/vnd.jupyter.widget-view+json": {
       "model_id": "cbf5f6c3fc8747de968c9688e9ad6774",
       "version_major": 2,
       "version_minor": 0
      },
      "text/plain": [
       "Validation:   0%|          | 0/154 [00:00<?, ?it/s]"
      ]
     },
     "metadata": {},
     "output_type": "display_data"
    },
    {
     "name": "stdout",
     "output_type": "stream",
     "text": [
      "New best epoch for fold 2: epoch 17, AUC: 0.8746\n",
      "\n",
      "--- Epoch 17 Summary ---\n",
      "Train Loss: 0.0223, Train AUC: 0.7154\n",
      "Val Loss: 0.0195, Val AUC: 0.8746\n",
      "LR: 0.000173, Epoch Time: 3.29m\n",
      "Valid Classes: 206\n",
      "New best AUC: 0.8746 at epoch 17\n",
      "\n",
      "==================================================\n",
      "Epoch 18/20 | Fold 2\n",
      "==================================================\n"
     ]
    },
    {
     "data": {
      "application/vnd.jupyter.widget-view+json": {
       "model_id": "bb151f7624664876a93dbf8ce84a9042",
       "version_major": 2,
       "version_minor": 0
      },
      "text/plain": [
       "Training:   0%|          | 0/1227 [00:00<?, ?it/s]"
      ]
     },
     "metadata": {},
     "output_type": "display_data"
    },
    {
     "data": {
      "application/vnd.jupyter.widget-view+json": {
       "model_id": "e3e5dc2955104f6885ecc6bf69d679f2",
       "version_major": 2,
       "version_minor": 0
      },
      "text/plain": [
       "Validation:   0%|          | 0/154 [00:00<?, ?it/s]"
      ]
     },
     "metadata": {},
     "output_type": "display_data"
    },
    {
     "name": "stdout",
     "output_type": "stream",
     "text": [
      "New best epoch for fold 2: epoch 18, AUC: 0.8773\n",
      "\n",
      "--- Epoch 18 Summary ---\n",
      "Train Loss: 0.0223, Train AUC: 0.6616\n",
      "Val Loss: 0.0194, Val AUC: 0.8773\n",
      "LR: 0.000137, Epoch Time: 3.29m\n",
      "Valid Classes: 206\n",
      "New best AUC: 0.8773 at epoch 18\n",
      "\n",
      "==================================================\n",
      "Epoch 19/20 | Fold 2\n",
      "==================================================\n"
     ]
    },
    {
     "data": {
      "application/vnd.jupyter.widget-view+json": {
       "model_id": "13674a21d30942b3bd253a0249b333e8",
       "version_major": 2,
       "version_minor": 0
      },
      "text/plain": [
       "Training:   0%|          | 0/1227 [00:00<?, ?it/s]"
      ]
     },
     "metadata": {},
     "output_type": "display_data"
    },
    {
     "data": {
      "application/vnd.jupyter.widget-view+json": {
       "model_id": "479365d296374a13bdb744870391b28e",
       "version_major": 2,
       "version_minor": 0
      },
      "text/plain": [
       "Validation:   0%|          | 0/154 [00:00<?, ?it/s]"
      ]
     },
     "metadata": {},
     "output_type": "display_data"
    },
    {
     "name": "stdout",
     "output_type": "stream",
     "text": [
      "\n",
      "--- Epoch 19 Summary ---\n",
      "Train Loss: 0.0221, Train AUC: 0.7388\n",
      "Val Loss: 0.0194, Val AUC: 0.8761\n",
      "LR: 0.000104, Epoch Time: 3.29m\n",
      "Valid Classes: 206\n",
      "\n",
      "==================================================\n",
      "Epoch 20/20 | Fold 2\n",
      "==================================================\n"
     ]
    },
    {
     "data": {
      "application/vnd.jupyter.widget-view+json": {
       "model_id": "73d30746386448b2a4f0363ee709ee95",
       "version_major": 2,
       "version_minor": 0
      },
      "text/plain": [
       "Training:   0%|          | 0/1227 [00:00<?, ?it/s]"
      ]
     },
     "metadata": {},
     "output_type": "display_data"
    },
    {
     "data": {
      "application/vnd.jupyter.widget-view+json": {
       "model_id": "e4238c661ced44288b7f9069afb3e7d9",
       "version_major": 2,
       "version_minor": 0
      },
      "text/plain": [
       "Validation:   0%|          | 0/154 [00:00<?, ?it/s]"
      ]
     },
     "metadata": {},
     "output_type": "display_data"
    },
    {
     "name": "stdout",
     "output_type": "stream",
     "text": [
      "\n",
      "--- Epoch 20 Summary ---\n",
      "Train Loss: 0.0220, Train AUC: 0.7486\n",
      "Val Loss: 0.0193, Val AUC: 0.8768\n",
      "LR: 0.000074, Epoch Time: 3.29m\n",
      "Valid Classes: 206\n",
      "\n",
      "*** FOLD 2 COMPLETE ***\n",
      "Best AUC: 0.8773 at epoch 18\n",
      "Fold training time: 71.0 minutes\n",
      "\n",
      "============================== Fold 3 ==============================\n",
      "Training set: 39267 samples\n",
      "Validation set: 9817 samples\n",
      "\n",
      "-------------------- Training Model --------------------\n",
      "Model compiled successfully with backend 'inductor', mode 'default'\n",
      "\n",
      "==================================================\n",
      "Epoch 1/20 | Fold 3\n",
      "==================================================\n"
     ]
    },
    {
     "data": {
      "application/vnd.jupyter.widget-view+json": {
       "model_id": "3376893af4144faaa61906800c00e78e",
       "version_major": 2,
       "version_minor": 0
      },
      "text/plain": [
       "Training:   0%|          | 0/1227 [00:00<?, ?it/s]"
      ]
     },
     "metadata": {},
     "output_type": "display_data"
    },
    {
     "data": {
      "application/vnd.jupyter.widget-view+json": {
       "model_id": "0d317db6a9ad4e3bb7f106bf3c3e2474",
       "version_major": 2,
       "version_minor": 0
      },
      "text/plain": [
       "Validation:   0%|          | 0/154 [00:00<?, ?it/s]"
      ]
     },
     "metadata": {},
     "output_type": "display_data"
    },
    {
     "name": "stdout",
     "output_type": "stream",
     "text": [
      "Initial best epoch for fold 3: epoch 1, AUC: 0.5255\n",
      "\n",
      "--- Epoch 1 Summary ---\n",
      "Train Loss: 0.0356, Train AUC: 0.5209\n",
      "Val Loss: 0.0286, Val AUC: 0.5255\n",
      "LR: 0.000500, Epoch Time: 3.30m\n",
      "Valid Classes: 206\n",
      "New best AUC: 0.5255 at epoch 1\n",
      "\n",
      "==================================================\n",
      "Epoch 2/20 | Fold 3\n",
      "==================================================\n"
     ]
    },
    {
     "data": {
      "application/vnd.jupyter.widget-view+json": {
       "model_id": "5621710fe49f43cb82d6e3bbc9174832",
       "version_major": 2,
       "version_minor": 0
      },
      "text/plain": [
       "Training:   0%|          | 0/1227 [00:00<?, ?it/s]"
      ]
     },
     "metadata": {},
     "output_type": "display_data"
    },
    {
     "data": {
      "application/vnd.jupyter.widget-view+json": {
       "model_id": "e99a86dfae2b456e88e02ea7f9feaa1a",
       "version_major": 2,
       "version_minor": 0
      },
      "text/plain": [
       "Validation:   0%|          | 0/154 [00:00<?, ?it/s]"
      ]
     },
     "metadata": {},
     "output_type": "display_data"
    },
    {
     "name": "stdout",
     "output_type": "stream",
     "text": [
      "New best epoch for fold 3: epoch 2, AUC: 0.5859\n",
      "\n",
      "--- Epoch 2 Summary ---\n",
      "Train Loss: 0.0284, Train AUC: 0.5130\n",
      "Val Loss: 0.0280, Val AUC: 0.5859\n",
      "LR: 0.000500, Epoch Time: 3.29m\n",
      "Valid Classes: 206\n",
      "New best AUC: 0.5859 at epoch 2\n",
      "\n",
      "==================================================\n",
      "Epoch 3/20 | Fold 3\n",
      "==================================================\n"
     ]
    },
    {
     "data": {
      "application/vnd.jupyter.widget-view+json": {
       "model_id": "12201efcd01f47e29cf3bcbd549affa8",
       "version_major": 2,
       "version_minor": 0
      },
      "text/plain": [
       "Training:   0%|          | 0/1227 [00:00<?, ?it/s]"
      ]
     },
     "metadata": {},
     "output_type": "display_data"
    },
    {
     "data": {
      "application/vnd.jupyter.widget-view+json": {
       "model_id": "aa97647c5f544916961087baf2545827",
       "version_major": 2,
       "version_minor": 0
      },
      "text/plain": [
       "Validation:   0%|          | 0/154 [00:00<?, ?it/s]"
      ]
     },
     "metadata": {},
     "output_type": "display_data"
    },
    {
     "name": "stdout",
     "output_type": "stream",
     "text": [
      "New best epoch for fold 3: epoch 3, AUC: 0.6375\n",
      "\n",
      "--- Epoch 3 Summary ---\n",
      "Train Loss: 0.0279, Train AUC: 0.5803\n",
      "Val Loss: 0.0271, Val AUC: 0.6375\n",
      "LR: 0.000500, Epoch Time: 3.29m\n",
      "Valid Classes: 206\n",
      "New best AUC: 0.6375 at epoch 3\n",
      "\n",
      "==================================================\n",
      "Epoch 4/20 | Fold 3\n",
      "==================================================\n"
     ]
    },
    {
     "data": {
      "application/vnd.jupyter.widget-view+json": {
       "model_id": "8028ef97fb6b46dc8acf845eb6296b47",
       "version_major": 2,
       "version_minor": 0
      },
      "text/plain": [
       "Training:   0%|          | 0/1227 [00:00<?, ?it/s]"
      ]
     },
     "metadata": {},
     "output_type": "display_data"
    },
    {
     "data": {
      "application/vnd.jupyter.widget-view+json": {
       "model_id": "0f70d991e80b4c62bc422f3e592e090e",
       "version_major": 2,
       "version_minor": 0
      },
      "text/plain": [
       "Validation:   0%|          | 0/154 [00:00<?, ?it/s]"
      ]
     },
     "metadata": {},
     "output_type": "display_data"
    },
    {
     "name": "stdout",
     "output_type": "stream",
     "text": [
      "New best epoch for fold 3: epoch 4, AUC: 0.6872\n",
      "\n",
      "--- Epoch 4 Summary ---\n",
      "Train Loss: 0.0275, Train AUC: 0.5796\n",
      "Val Loss: 0.0263, Val AUC: 0.6872\n",
      "LR: 0.000500, Epoch Time: 3.29m\n",
      "Valid Classes: 206\n",
      "New best AUC: 0.6872 at epoch 4\n",
      "\n",
      "==================================================\n",
      "Epoch 5/20 | Fold 3\n",
      "==================================================\n"
     ]
    },
    {
     "data": {
      "application/vnd.jupyter.widget-view+json": {
       "model_id": "cc6e6fc610f54fd59ce2bc63f0c031b0",
       "version_major": 2,
       "version_minor": 0
      },
      "text/plain": [
       "Training:   0%|          | 0/1227 [00:00<?, ?it/s]"
      ]
     },
     "metadata": {},
     "output_type": "display_data"
    },
    {
     "data": {
      "application/vnd.jupyter.widget-view+json": {
       "model_id": "3d9613ba2a7b4d62a8c188a5ed5ff715",
       "version_major": 2,
       "version_minor": 0
      },
      "text/plain": [
       "Validation:   0%|          | 0/154 [00:00<?, ?it/s]"
      ]
     },
     "metadata": {},
     "output_type": "display_data"
    },
    {
     "name": "stdout",
     "output_type": "stream",
     "text": [
      "New best epoch for fold 3: epoch 5, AUC: 0.7191\n",
      "\n",
      "--- Epoch 5 Summary ---\n",
      "Train Loss: 0.0268, Train AUC: 0.6435\n",
      "Val Loss: 0.0257, Val AUC: 0.7191\n",
      "LR: 0.000500, Epoch Time: 3.29m\n",
      "Valid Classes: 206\n",
      "New best AUC: 0.7191 at epoch 5\n",
      "\n",
      "==================================================\n",
      "Epoch 6/20 | Fold 3\n",
      "==================================================\n"
     ]
    },
    {
     "data": {
      "application/vnd.jupyter.widget-view+json": {
       "model_id": "e2761f87461c47f28583bee27821af34",
       "version_major": 2,
       "version_minor": 0
      },
      "text/plain": [
       "Training:   0%|          | 0/1227 [00:00<?, ?it/s]"
      ]
     },
     "metadata": {},
     "output_type": "display_data"
    },
    {
     "data": {
      "application/vnd.jupyter.widget-view+json": {
       "model_id": "c27bd9d9df8f4fb889dee458e22c5803",
       "version_major": 2,
       "version_minor": 0
      },
      "text/plain": [
       "Validation:   0%|          | 0/154 [00:00<?, ?it/s]"
      ]
     },
     "metadata": {},
     "output_type": "display_data"
    },
    {
     "name": "stdout",
     "output_type": "stream",
     "text": [
      "Warning: NaN values detected in predictions. Replacing with zeros.\n",
      "New best epoch for fold 3: epoch 6, AUC: 0.7558\n",
      "\n",
      "--- Epoch 6 Summary ---\n",
      "Train Loss: 0.0264, Train AUC: 0.6520\n",
      "Val Loss: nan, Val AUC: 0.7558\n",
      "LR: 0.000497, Epoch Time: 3.29m\n",
      "Valid Classes: 206\n",
      "New best AUC: 0.7558 at epoch 6\n",
      "\n",
      "==================================================\n",
      "Epoch 7/20 | Fold 3\n",
      "==================================================\n"
     ]
    },
    {
     "data": {
      "application/vnd.jupyter.widget-view+json": {
       "model_id": "ac43762e50a8451d8f16c4a567baff7d",
       "version_major": 2,
       "version_minor": 0
      },
      "text/plain": [
       "Training:   0%|          | 0/1227 [00:00<?, ?it/s]"
      ]
     },
     "metadata": {},
     "output_type": "display_data"
    },
    {
     "data": {
      "application/vnd.jupyter.widget-view+json": {
       "model_id": "ff29e4e8266a444f94a041198dc80e82",
       "version_major": 2,
       "version_minor": 0
      },
      "text/plain": [
       "Validation:   0%|          | 0/154 [00:00<?, ?it/s]"
      ]
     },
     "metadata": {},
     "output_type": "display_data"
    },
    {
     "name": "stdout",
     "output_type": "stream",
     "text": [
      "New best epoch for fold 3: epoch 7, AUC: 0.7717\n",
      "\n",
      "--- Epoch 7 Summary ---\n",
      "Train Loss: 0.0261, Train AUC: 0.5992\n",
      "Val Loss: 0.0245, Val AUC: 0.7717\n",
      "LR: 0.000488, Epoch Time: 3.29m\n",
      "Valid Classes: 206\n",
      "New best AUC: 0.7717 at epoch 7\n",
      "\n",
      "==================================================\n",
      "Epoch 8/20 | Fold 3\n",
      "==================================================\n"
     ]
    },
    {
     "data": {
      "application/vnd.jupyter.widget-view+json": {
       "model_id": "81bdba7c205f4c69be19e44a5ab07c89",
       "version_major": 2,
       "version_minor": 0
      },
      "text/plain": [
       "Training:   0%|          | 0/1227 [00:00<?, ?it/s]"
      ]
     },
     "metadata": {},
     "output_type": "display_data"
    },
    {
     "data": {
      "application/vnd.jupyter.widget-view+json": {
       "model_id": "a4a3af60dfca46dd806047f248b0d448",
       "version_major": 2,
       "version_minor": 0
      },
      "text/plain": [
       "Validation:   0%|          | 0/154 [00:00<?, ?it/s]"
      ]
     },
     "metadata": {},
     "output_type": "display_data"
    },
    {
     "name": "stdout",
     "output_type": "stream",
     "text": [
      "New best epoch for fold 3: epoch 8, AUC: 0.7839\n",
      "\n",
      "--- Epoch 8 Summary ---\n",
      "Train Loss: 0.0258, Train AUC: 0.6046\n",
      "Val Loss: 0.0240, Val AUC: 0.7839\n",
      "LR: 0.000473, Epoch Time: 3.29m\n",
      "Valid Classes: 206\n",
      "New best AUC: 0.7839 at epoch 8\n",
      "\n",
      "==================================================\n",
      "Epoch 9/20 | Fold 3\n",
      "==================================================\n"
     ]
    },
    {
     "data": {
      "application/vnd.jupyter.widget-view+json": {
       "model_id": "3795b7c061ba4844922b3b136c58471d",
       "version_major": 2,
       "version_minor": 0
      },
      "text/plain": [
       "Training:   0%|          | 0/1227 [00:00<?, ?it/s]"
      ]
     },
     "metadata": {},
     "output_type": "display_data"
    },
    {
     "data": {
      "application/vnd.jupyter.widget-view+json": {
       "model_id": "ebfcec606d1c4623af4f589c0198dd1d",
       "version_major": 2,
       "version_minor": 0
      },
      "text/plain": [
       "Validation:   0%|          | 0/154 [00:00<?, ?it/s]"
      ]
     },
     "metadata": {},
     "output_type": "display_data"
    },
    {
     "name": "stdout",
     "output_type": "stream",
     "text": [
      "New best epoch for fold 3: epoch 9, AUC: 0.7921\n",
      "\n",
      "--- Epoch 9 Summary ---\n",
      "Train Loss: 0.0256, Train AUC: 0.6647\n",
      "Val Loss: 0.0238, Val AUC: 0.7921\n",
      "LR: 0.000452, Epoch Time: 3.29m\n",
      "Valid Classes: 206\n",
      "New best AUC: 0.7921 at epoch 9\n",
      "\n",
      "==================================================\n",
      "Epoch 10/20 | Fold 3\n",
      "==================================================\n"
     ]
    },
    {
     "data": {
      "application/vnd.jupyter.widget-view+json": {
       "model_id": "fc79a3dbb6664fd3b0b0895d01f473be",
       "version_major": 2,
       "version_minor": 0
      },
      "text/plain": [
       "Training:   0%|          | 0/1227 [00:00<?, ?it/s]"
      ]
     },
     "metadata": {},
     "output_type": "display_data"
    },
    {
     "data": {
      "application/vnd.jupyter.widget-view+json": {
       "model_id": "927f526d42fc444caf53e001248ad761",
       "version_major": 2,
       "version_minor": 0
      },
      "text/plain": [
       "Validation:   0%|          | 0/154 [00:00<?, ?it/s]"
      ]
     },
     "metadata": {},
     "output_type": "display_data"
    },
    {
     "name": "stdout",
     "output_type": "stream",
     "text": [
      "Warning: NaN values detected in predictions. Replacing with zeros.\n",
      "New best epoch for fold 3: epoch 10, AUC: 0.7930\n",
      "\n",
      "--- Epoch 10 Summary ---\n",
      "Train Loss: 0.0254, Train AUC: 0.6512\n",
      "Val Loss: nan, Val AUC: 0.7930\n",
      "LR: 0.000427, Epoch Time: 3.29m\n",
      "Valid Classes: 206\n",
      "New best AUC: 0.7930 at epoch 10\n",
      "\n",
      "==================================================\n",
      "Epoch 11/20 | Fold 3\n",
      "==================================================\n"
     ]
    },
    {
     "data": {
      "application/vnd.jupyter.widget-view+json": {
       "model_id": "6645fd9943d541a2b90220dbad03cb02",
       "version_major": 2,
       "version_minor": 0
      },
      "text/plain": [
       "Training:   0%|          | 0/1227 [00:00<?, ?it/s]"
      ]
     },
     "metadata": {},
     "output_type": "display_data"
    },
    {
     "data": {
      "application/vnd.jupyter.widget-view+json": {
       "model_id": "ca5f3156a2764d969e0c0d9c93b16429",
       "version_major": 2,
       "version_minor": 0
      },
      "text/plain": [
       "Validation:   0%|          | 0/154 [00:00<?, ?it/s]"
      ]
     },
     "metadata": {},
     "output_type": "display_data"
    },
    {
     "name": "stdout",
     "output_type": "stream",
     "text": [
      "New best epoch for fold 3: epoch 11, AUC: 0.8070\n",
      "\n",
      "--- Epoch 11 Summary ---\n",
      "Train Loss: 0.0252, Train AUC: 0.6224\n",
      "Val Loss: 0.0232, Val AUC: 0.8070\n",
      "LR: 0.000397, Epoch Time: 3.29m\n",
      "Valid Classes: 206\n",
      "New best AUC: 0.8070 at epoch 11\n",
      "\n",
      "==================================================\n",
      "Epoch 12/20 | Fold 3\n",
      "==================================================\n"
     ]
    },
    {
     "data": {
      "application/vnd.jupyter.widget-view+json": {
       "model_id": "7967427d0c894bf286cb826a5ea049a1",
       "version_major": 2,
       "version_minor": 0
      },
      "text/plain": [
       "Training:   0%|          | 0/1227 [00:00<?, ?it/s]"
      ]
     },
     "metadata": {},
     "output_type": "display_data"
    },
    {
     "data": {
      "application/vnd.jupyter.widget-view+json": {
       "model_id": "7d056fb44f484642a109f5fa9fb04a6c",
       "version_major": 2,
       "version_minor": 0
      },
      "text/plain": [
       "Validation:   0%|          | 0/154 [00:00<?, ?it/s]"
      ]
     },
     "metadata": {},
     "output_type": "display_data"
    },
    {
     "name": "stdout",
     "output_type": "stream",
     "text": [
      "\n",
      "--- Epoch 12 Summary ---\n",
      "Train Loss: 0.0250, Train AUC: 0.6836\n",
      "Val Loss: 0.0231, Val AUC: 0.8063\n",
      "LR: 0.000364, Epoch Time: 3.29m\n",
      "Valid Classes: 206\n",
      "\n",
      "==================================================\n",
      "Epoch 13/20 | Fold 3\n",
      "==================================================\n"
     ]
    },
    {
     "data": {
      "application/vnd.jupyter.widget-view+json": {
       "model_id": "6d877ea4d57b45ef906b2d6cf7a027b1",
       "version_major": 2,
       "version_minor": 0
      },
      "text/plain": [
       "Training:   0%|          | 0/1227 [00:00<?, ?it/s]"
      ]
     },
     "metadata": {},
     "output_type": "display_data"
    },
    {
     "data": {
      "application/vnd.jupyter.widget-view+json": {
       "model_id": "31edaf01c4494e9781e69f3e01ae57d1",
       "version_major": 2,
       "version_minor": 0
      },
      "text/plain": [
       "Validation:   0%|          | 0/154 [00:00<?, ?it/s]"
      ]
     },
     "metadata": {},
     "output_type": "display_data"
    },
    {
     "name": "stdout",
     "output_type": "stream",
     "text": [
      "New best epoch for fold 3: epoch 13, AUC: 0.8144\n",
      "\n",
      "--- Epoch 13 Summary ---\n",
      "Train Loss: 0.0248, Train AUC: 0.6557\n",
      "Val Loss: 0.0230, Val AUC: 0.8144\n",
      "LR: 0.000328, Epoch Time: 3.29m\n",
      "Valid Classes: 206\n",
      "New best AUC: 0.8144 at epoch 13\n",
      "\n",
      "==================================================\n",
      "Epoch 14/20 | Fold 3\n",
      "==================================================\n"
     ]
    },
    {
     "data": {
      "application/vnd.jupyter.widget-view+json": {
       "model_id": "cc1e08f572644362af835f56dfea38c8",
       "version_major": 2,
       "version_minor": 0
      },
      "text/plain": [
       "Training:   0%|          | 0/1227 [00:00<?, ?it/s]"
      ]
     },
     "metadata": {},
     "output_type": "display_data"
    },
    {
     "data": {
      "application/vnd.jupyter.widget-view+json": {
       "model_id": "249551f1b17a44c0b5d5018b06823f0d",
       "version_major": 2,
       "version_minor": 0
      },
      "text/plain": [
       "Validation:   0%|          | 0/154 [00:00<?, ?it/s]"
      ]
     },
     "metadata": {},
     "output_type": "display_data"
    },
    {
     "name": "stdout",
     "output_type": "stream",
     "text": [
      "New best epoch for fold 3: epoch 14, AUC: 0.8211\n",
      "\n",
      "--- Epoch 14 Summary ---\n",
      "Train Loss: 0.0247, Train AUC: 0.6591\n",
      "Val Loss: 0.0226, Val AUC: 0.8211\n",
      "LR: 0.000290, Epoch Time: 3.29m\n",
      "Valid Classes: 206\n",
      "New best AUC: 0.8211 at epoch 14\n",
      "\n",
      "==================================================\n",
      "Epoch 15/20 | Fold 3\n",
      "==================================================\n"
     ]
    },
    {
     "data": {
      "application/vnd.jupyter.widget-view+json": {
       "model_id": "3acb609c533d4629bc8a13721f0dc033",
       "version_major": 2,
       "version_minor": 0
      },
      "text/plain": [
       "Training:   0%|          | 0/1227 [00:00<?, ?it/s]"
      ]
     },
     "metadata": {},
     "output_type": "display_data"
    },
    {
     "data": {
      "application/vnd.jupyter.widget-view+json": {
       "model_id": "b16ddeb297524a8aa7680420b13456b9",
       "version_major": 2,
       "version_minor": 0
      },
      "text/plain": [
       "Validation:   0%|          | 0/154 [00:00<?, ?it/s]"
      ]
     },
     "metadata": {},
     "output_type": "display_data"
    },
    {
     "name": "stdout",
     "output_type": "stream",
     "text": [
      "New best epoch for fold 3: epoch 15, AUC: 0.8258\n",
      "\n",
      "--- Epoch 15 Summary ---\n",
      "Train Loss: 0.0246, Train AUC: 0.6808\n",
      "Val Loss: 0.0224, Val AUC: 0.8258\n",
      "LR: 0.000251, Epoch Time: 3.29m\n",
      "Valid Classes: 206\n",
      "New best AUC: 0.8258 at epoch 15\n",
      "\n",
      "==================================================\n",
      "Epoch 16/20 | Fold 3\n",
      "==================================================\n"
     ]
    },
    {
     "data": {
      "application/vnd.jupyter.widget-view+json": {
       "model_id": "d4afa4d5fafc4a42b8659f5bd81fd904",
       "version_major": 2,
       "version_minor": 0
      },
      "text/plain": [
       "Training:   0%|          | 0/1227 [00:00<?, ?it/s]"
      ]
     },
     "metadata": {},
     "output_type": "display_data"
    },
    {
     "data": {
      "application/vnd.jupyter.widget-view+json": {
       "model_id": "39c1bc89012a4379ba4742f9aa029026",
       "version_major": 2,
       "version_minor": 0
      },
      "text/plain": [
       "Validation:   0%|          | 0/154 [00:00<?, ?it/s]"
      ]
     },
     "metadata": {},
     "output_type": "display_data"
    },
    {
     "name": "stdout",
     "output_type": "stream",
     "text": [
      "\n",
      "--- Epoch 16 Summary ---\n",
      "Train Loss: 0.0244, Train AUC: 0.6767\n",
      "Val Loss: 0.0223, Val AUC: 0.8248\n",
      "LR: 0.000211, Epoch Time: 3.30m\n",
      "Valid Classes: 206\n",
      "\n",
      "==================================================\n",
      "Epoch 17/20 | Fold 3\n",
      "==================================================\n"
     ]
    },
    {
     "data": {
      "application/vnd.jupyter.widget-view+json": {
       "model_id": "823ee2a63ead40b5a49341c562af9d71",
       "version_major": 2,
       "version_minor": 0
      },
      "text/plain": [
       "Training:   0%|          | 0/1227 [00:00<?, ?it/s]"
      ]
     },
     "metadata": {},
     "output_type": "display_data"
    },
    {
     "data": {
      "application/vnd.jupyter.widget-view+json": {
       "model_id": "8865be8a859c48c38cb10a5d1de782a9",
       "version_major": 2,
       "version_minor": 0
      },
      "text/plain": [
       "Validation:   0%|          | 0/154 [00:00<?, ?it/s]"
      ]
     },
     "metadata": {},
     "output_type": "display_data"
    },
    {
     "name": "stdout",
     "output_type": "stream",
     "text": [
      "New best epoch for fold 3: epoch 17, AUC: 0.8270\n",
      "\n",
      "--- Epoch 17 Summary ---\n",
      "Train Loss: 0.0242, Train AUC: 0.7192\n",
      "Val Loss: 0.0222, Val AUC: 0.8270\n",
      "LR: 0.000173, Epoch Time: 3.29m\n",
      "Valid Classes: 206\n",
      "New best AUC: 0.8270 at epoch 17\n",
      "\n",
      "==================================================\n",
      "Epoch 18/20 | Fold 3\n",
      "==================================================\n"
     ]
    },
    {
     "data": {
      "application/vnd.jupyter.widget-view+json": {
       "model_id": "4810a87c464d4e3b935c4b9a48e5d877",
       "version_major": 2,
       "version_minor": 0
      },
      "text/plain": [
       "Training:   0%|          | 0/1227 [00:00<?, ?it/s]"
      ]
     },
     "metadata": {},
     "output_type": "display_data"
    },
    {
     "data": {
      "application/vnd.jupyter.widget-view+json": {
       "model_id": "a75368b670c74ce9a15c521985044230",
       "version_major": 2,
       "version_minor": 0
      },
      "text/plain": [
       "Validation:   0%|          | 0/154 [00:00<?, ?it/s]"
      ]
     },
     "metadata": {},
     "output_type": "display_data"
    },
    {
     "name": "stdout",
     "output_type": "stream",
     "text": [
      "New best epoch for fold 3: epoch 18, AUC: 0.8301\n",
      "\n",
      "--- Epoch 18 Summary ---\n",
      "Train Loss: 0.0240, Train AUC: 0.7235\n",
      "Val Loss: 0.0219, Val AUC: 0.8301\n",
      "LR: 0.000137, Epoch Time: 3.29m\n",
      "Valid Classes: 206\n",
      "New best AUC: 0.8301 at epoch 18\n",
      "\n",
      "==================================================\n",
      "Epoch 19/20 | Fold 3\n",
      "==================================================\n"
     ]
    },
    {
     "data": {
      "application/vnd.jupyter.widget-view+json": {
       "model_id": "bc6597f3a6c04080823444e0ee4f6810",
       "version_major": 2,
       "version_minor": 0
      },
      "text/plain": [
       "Training:   0%|          | 0/1227 [00:00<?, ?it/s]"
      ]
     },
     "metadata": {},
     "output_type": "display_data"
    },
    {
     "data": {
      "application/vnd.jupyter.widget-view+json": {
       "model_id": "a28cb4b7289342d6b270d046dc72549a",
       "version_major": 2,
       "version_minor": 0
      },
      "text/plain": [
       "Validation:   0%|          | 0/154 [00:00<?, ?it/s]"
      ]
     },
     "metadata": {},
     "output_type": "display_data"
    },
    {
     "name": "stdout",
     "output_type": "stream",
     "text": [
      "New best epoch for fold 3: epoch 19, AUC: 0.8330\n",
      "\n",
      "--- Epoch 19 Summary ---\n",
      "Train Loss: 0.0239, Train AUC: 0.7048\n",
      "Val Loss: 0.0219, Val AUC: 0.8330\n",
      "LR: 0.000104, Epoch Time: 3.29m\n",
      "Valid Classes: 206\n",
      "New best AUC: 0.8330 at epoch 19\n",
      "\n",
      "==================================================\n",
      "Epoch 20/20 | Fold 3\n",
      "==================================================\n"
     ]
    },
    {
     "data": {
      "application/vnd.jupyter.widget-view+json": {
       "model_id": "21e654ba77ae408fad8fb58627e20f32",
       "version_major": 2,
       "version_minor": 0
      },
      "text/plain": [
       "Training:   0%|          | 0/1227 [00:00<?, ?it/s]"
      ]
     },
     "metadata": {},
     "output_type": "display_data"
    },
    {
     "data": {
      "application/vnd.jupyter.widget-view+json": {
       "model_id": "e5598254ccf044f6b5a5cf04d06f992c",
       "version_major": 2,
       "version_minor": 0
      },
      "text/plain": [
       "Validation:   0%|          | 0/154 [00:00<?, ?it/s]"
      ]
     },
     "metadata": {},
     "output_type": "display_data"
    },
    {
     "name": "stdout",
     "output_type": "stream",
     "text": [
      "New best epoch for fold 3: epoch 20, AUC: 0.8334\n",
      "\n",
      "--- Epoch 20 Summary ---\n",
      "Train Loss: 0.0238, Train AUC: 0.6778\n",
      "Val Loss: 0.0218, Val AUC: 0.8334\n",
      "LR: 0.000074, Epoch Time: 3.29m\n",
      "Valid Classes: 206\n",
      "New best AUC: 0.8334 at epoch 20\n",
      "\n",
      "*** FOLD 3 COMPLETE ***\n",
      "Best AUC: 0.8334 at epoch 20\n",
      "Fold training time: 71.0 minutes\n",
      "\n",
      "============================== Fold 4 ==============================\n",
      "Training set: 39268 samples\n",
      "Validation set: 9816 samples\n",
      "\n",
      "-------------------- Training Model --------------------\n",
      "Model compiled successfully with backend 'inductor', mode 'default'\n",
      "\n",
      "==================================================\n",
      "Epoch 1/20 | Fold 4\n",
      "==================================================\n"
     ]
    },
    {
     "data": {
      "application/vnd.jupyter.widget-view+json": {
       "model_id": "b682a0c1a4ae4c79b06f315c53a993db",
       "version_major": 2,
       "version_minor": 0
      },
      "text/plain": [
       "Training:   0%|          | 0/1227 [00:00<?, ?it/s]"
      ]
     },
     "metadata": {},
     "output_type": "display_data"
    },
    {
     "data": {
      "application/vnd.jupyter.widget-view+json": {
       "model_id": "1fcc684dd90b4772bc7c3128b1815314",
       "version_major": 2,
       "version_minor": 0
      },
      "text/plain": [
       "Validation:   0%|          | 0/154 [00:00<?, ?it/s]"
      ]
     },
     "metadata": {},
     "output_type": "display_data"
    },
    {
     "name": "stdout",
     "output_type": "stream",
     "text": [
      "Initial best epoch for fold 4: epoch 1, AUC: 0.5203\n",
      "\n",
      "--- Epoch 1 Summary ---\n",
      "Train Loss: 0.0353, Train AUC: 0.4886\n",
      "Val Loss: 0.0285, Val AUC: 0.5203\n",
      "LR: 0.000500, Epoch Time: 3.30m\n",
      "Valid Classes: 206\n",
      "New best AUC: 0.5203 at epoch 1\n",
      "\n",
      "==================================================\n",
      "Epoch 2/20 | Fold 4\n",
      "==================================================\n"
     ]
    },
    {
     "data": {
      "application/vnd.jupyter.widget-view+json": {
       "model_id": "34785d8ad33c4618ade927de20d51487",
       "version_major": 2,
       "version_minor": 0
      },
      "text/plain": [
       "Training:   0%|          | 0/1227 [00:00<?, ?it/s]"
      ]
     },
     "metadata": {},
     "output_type": "display_data"
    },
    {
     "data": {
      "application/vnd.jupyter.widget-view+json": {
       "model_id": "5ff7c4625a6f40729fe0547c38d18a8d",
       "version_major": 2,
       "version_minor": 0
      },
      "text/plain": [
       "Validation:   0%|          | 0/154 [00:00<?, ?it/s]"
      ]
     },
     "metadata": {},
     "output_type": "display_data"
    },
    {
     "name": "stdout",
     "output_type": "stream",
     "text": [
      "New best epoch for fold 4: epoch 2, AUC: 0.5286\n",
      "\n",
      "--- Epoch 2 Summary ---\n",
      "Train Loss: 0.0286, Train AUC: 0.5104\n",
      "Val Loss: 0.0285, Val AUC: 0.5286\n",
      "LR: 0.000500, Epoch Time: 3.29m\n",
      "Valid Classes: 206\n",
      "New best AUC: 0.5286 at epoch 2\n",
      "\n",
      "==================================================\n",
      "Epoch 3/20 | Fold 4\n",
      "==================================================\n"
     ]
    },
    {
     "data": {
      "application/vnd.jupyter.widget-view+json": {
       "model_id": "cad70115fd714c37be82d665148e383c",
       "version_major": 2,
       "version_minor": 0
      },
      "text/plain": [
       "Training:   0%|          | 0/1227 [00:00<?, ?it/s]"
      ]
     },
     "metadata": {},
     "output_type": "display_data"
    },
    {
     "data": {
      "application/vnd.jupyter.widget-view+json": {
       "model_id": "b7d4235f8b60407c823b02dcacd2acd1",
       "version_major": 2,
       "version_minor": 0
      },
      "text/plain": [
       "Validation:   0%|          | 0/154 [00:00<?, ?it/s]"
      ]
     },
     "metadata": {},
     "output_type": "display_data"
    },
    {
     "name": "stdout",
     "output_type": "stream",
     "text": [
      "New best epoch for fold 4: epoch 3, AUC: 0.6079\n",
      "\n",
      "--- Epoch 3 Summary ---\n",
      "Train Loss: 0.0282, Train AUC: 0.5193\n",
      "Val Loss: 0.0274, Val AUC: 0.6079\n",
      "LR: 0.000500, Epoch Time: 3.29m\n",
      "Valid Classes: 206\n",
      "New best AUC: 0.6079 at epoch 3\n",
      "\n",
      "==================================================\n",
      "Epoch 4/20 | Fold 4\n",
      "==================================================\n"
     ]
    },
    {
     "data": {
      "application/vnd.jupyter.widget-view+json": {
       "model_id": "576a5042f66d4bdfa87b31af2f968903",
       "version_major": 2,
       "version_minor": 0
      },
      "text/plain": [
       "Training:   0%|          | 0/1227 [00:00<?, ?it/s]"
      ]
     },
     "metadata": {},
     "output_type": "display_data"
    },
    {
     "data": {
      "application/vnd.jupyter.widget-view+json": {
       "model_id": "db56e80bac7f425c97f49b2fca7a3146",
       "version_major": 2,
       "version_minor": 0
      },
      "text/plain": [
       "Validation:   0%|          | 0/154 [00:00<?, ?it/s]"
      ]
     },
     "metadata": {},
     "output_type": "display_data"
    },
    {
     "name": "stdout",
     "output_type": "stream",
     "text": [
      "New best epoch for fold 4: epoch 4, AUC: 0.6474\n",
      "\n",
      "--- Epoch 4 Summary ---\n",
      "Train Loss: 0.0279, Train AUC: 0.5743\n",
      "Val Loss: 0.0271, Val AUC: 0.6474\n",
      "LR: 0.000500, Epoch Time: 3.29m\n",
      "Valid Classes: 206\n",
      "New best AUC: 0.6474 at epoch 4\n",
      "\n",
      "==================================================\n",
      "Epoch 5/20 | Fold 4\n",
      "==================================================\n"
     ]
    },
    {
     "data": {
      "application/vnd.jupyter.widget-view+json": {
       "model_id": "5227b06a39a54afb88fa96044f6a6263",
       "version_major": 2,
       "version_minor": 0
      },
      "text/plain": [
       "Training:   0%|          | 0/1227 [00:00<?, ?it/s]"
      ]
     },
     "metadata": {},
     "output_type": "display_data"
    },
    {
     "data": {
      "application/vnd.jupyter.widget-view+json": {
       "model_id": "5c024431961a44d4a9c3f877b2d9267b",
       "version_major": 2,
       "version_minor": 0
      },
      "text/plain": [
       "Validation:   0%|          | 0/154 [00:00<?, ?it/s]"
      ]
     },
     "metadata": {},
     "output_type": "display_data"
    },
    {
     "name": "stdout",
     "output_type": "stream",
     "text": [
      "New best epoch for fold 4: epoch 5, AUC: 0.6714\n",
      "\n",
      "--- Epoch 5 Summary ---\n",
      "Train Loss: 0.0276, Train AUC: 0.5559\n",
      "Val Loss: 0.0268, Val AUC: 0.6714\n",
      "LR: 0.000500, Epoch Time: 3.29m\n",
      "Valid Classes: 206\n",
      "New best AUC: 0.6714 at epoch 5\n",
      "\n",
      "==================================================\n",
      "Epoch 6/20 | Fold 4\n",
      "==================================================\n"
     ]
    },
    {
     "data": {
      "application/vnd.jupyter.widget-view+json": {
       "model_id": "34aa52007cc14b749f3795e3d3e9e41c",
       "version_major": 2,
       "version_minor": 0
      },
      "text/plain": [
       "Training:   0%|          | 0/1227 [00:00<?, ?it/s]"
      ]
     },
     "metadata": {},
     "output_type": "display_data"
    },
    {
     "data": {
      "application/vnd.jupyter.widget-view+json": {
       "model_id": "c7a9025989d74ceaa2529a22004fd4c3",
       "version_major": 2,
       "version_minor": 0
      },
      "text/plain": [
       "Validation:   0%|          | 0/154 [00:00<?, ?it/s]"
      ]
     },
     "metadata": {},
     "output_type": "display_data"
    },
    {
     "name": "stdout",
     "output_type": "stream",
     "text": [
      "New best epoch for fold 4: epoch 6, AUC: 0.7085\n",
      "\n",
      "--- Epoch 6 Summary ---\n",
      "Train Loss: 0.0272, Train AUC: 0.6003\n",
      "Val Loss: 0.0260, Val AUC: 0.7085\n",
      "LR: 0.000497, Epoch Time: 3.31m\n",
      "Valid Classes: 206\n",
      "New best AUC: 0.7085 at epoch 6\n",
      "\n",
      "==================================================\n",
      "Epoch 7/20 | Fold 4\n",
      "==================================================\n"
     ]
    },
    {
     "data": {
      "application/vnd.jupyter.widget-view+json": {
       "model_id": "baf9efc1fd4d4d359daf450921d46665",
       "version_major": 2,
       "version_minor": 0
      },
      "text/plain": [
       "Training:   0%|          | 0/1227 [00:00<?, ?it/s]"
      ]
     },
     "metadata": {},
     "output_type": "display_data"
    },
    {
     "data": {
      "application/vnd.jupyter.widget-view+json": {
       "model_id": "425878cf07994b9b9790f6a4dfa17d99",
       "version_major": 2,
       "version_minor": 0
      },
      "text/plain": [
       "Validation:   0%|          | 0/154 [00:00<?, ?it/s]"
      ]
     },
     "metadata": {},
     "output_type": "display_data"
    },
    {
     "name": "stdout",
     "output_type": "stream",
     "text": [
      "New best epoch for fold 4: epoch 7, AUC: 0.7289\n",
      "\n",
      "--- Epoch 7 Summary ---\n",
      "Train Loss: 0.0269, Train AUC: 0.6270\n",
      "Val Loss: 0.0257, Val AUC: 0.7289\n",
      "LR: 0.000488, Epoch Time: 3.29m\n",
      "Valid Classes: 206\n",
      "New best AUC: 0.7289 at epoch 7\n",
      "\n",
      "==================================================\n",
      "Epoch 8/20 | Fold 4\n",
      "==================================================\n"
     ]
    },
    {
     "data": {
      "application/vnd.jupyter.widget-view+json": {
       "model_id": "afda5e67f4a4467885f35a21b2207955",
       "version_major": 2,
       "version_minor": 0
      },
      "text/plain": [
       "Training:   0%|          | 0/1227 [00:00<?, ?it/s]"
      ]
     },
     "metadata": {},
     "output_type": "display_data"
    },
    {
     "data": {
      "application/vnd.jupyter.widget-view+json": {
       "model_id": "3fef3a3fdcf141de9e3f1415a24cf16b",
       "version_major": 2,
       "version_minor": 0
      },
      "text/plain": [
       "Validation:   0%|          | 0/154 [00:00<?, ?it/s]"
      ]
     },
     "metadata": {},
     "output_type": "display_data"
    },
    {
     "name": "stdout",
     "output_type": "stream",
     "text": [
      "New best epoch for fold 4: epoch 8, AUC: 0.7424\n",
      "\n",
      "--- Epoch 8 Summary ---\n",
      "Train Loss: 0.0266, Train AUC: 0.6069\n",
      "Val Loss: 0.0255, Val AUC: 0.7424\n",
      "LR: 0.000473, Epoch Time: 3.29m\n",
      "Valid Classes: 206\n",
      "New best AUC: 0.7424 at epoch 8\n",
      "\n",
      "==================================================\n",
      "Epoch 9/20 | Fold 4\n",
      "==================================================\n"
     ]
    },
    {
     "data": {
      "application/vnd.jupyter.widget-view+json": {
       "model_id": "fc3d2e8a733349bc9df61789a63bac40",
       "version_major": 2,
       "version_minor": 0
      },
      "text/plain": [
       "Training:   0%|          | 0/1227 [00:00<?, ?it/s]"
      ]
     },
     "metadata": {},
     "output_type": "display_data"
    },
    {
     "data": {
      "application/vnd.jupyter.widget-view+json": {
       "model_id": "be06032d7cc54ce1ad1a9698f38b5015",
       "version_major": 2,
       "version_minor": 0
      },
      "text/plain": [
       "Validation:   0%|          | 0/154 [00:00<?, ?it/s]"
      ]
     },
     "metadata": {},
     "output_type": "display_data"
    },
    {
     "name": "stdout",
     "output_type": "stream",
     "text": [
      "New best epoch for fold 4: epoch 9, AUC: 0.7518\n",
      "\n",
      "--- Epoch 9 Summary ---\n",
      "Train Loss: 0.0264, Train AUC: 0.6612\n",
      "Val Loss: 0.0253, Val AUC: 0.7518\n",
      "LR: 0.000452, Epoch Time: 3.29m\n",
      "Valid Classes: 206\n",
      "New best AUC: 0.7518 at epoch 9\n",
      "\n",
      "==================================================\n",
      "Epoch 10/20 | Fold 4\n",
      "==================================================\n"
     ]
    },
    {
     "data": {
      "application/vnd.jupyter.widget-view+json": {
       "model_id": "7302a160739a410d83d175b75552e63e",
       "version_major": 2,
       "version_minor": 0
      },
      "text/plain": [
       "Training:   0%|          | 0/1227 [00:00<?, ?it/s]"
      ]
     },
     "metadata": {},
     "output_type": "display_data"
    },
    {
     "data": {
      "application/vnd.jupyter.widget-view+json": {
       "model_id": "5c29759c72ee4c3da89899c91e625b42",
       "version_major": 2,
       "version_minor": 0
      },
      "text/plain": [
       "Validation:   0%|          | 0/154 [00:00<?, ?it/s]"
      ]
     },
     "metadata": {},
     "output_type": "display_data"
    },
    {
     "name": "stdout",
     "output_type": "stream",
     "text": [
      "\n",
      "--- Epoch 10 Summary ---\n",
      "Train Loss: 0.0262, Train AUC: 0.6723\n",
      "Val Loss: 0.0251, Val AUC: 0.7501\n",
      "LR: 0.000427, Epoch Time: 3.29m\n",
      "Valid Classes: 206\n",
      "\n",
      "==================================================\n",
      "Epoch 11/20 | Fold 4\n",
      "==================================================\n"
     ]
    },
    {
     "data": {
      "application/vnd.jupyter.widget-view+json": {
       "model_id": "e2032df10c0b4133bfdb1cc2ceb70dd1",
       "version_major": 2,
       "version_minor": 0
      },
      "text/plain": [
       "Training:   0%|          | 0/1227 [00:00<?, ?it/s]"
      ]
     },
     "metadata": {},
     "output_type": "display_data"
    },
    {
     "data": {
      "application/vnd.jupyter.widget-view+json": {
       "model_id": "e5b1d05638a2450f96b2a8c2491a456c",
       "version_major": 2,
       "version_minor": 0
      },
      "text/plain": [
       "Validation:   0%|          | 0/154 [00:00<?, ?it/s]"
      ]
     },
     "metadata": {},
     "output_type": "display_data"
    },
    {
     "name": "stdout",
     "output_type": "stream",
     "text": [
      "New best epoch for fold 4: epoch 11, AUC: 0.7594\n",
      "\n",
      "--- Epoch 11 Summary ---\n",
      "Train Loss: 0.0261, Train AUC: 0.6689\n",
      "Val Loss: 0.0249, Val AUC: 0.7594\n",
      "LR: 0.000397, Epoch Time: 3.29m\n",
      "Valid Classes: 206\n",
      "New best AUC: 0.7594 at epoch 11\n",
      "\n",
      "==================================================\n",
      "Epoch 12/20 | Fold 4\n",
      "==================================================\n"
     ]
    },
    {
     "data": {
      "application/vnd.jupyter.widget-view+json": {
       "model_id": "5b34825aa6d046d8954e9fffd7ad0c8d",
       "version_major": 2,
       "version_minor": 0
      },
      "text/plain": [
       "Training:   0%|          | 0/1227 [00:00<?, ?it/s]"
      ]
     },
     "metadata": {},
     "output_type": "display_data"
    },
    {
     "data": {
      "application/vnd.jupyter.widget-view+json": {
       "model_id": "7ca154aa54a440b793b0dfa5344f621c",
       "version_major": 2,
       "version_minor": 0
      },
      "text/plain": [
       "Validation:   0%|          | 0/154 [00:00<?, ?it/s]"
      ]
     },
     "metadata": {},
     "output_type": "display_data"
    },
    {
     "name": "stdout",
     "output_type": "stream",
     "text": [
      "New best epoch for fold 4: epoch 12, AUC: 0.7682\n",
      "\n",
      "--- Epoch 12 Summary ---\n",
      "Train Loss: 0.0260, Train AUC: 0.6412\n",
      "Val Loss: 0.0247, Val AUC: 0.7682\n",
      "LR: 0.000364, Epoch Time: 3.29m\n",
      "Valid Classes: 206\n",
      "New best AUC: 0.7682 at epoch 12\n",
      "\n",
      "==================================================\n",
      "Epoch 13/20 | Fold 4\n",
      "==================================================\n"
     ]
    },
    {
     "data": {
      "application/vnd.jupyter.widget-view+json": {
       "model_id": "fc97e77f8d5f45da8978340fddf2165a",
       "version_major": 2,
       "version_minor": 0
      },
      "text/plain": [
       "Training:   0%|          | 0/1227 [00:00<?, ?it/s]"
      ]
     },
     "metadata": {},
     "output_type": "display_data"
    },
    {
     "data": {
      "application/vnd.jupyter.widget-view+json": {
       "model_id": "51e9e9068309443bb513ffb4272ef4c7",
       "version_major": 2,
       "version_minor": 0
      },
      "text/plain": [
       "Validation:   0%|          | 0/154 [00:00<?, ?it/s]"
      ]
     },
     "metadata": {},
     "output_type": "display_data"
    },
    {
     "name": "stdout",
     "output_type": "stream",
     "text": [
      "New best epoch for fold 4: epoch 13, AUC: 0.7767\n",
      "\n",
      "--- Epoch 13 Summary ---\n",
      "Train Loss: 0.0258, Train AUC: 0.6765\n",
      "Val Loss: 0.0244, Val AUC: 0.7767\n",
      "LR: 0.000328, Epoch Time: 3.29m\n",
      "Valid Classes: 206\n",
      "New best AUC: 0.7767 at epoch 13\n",
      "\n",
      "==================================================\n",
      "Epoch 14/20 | Fold 4\n",
      "==================================================\n"
     ]
    },
    {
     "data": {
      "application/vnd.jupyter.widget-view+json": {
       "model_id": "f310ac007ddc4430ac37b924b5512acc",
       "version_major": 2,
       "version_minor": 0
      },
      "text/plain": [
       "Training:   0%|          | 0/1227 [00:00<?, ?it/s]"
      ]
     },
     "metadata": {},
     "output_type": "display_data"
    },
    {
     "data": {
      "application/vnd.jupyter.widget-view+json": {
       "model_id": "141d9a59c30944568bf429e79846bd1e",
       "version_major": 2,
       "version_minor": 0
      },
      "text/plain": [
       "Validation:   0%|          | 0/154 [00:00<?, ?it/s]"
      ]
     },
     "metadata": {},
     "output_type": "display_data"
    },
    {
     "name": "stdout",
     "output_type": "stream",
     "text": [
      "\n",
      "--- Epoch 14 Summary ---\n",
      "Train Loss: 0.0257, Train AUC: 0.6326\n",
      "Val Loss: 0.0244, Val AUC: 0.7750\n",
      "LR: 0.000290, Epoch Time: 3.29m\n",
      "Valid Classes: 206\n",
      "\n",
      "==================================================\n",
      "Epoch 15/20 | Fold 4\n",
      "==================================================\n"
     ]
    },
    {
     "data": {
      "application/vnd.jupyter.widget-view+json": {
       "model_id": "f778d327885f4247853d37f142cc2e8c",
       "version_major": 2,
       "version_minor": 0
      },
      "text/plain": [
       "Training:   0%|          | 0/1227 [00:00<?, ?it/s]"
      ]
     },
     "metadata": {},
     "output_type": "display_data"
    },
    {
     "data": {
      "application/vnd.jupyter.widget-view+json": {
       "model_id": "b93384b2e22d4c3eb3d4b42b17b6d142",
       "version_major": 2,
       "version_minor": 0
      },
      "text/plain": [
       "Validation:   0%|          | 0/154 [00:00<?, ?it/s]"
      ]
     },
     "metadata": {},
     "output_type": "display_data"
    },
    {
     "name": "stdout",
     "output_type": "stream",
     "text": [
      "New best epoch for fold 4: epoch 15, AUC: 0.7826\n",
      "\n",
      "--- Epoch 15 Summary ---\n",
      "Train Loss: 0.0256, Train AUC: 0.6619\n",
      "Val Loss: 0.0243, Val AUC: 0.7826\n",
      "LR: 0.000251, Epoch Time: 3.29m\n",
      "Valid Classes: 206\n",
      "New best AUC: 0.7826 at epoch 15\n",
      "\n",
      "==================================================\n",
      "Epoch 16/20 | Fold 4\n",
      "==================================================\n"
     ]
    },
    {
     "data": {
      "application/vnd.jupyter.widget-view+json": {
       "model_id": "2b76c1135e92444295c2e2beccae71f1",
       "version_major": 2,
       "version_minor": 0
      },
      "text/plain": [
       "Training:   0%|          | 0/1227 [00:00<?, ?it/s]"
      ]
     },
     "metadata": {},
     "output_type": "display_data"
    },
    {
     "data": {
      "application/vnd.jupyter.widget-view+json": {
       "model_id": "090db0a9821f4fff8e2e24e681f87955",
       "version_major": 2,
       "version_minor": 0
      },
      "text/plain": [
       "Validation:   0%|          | 0/154 [00:00<?, ?it/s]"
      ]
     },
     "metadata": {},
     "output_type": "display_data"
    },
    {
     "name": "stdout",
     "output_type": "stream",
     "text": [
      "New best epoch for fold 4: epoch 16, AUC: 0.7833\n",
      "\n",
      "--- Epoch 16 Summary ---\n",
      "Train Loss: 0.0255, Train AUC: 0.6569\n",
      "Val Loss: 0.0240, Val AUC: 0.7833\n",
      "LR: 0.000211, Epoch Time: 3.29m\n",
      "Valid Classes: 206\n",
      "New best AUC: 0.7833 at epoch 16\n",
      "\n",
      "==================================================\n",
      "Epoch 17/20 | Fold 4\n",
      "==================================================\n"
     ]
    },
    {
     "data": {
      "application/vnd.jupyter.widget-view+json": {
       "model_id": "6535dcdcf77240e0a9ae759781397940",
       "version_major": 2,
       "version_minor": 0
      },
      "text/plain": [
       "Training:   0%|          | 0/1227 [00:00<?, ?it/s]"
      ]
     },
     "metadata": {},
     "output_type": "display_data"
    },
    {
     "data": {
      "application/vnd.jupyter.widget-view+json": {
       "model_id": "c4f5b83de1974be590e1a9cb43f3c1ae",
       "version_major": 2,
       "version_minor": 0
      },
      "text/plain": [
       "Validation:   0%|          | 0/154 [00:00<?, ?it/s]"
      ]
     },
     "metadata": {},
     "output_type": "display_data"
    },
    {
     "name": "stdout",
     "output_type": "stream",
     "text": [
      "New best epoch for fold 4: epoch 17, AUC: 0.7876\n",
      "\n",
      "--- Epoch 17 Summary ---\n",
      "Train Loss: 0.0254, Train AUC: 0.6731\n",
      "Val Loss: 0.0239, Val AUC: 0.7876\n",
      "LR: 0.000173, Epoch Time: 3.29m\n",
      "Valid Classes: 206\n",
      "New best AUC: 0.7876 at epoch 17\n",
      "\n",
      "==================================================\n",
      "Epoch 18/20 | Fold 4\n",
      "==================================================\n"
     ]
    },
    {
     "data": {
      "application/vnd.jupyter.widget-view+json": {
       "model_id": "935f5309da3a47a8812b78eb374926c5",
       "version_major": 2,
       "version_minor": 0
      },
      "text/plain": [
       "Training:   0%|          | 0/1227 [00:00<?, ?it/s]"
      ]
     },
     "metadata": {},
     "output_type": "display_data"
    },
    {
     "data": {
      "application/vnd.jupyter.widget-view+json": {
       "model_id": "19077a1192dd4ad4b3dff45316a1ac61",
       "version_major": 2,
       "version_minor": 0
      },
      "text/plain": [
       "Validation:   0%|          | 0/154 [00:00<?, ?it/s]"
      ]
     },
     "metadata": {},
     "output_type": "display_data"
    },
    {
     "name": "stdout",
     "output_type": "stream",
     "text": [
      "New best epoch for fold 4: epoch 18, AUC: 0.7899\n",
      "\n",
      "--- Epoch 18 Summary ---\n",
      "Train Loss: 0.0252, Train AUC: 0.6809\n",
      "Val Loss: 0.0239, Val AUC: 0.7899\n",
      "LR: 0.000137, Epoch Time: 3.29m\n",
      "Valid Classes: 206\n",
      "New best AUC: 0.7899 at epoch 18\n",
      "\n",
      "==================================================\n",
      "Epoch 19/20 | Fold 4\n",
      "==================================================\n"
     ]
    },
    {
     "data": {
      "application/vnd.jupyter.widget-view+json": {
       "model_id": "8243974f939e46abbef0d51947dfd754",
       "version_major": 2,
       "version_minor": 0
      },
      "text/plain": [
       "Training:   0%|          | 0/1227 [00:00<?, ?it/s]"
      ]
     },
     "metadata": {},
     "output_type": "display_data"
    },
    {
     "data": {
      "application/vnd.jupyter.widget-view+json": {
       "model_id": "cad5f00c65464b40a1d831c36221fe0e",
       "version_major": 2,
       "version_minor": 0
      },
      "text/plain": [
       "Validation:   0%|          | 0/154 [00:00<?, ?it/s]"
      ]
     },
     "metadata": {},
     "output_type": "display_data"
    },
    {
     "name": "stdout",
     "output_type": "stream",
     "text": [
      "\n",
      "--- Epoch 19 Summary ---\n",
      "Train Loss: 0.0252, Train AUC: 0.6080\n",
      "Val Loss: 0.0238, Val AUC: 0.7890\n",
      "LR: 0.000104, Epoch Time: 3.30m\n",
      "Valid Classes: 206\n",
      "\n",
      "==================================================\n",
      "Epoch 20/20 | Fold 4\n",
      "==================================================\n"
     ]
    },
    {
     "data": {
      "application/vnd.jupyter.widget-view+json": {
       "model_id": "fbe63e7053c54e5b8becd7444b617b81",
       "version_major": 2,
       "version_minor": 0
      },
      "text/plain": [
       "Training:   0%|          | 0/1227 [00:00<?, ?it/s]"
      ]
     },
     "metadata": {},
     "output_type": "display_data"
    },
    {
     "data": {
      "application/vnd.jupyter.widget-view+json": {
       "model_id": "3514495040ee43859df17f878591353b",
       "version_major": 2,
       "version_minor": 0
      },
      "text/plain": [
       "Validation:   0%|          | 0/154 [00:00<?, ?it/s]"
      ]
     },
     "metadata": {},
     "output_type": "display_data"
    },
    {
     "name": "stdout",
     "output_type": "stream",
     "text": [
      "\n",
      "--- Epoch 20 Summary ---\n",
      "Train Loss: 0.0251, Train AUC: 0.6877\n",
      "Val Loss: 0.0237, Val AUC: 0.7899\n",
      "LR: 0.000074, Epoch Time: 3.30m\n",
      "Valid Classes: 206\n",
      "\n",
      "*** FOLD 4 COMPLETE ***\n",
      "Best AUC: 0.7899 at epoch 18\n",
      "Fold training time: 71.0 minutes\n",
      "\n",
      "============================================================\n",
      "CROSS-VALIDATION RESULTS:\n",
      "============================================================\n",
      "Fold 0: 0.9290 (Best epoch: 15)\n",
      "Fold 1: 0.9047 (Best epoch: 20)\n",
      "Fold 2: 0.8773 (Best epoch: 18)\n",
      "Fold 3: 0.8334 (Best epoch: 20)\n",
      "Fold 4: 0.7899 (Best epoch: 18)\n",
      "\n",
      "Mean AUC: 0.8669 ± 0.0499\n",
      "Min AUC: 0.7899\n",
      "Max AUC: 0.9290\n",
      "============================================================\n",
      "Plotting ROC curves for folds: [0, 1, 2, 3, 4]\n",
      "Metrics saved to output/metrics//metrics_20250527_020112.csv\n",
      "\n",
      "Training complete!\n",
      "Config saved to output/configs/config_20250527_020112_efficientnet_b1.json\n",
      "\n",
      "Final Results Summary:\n",
      "Best scores per fold: ['0.9290', '0.9047', '0.8773', '0.8334', '0.7899']\n",
      "Cross-validation mean: 0.8669 ± 0.0499\n"
     ]
    }
   ],
   "source": [
    "if __name__ == \"__main__\":\n",
    "    print(\"\\nLoading training data...\")\n",
    "    train_df = pd.read_csv(cfg.train_csv)\n",
    "\n",
    "    soundscape_df = None\n",
    "    if cfg.use_external_pseudolabels:\n",
    "        print(f\"Will use external pseudolabels from: {cfg.external_pseudolabels}\")\n",
    "        soundscape_df = pd.read_csv(cfg.external_pseudolabels)\n",
    "\n",
    "    print(\"\\nStarting training...\")\n",
    "    print(f\"LOAD_DATA is set to {cfg.LOAD_DATA}\")\n",
    "\n",
    "    # Run training and get best scores\n",
    "    best_scores = run_training(train_df, cfg, soundscape_df=soundscape_df)\n",
    "    \n",
    "    print(\"\\nTraining complete!\")\n",
    "    cfg.save_config()\n",
    "    \n",
    "    # Additional analysis\n",
    "    print(f\"\\nFinal Results Summary:\")\n",
    "    print(f\"Best scores per fold: {[f'{score:.4f}' for score in best_scores]}\")\n",
    "    print(f\"Cross-validation mean: {np.mean(best_scores):.4f} ± {np.std(best_scores):.4f}\")"
   ]
  },
  {
   "cell_type": "code",
   "execution_count": 10,
   "id": "bf8d741a",
   "metadata": {},
   "outputs": [
    {
     "data": {
      "text/plain": [
       "['aimv2_1b_patch14_224.apple_pt',\n",
       " 'aimv2_1b_patch14_336.apple_pt',\n",
       " 'aimv2_1b_patch14_448.apple_pt',\n",
       " 'aimv2_3b_patch14_224.apple_pt',\n",
       " 'aimv2_3b_patch14_336.apple_pt',\n",
       " 'aimv2_3b_patch14_448.apple_pt',\n",
       " 'aimv2_huge_patch14_224.apple_pt',\n",
       " 'aimv2_huge_patch14_336.apple_pt',\n",
       " 'aimv2_huge_patch14_448.apple_pt',\n",
       " 'aimv2_large_patch14_224.apple_pt',\n",
       " 'aimv2_large_patch14_224.apple_pt_dist',\n",
       " 'aimv2_large_patch14_336.apple_pt',\n",
       " 'aimv2_large_patch14_336.apple_pt_dist',\n",
       " 'aimv2_large_patch14_448.apple_pt',\n",
       " 'bat_resnext26ts.ch_in1k',\n",
       " 'beit_base_patch16_224.in22k_ft_in22k',\n",
       " 'beit_base_patch16_224.in22k_ft_in22k_in1k',\n",
       " 'beit_base_patch16_384.in22k_ft_in22k_in1k',\n",
       " 'beit_large_patch16_224.in22k_ft_in22k',\n",
       " 'beit_large_patch16_224.in22k_ft_in22k_in1k',\n",
       " 'beit_large_patch16_384.in22k_ft_in22k_in1k',\n",
       " 'beit_large_patch16_512.in22k_ft_in22k_in1k',\n",
       " 'beitv2_base_patch16_224.in1k_ft_in1k',\n",
       " 'beitv2_base_patch16_224.in1k_ft_in22k',\n",
       " 'beitv2_base_patch16_224.in1k_ft_in22k_in1k',\n",
       " 'beitv2_large_patch16_224.in1k_ft_in1k',\n",
       " 'beitv2_large_patch16_224.in1k_ft_in22k',\n",
       " 'beitv2_large_patch16_224.in1k_ft_in22k_in1k',\n",
       " 'botnet26t_256.c1_in1k',\n",
       " 'caformer_b36.sail_in1k',\n",
       " 'caformer_b36.sail_in1k_384',\n",
       " 'caformer_b36.sail_in22k',\n",
       " 'caformer_b36.sail_in22k_ft_in1k',\n",
       " 'caformer_b36.sail_in22k_ft_in1k_384',\n",
       " 'caformer_m36.sail_in1k',\n",
       " 'caformer_m36.sail_in1k_384',\n",
       " 'caformer_m36.sail_in22k',\n",
       " 'caformer_m36.sail_in22k_ft_in1k',\n",
       " 'caformer_m36.sail_in22k_ft_in1k_384',\n",
       " 'caformer_s18.sail_in1k',\n",
       " 'caformer_s18.sail_in1k_384',\n",
       " 'caformer_s18.sail_in22k',\n",
       " 'caformer_s18.sail_in22k_ft_in1k',\n",
       " 'caformer_s18.sail_in22k_ft_in1k_384',\n",
       " 'caformer_s36.sail_in1k',\n",
       " 'caformer_s36.sail_in1k_384',\n",
       " 'caformer_s36.sail_in22k',\n",
       " 'caformer_s36.sail_in22k_ft_in1k',\n",
       " 'caformer_s36.sail_in22k_ft_in1k_384',\n",
       " 'cait_m36_384.fb_dist_in1k',\n",
       " 'cait_m48_448.fb_dist_in1k',\n",
       " 'cait_s24_224.fb_dist_in1k',\n",
       " 'cait_s24_384.fb_dist_in1k',\n",
       " 'cait_s36_384.fb_dist_in1k',\n",
       " 'cait_xs24_384.fb_dist_in1k',\n",
       " 'cait_xxs24_224.fb_dist_in1k',\n",
       " 'cait_xxs24_384.fb_dist_in1k',\n",
       " 'cait_xxs36_224.fb_dist_in1k',\n",
       " 'cait_xxs36_384.fb_dist_in1k',\n",
       " 'coat_lite_medium.in1k',\n",
       " 'coat_lite_medium_384.in1k',\n",
       " 'coat_lite_mini.in1k',\n",
       " 'coat_lite_small.in1k',\n",
       " 'coat_lite_tiny.in1k',\n",
       " 'coat_mini.in1k',\n",
       " 'coat_small.in1k',\n",
       " 'coat_tiny.in1k',\n",
       " 'coatnet_0_rw_224.sw_in1k',\n",
       " 'coatnet_1_rw_224.sw_in1k',\n",
       " 'coatnet_2_rw_224.sw_in12k',\n",
       " 'coatnet_2_rw_224.sw_in12k_ft_in1k',\n",
       " 'coatnet_3_rw_224.sw_in12k',\n",
       " 'coatnet_bn_0_rw_224.sw_in1k',\n",
       " 'coatnet_nano_rw_224.sw_in1k',\n",
       " 'coatnet_rmlp_1_rw2_224.sw_in12k',\n",
       " 'coatnet_rmlp_1_rw2_224.sw_in12k_ft_in1k',\n",
       " 'coatnet_rmlp_1_rw_224.sw_in1k',\n",
       " 'coatnet_rmlp_2_rw_224.sw_in1k',\n",
       " 'coatnet_rmlp_2_rw_224.sw_in12k',\n",
       " 'coatnet_rmlp_2_rw_224.sw_in12k_ft_in1k',\n",
       " 'coatnet_rmlp_2_rw_384.sw_in12k_ft_in1k',\n",
       " 'coatnet_rmlp_nano_rw_224.sw_in1k',\n",
       " 'coatnext_nano_rw_224.sw_in1k',\n",
       " 'convformer_b36.sail_in1k',\n",
       " 'convformer_b36.sail_in1k_384',\n",
       " 'convformer_b36.sail_in22k',\n",
       " 'convformer_b36.sail_in22k_ft_in1k',\n",
       " 'convformer_b36.sail_in22k_ft_in1k_384',\n",
       " 'convformer_m36.sail_in1k',\n",
       " 'convformer_m36.sail_in1k_384',\n",
       " 'convformer_m36.sail_in22k',\n",
       " 'convformer_m36.sail_in22k_ft_in1k',\n",
       " 'convformer_m36.sail_in22k_ft_in1k_384',\n",
       " 'convformer_s18.sail_in1k',\n",
       " 'convformer_s18.sail_in1k_384',\n",
       " 'convformer_s18.sail_in22k',\n",
       " 'convformer_s18.sail_in22k_ft_in1k',\n",
       " 'convformer_s18.sail_in22k_ft_in1k_384',\n",
       " 'convformer_s36.sail_in1k',\n",
       " 'convformer_s36.sail_in1k_384',\n",
       " 'convformer_s36.sail_in22k',\n",
       " 'convformer_s36.sail_in22k_ft_in1k',\n",
       " 'convformer_s36.sail_in22k_ft_in1k_384',\n",
       " 'convit_base.fb_in1k',\n",
       " 'convit_small.fb_in1k',\n",
       " 'convit_tiny.fb_in1k',\n",
       " 'convmixer_768_32.in1k',\n",
       " 'convmixer_1024_20_ks9_p14.in1k',\n",
       " 'convmixer_1536_20.in1k',\n",
       " 'convnext_atto.d2_in1k',\n",
       " 'convnext_atto_ols.a2_in1k',\n",
       " 'convnext_base.clip_laion2b',\n",
       " 'convnext_base.clip_laion2b_augreg',\n",
       " 'convnext_base.clip_laion2b_augreg_ft_in1k',\n",
       " 'convnext_base.clip_laion2b_augreg_ft_in12k',\n",
       " 'convnext_base.clip_laion2b_augreg_ft_in12k_in1k',\n",
       " 'convnext_base.clip_laion2b_augreg_ft_in12k_in1k_384',\n",
       " 'convnext_base.clip_laiona',\n",
       " 'convnext_base.clip_laiona_320',\n",
       " 'convnext_base.clip_laiona_augreg_320',\n",
       " 'convnext_base.clip_laiona_augreg_ft_in1k_384',\n",
       " 'convnext_base.fb_in1k',\n",
       " 'convnext_base.fb_in22k',\n",
       " 'convnext_base.fb_in22k_ft_in1k',\n",
       " 'convnext_base.fb_in22k_ft_in1k_384',\n",
       " 'convnext_femto.d1_in1k',\n",
       " 'convnext_femto_ols.d1_in1k',\n",
       " 'convnext_large.fb_in1k',\n",
       " 'convnext_large.fb_in22k',\n",
       " 'convnext_large.fb_in22k_ft_in1k',\n",
       " 'convnext_large.fb_in22k_ft_in1k_384',\n",
       " 'convnext_large_mlp.clip_laion2b_augreg',\n",
       " 'convnext_large_mlp.clip_laion2b_augreg_ft_in1k',\n",
       " 'convnext_large_mlp.clip_laion2b_augreg_ft_in1k_384',\n",
       " 'convnext_large_mlp.clip_laion2b_augreg_ft_in12k_384',\n",
       " 'convnext_large_mlp.clip_laion2b_ft_320',\n",
       " 'convnext_large_mlp.clip_laion2b_ft_soup_320',\n",
       " 'convnext_large_mlp.clip_laion2b_soup_ft_in12k_320',\n",
       " 'convnext_large_mlp.clip_laion2b_soup_ft_in12k_384',\n",
       " 'convnext_large_mlp.clip_laion2b_soup_ft_in12k_in1k_320',\n",
       " 'convnext_large_mlp.clip_laion2b_soup_ft_in12k_in1k_384',\n",
       " 'convnext_nano.d1h_in1k',\n",
       " 'convnext_nano.in12k',\n",
       " 'convnext_nano.in12k_ft_in1k',\n",
       " 'convnext_nano.r384_ad_in12k',\n",
       " 'convnext_nano.r384_in12k',\n",
       " 'convnext_nano.r384_in12k_ft_in1k',\n",
       " 'convnext_nano_ols.d1h_in1k',\n",
       " 'convnext_pico.d1_in1k',\n",
       " 'convnext_pico_ols.d1_in1k',\n",
       " 'convnext_small.fb_in1k',\n",
       " 'convnext_small.fb_in22k',\n",
       " 'convnext_small.fb_in22k_ft_in1k',\n",
       " 'convnext_small.fb_in22k_ft_in1k_384',\n",
       " 'convnext_small.in12k',\n",
       " 'convnext_small.in12k_ft_in1k',\n",
       " 'convnext_small.in12k_ft_in1k_384',\n",
       " 'convnext_tiny.fb_in1k',\n",
       " 'convnext_tiny.fb_in22k',\n",
       " 'convnext_tiny.fb_in22k_ft_in1k',\n",
       " 'convnext_tiny.fb_in22k_ft_in1k_384',\n",
       " 'convnext_tiny.in12k',\n",
       " 'convnext_tiny.in12k_ft_in1k',\n",
       " 'convnext_tiny.in12k_ft_in1k_384',\n",
       " 'convnext_tiny_hnf.a2h_in1k',\n",
       " 'convnext_xlarge.fb_in22k',\n",
       " 'convnext_xlarge.fb_in22k_ft_in1k',\n",
       " 'convnext_xlarge.fb_in22k_ft_in1k_384',\n",
       " 'convnext_xxlarge.clip_laion2b_rewind',\n",
       " 'convnext_xxlarge.clip_laion2b_soup',\n",
       " 'convnext_xxlarge.clip_laion2b_soup_ft_in1k',\n",
       " 'convnext_xxlarge.clip_laion2b_soup_ft_in12k',\n",
       " 'convnext_zepto_rms.ra4_e3600_r224_in1k',\n",
       " 'convnext_zepto_rms_ols.ra4_e3600_r224_in1k',\n",
       " 'convnextv2_atto.fcmae',\n",
       " 'convnextv2_atto.fcmae_ft_in1k',\n",
       " 'convnextv2_base.fcmae',\n",
       " 'convnextv2_base.fcmae_ft_in1k',\n",
       " 'convnextv2_base.fcmae_ft_in22k_in1k',\n",
       " 'convnextv2_base.fcmae_ft_in22k_in1k_384',\n",
       " 'convnextv2_femto.fcmae',\n",
       " 'convnextv2_femto.fcmae_ft_in1k',\n",
       " 'convnextv2_huge.fcmae',\n",
       " 'convnextv2_huge.fcmae_ft_in1k',\n",
       " 'convnextv2_huge.fcmae_ft_in22k_in1k_384',\n",
       " 'convnextv2_huge.fcmae_ft_in22k_in1k_512',\n",
       " 'convnextv2_large.fcmae',\n",
       " 'convnextv2_large.fcmae_ft_in1k',\n",
       " 'convnextv2_large.fcmae_ft_in22k_in1k',\n",
       " 'convnextv2_large.fcmae_ft_in22k_in1k_384',\n",
       " 'convnextv2_nano.fcmae',\n",
       " 'convnextv2_nano.fcmae_ft_in1k',\n",
       " 'convnextv2_nano.fcmae_ft_in22k_in1k',\n",
       " 'convnextv2_nano.fcmae_ft_in22k_in1k_384',\n",
       " 'convnextv2_pico.fcmae',\n",
       " 'convnextv2_pico.fcmae_ft_in1k',\n",
       " 'convnextv2_tiny.fcmae',\n",
       " 'convnextv2_tiny.fcmae_ft_in1k',\n",
       " 'convnextv2_tiny.fcmae_ft_in22k_in1k',\n",
       " 'convnextv2_tiny.fcmae_ft_in22k_in1k_384',\n",
       " 'crossvit_9_240.in1k',\n",
       " 'crossvit_9_dagger_240.in1k',\n",
       " 'crossvit_15_240.in1k',\n",
       " 'crossvit_15_dagger_240.in1k',\n",
       " 'crossvit_15_dagger_408.in1k',\n",
       " 'crossvit_18_240.in1k',\n",
       " 'crossvit_18_dagger_240.in1k',\n",
       " 'crossvit_18_dagger_408.in1k',\n",
       " 'crossvit_base_240.in1k',\n",
       " 'crossvit_small_240.in1k',\n",
       " 'crossvit_tiny_240.in1k',\n",
       " 'cs3darknet_focus_l.c2ns_in1k',\n",
       " 'cs3darknet_focus_m.c2ns_in1k',\n",
       " 'cs3darknet_focus_s.ra4_e3600_r256_in1k',\n",
       " 'cs3darknet_l.c2ns_in1k',\n",
       " 'cs3darknet_m.c2ns_in1k',\n",
       " 'cs3darknet_x.c2ns_in1k',\n",
       " 'cs3edgenet_x.c2_in1k',\n",
       " 'cs3se_edgenet_x.c2ns_in1k',\n",
       " 'cs3sedarknet_l.c2ns_in1k',\n",
       " 'cs3sedarknet_x.c2ns_in1k',\n",
       " 'cspdarknet53.ra_in1k',\n",
       " 'cspresnet50.ra_in1k',\n",
       " 'cspresnext50.ra_in1k',\n",
       " 'darknet53.c2ns_in1k',\n",
       " 'darknetaa53.c2ns_in1k',\n",
       " 'davit_base.msft_in1k',\n",
       " 'davit_base_fl.msft_florence2',\n",
       " 'davit_huge_fl.msft_florence2',\n",
       " 'davit_small.msft_in1k',\n",
       " 'davit_tiny.msft_in1k',\n",
       " 'deit3_base_patch16_224.fb_in1k',\n",
       " 'deit3_base_patch16_224.fb_in22k_ft_in1k',\n",
       " 'deit3_base_patch16_384.fb_in1k',\n",
       " 'deit3_base_patch16_384.fb_in22k_ft_in1k',\n",
       " 'deit3_huge_patch14_224.fb_in1k',\n",
       " 'deit3_huge_patch14_224.fb_in22k_ft_in1k',\n",
       " 'deit3_large_patch16_224.fb_in1k',\n",
       " 'deit3_large_patch16_224.fb_in22k_ft_in1k',\n",
       " 'deit3_large_patch16_384.fb_in1k',\n",
       " 'deit3_large_patch16_384.fb_in22k_ft_in1k',\n",
       " 'deit3_medium_patch16_224.fb_in1k',\n",
       " 'deit3_medium_patch16_224.fb_in22k_ft_in1k',\n",
       " 'deit3_small_patch16_224.fb_in1k',\n",
       " 'deit3_small_patch16_224.fb_in22k_ft_in1k',\n",
       " 'deit3_small_patch16_384.fb_in1k',\n",
       " 'deit3_small_patch16_384.fb_in22k_ft_in1k',\n",
       " 'deit_base_distilled_patch16_224.fb_in1k',\n",
       " 'deit_base_distilled_patch16_384.fb_in1k',\n",
       " 'deit_base_patch16_224.fb_in1k',\n",
       " 'deit_base_patch16_384.fb_in1k',\n",
       " 'deit_small_distilled_patch16_224.fb_in1k',\n",
       " 'deit_small_patch16_224.fb_in1k',\n",
       " 'deit_tiny_distilled_patch16_224.fb_in1k',\n",
       " 'deit_tiny_patch16_224.fb_in1k',\n",
       " 'densenet121.ra_in1k',\n",
       " 'densenet121.tv_in1k',\n",
       " 'densenet161.tv_in1k',\n",
       " 'densenet169.tv_in1k',\n",
       " 'densenet201.tv_in1k',\n",
       " 'densenetblur121d.ra_in1k',\n",
       " 'dla34.in1k',\n",
       " 'dla46_c.in1k',\n",
       " 'dla46x_c.in1k',\n",
       " 'dla60.in1k',\n",
       " 'dla60_res2net.in1k',\n",
       " 'dla60_res2next.in1k',\n",
       " 'dla60x.in1k',\n",
       " 'dla60x_c.in1k',\n",
       " 'dla102.in1k',\n",
       " 'dla102x2.in1k',\n",
       " 'dla102x.in1k',\n",
       " 'dla169.in1k',\n",
       " 'dm_nfnet_f0.dm_in1k',\n",
       " 'dm_nfnet_f1.dm_in1k',\n",
       " 'dm_nfnet_f2.dm_in1k',\n",
       " 'dm_nfnet_f3.dm_in1k',\n",
       " 'dm_nfnet_f4.dm_in1k',\n",
       " 'dm_nfnet_f5.dm_in1k',\n",
       " 'dm_nfnet_f6.dm_in1k',\n",
       " 'dpn68.mx_in1k',\n",
       " 'dpn68b.mx_in1k',\n",
       " 'dpn68b.ra_in1k',\n",
       " 'dpn92.mx_in1k',\n",
       " 'dpn98.mx_in1k',\n",
       " 'dpn107.mx_in1k',\n",
       " 'dpn131.mx_in1k',\n",
       " 'eca_botnext26ts_256.c1_in1k',\n",
       " 'eca_halonext26ts.c1_in1k',\n",
       " 'eca_nfnet_l0.ra2_in1k',\n",
       " 'eca_nfnet_l1.ra2_in1k',\n",
       " 'eca_nfnet_l2.ra3_in1k',\n",
       " 'eca_resnet33ts.ra2_in1k',\n",
       " 'eca_resnext26ts.ch_in1k',\n",
       " 'ecaresnet26t.ra2_in1k',\n",
       " 'ecaresnet50d.miil_in1k',\n",
       " 'ecaresnet50d_pruned.miil_in1k',\n",
       " 'ecaresnet50t.a1_in1k',\n",
       " 'ecaresnet50t.a2_in1k',\n",
       " 'ecaresnet50t.a3_in1k',\n",
       " 'ecaresnet50t.ra2_in1k',\n",
       " 'ecaresnet101d.miil_in1k',\n",
       " 'ecaresnet101d_pruned.miil_in1k',\n",
       " 'ecaresnet269d.ra2_in1k',\n",
       " 'ecaresnetlight.miil_in1k',\n",
       " 'edgenext_base.in21k_ft_in1k',\n",
       " 'edgenext_base.usi_in1k',\n",
       " 'edgenext_small.usi_in1k',\n",
       " 'edgenext_small_rw.sw_in1k',\n",
       " 'edgenext_x_small.in1k',\n",
       " 'edgenext_xx_small.in1k',\n",
       " 'efficientformer_l1.snap_dist_in1k',\n",
       " 'efficientformer_l3.snap_dist_in1k',\n",
       " 'efficientformer_l7.snap_dist_in1k',\n",
       " 'efficientformerv2_l.snap_dist_in1k',\n",
       " 'efficientformerv2_s0.snap_dist_in1k',\n",
       " 'efficientformerv2_s1.snap_dist_in1k',\n",
       " 'efficientformerv2_s2.snap_dist_in1k',\n",
       " 'efficientnet_b0.ra4_e3600_r224_in1k',\n",
       " 'efficientnet_b0.ra_in1k',\n",
       " 'efficientnet_b1.ft_in1k',\n",
       " 'efficientnet_b1.ra4_e3600_r240_in1k',\n",
       " 'efficientnet_b1_pruned.in1k',\n",
       " 'efficientnet_b2.ra_in1k',\n",
       " 'efficientnet_b2_pruned.in1k',\n",
       " 'efficientnet_b3.ra2_in1k',\n",
       " 'efficientnet_b3_pruned.in1k',\n",
       " 'efficientnet_b4.ra2_in1k',\n",
       " 'efficientnet_b5.sw_in12k',\n",
       " 'efficientnet_b5.sw_in12k_ft_in1k',\n",
       " 'efficientnet_el.ra_in1k',\n",
       " 'efficientnet_el_pruned.in1k',\n",
       " 'efficientnet_em.ra2_in1k',\n",
       " 'efficientnet_es.ra_in1k',\n",
       " 'efficientnet_es_pruned.in1k',\n",
       " 'efficientnet_lite0.ra_in1k',\n",
       " 'efficientnetv2_rw_m.agc_in1k',\n",
       " 'efficientnetv2_rw_s.ra2_in1k',\n",
       " 'efficientnetv2_rw_t.ra2_in1k',\n",
       " 'efficientvit_b0.r224_in1k',\n",
       " 'efficientvit_b1.r224_in1k',\n",
       " 'efficientvit_b1.r256_in1k',\n",
       " 'efficientvit_b1.r288_in1k',\n",
       " 'efficientvit_b2.r224_in1k',\n",
       " 'efficientvit_b2.r256_in1k',\n",
       " 'efficientvit_b2.r288_in1k',\n",
       " 'efficientvit_b3.r224_in1k',\n",
       " 'efficientvit_b3.r256_in1k',\n",
       " 'efficientvit_b3.r288_in1k',\n",
       " 'efficientvit_l1.r224_in1k',\n",
       " 'efficientvit_l2.r224_in1k',\n",
       " 'efficientvit_l2.r256_in1k',\n",
       " 'efficientvit_l2.r288_in1k',\n",
       " 'efficientvit_l2.r384_in1k',\n",
       " 'efficientvit_l3.r224_in1k',\n",
       " 'efficientvit_l3.r256_in1k',\n",
       " 'efficientvit_l3.r320_in1k',\n",
       " 'efficientvit_l3.r384_in1k',\n",
       " 'efficientvit_m0.r224_in1k',\n",
       " 'efficientvit_m1.r224_in1k',\n",
       " 'efficientvit_m2.r224_in1k',\n",
       " 'efficientvit_m3.r224_in1k',\n",
       " 'efficientvit_m4.r224_in1k',\n",
       " 'efficientvit_m5.r224_in1k',\n",
       " 'ese_vovnet19b_dw.ra_in1k',\n",
       " 'ese_vovnet39b.ra_in1k',\n",
       " 'ese_vovnet57b.ra4_e3600_r256_in1k',\n",
       " 'eva02_base_patch14_224.mim_in22k',\n",
       " 'eva02_base_patch14_448.mim_in22k_ft_in1k',\n",
       " 'eva02_base_patch14_448.mim_in22k_ft_in22k',\n",
       " 'eva02_base_patch14_448.mim_in22k_ft_in22k_in1k',\n",
       " 'eva02_base_patch16_clip_224.merged2b',\n",
       " 'eva02_enormous_patch14_clip_224.laion2b',\n",
       " 'eva02_enormous_patch14_clip_224.laion2b_plus',\n",
       " 'eva02_large_patch14_224.mim_in22k',\n",
       " 'eva02_large_patch14_224.mim_m38m',\n",
       " 'eva02_large_patch14_448.mim_in22k_ft_in1k',\n",
       " 'eva02_large_patch14_448.mim_in22k_ft_in22k',\n",
       " 'eva02_large_patch14_448.mim_in22k_ft_in22k_in1k',\n",
       " 'eva02_large_patch14_448.mim_m38m_ft_in1k',\n",
       " 'eva02_large_patch14_448.mim_m38m_ft_in22k',\n",
       " 'eva02_large_patch14_448.mim_m38m_ft_in22k_in1k',\n",
       " 'eva02_large_patch14_clip_224.merged2b',\n",
       " 'eva02_large_patch14_clip_336.merged2b',\n",
       " 'eva02_small_patch14_224.mim_in22k',\n",
       " 'eva02_small_patch14_336.mim_in22k_ft_in1k',\n",
       " 'eva02_tiny_patch14_224.mim_in22k',\n",
       " 'eva02_tiny_patch14_336.mim_in22k_ft_in1k',\n",
       " 'eva_giant_patch14_224.clip_ft_in1k',\n",
       " 'eva_giant_patch14_336.clip_ft_in1k',\n",
       " 'eva_giant_patch14_336.m30m_ft_in22k_in1k',\n",
       " 'eva_giant_patch14_560.m30m_ft_in22k_in1k',\n",
       " 'eva_giant_patch14_clip_224.laion400m',\n",
       " 'eva_giant_patch14_clip_224.merged2b',\n",
       " 'eva_large_patch14_196.in22k_ft_in1k',\n",
       " 'eva_large_patch14_196.in22k_ft_in22k_in1k',\n",
       " 'eva_large_patch14_336.in22k_ft_in1k',\n",
       " 'eva_large_patch14_336.in22k_ft_in22k_in1k',\n",
       " 'fastvit_ma36.apple_dist_in1k',\n",
       " 'fastvit_ma36.apple_in1k',\n",
       " 'fastvit_mci0.apple_mclip',\n",
       " 'fastvit_mci1.apple_mclip',\n",
       " 'fastvit_mci2.apple_mclip',\n",
       " 'fastvit_s12.apple_dist_in1k',\n",
       " 'fastvit_s12.apple_in1k',\n",
       " 'fastvit_sa12.apple_dist_in1k',\n",
       " 'fastvit_sa12.apple_in1k',\n",
       " 'fastvit_sa24.apple_dist_in1k',\n",
       " 'fastvit_sa24.apple_in1k',\n",
       " 'fastvit_sa36.apple_dist_in1k',\n",
       " 'fastvit_sa36.apple_in1k',\n",
       " 'fastvit_t8.apple_dist_in1k',\n",
       " 'fastvit_t8.apple_in1k',\n",
       " 'fastvit_t12.apple_dist_in1k',\n",
       " 'fastvit_t12.apple_in1k',\n",
       " 'fbnetc_100.rmsp_in1k',\n",
       " 'fbnetv3_b.ra2_in1k',\n",
       " 'fbnetv3_d.ra2_in1k',\n",
       " 'fbnetv3_g.ra2_in1k',\n",
       " 'flexivit_base.300ep_in1k',\n",
       " 'flexivit_base.300ep_in21k',\n",
       " 'flexivit_base.600ep_in1k',\n",
       " 'flexivit_base.1000ep_in21k',\n",
       " 'flexivit_base.1200ep_in1k',\n",
       " 'flexivit_base.patch16_in21k',\n",
       " 'flexivit_base.patch30_in21k',\n",
       " 'flexivit_large.300ep_in1k',\n",
       " 'flexivit_large.600ep_in1k',\n",
       " 'flexivit_large.1200ep_in1k',\n",
       " 'flexivit_small.300ep_in1k',\n",
       " 'flexivit_small.600ep_in1k',\n",
       " 'flexivit_small.1200ep_in1k',\n",
       " 'focalnet_base_lrf.ms_in1k',\n",
       " 'focalnet_base_srf.ms_in1k',\n",
       " 'focalnet_huge_fl3.ms_in22k',\n",
       " 'focalnet_huge_fl4.ms_in22k',\n",
       " 'focalnet_large_fl3.ms_in22k',\n",
       " 'focalnet_large_fl4.ms_in22k',\n",
       " 'focalnet_small_lrf.ms_in1k',\n",
       " 'focalnet_small_srf.ms_in1k',\n",
       " 'focalnet_tiny_lrf.ms_in1k',\n",
       " 'focalnet_tiny_srf.ms_in1k',\n",
       " 'focalnet_xlarge_fl3.ms_in22k',\n",
       " 'focalnet_xlarge_fl4.ms_in22k',\n",
       " 'gc_efficientnetv2_rw_t.agc_in1k',\n",
       " 'gcresnet33ts.ra2_in1k',\n",
       " 'gcresnet50t.ra2_in1k',\n",
       " 'gcresnext26ts.ch_in1k',\n",
       " 'gcresnext50ts.ch_in1k',\n",
       " 'gcvit_base.in1k',\n",
       " 'gcvit_small.in1k',\n",
       " 'gcvit_tiny.in1k',\n",
       " 'gcvit_xtiny.in1k',\n",
       " 'gcvit_xxtiny.in1k',\n",
       " 'gernet_l.idstcv_in1k',\n",
       " 'gernet_m.idstcv_in1k',\n",
       " 'gernet_s.idstcv_in1k',\n",
       " 'ghostnet_100.in1k',\n",
       " 'ghostnetv2_100.in1k',\n",
       " 'ghostnetv2_130.in1k',\n",
       " 'ghostnetv2_160.in1k',\n",
       " 'gmixer_24_224.ra3_in1k',\n",
       " 'gmlp_s16_224.ra3_in1k',\n",
       " 'halo2botnet50ts_256.a1h_in1k',\n",
       " 'halonet26t.a1h_in1k',\n",
       " 'halonet50ts.a1h_in1k',\n",
       " 'haloregnetz_b.ra3_in1k',\n",
       " 'hardcorenas_a.miil_green_in1k',\n",
       " 'hardcorenas_b.miil_green_in1k',\n",
       " 'hardcorenas_c.miil_green_in1k',\n",
       " 'hardcorenas_d.miil_green_in1k',\n",
       " 'hardcorenas_e.miil_green_in1k',\n",
       " 'hardcorenas_f.miil_green_in1k',\n",
       " 'hgnet_base.ssld_in1k',\n",
       " 'hgnet_small.paddle_in1k',\n",
       " 'hgnet_small.ssld_in1k',\n",
       " 'hgnet_tiny.paddle_in1k',\n",
       " 'hgnet_tiny.ssld_in1k',\n",
       " 'hgnetv2_b0.ssld_stage1_in22k_in1k',\n",
       " 'hgnetv2_b0.ssld_stage2_ft_in1k',\n",
       " 'hgnetv2_b1.ssld_stage1_in22k_in1k',\n",
       " 'hgnetv2_b1.ssld_stage2_ft_in1k',\n",
       " 'hgnetv2_b2.ssld_stage1_in22k_in1k',\n",
       " 'hgnetv2_b2.ssld_stage2_ft_in1k',\n",
       " 'hgnetv2_b3.ssld_stage1_in22k_in1k',\n",
       " 'hgnetv2_b3.ssld_stage2_ft_in1k',\n",
       " 'hgnetv2_b4.ssld_stage1_in22k_in1k',\n",
       " 'hgnetv2_b4.ssld_stage2_ft_in1k',\n",
       " 'hgnetv2_b5.ssld_stage1_in22k_in1k',\n",
       " 'hgnetv2_b5.ssld_stage2_ft_in1k',\n",
       " 'hgnetv2_b6.ssld_stage1_in22k_in1k',\n",
       " 'hgnetv2_b6.ssld_stage2_ft_in1k',\n",
       " 'hiera_base_224.mae',\n",
       " 'hiera_base_224.mae_in1k_ft_in1k',\n",
       " 'hiera_base_plus_224.mae',\n",
       " 'hiera_base_plus_224.mae_in1k_ft_in1k',\n",
       " 'hiera_huge_224.mae',\n",
       " 'hiera_huge_224.mae_in1k_ft_in1k',\n",
       " 'hiera_large_224.mae',\n",
       " 'hiera_large_224.mae_in1k_ft_in1k',\n",
       " 'hiera_small_224.mae',\n",
       " 'hiera_small_224.mae_in1k_ft_in1k',\n",
       " 'hiera_small_abswin_256.sbb2_e200_in12k',\n",
       " 'hiera_small_abswin_256.sbb2_e200_in12k_ft_in1k',\n",
       " 'hiera_small_abswin_256.sbb2_pd_e200_in12k',\n",
       " 'hiera_small_abswin_256.sbb2_pd_e200_in12k_ft_in1k',\n",
       " 'hiera_tiny_224.mae',\n",
       " 'hiera_tiny_224.mae_in1k_ft_in1k',\n",
       " 'hrnet_w18.ms_aug_in1k',\n",
       " 'hrnet_w18.ms_in1k',\n",
       " 'hrnet_w18_small.gluon_in1k',\n",
       " 'hrnet_w18_small.ms_in1k',\n",
       " 'hrnet_w18_small_v2.gluon_in1k',\n",
       " 'hrnet_w18_small_v2.ms_in1k',\n",
       " 'hrnet_w18_ssld.paddle_in1k',\n",
       " 'hrnet_w30.ms_in1k',\n",
       " 'hrnet_w32.ms_in1k',\n",
       " 'hrnet_w40.ms_in1k',\n",
       " 'hrnet_w44.ms_in1k',\n",
       " 'hrnet_w48.ms_in1k',\n",
       " 'hrnet_w48_ssld.paddle_in1k',\n",
       " 'hrnet_w64.ms_in1k',\n",
       " 'inception_next_atto.sail_in1k',\n",
       " 'inception_next_base.sail_in1k',\n",
       " 'inception_next_base.sail_in1k_384',\n",
       " 'inception_next_small.sail_in1k',\n",
       " 'inception_next_tiny.sail_in1k',\n",
       " 'inception_resnet_v2.tf_ens_adv_in1k',\n",
       " 'inception_resnet_v2.tf_in1k',\n",
       " 'inception_v3.gluon_in1k',\n",
       " 'inception_v3.tf_adv_in1k',\n",
       " 'inception_v3.tf_in1k',\n",
       " 'inception_v3.tv_in1k',\n",
       " 'inception_v4.tf_in1k',\n",
       " 'lambda_resnet26rpt_256.c1_in1k',\n",
       " 'lambda_resnet26t.c1_in1k',\n",
       " 'lambda_resnet50ts.a1h_in1k',\n",
       " 'lamhalobotnet50ts_256.a1h_in1k',\n",
       " 'lcnet_050.ra2_in1k',\n",
       " 'lcnet_075.ra2_in1k',\n",
       " 'lcnet_100.ra2_in1k',\n",
       " 'legacy_senet154.in1k',\n",
       " 'legacy_seresnet18.in1k',\n",
       " 'legacy_seresnet34.in1k',\n",
       " 'legacy_seresnet50.in1k',\n",
       " 'legacy_seresnet101.in1k',\n",
       " 'legacy_seresnet152.in1k',\n",
       " 'legacy_seresnext26_32x4d.in1k',\n",
       " 'legacy_seresnext50_32x4d.in1k',\n",
       " 'legacy_seresnext101_32x4d.in1k',\n",
       " 'legacy_xception.tf_in1k',\n",
       " 'levit_128.fb_dist_in1k',\n",
       " 'levit_128s.fb_dist_in1k',\n",
       " 'levit_192.fb_dist_in1k',\n",
       " 'levit_256.fb_dist_in1k',\n",
       " 'levit_384.fb_dist_in1k',\n",
       " 'levit_conv_128.fb_dist_in1k',\n",
       " 'levit_conv_128s.fb_dist_in1k',\n",
       " 'levit_conv_192.fb_dist_in1k',\n",
       " 'levit_conv_256.fb_dist_in1k',\n",
       " 'levit_conv_384.fb_dist_in1k',\n",
       " 'mambaout_base.in1k',\n",
       " 'mambaout_base_plus_rw.sw_e150_in12k',\n",
       " 'mambaout_base_plus_rw.sw_e150_in12k_ft_in1k',\n",
       " 'mambaout_base_plus_rw.sw_e150_r384_in12k_ft_in1k',\n",
       " 'mambaout_base_short_rw.sw_e500_in1k',\n",
       " 'mambaout_base_tall_rw.sw_e500_in1k',\n",
       " 'mambaout_base_wide_rw.sw_e500_in1k',\n",
       " 'mambaout_femto.in1k',\n",
       " 'mambaout_kobe.in1k',\n",
       " 'mambaout_small.in1k',\n",
       " 'mambaout_small_rw.sw_e450_in1k',\n",
       " 'mambaout_tiny.in1k',\n",
       " 'maxvit_base_tf_224.in1k',\n",
       " 'maxvit_base_tf_224.in21k',\n",
       " 'maxvit_base_tf_384.in1k',\n",
       " 'maxvit_base_tf_384.in21k_ft_in1k',\n",
       " 'maxvit_base_tf_512.in1k',\n",
       " 'maxvit_base_tf_512.in21k_ft_in1k',\n",
       " 'maxvit_large_tf_224.in1k',\n",
       " 'maxvit_large_tf_224.in21k',\n",
       " 'maxvit_large_tf_384.in1k',\n",
       " 'maxvit_large_tf_384.in21k_ft_in1k',\n",
       " 'maxvit_large_tf_512.in1k',\n",
       " 'maxvit_large_tf_512.in21k_ft_in1k',\n",
       " 'maxvit_nano_rw_256.sw_in1k',\n",
       " 'maxvit_rmlp_base_rw_224.sw_in12k',\n",
       " 'maxvit_rmlp_base_rw_224.sw_in12k_ft_in1k',\n",
       " 'maxvit_rmlp_base_rw_384.sw_in12k_ft_in1k',\n",
       " 'maxvit_rmlp_nano_rw_256.sw_in1k',\n",
       " 'maxvit_rmlp_pico_rw_256.sw_in1k',\n",
       " 'maxvit_rmlp_small_rw_224.sw_in1k',\n",
       " 'maxvit_rmlp_tiny_rw_256.sw_in1k',\n",
       " 'maxvit_small_tf_224.in1k',\n",
       " 'maxvit_small_tf_384.in1k',\n",
       " 'maxvit_small_tf_512.in1k',\n",
       " 'maxvit_tiny_rw_224.sw_in1k',\n",
       " 'maxvit_tiny_tf_224.in1k',\n",
       " 'maxvit_tiny_tf_384.in1k',\n",
       " 'maxvit_tiny_tf_512.in1k',\n",
       " 'maxvit_xlarge_tf_224.in21k',\n",
       " 'maxvit_xlarge_tf_384.in21k_ft_in1k',\n",
       " 'maxvit_xlarge_tf_512.in21k_ft_in1k',\n",
       " 'maxxvit_rmlp_nano_rw_256.sw_in1k',\n",
       " 'maxxvit_rmlp_small_rw_256.sw_in1k',\n",
       " 'maxxvitv2_nano_rw_256.sw_in1k',\n",
       " 'maxxvitv2_rmlp_base_rw_224.sw_in12k',\n",
       " 'maxxvitv2_rmlp_base_rw_224.sw_in12k_ft_in1k',\n",
       " 'maxxvitv2_rmlp_base_rw_384.sw_in12k_ft_in1k',\n",
       " 'mixer_b16_224.goog_in21k',\n",
       " 'mixer_b16_224.goog_in21k_ft_in1k',\n",
       " 'mixer_b16_224.miil_in21k',\n",
       " 'mixer_b16_224.miil_in21k_ft_in1k',\n",
       " 'mixer_l16_224.goog_in21k',\n",
       " 'mixer_l16_224.goog_in21k_ft_in1k',\n",
       " 'mixnet_l.ft_in1k',\n",
       " 'mixnet_m.ft_in1k',\n",
       " 'mixnet_s.ft_in1k',\n",
       " 'mixnet_xl.ra_in1k',\n",
       " 'mnasnet_100.rmsp_in1k',\n",
       " 'mnasnet_small.lamb_in1k',\n",
       " 'mobilenet_edgetpu_v2_m.ra4_e3600_r224_in1k',\n",
       " 'mobilenetv1_100.ra4_e3600_r224_in1k',\n",
       " 'mobilenetv1_100h.ra4_e3600_r224_in1k',\n",
       " 'mobilenetv1_125.ra4_e3600_r224_in1k',\n",
       " 'mobilenetv2_050.lamb_in1k',\n",
       " 'mobilenetv2_100.ra_in1k',\n",
       " 'mobilenetv2_110d.ra_in1k',\n",
       " 'mobilenetv2_120d.ra_in1k',\n",
       " 'mobilenetv2_140.ra_in1k',\n",
       " 'mobilenetv3_large_100.miil_in21k',\n",
       " 'mobilenetv3_large_100.miil_in21k_ft_in1k',\n",
       " 'mobilenetv3_large_100.ra4_e3600_r224_in1k',\n",
       " 'mobilenetv3_large_100.ra_in1k',\n",
       " 'mobilenetv3_large_150d.ra4_e3600_r256_in1k',\n",
       " 'mobilenetv3_rw.rmsp_in1k',\n",
       " 'mobilenetv3_small_050.lamb_in1k',\n",
       " 'mobilenetv3_small_075.lamb_in1k',\n",
       " 'mobilenetv3_small_100.lamb_in1k',\n",
       " 'mobilenetv4_conv_aa_large.e230_r384_in12k',\n",
       " 'mobilenetv4_conv_aa_large.e230_r384_in12k_ft_in1k',\n",
       " 'mobilenetv4_conv_aa_large.e230_r448_in12k_ft_in1k',\n",
       " 'mobilenetv4_conv_aa_large.e600_r384_in1k',\n",
       " 'mobilenetv4_conv_blur_medium.e500_r224_in1k',\n",
       " 'mobilenetv4_conv_large.e500_r256_in1k',\n",
       " 'mobilenetv4_conv_large.e600_r384_in1k',\n",
       " 'mobilenetv4_conv_medium.e180_ad_r384_in12k',\n",
       " 'mobilenetv4_conv_medium.e180_r384_in12k',\n",
       " 'mobilenetv4_conv_medium.e250_r384_in12k',\n",
       " 'mobilenetv4_conv_medium.e250_r384_in12k_ft_in1k',\n",
       " 'mobilenetv4_conv_medium.e500_r224_in1k',\n",
       " 'mobilenetv4_conv_medium.e500_r256_in1k',\n",
       " 'mobilenetv4_conv_small.e1200_r224_in1k',\n",
       " 'mobilenetv4_conv_small.e2400_r224_in1k',\n",
       " 'mobilenetv4_conv_small.e3600_r256_in1k',\n",
       " 'mobilenetv4_conv_small_050.e3000_r224_in1k',\n",
       " 'mobilenetv4_hybrid_large.e600_r384_in1k',\n",
       " 'mobilenetv4_hybrid_large.ix_e600_r384_in1k',\n",
       " 'mobilenetv4_hybrid_medium.e200_r256_in12k',\n",
       " 'mobilenetv4_hybrid_medium.e200_r256_in12k_ft_in1k',\n",
       " 'mobilenetv4_hybrid_medium.e500_r224_in1k',\n",
       " 'mobilenetv4_hybrid_medium.ix_e550_r256_in1k',\n",
       " 'mobilenetv4_hybrid_medium.ix_e550_r384_in1k',\n",
       " 'mobileone_s0.apple_in1k',\n",
       " 'mobileone_s1.apple_in1k',\n",
       " 'mobileone_s2.apple_in1k',\n",
       " 'mobileone_s3.apple_in1k',\n",
       " 'mobileone_s4.apple_in1k',\n",
       " 'mobilevit_s.cvnets_in1k',\n",
       " 'mobilevit_xs.cvnets_in1k',\n",
       " 'mobilevit_xxs.cvnets_in1k',\n",
       " 'mobilevitv2_050.cvnets_in1k',\n",
       " 'mobilevitv2_075.cvnets_in1k',\n",
       " 'mobilevitv2_100.cvnets_in1k',\n",
       " 'mobilevitv2_125.cvnets_in1k',\n",
       " 'mobilevitv2_150.cvnets_in1k',\n",
       " 'mobilevitv2_150.cvnets_in22k_ft_in1k',\n",
       " 'mobilevitv2_150.cvnets_in22k_ft_in1k_384',\n",
       " 'mobilevitv2_175.cvnets_in1k',\n",
       " 'mobilevitv2_175.cvnets_in22k_ft_in1k',\n",
       " 'mobilevitv2_175.cvnets_in22k_ft_in1k_384',\n",
       " 'mobilevitv2_200.cvnets_in1k',\n",
       " 'mobilevitv2_200.cvnets_in22k_ft_in1k',\n",
       " 'mobilevitv2_200.cvnets_in22k_ft_in1k_384',\n",
       " 'mvitv2_base.fb_in1k',\n",
       " 'mvitv2_base_cls.fb_inw21k',\n",
       " 'mvitv2_huge_cls.fb_inw21k',\n",
       " 'mvitv2_large.fb_in1k',\n",
       " 'mvitv2_large_cls.fb_inw21k',\n",
       " 'mvitv2_small.fb_in1k',\n",
       " 'mvitv2_tiny.fb_in1k',\n",
       " 'nasnetalarge.tf_in1k',\n",
       " 'nest_base_jx.goog_in1k',\n",
       " 'nest_small_jx.goog_in1k',\n",
       " 'nest_tiny_jx.goog_in1k',\n",
       " 'nextvit_base.bd_in1k',\n",
       " 'nextvit_base.bd_in1k_384',\n",
       " 'nextvit_base.bd_ssld_6m_in1k',\n",
       " 'nextvit_base.bd_ssld_6m_in1k_384',\n",
       " 'nextvit_large.bd_in1k',\n",
       " 'nextvit_large.bd_in1k_384',\n",
       " 'nextvit_large.bd_ssld_6m_in1k',\n",
       " 'nextvit_large.bd_ssld_6m_in1k_384',\n",
       " 'nextvit_small.bd_in1k',\n",
       " 'nextvit_small.bd_in1k_384',\n",
       " 'nextvit_small.bd_ssld_6m_in1k',\n",
       " 'nextvit_small.bd_ssld_6m_in1k_384',\n",
       " 'nf_regnet_b1.ra2_in1k',\n",
       " 'nf_resnet50.ra2_in1k',\n",
       " 'nfnet_l0.ra2_in1k',\n",
       " 'pit_b_224.in1k',\n",
       " 'pit_b_distilled_224.in1k',\n",
       " 'pit_s_224.in1k',\n",
       " 'pit_s_distilled_224.in1k',\n",
       " 'pit_ti_224.in1k',\n",
       " 'pit_ti_distilled_224.in1k',\n",
       " 'pit_xs_224.in1k',\n",
       " 'pit_xs_distilled_224.in1k',\n",
       " 'pnasnet5large.tf_in1k',\n",
       " 'poolformer_m36.sail_in1k',\n",
       " 'poolformer_m48.sail_in1k',\n",
       " 'poolformer_s12.sail_in1k',\n",
       " 'poolformer_s24.sail_in1k',\n",
       " 'poolformer_s36.sail_in1k',\n",
       " 'poolformerv2_m36.sail_in1k',\n",
       " 'poolformerv2_m48.sail_in1k',\n",
       " 'poolformerv2_s12.sail_in1k',\n",
       " 'poolformerv2_s24.sail_in1k',\n",
       " 'poolformerv2_s36.sail_in1k',\n",
       " 'pvt_v2_b0.in1k',\n",
       " 'pvt_v2_b1.in1k',\n",
       " 'pvt_v2_b2.in1k',\n",
       " 'pvt_v2_b2_li.in1k',\n",
       " 'pvt_v2_b3.in1k',\n",
       " 'pvt_v2_b4.in1k',\n",
       " 'pvt_v2_b5.in1k',\n",
       " 'rdnet_base.nv_in1k',\n",
       " 'rdnet_large.nv_in1k',\n",
       " 'rdnet_large.nv_in1k_ft_in1k_384',\n",
       " 'rdnet_small.nv_in1k',\n",
       " 'rdnet_tiny.nv_in1k',\n",
       " 'regnetv_040.ra3_in1k',\n",
       " 'regnetv_064.ra3_in1k',\n",
       " 'regnetx_002.pycls_in1k',\n",
       " 'regnetx_004.pycls_in1k',\n",
       " 'regnetx_004_tv.tv2_in1k',\n",
       " 'regnetx_006.pycls_in1k',\n",
       " 'regnetx_008.pycls_in1k',\n",
       " 'regnetx_008.tv2_in1k',\n",
       " 'regnetx_016.pycls_in1k',\n",
       " 'regnetx_016.tv2_in1k',\n",
       " 'regnetx_032.pycls_in1k',\n",
       " 'regnetx_032.tv2_in1k',\n",
       " 'regnetx_040.pycls_in1k',\n",
       " 'regnetx_064.pycls_in1k',\n",
       " 'regnetx_080.pycls_in1k',\n",
       " 'regnetx_080.tv2_in1k',\n",
       " 'regnetx_120.pycls_in1k',\n",
       " 'regnetx_160.pycls_in1k',\n",
       " 'regnetx_160.tv2_in1k',\n",
       " 'regnetx_320.pycls_in1k',\n",
       " 'regnetx_320.tv2_in1k',\n",
       " 'regnety_002.pycls_in1k',\n",
       " 'regnety_004.pycls_in1k',\n",
       " 'regnety_004.tv2_in1k',\n",
       " 'regnety_006.pycls_in1k',\n",
       " 'regnety_008.pycls_in1k',\n",
       " 'regnety_008_tv.tv2_in1k',\n",
       " 'regnety_016.pycls_in1k',\n",
       " 'regnety_016.tv2_in1k',\n",
       " 'regnety_032.pycls_in1k',\n",
       " 'regnety_032.ra_in1k',\n",
       " 'regnety_032.tv2_in1k',\n",
       " 'regnety_040.pycls_in1k',\n",
       " 'regnety_040.ra3_in1k',\n",
       " 'regnety_064.pycls_in1k',\n",
       " 'regnety_064.ra3_in1k',\n",
       " 'regnety_080.pycls_in1k',\n",
       " 'regnety_080.ra3_in1k',\n",
       " 'regnety_080_tv.tv2_in1k',\n",
       " 'regnety_120.pycls_in1k',\n",
       " 'regnety_120.sw_in12k',\n",
       " 'regnety_120.sw_in12k_ft_in1k',\n",
       " 'regnety_160.deit_in1k',\n",
       " 'regnety_160.lion_in12k_ft_in1k',\n",
       " 'regnety_160.pycls_in1k',\n",
       " 'regnety_160.sw_in12k',\n",
       " 'regnety_160.sw_in12k_ft_in1k',\n",
       " 'regnety_160.swag_ft_in1k',\n",
       " 'regnety_160.swag_lc_in1k',\n",
       " 'regnety_160.tv2_in1k',\n",
       " 'regnety_320.pycls_in1k',\n",
       " 'regnety_320.seer',\n",
       " 'regnety_320.seer_ft_in1k',\n",
       " 'regnety_320.swag_ft_in1k',\n",
       " 'regnety_320.swag_lc_in1k',\n",
       " 'regnety_320.tv2_in1k',\n",
       " 'regnety_640.seer',\n",
       " 'regnety_640.seer_ft_in1k',\n",
       " 'regnety_1280.seer',\n",
       " 'regnety_1280.seer_ft_in1k',\n",
       " 'regnety_1280.swag_ft_in1k',\n",
       " 'regnety_1280.swag_lc_in1k',\n",
       " 'regnety_2560.seer_ft_in1k',\n",
       " 'regnetz_040.ra3_in1k',\n",
       " 'regnetz_040_h.ra3_in1k',\n",
       " 'regnetz_b16.ra3_in1k',\n",
       " 'regnetz_c16.ra3_in1k',\n",
       " 'regnetz_c16_evos.ch_in1k',\n",
       " 'regnetz_d8.ra3_in1k',\n",
       " 'regnetz_d8_evos.ch_in1k',\n",
       " 'regnetz_d32.ra3_in1k',\n",
       " 'regnetz_e8.ra3_in1k',\n",
       " 'repghostnet_050.in1k',\n",
       " 'repghostnet_058.in1k',\n",
       " 'repghostnet_080.in1k',\n",
       " 'repghostnet_100.in1k',\n",
       " 'repghostnet_111.in1k',\n",
       " 'repghostnet_130.in1k',\n",
       " 'repghostnet_150.in1k',\n",
       " 'repghostnet_200.in1k',\n",
       " 'repvgg_a0.rvgg_in1k',\n",
       " 'repvgg_a1.rvgg_in1k',\n",
       " 'repvgg_a2.rvgg_in1k',\n",
       " 'repvgg_b0.rvgg_in1k',\n",
       " 'repvgg_b1.rvgg_in1k',\n",
       " 'repvgg_b1g4.rvgg_in1k',\n",
       " 'repvgg_b2.rvgg_in1k',\n",
       " 'repvgg_b2g4.rvgg_in1k',\n",
       " 'repvgg_b3.rvgg_in1k',\n",
       " 'repvgg_b3g4.rvgg_in1k',\n",
       " 'repvgg_d2se.rvgg_in1k',\n",
       " 'repvit_m0_9.dist_300e_in1k',\n",
       " 'repvit_m0_9.dist_450e_in1k',\n",
       " 'repvit_m1.dist_in1k',\n",
       " 'repvit_m1_0.dist_300e_in1k',\n",
       " 'repvit_m1_0.dist_450e_in1k',\n",
       " 'repvit_m1_1.dist_300e_in1k',\n",
       " 'repvit_m1_1.dist_450e_in1k',\n",
       " 'repvit_m1_5.dist_300e_in1k',\n",
       " 'repvit_m1_5.dist_450e_in1k',\n",
       " 'repvit_m2.dist_in1k',\n",
       " 'repvit_m2_3.dist_300e_in1k',\n",
       " 'repvit_m2_3.dist_450e_in1k',\n",
       " 'repvit_m3.dist_in1k',\n",
       " 'res2net50_14w_8s.in1k',\n",
       " 'res2net50_26w_4s.in1k',\n",
       " 'res2net50_26w_6s.in1k',\n",
       " 'res2net50_26w_8s.in1k',\n",
       " 'res2net50_48w_2s.in1k',\n",
       " 'res2net50d.in1k',\n",
       " 'res2net101_26w_4s.in1k',\n",
       " 'res2net101d.in1k',\n",
       " 'res2next50.in1k',\n",
       " 'resmlp_12_224.fb_dino',\n",
       " 'resmlp_12_224.fb_distilled_in1k',\n",
       " 'resmlp_12_224.fb_in1k',\n",
       " 'resmlp_24_224.fb_dino',\n",
       " 'resmlp_24_224.fb_distilled_in1k',\n",
       " 'resmlp_24_224.fb_in1k',\n",
       " 'resmlp_36_224.fb_distilled_in1k',\n",
       " 'resmlp_36_224.fb_in1k',\n",
       " 'resmlp_big_24_224.fb_distilled_in1k',\n",
       " 'resmlp_big_24_224.fb_in1k',\n",
       " 'resmlp_big_24_224.fb_in22k_ft_in1k',\n",
       " 'resnest14d.gluon_in1k',\n",
       " 'resnest26d.gluon_in1k',\n",
       " 'resnest50d.in1k',\n",
       " 'resnest50d_1s4x24d.in1k',\n",
       " 'resnest50d_4s2x40d.in1k',\n",
       " 'resnest101e.in1k',\n",
       " 'resnest200e.in1k',\n",
       " 'resnest269e.in1k',\n",
       " 'resnet10t.c3_in1k',\n",
       " 'resnet14t.c3_in1k',\n",
       " 'resnet18.a1_in1k',\n",
       " 'resnet18.a2_in1k',\n",
       " 'resnet18.a3_in1k',\n",
       " 'resnet18.fb_ssl_yfcc100m_ft_in1k',\n",
       " 'resnet18.fb_swsl_ig1b_ft_in1k',\n",
       " 'resnet18.gluon_in1k',\n",
       " 'resnet18.tv_in1k',\n",
       " 'resnet18d.ra2_in1k',\n",
       " 'resnet18d.ra4_e3600_r224_in1k',\n",
       " 'resnet26.bt_in1k',\n",
       " 'resnet26d.bt_in1k',\n",
       " 'resnet26t.ra2_in1k',\n",
       " 'resnet32ts.ra2_in1k',\n",
       " 'resnet33ts.ra2_in1k',\n",
       " 'resnet34.a1_in1k',\n",
       " 'resnet34.a2_in1k',\n",
       " 'resnet34.a3_in1k',\n",
       " 'resnet34.bt_in1k',\n",
       " 'resnet34.gluon_in1k',\n",
       " 'resnet34.ra4_e3600_r224_in1k',\n",
       " 'resnet34.tv_in1k',\n",
       " 'resnet34d.ra2_in1k',\n",
       " 'resnet50.a1_in1k',\n",
       " 'resnet50.a1h_in1k',\n",
       " 'resnet50.a2_in1k',\n",
       " 'resnet50.a3_in1k',\n",
       " 'resnet50.am_in1k',\n",
       " 'resnet50.b1k_in1k',\n",
       " 'resnet50.b2k_in1k',\n",
       " 'resnet50.bt_in1k',\n",
       " 'resnet50.c1_in1k',\n",
       " 'resnet50.c2_in1k',\n",
       " 'resnet50.d_in1k',\n",
       " 'resnet50.fb_ssl_yfcc100m_ft_in1k',\n",
       " 'resnet50.fb_swsl_ig1b_ft_in1k',\n",
       " 'resnet50.gluon_in1k',\n",
       " 'resnet50.ra_in1k',\n",
       " 'resnet50.ram_in1k',\n",
       " 'resnet50.tv2_in1k',\n",
       " 'resnet50.tv_in1k',\n",
       " 'resnet50_clip.cc12m',\n",
       " 'resnet50_clip.openai',\n",
       " 'resnet50_clip.yfcc15m',\n",
       " 'resnet50_clip_gap.cc12m',\n",
       " 'resnet50_clip_gap.openai',\n",
       " 'resnet50_clip_gap.yfcc15m',\n",
       " 'resnet50_gn.a1h_in1k',\n",
       " 'resnet50c.gluon_in1k',\n",
       " 'resnet50d.a1_in1k',\n",
       " 'resnet50d.a2_in1k',\n",
       " 'resnet50d.a3_in1k',\n",
       " 'resnet50d.gluon_in1k',\n",
       " 'resnet50d.ra2_in1k',\n",
       " 'resnet50d.ra4_e3600_r224_in1k',\n",
       " 'resnet50s.gluon_in1k',\n",
       " 'resnet50x4_clip.openai',\n",
       " 'resnet50x4_clip_gap.openai',\n",
       " 'resnet50x16_clip.openai',\n",
       " 'resnet50x16_clip_gap.openai',\n",
       " 'resnet50x64_clip.openai',\n",
       " 'resnet50x64_clip_gap.openai',\n",
       " 'resnet51q.ra2_in1k',\n",
       " 'resnet61q.ra2_in1k',\n",
       " 'resnet101.a1_in1k',\n",
       " 'resnet101.a1h_in1k',\n",
       " 'resnet101.a2_in1k',\n",
       " 'resnet101.a3_in1k',\n",
       " 'resnet101.gluon_in1k',\n",
       " 'resnet101.tv2_in1k',\n",
       " 'resnet101.tv_in1k',\n",
       " 'resnet101_clip.openai',\n",
       " 'resnet101_clip.yfcc15m',\n",
       " 'resnet101_clip_gap.openai',\n",
       " 'resnet101_clip_gap.yfcc15m',\n",
       " 'resnet101c.gluon_in1k',\n",
       " 'resnet101d.gluon_in1k',\n",
       " 'resnet101d.ra2_in1k',\n",
       " 'resnet101s.gluon_in1k',\n",
       " 'resnet152.a1_in1k',\n",
       " 'resnet152.a1h_in1k',\n",
       " 'resnet152.a2_in1k',\n",
       " 'resnet152.a3_in1k',\n",
       " 'resnet152.gluon_in1k',\n",
       " 'resnet152.tv2_in1k',\n",
       " 'resnet152.tv_in1k',\n",
       " 'resnet152c.gluon_in1k',\n",
       " 'resnet152d.gluon_in1k',\n",
       " 'resnet152d.ra2_in1k',\n",
       " 'resnet152s.gluon_in1k',\n",
       " 'resnet200d.ra2_in1k',\n",
       " 'resnetaa50.a1h_in1k',\n",
       " 'resnetaa50d.d_in12k',\n",
       " 'resnetaa50d.sw_in12k',\n",
       " 'resnetaa50d.sw_in12k_ft_in1k',\n",
       " 'resnetaa101d.sw_in12k',\n",
       " 'resnetaa101d.sw_in12k_ft_in1k',\n",
       " 'resnetblur50.bt_in1k',\n",
       " 'resnetrs50.tf_in1k',\n",
       " 'resnetrs101.tf_in1k',\n",
       " 'resnetrs152.tf_in1k',\n",
       " 'resnetrs200.tf_in1k',\n",
       " 'resnetrs270.tf_in1k',\n",
       " 'resnetrs350.tf_in1k',\n",
       " 'resnetrs420.tf_in1k',\n",
       " 'resnetv2_18.ra4_e3600_r224_in1k',\n",
       " 'resnetv2_18d.ra4_e3600_r224_in1k',\n",
       " 'resnetv2_34.ra4_e3600_r224_in1k',\n",
       " 'resnetv2_34d.ra4_e3600_r224_in1k',\n",
       " 'resnetv2_34d.ra4_e3600_r384_in1k',\n",
       " 'resnetv2_50.a1h_in1k',\n",
       " 'resnetv2_50d_evos.ah_in1k',\n",
       " 'resnetv2_50d_gn.ah_in1k',\n",
       " 'resnetv2_50x1_bit.goog_distilled_in1k',\n",
       " 'resnetv2_50x1_bit.goog_in21k',\n",
       " 'resnetv2_50x1_bit.goog_in21k_ft_in1k',\n",
       " 'resnetv2_50x3_bit.goog_in21k',\n",
       " 'resnetv2_50x3_bit.goog_in21k_ft_in1k',\n",
       " 'resnetv2_101.a1h_in1k',\n",
       " 'resnetv2_101x1_bit.goog_in21k',\n",
       " 'resnetv2_101x1_bit.goog_in21k_ft_in1k',\n",
       " 'resnetv2_101x3_bit.goog_in21k',\n",
       " 'resnetv2_101x3_bit.goog_in21k_ft_in1k',\n",
       " 'resnetv2_152x2_bit.goog_in21k',\n",
       " 'resnetv2_152x2_bit.goog_in21k_ft_in1k',\n",
       " 'resnetv2_152x2_bit.goog_teacher_in21k_ft_in1k',\n",
       " ...]"
      ]
     },
     "execution_count": 10,
     "metadata": {},
     "output_type": "execute_result"
    }
   ],
   "source": [
    "timm.list_models(pretrained=True)"
   ]
  }
 ],
 "metadata": {
  "kaggle": {
   "accelerator": "nvidiaTeslaT4",
   "dataSources": [
    {
     "databundleVersionId": 11361821,
     "sourceId": 91844,
     "sourceType": "competition"
    },
    {
     "datasetId": 6886569,
     "sourceId": 11053663,
     "sourceType": "datasetVersion"
    }
   ],
   "dockerImageVersionId": 30919,
   "isGpuEnabled": true,
   "isInternetEnabled": true,
   "language": "python",
   "sourceType": "notebook"
  },
  "kernelspec": {
   "display_name": "Python 3",
   "language": "python",
   "name": "python3"
  },
  "language_info": {
   "codemirror_mode": {
    "name": "ipython",
    "version": 3
   },
   "file_extension": ".py",
   "mimetype": "text/x-python",
   "name": "python",
   "nbconvert_exporter": "python",
   "pygments_lexer": "ipython3",
   "version": "3.11.9"
  },
  "papermill": {
   "default_parameters": {},
   "duration": 105.861675,
   "end_time": "2025-03-17T14:02:15.686871",
   "environment_variables": {},
   "exception": null,
   "input_path": "__notebook__.ipynb",
   "output_path": "__notebook__.ipynb",
   "parameters": {},
   "start_time": "2025-03-17T14:00:29.825196",
   "version": "2.6.0"
  },
  "widgets": {
   "application/vnd.jupyter.widget-state+json": {
    "state": {
     "0fa836ee22b04b368008c3690b558e46": {
      "model_module": "@jupyter-widgets/controls",
      "model_module_version": "2.0.0",
      "model_name": "ProgressStyleModel",
      "state": {
       "_model_module": "@jupyter-widgets/controls",
       "_model_module_version": "2.0.0",
       "_model_name": "ProgressStyleModel",
       "_view_count": null,
       "_view_module": "@jupyter-widgets/base",
       "_view_module_version": "2.0.0",
       "_view_name": "StyleView",
       "bar_color": null,
       "description_width": ""
      }
     },
     "114dd08c70bd4b1c9eca37e27bf08897": {
      "model_module": "@jupyter-widgets/base",
      "model_module_version": "2.0.0",
      "model_name": "LayoutModel",
      "state": {
       "_model_module": "@jupyter-widgets/base",
       "_model_module_version": "2.0.0",
       "_model_name": "LayoutModel",
       "_view_count": null,
       "_view_module": "@jupyter-widgets/base",
       "_view_module_version": "2.0.0",
       "_view_name": "LayoutView",
       "align_content": null,
       "align_items": null,
       "align_self": null,
       "border_bottom": null,
       "border_left": null,
       "border_right": null,
       "border_top": null,
       "bottom": null,
       "display": null,
       "flex": null,
       "flex_flow": null,
       "grid_area": null,
       "grid_auto_columns": null,
       "grid_auto_flow": null,
       "grid_auto_rows": null,
       "grid_column": null,
       "grid_gap": null,
       "grid_row": null,
       "grid_template_areas": null,
       "grid_template_columns": null,
       "grid_template_rows": null,
       "height": null,
       "justify_content": null,
       "justify_items": null,
       "left": null,
       "margin": null,
       "max_height": null,
       "max_width": null,
       "min_height": null,
       "min_width": null,
       "object_fit": null,
       "object_position": null,
       "order": null,
       "overflow": null,
       "padding": null,
       "right": null,
       "top": null,
       "visibility": null,
       "width": null
      }
     },
     "1300468cac164026a61e5e60b05b005d": {
      "model_module": "@jupyter-widgets/base",
      "model_module_version": "2.0.0",
      "model_name": "LayoutModel",
      "state": {
       "_model_module": "@jupyter-widgets/base",
       "_model_module_version": "2.0.0",
       "_model_name": "LayoutModel",
       "_view_count": null,
       "_view_module": "@jupyter-widgets/base",
       "_view_module_version": "2.0.0",
       "_view_name": "LayoutView",
       "align_content": null,
       "align_items": null,
       "align_self": null,
       "border_bottom": null,
       "border_left": null,
       "border_right": null,
       "border_top": null,
       "bottom": null,
       "display": null,
       "flex": null,
       "flex_flow": null,
       "grid_area": null,
       "grid_auto_columns": null,
       "grid_auto_flow": null,
       "grid_auto_rows": null,
       "grid_column": null,
       "grid_gap": null,
       "grid_row": null,
       "grid_template_areas": null,
       "grid_template_columns": null,
       "grid_template_rows": null,
       "height": null,
       "justify_content": null,
       "justify_items": null,
       "left": null,
       "margin": null,
       "max_height": null,
       "max_width": null,
       "min_height": null,
       "min_width": null,
       "object_fit": null,
       "object_position": null,
       "order": null,
       "overflow": null,
       "padding": null,
       "right": null,
       "top": null,
       "visibility": null,
       "width": null
      }
     },
     "158d32467f5247c983eb8907b6f5436f": {
      "model_module": "@jupyter-widgets/controls",
      "model_module_version": "2.0.0",
      "model_name": "HBoxModel",
      "state": {
       "_dom_classes": [],
       "_model_module": "@jupyter-widgets/controls",
       "_model_module_version": "2.0.0",
       "_model_name": "HBoxModel",
       "_view_count": null,
       "_view_module": "@jupyter-widgets/controls",
       "_view_module_version": "2.0.0",
       "_view_name": "HBoxView",
       "box_style": "",
       "children": [
        "IPY_MODEL_ad27b2a5cded4c23a3f72be3cee7c158",
        "IPY_MODEL_2d82fd9a33be40a19b68a6b37ee2375c",
        "IPY_MODEL_8720627fe38240cb88edd61a2fa45481"
       ],
       "layout": "IPY_MODEL_8eca206926bb44e9b42a5170bf4b1492",
       "tabbable": null,
       "tooltip": null
      }
     },
     "1ad6a9d60ae24934ae355801b4992850": {
      "model_module": "@jupyter-widgets/controls",
      "model_module_version": "2.0.0",
      "model_name": "HBoxModel",
      "state": {
       "_dom_classes": [],
       "_model_module": "@jupyter-widgets/controls",
       "_model_module_version": "2.0.0",
       "_model_name": "HBoxModel",
       "_view_count": null,
       "_view_module": "@jupyter-widgets/controls",
       "_view_module_version": "2.0.0",
       "_view_name": "HBoxView",
       "box_style": "",
       "children": [
        "IPY_MODEL_1be8903e7c5d424abe30c82905dfa291",
        "IPY_MODEL_beceebaa8bef4939a3027e1756c820ca",
        "IPY_MODEL_65c613e48ff14d02b91adbeae536f703"
       ],
       "layout": "IPY_MODEL_7d38c7c32ff24563ae51248957aac76a",
       "tabbable": null,
       "tooltip": null
      }
     },
     "1be8903e7c5d424abe30c82905dfa291": {
      "model_module": "@jupyter-widgets/controls",
      "model_module_version": "2.0.0",
      "model_name": "HTMLModel",
      "state": {
       "_dom_classes": [],
       "_model_module": "@jupyter-widgets/controls",
       "_model_module_version": "2.0.0",
       "_model_name": "HTMLModel",
       "_view_count": null,
       "_view_module": "@jupyter-widgets/controls",
       "_view_module_version": "2.0.0",
       "_view_name": "HTMLView",
       "description": "",
       "description_allow_html": false,
       "layout": "IPY_MODEL_fbd77392c5e94748a19ab6adc204c0f0",
       "placeholder": "​",
       "style": "IPY_MODEL_5c8f99997b3d447cb7664e6c8213d5af",
       "tabbable": null,
       "tooltip": null,
       "value": "Validation: 100%"
      }
     },
     "1e6784d317664982818c369ec64d4375": {
      "model_module": "@jupyter-widgets/base",
      "model_module_version": "2.0.0",
      "model_name": "LayoutModel",
      "state": {
       "_model_module": "@jupyter-widgets/base",
       "_model_module_version": "2.0.0",
       "_model_name": "LayoutModel",
       "_view_count": null,
       "_view_module": "@jupyter-widgets/base",
       "_view_module_version": "2.0.0",
       "_view_name": "LayoutView",
       "align_content": null,
       "align_items": null,
       "align_self": null,
       "border_bottom": null,
       "border_left": null,
       "border_right": null,
       "border_top": null,
       "bottom": null,
       "display": null,
       "flex": null,
       "flex_flow": null,
       "grid_area": null,
       "grid_auto_columns": null,
       "grid_auto_flow": null,
       "grid_auto_rows": null,
       "grid_column": null,
       "grid_gap": null,
       "grid_row": null,
       "grid_template_areas": null,
       "grid_template_columns": null,
       "grid_template_rows": null,
       "height": null,
       "justify_content": null,
       "justify_items": null,
       "left": null,
       "margin": null,
       "max_height": null,
       "max_width": null,
       "min_height": null,
       "min_width": null,
       "object_fit": null,
       "object_position": null,
       "order": null,
       "overflow": null,
       "padding": null,
       "right": null,
       "top": null,
       "visibility": null,
       "width": null
      }
     },
     "23b325002c114fb6801da1f6f7e2a2eb": {
      "model_module": "@jupyter-widgets/base",
      "model_module_version": "2.0.0",
      "model_name": "LayoutModel",
      "state": {
       "_model_module": "@jupyter-widgets/base",
       "_model_module_version": "2.0.0",
       "_model_name": "LayoutModel",
       "_view_count": null,
       "_view_module": "@jupyter-widgets/base",
       "_view_module_version": "2.0.0",
       "_view_name": "LayoutView",
       "align_content": null,
       "align_items": null,
       "align_self": null,
       "border_bottom": null,
       "border_left": null,
       "border_right": null,
       "border_top": null,
       "bottom": null,
       "display": null,
       "flex": null,
       "flex_flow": null,
       "grid_area": null,
       "grid_auto_columns": null,
       "grid_auto_flow": null,
       "grid_auto_rows": null,
       "grid_column": null,
       "grid_gap": null,
       "grid_row": null,
       "grid_template_areas": null,
       "grid_template_columns": null,
       "grid_template_rows": null,
       "height": null,
       "justify_content": null,
       "justify_items": null,
       "left": null,
       "margin": null,
       "max_height": null,
       "max_width": null,
       "min_height": null,
       "min_width": null,
       "object_fit": null,
       "object_position": null,
       "order": null,
       "overflow": null,
       "padding": null,
       "right": null,
       "top": null,
       "visibility": null,
       "width": null
      }
     },
     "23b951c7b2c847bbaf9c066b7f932c12": {
      "model_module": "@jupyter-widgets/controls",
      "model_module_version": "2.0.0",
      "model_name": "HTMLModel",
      "state": {
       "_dom_classes": [],
       "_model_module": "@jupyter-widgets/controls",
       "_model_module_version": "2.0.0",
       "_model_name": "HTMLModel",
       "_view_count": null,
       "_view_module": "@jupyter-widgets/controls",
       "_view_module_version": "2.0.0",
       "_view_name": "HTMLView",
       "description": "",
       "description_allow_html": false,
       "layout": "IPY_MODEL_f808eb60489b4ef2bc76b055d5c477ff",
       "placeholder": "​",
       "style": "IPY_MODEL_ed26d5cb2ff3426a9449e0166b68afbf",
       "tabbable": null,
       "tooltip": null,
       "value": " 31/31 [00:05&lt;00:00,  5.70it/s, train_loss=0.0308, lr=0.000488]"
      }
     },
     "2b7b0d3f79504d87a8dbfb2f7893399a": {
      "model_module": "@jupyter-widgets/controls",
      "model_module_version": "2.0.0",
      "model_name": "FloatProgressModel",
      "state": {
       "_dom_classes": [],
       "_model_module": "@jupyter-widgets/controls",
       "_model_module_version": "2.0.0",
       "_model_name": "FloatProgressModel",
       "_view_count": null,
       "_view_module": "@jupyter-widgets/controls",
       "_view_module_version": "2.0.0",
       "_view_name": "ProgressView",
       "bar_style": "success",
       "description": "",
       "description_allow_html": false,
       "layout": "IPY_MODEL_527982470da345c590c47f26ce1f9ccf",
       "max": 31,
       "min": 0,
       "orientation": "horizontal",
       "style": "IPY_MODEL_ddf272308e664d24820c9ca6e917e456",
       "tabbable": null,
       "tooltip": null,
       "value": 31
      }
     },
     "2d82fd9a33be40a19b68a6b37ee2375c": {
      "model_module": "@jupyter-widgets/controls",
      "model_module_version": "2.0.0",
      "model_name": "FloatProgressModel",
      "state": {
       "_dom_classes": [],
       "_model_module": "@jupyter-widgets/controls",
       "_model_module_version": "2.0.0",
       "_model_name": "FloatProgressModel",
       "_view_count": null,
       "_view_module": "@jupyter-widgets/controls",
       "_view_module_version": "2.0.0",
       "_view_name": "ProgressView",
       "bar_style": "success",
       "description": "",
       "description_allow_html": false,
       "layout": "IPY_MODEL_f4cc700caf0949c5bf39d8f7539ba2d2",
       "max": 21355344,
       "min": 0,
       "orientation": "horizontal",
       "style": "IPY_MODEL_925afd9abcc74142bd88971863bb345b",
       "tabbable": null,
       "tooltip": null,
       "value": 21355344
      }
     },
     "35b20f9b2e8746c68e234fcb6d29f047": {
      "model_module": "@jupyter-widgets/controls",
      "model_module_version": "2.0.0",
      "model_name": "FloatProgressModel",
      "state": {
       "_dom_classes": [],
       "_model_module": "@jupyter-widgets/controls",
       "_model_module_version": "2.0.0",
       "_model_name": "FloatProgressModel",
       "_view_count": null,
       "_view_module": "@jupyter-widgets/controls",
       "_view_module_version": "2.0.0",
       "_view_name": "ProgressView",
       "bar_style": "success",
       "description": "",
       "description_allow_html": false,
       "layout": "IPY_MODEL_23b325002c114fb6801da1f6f7e2a2eb",
       "max": 31,
       "min": 0,
       "orientation": "horizontal",
       "style": "IPY_MODEL_926aa065fa4f40b4b623fd079ba7cd0f",
       "tabbable": null,
       "tooltip": null,
       "value": 31
      }
     },
     "527982470da345c590c47f26ce1f9ccf": {
      "model_module": "@jupyter-widgets/base",
      "model_module_version": "2.0.0",
      "model_name": "LayoutModel",
      "state": {
       "_model_module": "@jupyter-widgets/base",
       "_model_module_version": "2.0.0",
       "_model_name": "LayoutModel",
       "_view_count": null,
       "_view_module": "@jupyter-widgets/base",
       "_view_module_version": "2.0.0",
       "_view_name": "LayoutView",
       "align_content": null,
       "align_items": null,
       "align_self": null,
       "border_bottom": null,
       "border_left": null,
       "border_right": null,
       "border_top": null,
       "bottom": null,
       "display": null,
       "flex": null,
       "flex_flow": null,
       "grid_area": null,
       "grid_auto_columns": null,
       "grid_auto_flow": null,
       "grid_auto_rows": null,
       "grid_column": null,
       "grid_gap": null,
       "grid_row": null,
       "grid_template_areas": null,
       "grid_template_columns": null,
       "grid_template_rows": null,
       "height": null,
       "justify_content": null,
       "justify_items": null,
       "left": null,
       "margin": null,
       "max_height": null,
       "max_width": null,
       "min_height": null,
       "min_width": null,
       "object_fit": null,
       "object_position": null,
       "order": null,
       "overflow": null,
       "padding": null,
       "right": null,
       "top": null,
       "visibility": null,
       "width": null
      }
     },
     "546a352a5f6d48bd9769e2dff67a1419": {
      "model_module": "@jupyter-widgets/controls",
      "model_module_version": "2.0.0",
      "model_name": "HTMLStyleModel",
      "state": {
       "_model_module": "@jupyter-widgets/controls",
       "_model_module_version": "2.0.0",
       "_model_name": "HTMLStyleModel",
       "_view_count": null,
       "_view_module": "@jupyter-widgets/base",
       "_view_module_version": "2.0.0",
       "_view_name": "StyleView",
       "background": null,
       "description_width": "",
       "font_size": null,
       "text_color": null
      }
     },
     "577df72f0ce349d8988b16f4429c3116": {
      "model_module": "@jupyter-widgets/controls",
      "model_module_version": "2.0.0",
      "model_name": "HTMLModel",
      "state": {
       "_dom_classes": [],
       "_model_module": "@jupyter-widgets/controls",
       "_model_module_version": "2.0.0",
       "_model_name": "HTMLModel",
       "_view_count": null,
       "_view_module": "@jupyter-widgets/controls",
       "_view_module_version": "2.0.0",
       "_view_name": "HTMLView",
       "description": "",
       "description_allow_html": false,
       "layout": "IPY_MODEL_6314d51e57944ca399dd8819d2c5c214",
       "placeholder": "​",
       "style": "IPY_MODEL_c4ccd0e9a85348d4a50bda1dc66d9658",
       "tabbable": null,
       "tooltip": null,
       "value": "Training: 100%"
      }
     },
     "5c8f99997b3d447cb7664e6c8213d5af": {
      "model_module": "@jupyter-widgets/controls",
      "model_module_version": "2.0.0",
      "model_name": "HTMLStyleModel",
      "state": {
       "_model_module": "@jupyter-widgets/controls",
       "_model_module_version": "2.0.0",
       "_model_name": "HTMLStyleModel",
       "_view_count": null,
       "_view_module": "@jupyter-widgets/base",
       "_view_module_version": "2.0.0",
       "_view_name": "StyleView",
       "background": null,
       "description_width": "",
       "font_size": null,
       "text_color": null
      }
     },
     "60623af9dc82439fbac9dce1bb4a9d90": {
      "model_module": "@jupyter-widgets/controls",
      "model_module_version": "2.0.0",
      "model_name": "ProgressStyleModel",
      "state": {
       "_model_module": "@jupyter-widgets/controls",
       "_model_module_version": "2.0.0",
       "_model_name": "ProgressStyleModel",
       "_view_count": null,
       "_view_module": "@jupyter-widgets/base",
       "_view_module_version": "2.0.0",
       "_view_name": "StyleView",
       "bar_color": null,
       "description_width": ""
      }
     },
     "6314d51e57944ca399dd8819d2c5c214": {
      "model_module": "@jupyter-widgets/base",
      "model_module_version": "2.0.0",
      "model_name": "LayoutModel",
      "state": {
       "_model_module": "@jupyter-widgets/base",
       "_model_module_version": "2.0.0",
       "_model_name": "LayoutModel",
       "_view_count": null,
       "_view_module": "@jupyter-widgets/base",
       "_view_module_version": "2.0.0",
       "_view_name": "LayoutView",
       "align_content": null,
       "align_items": null,
       "align_self": null,
       "border_bottom": null,
       "border_left": null,
       "border_right": null,
       "border_top": null,
       "bottom": null,
       "display": null,
       "flex": null,
       "flex_flow": null,
       "grid_area": null,
       "grid_auto_columns": null,
       "grid_auto_flow": null,
       "grid_auto_rows": null,
       "grid_column": null,
       "grid_gap": null,
       "grid_row": null,
       "grid_template_areas": null,
       "grid_template_columns": null,
       "grid_template_rows": null,
       "height": null,
       "justify_content": null,
       "justify_items": null,
       "left": null,
       "margin": null,
       "max_height": null,
       "max_width": null,
       "min_height": null,
       "min_width": null,
       "object_fit": null,
       "object_position": null,
       "order": null,
       "overflow": null,
       "padding": null,
       "right": null,
       "top": null,
       "visibility": null,
       "width": null
      }
     },
     "65c613e48ff14d02b91adbeae536f703": {
      "model_module": "@jupyter-widgets/controls",
      "model_module_version": "2.0.0",
      "model_name": "HTMLModel",
      "state": {
       "_dom_classes": [],
       "_model_module": "@jupyter-widgets/controls",
       "_model_module_version": "2.0.0",
       "_model_name": "HTMLModel",
       "_view_count": null,
       "_view_module": "@jupyter-widgets/controls",
       "_view_module_version": "2.0.0",
       "_view_name": "HTMLView",
       "description": "",
       "description_allow_html": false,
       "layout": "IPY_MODEL_114dd08c70bd4b1c9eca37e27bf08897",
       "placeholder": "​",
       "style": "IPY_MODEL_f8e3ad286a374d558e61627ba3a67d26",
       "tabbable": null,
       "tooltip": null,
       "value": " 32/32 [00:02&lt;00:00, 22.08it/s]"
      }
     },
     "66d95ea040244824b4f188b4985e8cb2": {
      "model_module": "@jupyter-widgets/controls",
      "model_module_version": "2.0.0",
      "model_name": "HTMLStyleModel",
      "state": {
       "_model_module": "@jupyter-widgets/controls",
       "_model_module_version": "2.0.0",
       "_model_name": "HTMLStyleModel",
       "_view_count": null,
       "_view_module": "@jupyter-widgets/base",
       "_view_module_version": "2.0.0",
       "_view_name": "StyleView",
       "background": null,
       "description_width": "",
       "font_size": null,
       "text_color": null
      }
     },
     "690250bf83464a7f91cd587a5f56d48e": {
      "model_module": "@jupyter-widgets/controls",
      "model_module_version": "2.0.0",
      "model_name": "HTMLStyleModel",
      "state": {
       "_model_module": "@jupyter-widgets/controls",
       "_model_module_version": "2.0.0",
       "_model_name": "HTMLStyleModel",
       "_view_count": null,
       "_view_module": "@jupyter-widgets/base",
       "_view_module_version": "2.0.0",
       "_view_name": "StyleView",
       "background": null,
       "description_width": "",
       "font_size": null,
       "text_color": null
      }
     },
     "7036c511c9b34e76837009a371c58be9": {
      "model_module": "@jupyter-widgets/controls",
      "model_module_version": "2.0.0",
      "model_name": "HTMLModel",
      "state": {
       "_dom_classes": [],
       "_model_module": "@jupyter-widgets/controls",
       "_model_module_version": "2.0.0",
       "_model_name": "HTMLModel",
       "_view_count": null,
       "_view_module": "@jupyter-widgets/controls",
       "_view_module_version": "2.0.0",
       "_view_name": "HTMLView",
       "description": "",
       "description_allow_html": false,
       "layout": "IPY_MODEL_1300468cac164026a61e5e60b05b005d",
       "placeholder": "​",
       "style": "IPY_MODEL_690250bf83464a7f91cd587a5f56d48e",
       "tabbable": null,
       "tooltip": null,
       "value": " 32/32 [00:01&lt;00:00, 22.00it/s]"
      }
     },
     "74c1cd7782554123a2d89d46d13808b3": {
      "model_module": "@jupyter-widgets/controls",
      "model_module_version": "2.0.0",
      "model_name": "HBoxModel",
      "state": {
       "_dom_classes": [],
       "_model_module": "@jupyter-widgets/controls",
       "_model_module_version": "2.0.0",
       "_model_name": "HBoxModel",
       "_view_count": null,
       "_view_module": "@jupyter-widgets/controls",
       "_view_module_version": "2.0.0",
       "_view_name": "HBoxView",
       "box_style": "",
       "children": [
        "IPY_MODEL_d995347d83ec40e2b0c1db58a78e3dde",
        "IPY_MODEL_dcdaa701c23b4a1697b18ae319e036f6",
        "IPY_MODEL_7036c511c9b34e76837009a371c58be9"
       ],
       "layout": "IPY_MODEL_dc55c130999847b6a7460d8d68f31668",
       "tabbable": null,
       "tooltip": null
      }
     },
     "7d38c7c32ff24563ae51248957aac76a": {
      "model_module": "@jupyter-widgets/base",
      "model_module_version": "2.0.0",
      "model_name": "LayoutModel",
      "state": {
       "_model_module": "@jupyter-widgets/base",
       "_model_module_version": "2.0.0",
       "_model_name": "LayoutModel",
       "_view_count": null,
       "_view_module": "@jupyter-widgets/base",
       "_view_module_version": "2.0.0",
       "_view_name": "LayoutView",
       "align_content": null,
       "align_items": null,
       "align_self": null,
       "border_bottom": null,
       "border_left": null,
       "border_right": null,
       "border_top": null,
       "bottom": null,
       "display": null,
       "flex": null,
       "flex_flow": null,
       "grid_area": null,
       "grid_auto_columns": null,
       "grid_auto_flow": null,
       "grid_auto_rows": null,
       "grid_column": null,
       "grid_gap": null,
       "grid_row": null,
       "grid_template_areas": null,
       "grid_template_columns": null,
       "grid_template_rows": null,
       "height": null,
       "justify_content": null,
       "justify_items": null,
       "left": null,
       "margin": null,
       "max_height": null,
       "max_width": null,
       "min_height": null,
       "min_width": null,
       "object_fit": null,
       "object_position": null,
       "order": null,
       "overflow": null,
       "padding": null,
       "right": null,
       "top": null,
       "visibility": null,
       "width": null
      }
     },
     "871d479608024b77bb2db8278e3f659d": {
      "model_module": "@jupyter-widgets/base",
      "model_module_version": "2.0.0",
      "model_name": "LayoutModel",
      "state": {
       "_model_module": "@jupyter-widgets/base",
       "_model_module_version": "2.0.0",
       "_model_name": "LayoutModel",
       "_view_count": null,
       "_view_module": "@jupyter-widgets/base",
       "_view_module_version": "2.0.0",
       "_view_name": "LayoutView",
       "align_content": null,
       "align_items": null,
       "align_self": null,
       "border_bottom": null,
       "border_left": null,
       "border_right": null,
       "border_top": null,
       "bottom": null,
       "display": null,
       "flex": null,
       "flex_flow": null,
       "grid_area": null,
       "grid_auto_columns": null,
       "grid_auto_flow": null,
       "grid_auto_rows": null,
       "grid_column": null,
       "grid_gap": null,
       "grid_row": null,
       "grid_template_areas": null,
       "grid_template_columns": null,
       "grid_template_rows": null,
       "height": null,
       "justify_content": null,
       "justify_items": null,
       "left": null,
       "margin": null,
       "max_height": null,
       "max_width": null,
       "min_height": null,
       "min_width": null,
       "object_fit": null,
       "object_position": null,
       "order": null,
       "overflow": null,
       "padding": null,
       "right": null,
       "top": null,
       "visibility": null,
       "width": null
      }
     },
     "8720627fe38240cb88edd61a2fa45481": {
      "model_module": "@jupyter-widgets/controls",
      "model_module_version": "2.0.0",
      "model_name": "HTMLModel",
      "state": {
       "_dom_classes": [],
       "_model_module": "@jupyter-widgets/controls",
       "_model_module_version": "2.0.0",
       "_model_name": "HTMLModel",
       "_view_count": null,
       "_view_module": "@jupyter-widgets/controls",
       "_view_module_version": "2.0.0",
       "_view_name": "HTMLView",
       "description": "",
       "description_allow_html": false,
       "layout": "IPY_MODEL_934ed224b7fd4de3ab54a89a789f0e3a",
       "placeholder": "​",
       "style": "IPY_MODEL_a42ef4d205e74949b7fb2dee1039c2d8",
       "tabbable": null,
       "tooltip": null,
       "value": " 21.4M/21.4M [00:00&lt;00:00, 86.8MB/s]"
      }
     },
     "8e978a7645e7420fb2e452a3e2e7f69d": {
      "model_module": "@jupyter-widgets/controls",
      "model_module_version": "2.0.0",
      "model_name": "HTMLModel",
      "state": {
       "_dom_classes": [],
       "_model_module": "@jupyter-widgets/controls",
       "_model_module_version": "2.0.0",
       "_model_name": "HTMLModel",
       "_view_count": null,
       "_view_module": "@jupyter-widgets/controls",
       "_view_module_version": "2.0.0",
       "_view_name": "HTMLView",
       "description": "",
       "description_allow_html": false,
       "layout": "IPY_MODEL_ab2f0fc298124ff685860a158b2ec252",
       "placeholder": "​",
       "style": "IPY_MODEL_9366d6929e0c44408fb54456fff6c241",
       "tabbable": null,
       "tooltip": null,
       "value": " 31/31 [00:06&lt;00:00,  5.75it/s, train_loss=0.0344, lr=0.0005]"
      }
     },
     "8eca206926bb44e9b42a5170bf4b1492": {
      "model_module": "@jupyter-widgets/base",
      "model_module_version": "2.0.0",
      "model_name": "LayoutModel",
      "state": {
       "_model_module": "@jupyter-widgets/base",
       "_model_module_version": "2.0.0",
       "_model_name": "LayoutModel",
       "_view_count": null,
       "_view_module": "@jupyter-widgets/base",
       "_view_module_version": "2.0.0",
       "_view_name": "LayoutView",
       "align_content": null,
       "align_items": null,
       "align_self": null,
       "border_bottom": null,
       "border_left": null,
       "border_right": null,
       "border_top": null,
       "bottom": null,
       "display": null,
       "flex": null,
       "flex_flow": null,
       "grid_area": null,
       "grid_auto_columns": null,
       "grid_auto_flow": null,
       "grid_auto_rows": null,
       "grid_column": null,
       "grid_gap": null,
       "grid_row": null,
       "grid_template_areas": null,
       "grid_template_columns": null,
       "grid_template_rows": null,
       "height": null,
       "justify_content": null,
       "justify_items": null,
       "left": null,
       "margin": null,
       "max_height": null,
       "max_width": null,
       "min_height": null,
       "min_width": null,
       "object_fit": null,
       "object_position": null,
       "order": null,
       "overflow": null,
       "padding": null,
       "right": null,
       "top": null,
       "visibility": null,
       "width": null
      }
     },
     "9193f88c4b9842c4a73d33b86e2a79b8": {
      "model_module": "@jupyter-widgets/base",
      "model_module_version": "2.0.0",
      "model_name": "LayoutModel",
      "state": {
       "_model_module": "@jupyter-widgets/base",
       "_model_module_version": "2.0.0",
       "_model_name": "LayoutModel",
       "_view_count": null,
       "_view_module": "@jupyter-widgets/base",
       "_view_module_version": "2.0.0",
       "_view_name": "LayoutView",
       "align_content": null,
       "align_items": null,
       "align_self": null,
       "border_bottom": null,
       "border_left": null,
       "border_right": null,
       "border_top": null,
       "bottom": null,
       "display": null,
       "flex": null,
       "flex_flow": null,
       "grid_area": null,
       "grid_auto_columns": null,
       "grid_auto_flow": null,
       "grid_auto_rows": null,
       "grid_column": null,
       "grid_gap": null,
       "grid_row": null,
       "grid_template_areas": null,
       "grid_template_columns": null,
       "grid_template_rows": null,
       "height": null,
       "justify_content": null,
       "justify_items": null,
       "left": null,
       "margin": null,
       "max_height": null,
       "max_width": null,
       "min_height": null,
       "min_width": null,
       "object_fit": null,
       "object_position": null,
       "order": null,
       "overflow": null,
       "padding": null,
       "right": null,
       "top": null,
       "visibility": null,
       "width": null
      }
     },
     "925afd9abcc74142bd88971863bb345b": {
      "model_module": "@jupyter-widgets/controls",
      "model_module_version": "2.0.0",
      "model_name": "ProgressStyleModel",
      "state": {
       "_model_module": "@jupyter-widgets/controls",
       "_model_module_version": "2.0.0",
       "_model_name": "ProgressStyleModel",
       "_view_count": null,
       "_view_module": "@jupyter-widgets/base",
       "_view_module_version": "2.0.0",
       "_view_name": "StyleView",
       "bar_color": null,
       "description_width": ""
      }
     },
     "926aa065fa4f40b4b623fd079ba7cd0f": {
      "model_module": "@jupyter-widgets/controls",
      "model_module_version": "2.0.0",
      "model_name": "ProgressStyleModel",
      "state": {
       "_model_module": "@jupyter-widgets/controls",
       "_model_module_version": "2.0.0",
       "_model_name": "ProgressStyleModel",
       "_view_count": null,
       "_view_module": "@jupyter-widgets/base",
       "_view_module_version": "2.0.0",
       "_view_name": "StyleView",
       "bar_color": null,
       "description_width": ""
      }
     },
     "934ed224b7fd4de3ab54a89a789f0e3a": {
      "model_module": "@jupyter-widgets/base",
      "model_module_version": "2.0.0",
      "model_name": "LayoutModel",
      "state": {
       "_model_module": "@jupyter-widgets/base",
       "_model_module_version": "2.0.0",
       "_model_name": "LayoutModel",
       "_view_count": null,
       "_view_module": "@jupyter-widgets/base",
       "_view_module_version": "2.0.0",
       "_view_name": "LayoutView",
       "align_content": null,
       "align_items": null,
       "align_self": null,
       "border_bottom": null,
       "border_left": null,
       "border_right": null,
       "border_top": null,
       "bottom": null,
       "display": null,
       "flex": null,
       "flex_flow": null,
       "grid_area": null,
       "grid_auto_columns": null,
       "grid_auto_flow": null,
       "grid_auto_rows": null,
       "grid_column": null,
       "grid_gap": null,
       "grid_row": null,
       "grid_template_areas": null,
       "grid_template_columns": null,
       "grid_template_rows": null,
       "height": null,
       "justify_content": null,
       "justify_items": null,
       "left": null,
       "margin": null,
       "max_height": null,
       "max_width": null,
       "min_height": null,
       "min_width": null,
       "object_fit": null,
       "object_position": null,
       "order": null,
       "overflow": null,
       "padding": null,
       "right": null,
       "top": null,
       "visibility": null,
       "width": null
      }
     },
     "9366d6929e0c44408fb54456fff6c241": {
      "model_module": "@jupyter-widgets/controls",
      "model_module_version": "2.0.0",
      "model_name": "HTMLStyleModel",
      "state": {
       "_model_module": "@jupyter-widgets/controls",
       "_model_module_version": "2.0.0",
       "_model_name": "HTMLStyleModel",
       "_view_count": null,
       "_view_module": "@jupyter-widgets/base",
       "_view_module_version": "2.0.0",
       "_view_name": "StyleView",
       "background": null,
       "description_width": "",
       "font_size": null,
       "text_color": null
      }
     },
     "93a38cd64b7e457082b679b1aace02df": {
      "model_module": "@jupyter-widgets/base",
      "model_module_version": "2.0.0",
      "model_name": "LayoutModel",
      "state": {
       "_model_module": "@jupyter-widgets/base",
       "_model_module_version": "2.0.0",
       "_model_name": "LayoutModel",
       "_view_count": null,
       "_view_module": "@jupyter-widgets/base",
       "_view_module_version": "2.0.0",
       "_view_name": "LayoutView",
       "align_content": null,
       "align_items": null,
       "align_self": null,
       "border_bottom": null,
       "border_left": null,
       "border_right": null,
       "border_top": null,
       "bottom": null,
       "display": null,
       "flex": null,
       "flex_flow": null,
       "grid_area": null,
       "grid_auto_columns": null,
       "grid_auto_flow": null,
       "grid_auto_rows": null,
       "grid_column": null,
       "grid_gap": null,
       "grid_row": null,
       "grid_template_areas": null,
       "grid_template_columns": null,
       "grid_template_rows": null,
       "height": null,
       "justify_content": null,
       "justify_items": null,
       "left": null,
       "margin": null,
       "max_height": null,
       "max_width": null,
       "min_height": null,
       "min_width": null,
       "object_fit": null,
       "object_position": null,
       "order": null,
       "overflow": null,
       "padding": null,
       "right": null,
       "top": null,
       "visibility": null,
       "width": null
      }
     },
     "a17d437eca184c35ae51d6ddf160ad00": {
      "model_module": "@jupyter-widgets/controls",
      "model_module_version": "2.0.0",
      "model_name": "HTMLModel",
      "state": {
       "_dom_classes": [],
       "_model_module": "@jupyter-widgets/controls",
       "_model_module_version": "2.0.0",
       "_model_name": "HTMLModel",
       "_view_count": null,
       "_view_module": "@jupyter-widgets/controls",
       "_view_module_version": "2.0.0",
       "_view_name": "HTMLView",
       "description": "",
       "description_allow_html": false,
       "layout": "IPY_MODEL_b3d1cca7cebb47ee9a5fb1281ffa00bb",
       "placeholder": "​",
       "style": "IPY_MODEL_546a352a5f6d48bd9769e2dff67a1419",
       "tabbable": null,
       "tooltip": null,
       "value": "Training: 100%"
      }
     },
     "a337ff0d214a41d1a7314a4ca229bfd3": {
      "model_module": "@jupyter-widgets/base",
      "model_module_version": "2.0.0",
      "model_name": "LayoutModel",
      "state": {
       "_model_module": "@jupyter-widgets/base",
       "_model_module_version": "2.0.0",
       "_model_name": "LayoutModel",
       "_view_count": null,
       "_view_module": "@jupyter-widgets/base",
       "_view_module_version": "2.0.0",
       "_view_name": "LayoutView",
       "align_content": null,
       "align_items": null,
       "align_self": null,
       "border_bottom": null,
       "border_left": null,
       "border_right": null,
       "border_top": null,
       "bottom": null,
       "display": null,
       "flex": null,
       "flex_flow": null,
       "grid_area": null,
       "grid_auto_columns": null,
       "grid_auto_flow": null,
       "grid_auto_rows": null,
       "grid_column": null,
       "grid_gap": null,
       "grid_row": null,
       "grid_template_areas": null,
       "grid_template_columns": null,
       "grid_template_rows": null,
       "height": null,
       "justify_content": null,
       "justify_items": null,
       "left": null,
       "margin": null,
       "max_height": null,
       "max_width": null,
       "min_height": null,
       "min_width": null,
       "object_fit": null,
       "object_position": null,
       "order": null,
       "overflow": null,
       "padding": null,
       "right": null,
       "top": null,
       "visibility": null,
       "width": null
      }
     },
     "a42ef4d205e74949b7fb2dee1039c2d8": {
      "model_module": "@jupyter-widgets/controls",
      "model_module_version": "2.0.0",
      "model_name": "HTMLStyleModel",
      "state": {
       "_model_module": "@jupyter-widgets/controls",
       "_model_module_version": "2.0.0",
       "_model_name": "HTMLStyleModel",
       "_view_count": null,
       "_view_module": "@jupyter-widgets/base",
       "_view_module_version": "2.0.0",
       "_view_name": "StyleView",
       "background": null,
       "description_width": "",
       "font_size": null,
       "text_color": null
      }
     },
     "ab2f0fc298124ff685860a158b2ec252": {
      "model_module": "@jupyter-widgets/base",
      "model_module_version": "2.0.0",
      "model_name": "LayoutModel",
      "state": {
       "_model_module": "@jupyter-widgets/base",
       "_model_module_version": "2.0.0",
       "_model_name": "LayoutModel",
       "_view_count": null,
       "_view_module": "@jupyter-widgets/base",
       "_view_module_version": "2.0.0",
       "_view_name": "LayoutView",
       "align_content": null,
       "align_items": null,
       "align_self": null,
       "border_bottom": null,
       "border_left": null,
       "border_right": null,
       "border_top": null,
       "bottom": null,
       "display": null,
       "flex": null,
       "flex_flow": null,
       "grid_area": null,
       "grid_auto_columns": null,
       "grid_auto_flow": null,
       "grid_auto_rows": null,
       "grid_column": null,
       "grid_gap": null,
       "grid_row": null,
       "grid_template_areas": null,
       "grid_template_columns": null,
       "grid_template_rows": null,
       "height": null,
       "justify_content": null,
       "justify_items": null,
       "left": null,
       "margin": null,
       "max_height": null,
       "max_width": null,
       "min_height": null,
       "min_width": null,
       "object_fit": null,
       "object_position": null,
       "order": null,
       "overflow": null,
       "padding": null,
       "right": null,
       "top": null,
       "visibility": null,
       "width": null
      }
     },
     "ac1a06c6ab024f11a1a52431788f6823": {
      "model_module": "@jupyter-widgets/base",
      "model_module_version": "2.0.0",
      "model_name": "LayoutModel",
      "state": {
       "_model_module": "@jupyter-widgets/base",
       "_model_module_version": "2.0.0",
       "_model_name": "LayoutModel",
       "_view_count": null,
       "_view_module": "@jupyter-widgets/base",
       "_view_module_version": "2.0.0",
       "_view_name": "LayoutView",
       "align_content": null,
       "align_items": null,
       "align_self": null,
       "border_bottom": null,
       "border_left": null,
       "border_right": null,
       "border_top": null,
       "bottom": null,
       "display": null,
       "flex": null,
       "flex_flow": null,
       "grid_area": null,
       "grid_auto_columns": null,
       "grid_auto_flow": null,
       "grid_auto_rows": null,
       "grid_column": null,
       "grid_gap": null,
       "grid_row": null,
       "grid_template_areas": null,
       "grid_template_columns": null,
       "grid_template_rows": null,
       "height": null,
       "justify_content": null,
       "justify_items": null,
       "left": null,
       "margin": null,
       "max_height": null,
       "max_width": null,
       "min_height": null,
       "min_width": null,
       "object_fit": null,
       "object_position": null,
       "order": null,
       "overflow": null,
       "padding": null,
       "right": null,
       "top": null,
       "visibility": null,
       "width": null
      }
     },
     "ad27b2a5cded4c23a3f72be3cee7c158": {
      "model_module": "@jupyter-widgets/controls",
      "model_module_version": "2.0.0",
      "model_name": "HTMLModel",
      "state": {
       "_dom_classes": [],
       "_model_module": "@jupyter-widgets/controls",
       "_model_module_version": "2.0.0",
       "_model_name": "HTMLModel",
       "_view_count": null,
       "_view_module": "@jupyter-widgets/controls",
       "_view_module_version": "2.0.0",
       "_view_name": "HTMLView",
       "description": "",
       "description_allow_html": false,
       "layout": "IPY_MODEL_93a38cd64b7e457082b679b1aace02df",
       "placeholder": "​",
       "style": "IPY_MODEL_fb003526535b4cba8efa507d3f92a66b",
       "tabbable": null,
       "tooltip": null,
       "value": "model.safetensors: 100%"
      }
     },
     "b3d1cca7cebb47ee9a5fb1281ffa00bb": {
      "model_module": "@jupyter-widgets/base",
      "model_module_version": "2.0.0",
      "model_name": "LayoutModel",
      "state": {
       "_model_module": "@jupyter-widgets/base",
       "_model_module_version": "2.0.0",
       "_model_name": "LayoutModel",
       "_view_count": null,
       "_view_module": "@jupyter-widgets/base",
       "_view_module_version": "2.0.0",
       "_view_name": "LayoutView",
       "align_content": null,
       "align_items": null,
       "align_self": null,
       "border_bottom": null,
       "border_left": null,
       "border_right": null,
       "border_top": null,
       "bottom": null,
       "display": null,
       "flex": null,
       "flex_flow": null,
       "grid_area": null,
       "grid_auto_columns": null,
       "grid_auto_flow": null,
       "grid_auto_rows": null,
       "grid_column": null,
       "grid_gap": null,
       "grid_row": null,
       "grid_template_areas": null,
       "grid_template_columns": null,
       "grid_template_rows": null,
       "height": null,
       "justify_content": null,
       "justify_items": null,
       "left": null,
       "margin": null,
       "max_height": null,
       "max_width": null,
       "min_height": null,
       "min_width": null,
       "object_fit": null,
       "object_position": null,
       "order": null,
       "overflow": null,
       "padding": null,
       "right": null,
       "top": null,
       "visibility": null,
       "width": null
      }
     },
     "beceebaa8bef4939a3027e1756c820ca": {
      "model_module": "@jupyter-widgets/controls",
      "model_module_version": "2.0.0",
      "model_name": "FloatProgressModel",
      "state": {
       "_dom_classes": [],
       "_model_module": "@jupyter-widgets/controls",
       "_model_module_version": "2.0.0",
       "_model_name": "FloatProgressModel",
       "_view_count": null,
       "_view_module": "@jupyter-widgets/controls",
       "_view_module_version": "2.0.0",
       "_view_name": "ProgressView",
       "bar_style": "success",
       "description": "",
       "description_allow_html": false,
       "layout": "IPY_MODEL_ac1a06c6ab024f11a1a52431788f6823",
       "max": 32,
       "min": 0,
       "orientation": "horizontal",
       "style": "IPY_MODEL_0fa836ee22b04b368008c3690b558e46",
       "tabbable": null,
       "tooltip": null,
       "value": 32
      }
     },
     "c4ccd0e9a85348d4a50bda1dc66d9658": {
      "model_module": "@jupyter-widgets/controls",
      "model_module_version": "2.0.0",
      "model_name": "HTMLStyleModel",
      "state": {
       "_model_module": "@jupyter-widgets/controls",
       "_model_module_version": "2.0.0",
       "_model_name": "HTMLStyleModel",
       "_view_count": null,
       "_view_module": "@jupyter-widgets/base",
       "_view_module_version": "2.0.0",
       "_view_name": "StyleView",
       "background": null,
       "description_width": "",
       "font_size": null,
       "text_color": null
      }
     },
     "cafb1e5ee8af47dc9a8813cdb7dad1b5": {
      "model_module": "@jupyter-widgets/controls",
      "model_module_version": "2.0.0",
      "model_name": "HBoxModel",
      "state": {
       "_dom_classes": [],
       "_model_module": "@jupyter-widgets/controls",
       "_model_module_version": "2.0.0",
       "_model_name": "HBoxModel",
       "_view_count": null,
       "_view_module": "@jupyter-widgets/controls",
       "_view_module_version": "2.0.0",
       "_view_name": "HBoxView",
       "box_style": "",
       "children": [
        "IPY_MODEL_577df72f0ce349d8988b16f4429c3116",
        "IPY_MODEL_2b7b0d3f79504d87a8dbfb2f7893399a",
        "IPY_MODEL_23b951c7b2c847bbaf9c066b7f932c12"
       ],
       "layout": "IPY_MODEL_a337ff0d214a41d1a7314a4ca229bfd3",
       "tabbable": null,
       "tooltip": null
      }
     },
     "d995347d83ec40e2b0c1db58a78e3dde": {
      "model_module": "@jupyter-widgets/controls",
      "model_module_version": "2.0.0",
      "model_name": "HTMLModel",
      "state": {
       "_dom_classes": [],
       "_model_module": "@jupyter-widgets/controls",
       "_model_module_version": "2.0.0",
       "_model_name": "HTMLModel",
       "_view_count": null,
       "_view_module": "@jupyter-widgets/controls",
       "_view_module_version": "2.0.0",
       "_view_name": "HTMLView",
       "description": "",
       "description_allow_html": false,
       "layout": "IPY_MODEL_1e6784d317664982818c369ec64d4375",
       "placeholder": "​",
       "style": "IPY_MODEL_66d95ea040244824b4f188b4985e8cb2",
       "tabbable": null,
       "tooltip": null,
       "value": "Validation: 100%"
      }
     },
     "dc55c130999847b6a7460d8d68f31668": {
      "model_module": "@jupyter-widgets/base",
      "model_module_version": "2.0.0",
      "model_name": "LayoutModel",
      "state": {
       "_model_module": "@jupyter-widgets/base",
       "_model_module_version": "2.0.0",
       "_model_name": "LayoutModel",
       "_view_count": null,
       "_view_module": "@jupyter-widgets/base",
       "_view_module_version": "2.0.0",
       "_view_name": "LayoutView",
       "align_content": null,
       "align_items": null,
       "align_self": null,
       "border_bottom": null,
       "border_left": null,
       "border_right": null,
       "border_top": null,
       "bottom": null,
       "display": null,
       "flex": null,
       "flex_flow": null,
       "grid_area": null,
       "grid_auto_columns": null,
       "grid_auto_flow": null,
       "grid_auto_rows": null,
       "grid_column": null,
       "grid_gap": null,
       "grid_row": null,
       "grid_template_areas": null,
       "grid_template_columns": null,
       "grid_template_rows": null,
       "height": null,
       "justify_content": null,
       "justify_items": null,
       "left": null,
       "margin": null,
       "max_height": null,
       "max_width": null,
       "min_height": null,
       "min_width": null,
       "object_fit": null,
       "object_position": null,
       "order": null,
       "overflow": null,
       "padding": null,
       "right": null,
       "top": null,
       "visibility": null,
       "width": null
      }
     },
     "dcdaa701c23b4a1697b18ae319e036f6": {
      "model_module": "@jupyter-widgets/controls",
      "model_module_version": "2.0.0",
      "model_name": "FloatProgressModel",
      "state": {
       "_dom_classes": [],
       "_model_module": "@jupyter-widgets/controls",
       "_model_module_version": "2.0.0",
       "_model_name": "FloatProgressModel",
       "_view_count": null,
       "_view_module": "@jupyter-widgets/controls",
       "_view_module_version": "2.0.0",
       "_view_name": "ProgressView",
       "bar_style": "success",
       "description": "",
       "description_allow_html": false,
       "layout": "IPY_MODEL_871d479608024b77bb2db8278e3f659d",
       "max": 32,
       "min": 0,
       "orientation": "horizontal",
       "style": "IPY_MODEL_60623af9dc82439fbac9dce1bb4a9d90",
       "tabbable": null,
       "tooltip": null,
       "value": 32
      }
     },
     "ddf272308e664d24820c9ca6e917e456": {
      "model_module": "@jupyter-widgets/controls",
      "model_module_version": "2.0.0",
      "model_name": "ProgressStyleModel",
      "state": {
       "_model_module": "@jupyter-widgets/controls",
       "_model_module_version": "2.0.0",
       "_model_name": "ProgressStyleModel",
       "_view_count": null,
       "_view_module": "@jupyter-widgets/base",
       "_view_module_version": "2.0.0",
       "_view_name": "StyleView",
       "bar_color": null,
       "description_width": ""
      }
     },
     "e80cbc93209642a8bbe28877b257eab6": {
      "model_module": "@jupyter-widgets/controls",
      "model_module_version": "2.0.0",
      "model_name": "HBoxModel",
      "state": {
       "_dom_classes": [],
       "_model_module": "@jupyter-widgets/controls",
       "_model_module_version": "2.0.0",
       "_model_name": "HBoxModel",
       "_view_count": null,
       "_view_module": "@jupyter-widgets/controls",
       "_view_module_version": "2.0.0",
       "_view_name": "HBoxView",
       "box_style": "",
       "children": [
        "IPY_MODEL_a17d437eca184c35ae51d6ddf160ad00",
        "IPY_MODEL_35b20f9b2e8746c68e234fcb6d29f047",
        "IPY_MODEL_8e978a7645e7420fb2e452a3e2e7f69d"
       ],
       "layout": "IPY_MODEL_9193f88c4b9842c4a73d33b86e2a79b8",
       "tabbable": null,
       "tooltip": null
      }
     },
     "ed26d5cb2ff3426a9449e0166b68afbf": {
      "model_module": "@jupyter-widgets/controls",
      "model_module_version": "2.0.0",
      "model_name": "HTMLStyleModel",
      "state": {
       "_model_module": "@jupyter-widgets/controls",
       "_model_module_version": "2.0.0",
       "_model_name": "HTMLStyleModel",
       "_view_count": null,
       "_view_module": "@jupyter-widgets/base",
       "_view_module_version": "2.0.0",
       "_view_name": "StyleView",
       "background": null,
       "description_width": "",
       "font_size": null,
       "text_color": null
      }
     },
     "f4cc700caf0949c5bf39d8f7539ba2d2": {
      "model_module": "@jupyter-widgets/base",
      "model_module_version": "2.0.0",
      "model_name": "LayoutModel",
      "state": {
       "_model_module": "@jupyter-widgets/base",
       "_model_module_version": "2.0.0",
       "_model_name": "LayoutModel",
       "_view_count": null,
       "_view_module": "@jupyter-widgets/base",
       "_view_module_version": "2.0.0",
       "_view_name": "LayoutView",
       "align_content": null,
       "align_items": null,
       "align_self": null,
       "border_bottom": null,
       "border_left": null,
       "border_right": null,
       "border_top": null,
       "bottom": null,
       "display": null,
       "flex": null,
       "flex_flow": null,
       "grid_area": null,
       "grid_auto_columns": null,
       "grid_auto_flow": null,
       "grid_auto_rows": null,
       "grid_column": null,
       "grid_gap": null,
       "grid_row": null,
       "grid_template_areas": null,
       "grid_template_columns": null,
       "grid_template_rows": null,
       "height": null,
       "justify_content": null,
       "justify_items": null,
       "left": null,
       "margin": null,
       "max_height": null,
       "max_width": null,
       "min_height": null,
       "min_width": null,
       "object_fit": null,
       "object_position": null,
       "order": null,
       "overflow": null,
       "padding": null,
       "right": null,
       "top": null,
       "visibility": null,
       "width": null
      }
     },
     "f808eb60489b4ef2bc76b055d5c477ff": {
      "model_module": "@jupyter-widgets/base",
      "model_module_version": "2.0.0",
      "model_name": "LayoutModel",
      "state": {
       "_model_module": "@jupyter-widgets/base",
       "_model_module_version": "2.0.0",
       "_model_name": "LayoutModel",
       "_view_count": null,
       "_view_module": "@jupyter-widgets/base",
       "_view_module_version": "2.0.0",
       "_view_name": "LayoutView",
       "align_content": null,
       "align_items": null,
       "align_self": null,
       "border_bottom": null,
       "border_left": null,
       "border_right": null,
       "border_top": null,
       "bottom": null,
       "display": null,
       "flex": null,
       "flex_flow": null,
       "grid_area": null,
       "grid_auto_columns": null,
       "grid_auto_flow": null,
       "grid_auto_rows": null,
       "grid_column": null,
       "grid_gap": null,
       "grid_row": null,
       "grid_template_areas": null,
       "grid_template_columns": null,
       "grid_template_rows": null,
       "height": null,
       "justify_content": null,
       "justify_items": null,
       "left": null,
       "margin": null,
       "max_height": null,
       "max_width": null,
       "min_height": null,
       "min_width": null,
       "object_fit": null,
       "object_position": null,
       "order": null,
       "overflow": null,
       "padding": null,
       "right": null,
       "top": null,
       "visibility": null,
       "width": null
      }
     },
     "f8e3ad286a374d558e61627ba3a67d26": {
      "model_module": "@jupyter-widgets/controls",
      "model_module_version": "2.0.0",
      "model_name": "HTMLStyleModel",
      "state": {
       "_model_module": "@jupyter-widgets/controls",
       "_model_module_version": "2.0.0",
       "_model_name": "HTMLStyleModel",
       "_view_count": null,
       "_view_module": "@jupyter-widgets/base",
       "_view_module_version": "2.0.0",
       "_view_name": "StyleView",
       "background": null,
       "description_width": "",
       "font_size": null,
       "text_color": null
      }
     },
     "fb003526535b4cba8efa507d3f92a66b": {
      "model_module": "@jupyter-widgets/controls",
      "model_module_version": "2.0.0",
      "model_name": "HTMLStyleModel",
      "state": {
       "_model_module": "@jupyter-widgets/controls",
       "_model_module_version": "2.0.0",
       "_model_name": "HTMLStyleModel",
       "_view_count": null,
       "_view_module": "@jupyter-widgets/base",
       "_view_module_version": "2.0.0",
       "_view_name": "StyleView",
       "background": null,
       "description_width": "",
       "font_size": null,
       "text_color": null
      }
     },
     "fbd77392c5e94748a19ab6adc204c0f0": {
      "model_module": "@jupyter-widgets/base",
      "model_module_version": "2.0.0",
      "model_name": "LayoutModel",
      "state": {
       "_model_module": "@jupyter-widgets/base",
       "_model_module_version": "2.0.0",
       "_model_name": "LayoutModel",
       "_view_count": null,
       "_view_module": "@jupyter-widgets/base",
       "_view_module_version": "2.0.0",
       "_view_name": "LayoutView",
       "align_content": null,
       "align_items": null,
       "align_self": null,
       "border_bottom": null,
       "border_left": null,
       "border_right": null,
       "border_top": null,
       "bottom": null,
       "display": null,
       "flex": null,
       "flex_flow": null,
       "grid_area": null,
       "grid_auto_columns": null,
       "grid_auto_flow": null,
       "grid_auto_rows": null,
       "grid_column": null,
       "grid_gap": null,
       "grid_row": null,
       "grid_template_areas": null,
       "grid_template_columns": null,
       "grid_template_rows": null,
       "height": null,
       "justify_content": null,
       "justify_items": null,
       "left": null,
       "margin": null,
       "max_height": null,
       "max_width": null,
       "min_height": null,
       "min_width": null,
       "object_fit": null,
       "object_position": null,
       "order": null,
       "overflow": null,
       "padding": null,
       "right": null,
       "top": null,
       "visibility": null,
       "width": null
      }
     }
    },
    "version_major": 2,
    "version_minor": 0
   }
  }
 },
 "nbformat": 4,
 "nbformat_minor": 5
}
