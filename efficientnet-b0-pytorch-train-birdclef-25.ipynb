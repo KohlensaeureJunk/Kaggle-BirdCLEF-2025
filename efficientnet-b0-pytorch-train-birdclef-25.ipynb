{
 "cells": [
  {
   "cell_type": "markdown",
   "id": "dd19261b",
   "metadata": {
    "papermill": {
     "duration": 0.00461,
     "end_time": "2025-03-17T14:00:32.494653",
     "exception": false,
     "start_time": "2025-03-17T14:00:32.490043",
     "status": "completed"
    },
    "tags": []
   },
   "source": [
    "# **BirdCLEF 2025 Training Notebook**\n",
    "\n",
    "This is a baseline training pipeline for BirdCLEF 2025 using EfficientNetB0 with PyTorch and Timm(for pretrained EffNet). You can check inference and preprocessing notebooks in the following links: \n",
    "\n",
    "- [EfficientNet B0 Pytorch [Inference] | BirdCLEF'25](https://www.kaggle.com/code/kadircandrisolu/efficientnet-b0-pytorch-inference-birdclef-25)\n",
    "\n",
    "  \n",
    "- [Transforming Audio-to-Mel Spec. | BirdCLEF'25](https://www.kaggle.com/code/kadircandrisolu/transforming-audio-to-mel-spec-birdclef-25)  \n",
    "\n",
    "Note that by default this notebook is in Debug Mode, so it will only train the model with 2 epochs, but the [weight](https://www.kaggle.com/datasets/kadircandrisolu/birdclef25-effnetb0-starter-weight) I used in the inference notebook was obtained after 10 epochs of training.\n",
    "\n",
    "**Features**\n",
    "* Implement with Pytorch and Timm\n",
    "* Flexible audio processing with both pre-computed and on-the-fly mel spectrograms\n",
    "* Stratified 5-fold cross-validation with ensemble capability\n",
    "* Mixup training for improved generalization\n",
    "* Spectrogram augmentations (time/frequency masking, brightness adjustment)\n",
    "* AdamW optimizer with Cosine Annealing LR scheduling\n",
    "* Debug mode for quick experimentation with smaller datasets\n",
    "\n",
    "**Pre-computed Spectrograms**\n",
    "For faster training, you can use pre-computed mel spectrograms from [this dataset](https://www.kaggle.com/datasets/kadircandrisolu/birdclef25-mel-spectrograms) by setting `LOAD_DATA = True`"
   ]
  },
  {
   "cell_type": "markdown",
   "id": "34a699fa",
   "metadata": {
    "papermill": {
     "duration": 0.003494,
     "end_time": "2025-03-17T14:00:32.502085",
     "exception": false,
     "start_time": "2025-03-17T14:00:32.498591",
     "status": "completed"
    },
    "tags": []
   },
   "source": [
    "## Libraries"
   ]
  },
  {
   "cell_type": "code",
   "execution_count": 1,
   "id": "f7ca2ea8",
   "metadata": {
    "execution": {
     "iopub.execute_input": "2025-03-17T14:00:32.510711Z",
     "iopub.status.busy": "2025-03-17T14:00:32.510382Z",
     "iopub.status.idle": "2025-03-17T14:00:46.238785Z",
     "shell.execute_reply": "2025-03-17T14:00:46.238073Z"
    },
    "papermill": {
     "duration": 13.73451,
     "end_time": "2025-03-17T14:00:46.240399",
     "exception": false,
     "start_time": "2025-03-17T14:00:32.505889",
     "status": "completed"
    },
    "tags": []
   },
   "outputs": [],
   "source": [
    "# Basic imports\n",
    "import numpy as np, pandas as pd, math, os, random, warnings, json, datetime\n",
    "from tqdm.auto import tqdm\n",
    "\n",
    "\n",
    "# Specific imports\n",
    "import logging, gc, time, cv2\n",
    "\n",
    "# Audio processing imports\n",
    "import librosa\n",
    "\n",
    "# PyTorch imports\n",
    "import torch\n",
    "import torch.nn as nn\n",
    "import torch.nn.functional as F\n",
    "import torch.optim as optim\n",
    "from torch.optim import lr_scheduler\n",
    "from torch.utils.data import Dataset, DataLoader\n",
    "from torch.amp import autocast, GradScaler\n",
    "\n",
    "# Other ML imports\n",
    "from sklearn.model_selection import StratifiedKFold\n",
    "from sklearn.metrics import roc_auc_score\n",
    "import timm\n",
    "\n",
    "# Custom imports\n",
    "from processing import audio2melspec, process_audio_file, generate_spectrograms\n",
    "from utilities import set_seed, collate_fn\n",
    "from training_utilities import get_optimizer, get_scheduler, get_criterion\n",
    "\n",
    "# Suppress warnings and set logging level\n",
    "warnings.filterwarnings(\"ignore\")\n",
    "logging.basicConfig(level=logging.ERROR)"
   ]
  },
  {
   "cell_type": "markdown",
   "id": "0d0f9c08",
   "metadata": {
    "papermill": {
     "duration": 0.003721,
     "end_time": "2025-03-17T14:00:46.248317",
     "exception": false,
     "start_time": "2025-03-17T14:00:46.244596",
     "status": "completed"
    },
    "tags": []
   },
   "source": [
    "## Configuration"
   ]
  },
  {
   "cell_type": "code",
   "execution_count": 2,
   "id": "06591264",
   "metadata": {
    "execution": {
     "iopub.execute_input": "2025-03-17T14:00:46.256618Z",
     "iopub.status.busy": "2025-03-17T14:00:46.256366Z",
     "iopub.status.idle": "2025-03-17T14:00:46.333416Z",
     "shell.execute_reply": "2025-03-17T14:00:46.332684Z"
    },
    "papermill": {
     "duration": 0.082704,
     "end_time": "2025-03-17T14:00:46.334712",
     "exception": false,
     "start_time": "2025-03-17T14:00:46.252008",
     "status": "completed"
    },
    "tags": []
   },
   "outputs": [
    {
     "name": "stdout",
     "output_type": "stream",
     "text": [
      "Using device: cuda\n"
     ]
    }
   ],
   "source": [
    "class CFG:\n",
    "    \n",
    "    seed = 42\n",
    "    debug = False  \n",
    "    num_workers = 4\n",
    "    \n",
    "    OUTPUT_DIR = 'output/'\n",
    "    train_datadir = 'birdclef-2025/train_audio'\n",
    "    train_csv = 'birdclef-2025/train.csv'\n",
    "    train_soundscapes = 'birdclef-2025/train_soundscapes'\n",
    "    test_soundscapes = 'birdclef-2025/test_soundscapes'\n",
    "    submission_csv = 'birdclef-2025/sample_submission.csv'\n",
    "    taxonomy_csv = 'birdclef-2025/taxonomy.csv'\n",
    "    unlabeled_sample_list = \"birdclef-2025/sample_list.csv\"\n",
    "\n",
    "    spectrogram_npy = 'archive/birdclef2025_melspec_5sec_256_256.npy'\n",
    "    spectrogram_npy_unlabeled = 'archive/train_soundscapes_mel_spec_5_256_256.npy'\n",
    " \n",
    "    model_name = 'efficientnet_b0'\n",
    "    timestamp = datetime.datetime.now().strftime(\"%Y%m%d_%H%M%S\")\n",
    "    pretrained = True\n",
    "    in_channels = 1\n",
    "\n",
    "    use_soundscapes = True\n",
    "    pseudo_update_threshold = 0.95\n",
    "    start_pseudo_epoch = 1\n",
    "    remove_pseudo = True\n",
    "\n",
    "    LOAD_DATA = True  \n",
    "    FS = 32000\n",
    "    TARGET_DURATION = 5.0\n",
    "    TARGET_SHAPE = (256, 256)\n",
    "    \n",
    "    N_FFT = 1024\n",
    "    HOP_LENGTH = 512\n",
    "    N_MELS = 128\n",
    "    FMIN = 50\n",
    "    FMAX = 14000\n",
    "    \n",
    "    device = 'cuda' if torch.cuda.is_available() else 'cpu'\n",
    "    print(f\"Using device: {device}\")\n",
    "\n",
    "    epochs = 10\n",
    "    batch_size = 32\n",
    "    criterion = 'BCEWithLogitsLoss'\n",
    "\n",
    "    n_fold = 1\n",
    "\n",
    "    optimizer = 'AdamW'\n",
    "    lr = 5e-4 \n",
    "    weight_decay = 1e-5\n",
    "  \n",
    "    scheduler = 'CosineAnnealingLR'\n",
    "    min_lr = 1e-6\n",
    "    T_max = epochs\n",
    "\n",
    "    aug_prob = 0.5  \n",
    "    mixup_alpha = 0.5  \n",
    "    \n",
    "    def update_debug_settings(self):\n",
    "        if self.debug:\n",
    "            self.epochs = 2\n",
    "            self.start_pseudo_epoch = 1\n",
    "\n",
    "    def save_config(self):\n",
    "        config_dict = {attr: getattr(self, attr) for attr in dir(self) if not attr.startswith('__') and not callable(getattr(self, attr))}\n",
    "        filename = f\"config_{self.timestamp}_{self.model_name}.json\"\n",
    "        with open(os.path.join(self.OUTPUT_DIR, filename), 'w') as f:\n",
    "            json.dump(config_dict, f, indent=4, default=str)\n",
    "        print(f\"Config saved to {os.path.join(self.OUTPUT_DIR, filename)}\")\n",
    "\n",
    "cfg = CFG()\n",
    "set_seed(cfg.seed)\n",
    "cfg.update_debug_settings()"
   ]
  },
  {
   "cell_type": "markdown",
   "id": "e3c4bc37",
   "metadata": {
    "papermill": {
     "duration": 0.003588,
     "end_time": "2025-03-17T14:00:46.367790",
     "exception": false,
     "start_time": "2025-03-17T14:00:46.364202",
     "status": "completed"
    },
    "tags": []
   },
   "source": [
    "## Pre-processing\n",
    "These functions handle the transformation of audio files to mel spectrograms for model input, with flexibility controlled by the `LOAD_DATA` parameter. The process involves either loading pre-computed spectrograms from this [dataset](https://www.kaggle.com/datasets/kadircandrisolu/birdclef25-mel-spectrograms) (when `LOAD_DATA=True`) or dynamically generating them (when `LOAD_DATA=False`), transforming audio data into spectrogram representations, and preparing it for the neural network."
   ]
  },
  {
   "cell_type": "markdown",
   "id": "939033bf",
   "metadata": {
    "papermill": {
     "duration": 0.003549,
     "end_time": "2025-03-17T14:00:46.393394",
     "exception": false,
     "start_time": "2025-03-17T14:00:46.389845",
     "status": "completed"
    },
    "tags": []
   },
   "source": [
    "## Dataset Preparation and Data Augmentations\n",
    "We'll convert audio to mel spectrograms and apply random augmentations with 50% probability each - including time stretching, pitch shifting, and volume adjustments. This randomized approach creates diverse training samples from the same audio files"
   ]
  },
  {
   "cell_type": "code",
   "execution_count": 3,
   "id": "b6b2ea48",
   "metadata": {
    "execution": {
     "iopub.execute_input": "2025-03-17T14:00:46.401415Z",
     "iopub.status.busy": "2025-03-17T14:00:46.401216Z",
     "iopub.status.idle": "2025-03-17T14:00:46.413659Z",
     "shell.execute_reply": "2025-03-17T14:00:46.412877Z"
    },
    "papermill": {
     "duration": 0.017836,
     "end_time": "2025-03-17T14:00:46.414835",
     "exception": false,
     "start_time": "2025-03-17T14:00:46.396999",
     "status": "completed"
    },
    "tags": []
   },
   "outputs": [],
   "source": [
    "class BirdCLEFDatasetFromNPY(Dataset):\n",
    "    def __init__(self, df, cfg, spectrograms=None, mode=\"train\"):\n",
    "        self.df = df\n",
    "        self.cfg = cfg\n",
    "        self.mode = mode\n",
    "        self.spectrograms = spectrograms\n",
    "        \n",
    "        taxonomy_df = pd.read_csv(self.cfg.taxonomy_csv)\n",
    "        self.species_ids = taxonomy_df['primary_label'].tolist()\n",
    "        self.num_classes = len(self.species_ids)\n",
    "        self.label_to_idx = {label: idx for idx, label in enumerate(self.species_ids)}\n",
    "\n",
    "        if 'filepath' not in self.df.columns:\n",
    "            self.df['filepath'] = self.cfg.train_datadir + '/' + self.df.filename\n",
    "        \n",
    "        if 'samplename' not in self.df.columns:\n",
    "            self.df['samplename'] = self.df.filename.map(lambda x: x.split('/')[0] + '-' + x.split('/')[-1].split('.')[0])\n",
    "\n",
    "        if self.spectrograms:\n",
    "            sample_names = set(self.df['samplename'])\n",
    "            found_samples = sum(1 for name in sample_names if name in self.spectrograms)\n",
    "            print(f\"Found {found_samples} matching spectrograms for {mode} dataset out of {len(self.df)} samples\")\n",
    "        \n",
    "        if cfg.debug:\n",
    "            self.df = self.df.sample(min(1000, len(self.df)), random_state=cfg.seed).reset_index(drop=True)\n",
    "    \n",
    "    def __len__(self):\n",
    "        return len(self.df)\n",
    "    \n",
    "    def __getitem__(self, idx):\n",
    "        row = self.df.iloc[idx]\n",
    "        samplename = row['samplename']\n",
    "\n",
    "        if self.spectrograms and samplename in self.spectrograms:\n",
    "            spec = self.spectrograms[samplename]\n",
    "        elif not self.cfg.LOAD_DATA:\n",
    "            spec = process_audio_file(row['filepath'], self.cfg)\n",
    "        else: spec = None\n",
    "\n",
    "        if spec is None:\n",
    "            spec = np.zeros(self.cfg.TARGET_SHAPE, dtype=np.float32)\n",
    "            if self.mode == \"train\":  # Only print warning during training\n",
    "                print(f\"Warning: Spectrogram for {samplename} not found and could not be generated\")\n",
    "\n",
    "        spec = torch.from_numpy(spec).float().unsqueeze(0)  # Add channel dimension\n",
    "\n",
    "        if self.mode == \"train\" and random.random() < self.cfg.aug_prob:\n",
    "            spec = self.apply_spec_augmentations(spec)\n",
    "        \n",
    "        target = self.encode_label(row['primary_label'])\n",
    "        \n",
    "        if 'secondary_labels' in row and row['secondary_labels'] not in [[''], None, np.nan]:\n",
    "            if isinstance(row['secondary_labels'], str):\n",
    "                secondary_labels = eval(row['secondary_labels'])\n",
    "            else:\n",
    "                secondary_labels = row['secondary_labels']\n",
    "            \n",
    "            for label in secondary_labels:\n",
    "                idx = self.label_to_idx.get(label)\n",
    "                if idx is not None:\n",
    "                    target[idx] = 1.0\n",
    "        \n",
    "        return {\n",
    "            'melspec': spec, \n",
    "            'target': torch.from_numpy(target).float(),\n",
    "            'filename': row['filename']\n",
    "        }\n",
    "    \n",
    "    def apply_spec_augmentations(self, spec):\n",
    "        \"\"\"Apply augmentations to spectrogram\"\"\"\n",
    "    \n",
    "        # Time masking (horizontal stripes)\n",
    "        if random.random() < 0.5:\n",
    "            for _ in range(random.randint(1, 3)):\n",
    "                width = random.randint(5, 20)\n",
    "                start = random.randint(0, spec.shape[2] - width)\n",
    "                spec[0, :, start:start+width] = 0\n",
    "        \n",
    "        # Frequency masking (vertical stripes)\n",
    "        if random.random() < 0.5:\n",
    "            for _ in range(random.randint(1, 3)):\n",
    "                height = random.randint(5, 20)\n",
    "                start = random.randint(0, spec.shape[1] - height)\n",
    "                spec[0, start:start+height, :] = 0\n",
    "        \n",
    "        # Random brightness/contrast\n",
    "        if random.random() < 0.5:\n",
    "            gain = random.uniform(0.8, 1.2)\n",
    "            bias = random.uniform(-0.1, 0.1)\n",
    "            spec = spec * gain + bias\n",
    "            spec = torch.clamp(spec, 0, 1) \n",
    "            \n",
    "        return spec\n",
    "    \n",
    "    def encode_label(self, label):\n",
    "        \"\"\"Encode label to one-hot vector\"\"\"\n",
    "        target = np.zeros(self.num_classes)\n",
    "        idx = self.label_to_idx.get(label)\n",
    "        if idx is not None:\n",
    "            target[idx] = 1.0\n",
    "        return target\n",
    "    \n",
    "    def extend(self, new_samples):\n",
    "        \"\"\"Extend the dataset with new samples, supporting secondary labels.\"\"\"\n",
    "        print(f\"Adding {len(new_samples)} new samples to the train dataset.\")\n",
    "        \n",
    "        new_rows = []\n",
    "        new_specs = {}\n",
    "\n",
    "        for sample in new_samples:\n",
    "            filename = sample['filename']\n",
    "            samplename = filename.split('/')[0] + '-' + filename.split('/')[-1].split('.')[0]\n",
    "\n",
    "            # Ensure target is a proper one-hot encoded vector\n",
    "            target_array = sample['target'].numpy() if isinstance(sample['target'], torch.Tensor) else sample['target']\n",
    "            if target_array.ndim > 1 or target_array.sum() > 1.5:\n",
    "                # If multi-label vector, pick primary label as the one with highest score\n",
    "                primary_label_idx = target_array.argmax()\n",
    "            else:\n",
    "                # If already one-hot\n",
    "                primary_label_idx = target_array.argmax()\n",
    "\n",
    "            primary_label = self.species_ids[primary_label_idx]\n",
    "\n",
    "            # Optional: If you want to save secondary labels (everything else non-zero except the primary)\n",
    "            secondary_label_indices = [i for i, val in enumerate(target_array) if val > 0 and i != primary_label_idx]\n",
    "            secondary_labels = [self.species_ids[i] for i in secondary_label_indices] if secondary_label_indices else ['']\n",
    "\n",
    "            new_row = {\n",
    "                'filename': filename,\n",
    "                'samplename': samplename,\n",
    "                'primary_label': primary_label,\n",
    "                'secondary_labels': str(secondary_labels),  # store as string for compatibility\n",
    "                'filepath': self.cfg.test_soundscapes + '/' + filename  # comes from test_soundscapes!\n",
    "            }\n",
    "            new_rows.append(new_row)\n",
    "\n",
    "            # Store the melspec separately\n",
    "            new_specs[samplename] = sample['melspec'].squeeze(0).numpy()  # remove channel dim for consistency\n",
    "\n",
    "        # Append to df\n",
    "        new_df = pd.DataFrame(new_rows)\n",
    "        self.df = pd.concat([self.df, new_df], ignore_index=True)\n",
    "\n",
    "        # Update spectrograms dictionary if available\n",
    "        if self.spectrograms is not None:\n",
    "            self.spectrograms.update(new_specs)\n",
    "        else:\n",
    "            self.spectrograms = new_specs"
   ]
  },
  {
   "cell_type": "code",
   "execution_count": 4,
   "id": "e7f1c186",
   "metadata": {},
   "outputs": [],
   "source": [
    "class SoundscapeDatasetFromNPY(Dataset):\n",
    "    def __init__(self, df, cfg, spectrograms=None, mode=\"train\"):\n",
    "        self.df = df\n",
    "        self.cfg = cfg\n",
    "        self.mode = mode\n",
    "        self.spectrograms = spectrograms\n",
    "        \n",
    "        taxonomy_df = pd.read_csv(self.cfg.taxonomy_csv)\n",
    "        self.species_ids = taxonomy_df['primary_label'].tolist()\n",
    "        self.num_classes = len(self.species_ids)\n",
    "        self.label_to_idx = {label: idx for idx, label in enumerate(self.species_ids)}\n",
    "        df[\"primary_label\"] = None\n",
    "        self.primary_label = [None] * len(self.df)\n",
    "        df[\"filename\"] = df[\"samplename\"].apply(lambda x: x+\".ogg\")\n",
    "\n",
    "        # Count number of samples\n",
    "        sample_names = set(self.df['samplename'])\n",
    "        if self.spectrograms:\n",
    "            found_samples = sum(1 for name in sample_names if name in self.spectrograms)\n",
    "            print(f\"Found {found_samples} matching spectrograms for {mode} dataset out of {len(self.df)} samples\")\n",
    "        \n",
    "        if cfg.debug:\n",
    "            self.df = self.df.sample(min(1000, len(self.df)), random_state=cfg.seed).reset_index(drop=True)\n",
    "    \n",
    "    def __len__(self):\n",
    "        return len(self.df)\n",
    "    \n",
    "    def __getitem__(self, idx):\n",
    "        row = self.df.iloc[idx]\n",
    "        samplename = row['samplename']\n",
    "        spec = None\n",
    "\n",
    "        if self.spectrograms and samplename in self.spectrograms:\n",
    "            spec = self.spectrograms[samplename]\n",
    "        elif not self.cfg.LOAD_DATA:\n",
    "            spec = process_audio_file(row['filepath'], self.cfg)\n",
    "\n",
    "        if spec is None:\n",
    "            spec = np.zeros(self.cfg.TARGET_SHAPE, dtype=np.float32)\n",
    "            if self.mode == \"train\":  # Only print warning during training\n",
    "                print(f\"Warning: Spectrogram for {samplename} not found and could not be generated\")\n",
    "\n",
    "        spec = torch.tensor(spec, dtype=torch.float32).unsqueeze(0)  # Add channel dimension\n",
    "        target = self.encode_label(row['primary_label'])\n",
    "\n",
    "        return {\n",
    "            'melspec': spec, \n",
    "            'target': target,\n",
    "            'filename': row['filename'],\n",
    "            'index': idx\n",
    "        }\n",
    "    \n",
    "    def encode_label(self, label):\n",
    "        \"\"\"Encode label to one-hot vector\"\"\"\n",
    "        target = np.zeros(self.num_classes)\n",
    "        if label in self.label_to_idx:\n",
    "            target[self.label_to_idx[label]] = 1.0\n",
    "        elif label is None:\n",
    "            return None\n",
    "        return target\n",
    "    \n",
    "    def remove_indices(self, indices_to_remove):\n",
    "        \"\"\"Remove samples by their indices.\"\"\"\n",
    "        print(f\"Removing {len(indices_to_remove)} samples from pseudo dataset.\")\n",
    "        self.df = self.df.drop(indices_to_remove).reset_index(drop=True)\n",
    "        if hasattr(self, 'primary_label'):\n",
    "            self.primary_label = [self.primary_label[i] for i in range(len(self.primary_label)) if i not in indices_to_remove]"
   ]
  },
  {
   "cell_type": "markdown",
   "id": "7cbb84a1",
   "metadata": {
    "papermill": {
     "duration": 0.003491,
     "end_time": "2025-03-17T14:00:46.436543",
     "exception": false,
     "start_time": "2025-03-17T14:00:46.433052",
     "status": "completed"
    },
    "tags": []
   },
   "source": [
    "## Model Definition"
   ]
  },
  {
   "cell_type": "code",
   "execution_count": 5,
   "id": "741451ce",
   "metadata": {
    "execution": {
     "iopub.execute_input": "2025-03-17T14:00:46.444643Z",
     "iopub.status.busy": "2025-03-17T14:00:46.444412Z",
     "iopub.status.idle": "2025-03-17T14:00:46.452684Z",
     "shell.execute_reply": "2025-03-17T14:00:46.452070Z"
    },
    "papermill": {
     "duration": 0.013532,
     "end_time": "2025-03-17T14:00:46.453738",
     "exception": false,
     "start_time": "2025-03-17T14:00:46.440206",
     "status": "completed"
    },
    "tags": []
   },
   "outputs": [],
   "source": [
    "class BirdCLEFModel(nn.Module):\n",
    "    def __init__(self, cfg):\n",
    "        super().__init__()\n",
    "        self.cfg = cfg\n",
    "        taxonomy_df = pd.read_csv(cfg.taxonomy_csv)\n",
    "        cfg.num_classes = len(taxonomy_df)\n",
    "        \n",
    "        self.backbone = timm.create_model(\n",
    "            cfg.model_name,\n",
    "            pretrained=cfg.pretrained,\n",
    "            in_chans=cfg.in_channels,\n",
    "            drop_rate=0.2,\n",
    "            drop_path_rate=0.2\n",
    "        )\n",
    "        if 'efficientnet' in cfg.model_name:\n",
    "            backbone_out = self.backbone.classifier.in_features\n",
    "            self.backbone.classifier = nn.Identity()\n",
    "        elif 'resnet' in cfg.model_name:\n",
    "            backbone_out = self.backbone.fc.in_features\n",
    "            self.backbone.fc = nn.Identity()\n",
    "        else:\n",
    "            backbone_out = self.backbone.get_classifier().in_features\n",
    "            self.backbone.reset_classifier(0, '')\n",
    "        \n",
    "        self.pooling = nn.AdaptiveAvgPool2d(1)\n",
    "        self.feat_dim = backbone_out\n",
    "        self.classifier = nn.Linear(backbone_out, cfg.num_classes)\n",
    "        \n",
    "        self.mixup_enabled = hasattr(cfg, 'mixup_alpha') and cfg.mixup_alpha > 0\n",
    "        if self.mixup_enabled:\n",
    "            self.mixup_alpha = cfg.mixup_alpha\n",
    "            \n",
    "    def forward(self, x, targets=None):\n",
    "    \n",
    "        if self.training and self.mixup_enabled and targets is not None:\n",
    "            mixed_x, targets_a, targets_b, lam = self.mixup_data(x, targets)\n",
    "            x = mixed_x\n",
    "        else:\n",
    "            targets_a, targets_b, lam = None, None, None\n",
    "        \n",
    "        features = self.backbone(x)\n",
    "        \n",
    "        if isinstance(features, dict):\n",
    "            features = features['features']\n",
    "            \n",
    "        if len(features.shape) == 4:\n",
    "            features = self.pooling(features)\n",
    "            features = features.view(features.size(0), -1)\n",
    "        \n",
    "        logits = self.classifier(features)\n",
    "        \n",
    "        if self.training and self.mixup_enabled and targets is not None:\n",
    "            loss = self.mixup_criterion(F.binary_cross_entropy_with_logits, logits, targets_a, targets_b, lam)\n",
    "            return logits, loss\n",
    "            \n",
    "        return logits\n",
    "    \n",
    "    def mixup_data(self, x, targets):\n",
    "        \"\"\"Applies mixup to the data batch\"\"\"\n",
    "        batch_size = x.size(0)\n",
    "        lam = np.random.beta(self.mixup_alpha, self.mixup_alpha)\n",
    "        indices = torch.randperm(batch_size).to(x.device, non_blocking=True)\n",
    "        mixed_x = lam * x + (1 - lam) * x[indices]\n",
    "        \n",
    "        return mixed_x, targets, targets[indices], lam\n",
    "    \n",
    "    def mixup_criterion(self, criterion, pred, y_a, y_b, lam):\n",
    "        \"\"\"Applies mixup to the loss function\"\"\"\n",
    "        return lam * criterion(pred, y_a) + (1 - lam) * criterion(pred, y_b)"
   ]
  },
  {
   "cell_type": "markdown",
   "id": "5aa08772",
   "metadata": {
    "papermill": {
     "duration": 0.003637,
     "end_time": "2025-03-17T14:00:46.461097",
     "exception": false,
     "start_time": "2025-03-17T14:00:46.457460",
     "status": "completed"
    },
    "tags": []
   },
   "source": [
    "## Training Utilities\n",
    "We are configuring our optimization strategy with the AdamW optimizer, cosine scheduling, and the BCEWithLogitsLoss criterion."
   ]
  },
  {
   "cell_type": "markdown",
   "id": "25fd70fd",
   "metadata": {
    "papermill": {
     "duration": 0.003514,
     "end_time": "2025-03-17T14:00:46.483348",
     "exception": false,
     "start_time": "2025-03-17T14:00:46.479834",
     "status": "completed"
    },
    "tags": []
   },
   "source": [
    "## Training Loop"
   ]
  },
  {
   "cell_type": "code",
   "execution_count": null,
   "id": "d944f8ff",
   "metadata": {
    "execution": {
     "iopub.execute_input": "2025-03-17T14:00:46.491507Z",
     "iopub.status.busy": "2025-03-17T14:00:46.491314Z",
     "iopub.status.idle": "2025-03-17T14:00:46.504038Z",
     "shell.execute_reply": "2025-03-17T14:00:46.503466Z"
    },
    "papermill": {
     "duration": 0.018173,
     "end_time": "2025-03-17T14:00:46.505200",
     "exception": false,
     "start_time": "2025-03-17T14:00:46.487027",
     "status": "completed"
    },
    "tags": []
   },
   "outputs": [],
   "source": [
    "def train_one_epoch(model, loader, optimizer, criterion, device, scheduler=None, pseudo_loader=None, pseudo_dataset=None, use_amp=True):\n",
    "    model.train()\n",
    "    scaler = GradScaler(enabled=use_amp)\n",
    "    total_loss = 0.0\n",
    "    all_targets = []\n",
    "    all_outputs = []\n",
    "\n",
    "    pbar = tqdm(enumerate(loader), total=len(loader), desc=\"Training\")\n",
    "    \n",
    "    for step, batch in pbar:\n",
    "            \n",
    "        inputs = batch['melspec'].to(device, non_blocking=True)\n",
    "        targets = batch['target'].to(device, non_blocking=True)\n",
    "        optimizer.zero_grad()\n",
    "\n",
    "        with autocast(enabled=use_amp, device_type=cfg.device):\n",
    "            outputs = model(inputs)\n",
    "            loss = criterion(outputs, targets)\n",
    "        \n",
    "        scaler.scale(loss).backward()\n",
    "        scaler.step(optimizer)\n",
    "        scaler.update()\n",
    "\n",
    "        if scheduler and isinstance(scheduler, lr_scheduler.OneCycleLR):\n",
    "            scheduler.step()\n",
    "\n",
    "        total_loss += loss.item()\n",
    "        all_outputs.append(outputs.detach().cpu())\n",
    "        all_targets.append(targets.detach().cpu())\n",
    "        pbar.set_postfix({'train_loss': total_loss / len(all_outputs),'lr': optimizer.param_groups[0]['lr']})\n",
    "\n",
    "    all_outputs = torch.cat(all_outputs)\n",
    "    all_targets = torch.cat(all_targets)\n",
    "    auc = calculate_auc(all_targets.numpy(), all_outputs)\n",
    "    avg_loss = total_loss / len(loader)\n",
    "    \n",
    "    return avg_loss, auc\n",
    "\n",
    "def update_pseudo_labels(model, pseudo_loader, pseudo_dataset, train_dataset, device, threshold=0.9, remove_pseudo=True):\n",
    "    model.eval()\n",
    "    to_remove = []\n",
    "    new_samples = []\n",
    "\n",
    "    with torch.no_grad():\n",
    "        for batch in tqdm(pseudo_loader, desc=\"Updating pseudo-labels\"):\n",
    "            inputs = batch['melspec'].to(device, non_blocking=True)\n",
    "            indices = batch['index']\n",
    "            filenames = batch['filename']\n",
    "            outputs = model(inputs)\n",
    "            probs = torch.sigmoid(outputs)\n",
    "            probs = probs.cpu().numpy()\n",
    "            inputs = inputs.cpu()\n",
    "\n",
    "            for i, prob in enumerate(probs):\n",
    "                top_class = np.argmax(prob)\n",
    "                top_confidence = prob[top_class]\n",
    "\n",
    "                if top_confidence > threshold:\n",
    "                    target = np.zeros_like(prob)\n",
    "                    target[top_class] = 1.0\n",
    "\n",
    "                    new_samples.append({'melspec': inputs[i], 'target': torch.tensor(target, dtype=torch.float32), 'filename': filenames[i]})\n",
    "                    to_remove.append(indices[i])\n",
    "\n",
    "    train_dataset.extend(new_samples)\n",
    "\n",
    "    if remove_pseudo and to_remove:\n",
    "        pseudo_dataset.remove_indices(to_remove)\n",
    "\n",
    "def validate(model, loader, criterion, device):\n",
    "    model.eval()\n",
    "    total_loss = 0.0\n",
    "    all_targets = []\n",
    "    all_outputs = []\n",
    "    \n",
    "    with torch.no_grad():\n",
    "        for batch in tqdm(loader, desc=\"Validation\"):\n",
    "            inputs = batch['melspec'].to(device, non_blocking=True)\n",
    "            targets = batch['target'].to(device, non_blocking=True)\n",
    "\n",
    "            outputs = model(inputs)\n",
    "            loss = criterion(outputs, targets)\n",
    "\n",
    "            total_loss += loss.item()\n",
    "            all_outputs.append(outputs.detach().cpu())\n",
    "            all_targets.append(targets.detach().cpu())\n",
    "    \n",
    "    all_outputs = torch.cat(all_outputs)\n",
    "    all_targets = torch.cat(all_targets).numpy()\n",
    "    \n",
    "    auc = calculate_auc(all_targets, all_outputs)\n",
    "    avg_loss = total_loss / len(loader)\n",
    "    \n",
    "    return avg_loss, auc\n",
    "\n",
    "def calculate_auc(targets: np.array , outputs: torch.Tensor) -> float:\n",
    "  \n",
    "    aucs = []\n",
    "    probs = torch.sigmoid(outputs).numpy()\n",
    "    \n",
    "    for i in range(targets.shape[1]):\n",
    "        if np.sum(targets[:, i]) > 0:\n",
    "            class_auc = roc_auc_score(targets[:, i], probs[:, i])\n",
    "            aucs.append(class_auc)\n",
    "    \n",
    "    return np.mean(aucs) if aucs else 0.0"
   ]
  },
  {
   "cell_type": "markdown",
   "id": "b760d60e",
   "metadata": {
    "papermill": {
     "duration": 0.00344,
     "end_time": "2025-03-17T14:00:46.512303",
     "exception": false,
     "start_time": "2025-03-17T14:00:46.508863",
     "status": "completed"
    },
    "tags": []
   },
   "source": [
    "## Training!"
   ]
  },
  {
   "cell_type": "code",
   "execution_count": 7,
   "id": "5de76a1c",
   "metadata": {
    "execution": {
     "iopub.execute_input": "2025-03-17T14:00:46.520217Z",
     "iopub.status.busy": "2025-03-17T14:00:46.520008Z",
     "iopub.status.idle": "2025-03-17T14:00:46.531337Z",
     "shell.execute_reply": "2025-03-17T14:00:46.530758Z"
    },
    "papermill": {
     "duration": 0.016548,
     "end_time": "2025-03-17T14:00:46.532461",
     "exception": false,
     "start_time": "2025-03-17T14:00:46.515913",
     "status": "completed"
    },
    "tags": []
   },
   "outputs": [],
   "source": [
    "def run_training(df, cfg, soundscape_df=None):\n",
    "    \"\"\"Training function that can either use pre-computed spectrograms or generate them on-the-fly\"\"\"\n",
    "\n",
    "    taxonomy_df = pd.read_csv(cfg.taxonomy_csv)\n",
    "    species_ids = taxonomy_df['primary_label'].tolist()\n",
    "    cfg.num_classes = len(species_ids)\n",
    "    \n",
    "    if cfg.debug: cfg.update_debug_settings()\n",
    "\n",
    "    spectrograms = None\n",
    "    if cfg.LOAD_DATA:\n",
    "        print(\"Loading pre-computed mel spectrograms from NPY file...\")\n",
    "        try:\n",
    "            spectrograms = np.load(cfg.spectrogram_npy, allow_pickle=True).item()\n",
    "            soundscape_spectrograms = np.load(cfg.spectrogram_npy_unlabeled, allow_pickle=True).item()\n",
    "            print(f\"Loaded {len(spectrograms)} pre-computed mel spectrograms\")\n",
    "        except Exception as e:\n",
    "            print(f\"Error loading pre-computed spectrograms: {e}\")\n",
    "            print(\"Will generate spectrograms on-the-fly instead.\")\n",
    "            cfg.LOAD_DATA = False\n",
    "    \n",
    "    if not cfg.LOAD_DATA:\n",
    "        print(\"Will generate spectrograms on-the-fly during training.\")\n",
    "        if 'filepath' not in df.columns:\n",
    "            df['filepath'] = cfg.train_datadir + '/' + df.filename\n",
    "        if 'samplename' not in df.columns:\n",
    "            df['samplename'] = df.filename.map(lambda x: x.split('/')[0] + '-' + x.split('/')[-1].split('.')[0])\n",
    "\n",
    "    if cfg.n_fold > 1:\n",
    "        skf = StratifiedKFold(n_splits=cfg.n_fold, shuffle=True, random_state=cfg.seed)\n",
    "        folds = skf.split(df, df['primary_label'])\n",
    "    else:\n",
    "        folds = [(np.arange(len(df)), np.arange(len(df)))]\n",
    "\n",
    "    best_scores = []\n",
    "    \n",
    "    for fold, (train_idx, val_idx) in enumerate(folds):\n",
    "            \n",
    "        print(f'\\n{\"=\"*30} Fold {fold} {\"=\"*30}')\n",
    "        \n",
    "        train_df = df.iloc[train_idx].reset_index(drop=True)\n",
    "        val_df = df.iloc[val_idx].reset_index(drop=True)\n",
    "        \n",
    "        print(f'Training set: {len(train_df)} samples')\n",
    "        print(f'Validation set: {len(val_df)} samples')\n",
    "        \n",
    "        train_dataset = BirdCLEFDatasetFromNPY(train_df, cfg, spectrograms=spectrograms, mode='train')\n",
    "        val_dataset = BirdCLEFDatasetFromNPY(val_df, cfg, spectrograms=spectrograms, mode='valid')\n",
    "        soundscape_dataset = SoundscapeDatasetFromNPY(soundscape_df, cfg, spectrograms=soundscape_spectrograms, mode='train')\n",
    "        \n",
    "        train_loader = DataLoader(train_dataset, batch_size=cfg.batch_size, shuffle=True, num_workers=cfg.num_workers,pin_memory=True,collate_fn=collate_fn,drop_last=True)\n",
    "        val_loader = DataLoader(val_dataset, batch_size=cfg.batch_size, shuffle=False, num_workers=cfg.num_workers,pin_memory=True,collate_fn=collate_fn)\n",
    "        soundscape_loader = DataLoader(soundscape_dataset,batch_size=cfg.batch_size,shuffle=True,num_workers=cfg.num_workers,pin_memory=True,collate_fn=collate_fn,drop_last=True)\n",
    "        \n",
    "        model = BirdCLEFModel(cfg).to(cfg.device, non_blocking=True)\n",
    "        model = torch.compile(model, backend=\"inductor\")\n",
    "        optimizer = get_optimizer(model, cfg)\n",
    "        criterion = get_criterion(cfg)\n",
    "        scheduler = get_scheduler(optimizer, cfg, len(train_loader))\n",
    "        \n",
    "        best_auc, best_epoch = 0, 0\n",
    "        \n",
    "        for epoch in range(cfg.epochs):\n",
    "            print(f\"\\nEpoch {epoch+1}/{cfg.epochs}\")\n",
    "            use_pseduo_labels = cfg.use_soundscapes and (epoch+1) >= cfg.start_pseudo_epoch\n",
    "\n",
    "            train_loss, train_auc = train_one_epoch(model, train_loader, optimizer, criterion, cfg.device,\n",
    "                scheduler if isinstance(scheduler, lr_scheduler.OneCycleLR) else None,\n",
    "                pseudo_loader=soundscape_loader if use_pseduo_labels else None,\n",
    "                pseudo_dataset=soundscape_dataset if use_pseduo_labels else None\n",
    "            )\n",
    "                        \n",
    "            if use_pseduo_labels:\n",
    "                update_pseudo_labels(model, soundscape_loader, soundscape_dataset, train_dataset, cfg.device, threshold=cfg.pseudo_update_threshold, remove_pseudo=cfg.remove_pseudo)\n",
    "            \n",
    "            val_loss, val_auc = validate(model, val_loader, criterion, cfg.device)\n",
    "\n",
    "            if scheduler is not None and not isinstance(scheduler, lr_scheduler.OneCycleLR):\n",
    "                if isinstance(scheduler, lr_scheduler.ReduceLROnPlateau):\n",
    "                    scheduler.step(val_loss)\n",
    "                else:\n",
    "                    scheduler.step()\n",
    "\n",
    "            print(f\"Train Loss: {train_loss:.4f}, Train AUC: {train_auc:.4f}\")\n",
    "            print(f\"Val Loss: {val_loss:.4f}, Val AUC: {val_auc:.4f}\")\n",
    "            \n",
    "            if val_auc > best_auc:\n",
    "                best_auc = val_auc\n",
    "                best_epoch = epoch + 1\n",
    "                print(f\"New best AUC: {best_auc:.4f} at epoch {best_epoch}\")\n",
    "\n",
    "                torch.save({\n",
    "                    'model_state_dict': model.state_dict(),\n",
    "                    'optimizer_state_dict': optimizer.state_dict(),\n",
    "                    'scheduler_state_dict': scheduler.state_dict() if scheduler else None,\n",
    "                    'epoch': epoch,\n",
    "                    'val_auc': val_auc,\n",
    "                    'train_auc': train_auc,\n",
    "                    'cfg': cfg\n",
    "                }, f\"{cfg.OUTPUT_DIR}/model_{cfg.timestamp}_{cfg.model_name}_fold{fold}.pth\")\n",
    "        \n",
    "        best_scores.append(best_auc)\n",
    "        print(f\"\\nBest AUC for fold {fold}: {best_auc:.4f} at epoch {best_epoch}\")\n",
    "        \n",
    "        # Clear memory\n",
    "        del model, optimizer, scheduler, train_loader, val_loader, soundscape_loader\n",
    "        torch.cuda.empty_cache()\n",
    "        gc.collect()\n",
    "    \n",
    "    print(\"\\n\" + \"=\"*60)\n",
    "    print(\"Cross-Validation Results:\")\n",
    "    for fold, score in enumerate(best_scores):\n",
    "        print(f\"Fold {fold}: {score:.4f}\")\n",
    "    print(f\"Mean AUC: {np.mean(best_scores):.4f}\")\n",
    "    print(\"=\"*60)"
   ]
  },
  {
   "cell_type": "code",
   "execution_count": 8,
   "id": "9c0e6b49",
   "metadata": {
    "execution": {
     "iopub.execute_input": "2025-03-17T14:00:46.540675Z",
     "iopub.status.busy": "2025-03-17T14:00:46.540437Z",
     "iopub.status.idle": "2025-03-17T14:02:12.293026Z",
     "shell.execute_reply": "2025-03-17T14:02:12.292000Z"
    },
    "papermill": {
     "duration": 85.763673,
     "end_time": "2025-03-17T14:02:12.299868",
     "exception": false,
     "start_time": "2025-03-17T14:00:46.536195",
     "status": "completed"
    },
    "tags": []
   },
   "outputs": [
    {
     "name": "stdout",
     "output_type": "stream",
     "text": [
      "\n",
      "Loading training data...\n",
      "\n",
      "Starting training...\n",
      "LOAD_DATA is set to True\n",
      "Using pre-computed mel spectrograms from NPY file\n",
      "Loading pre-computed mel spectrograms from NPY file...\n",
      "Loaded 28564 pre-computed mel spectrograms\n",
      "\n",
      "============================== Fold 0 ==============================\n",
      "Training set: 28564 samples\n",
      "Validation set: 28564 samples\n",
      "Found 28564 matching spectrograms for train dataset out of 28564 samples\n",
      "Found 28564 matching spectrograms for valid dataset out of 28564 samples\n",
      "Found 9726 matching spectrograms for train dataset out of 9726 samples\n",
      "\n",
      "Epoch 1/10\n"
     ]
    },
    {
     "data": {
      "application/vnd.jupyter.widget-view+json": {
       "model_id": "395c0f914a8e4e689fa268f954c4d52e",
       "version_major": 2,
       "version_minor": 0
      },
      "text/plain": [
       "Training:   0%|          | 0/892 [00:00<?, ?it/s]"
      ]
     },
     "metadata": {},
     "output_type": "display_data"
    },
    {
     "name": "stderr",
     "output_type": "stream",
     "text": [
      "W0501 13:17:19.548000 16618 torch/_inductor/utils.py:1137] [0/0] Not enough SMs to use max_autotune_gemm mode\n"
     ]
    },
    {
     "data": {
      "application/vnd.jupyter.widget-view+json": {
       "model_id": "279c5a80425f4be496ea245f0187a931",
       "version_major": 2,
       "version_minor": 0
      },
      "text/plain": [
       "Updating pseudo-labels:   0%|          | 0/303 [00:00<?, ?it/s]"
      ]
     },
     "metadata": {},
     "output_type": "display_data"
    },
    {
     "name": "stdout",
     "output_type": "stream",
     "text": [
      "Adding 1 new samples to the train dataset.\n",
      "Removing 1 samples from pseudo dataset.\n"
     ]
    },
    {
     "data": {
      "application/vnd.jupyter.widget-view+json": {
       "model_id": "11eddc594dbb448ea4339c3232bbf32e",
       "version_major": 2,
       "version_minor": 0
      },
      "text/plain": [
       "Validation:   0%|          | 0/893 [00:00<?, ?it/s]"
      ]
     },
     "metadata": {},
     "output_type": "display_data"
    },
    {
     "name": "stdout",
     "output_type": "stream",
     "text": [
      "Train Loss: 0.0346, Train AUC: 0.6238\n",
      "Val Loss: 0.0238, Val AUC: 0.8557\n",
      "New best AUC: 0.8557 at epoch 1\n",
      "\n",
      "Epoch 2/10\n"
     ]
    },
    {
     "data": {
      "application/vnd.jupyter.widget-view+json": {
       "model_id": "fd82430952ac4834bcd88aa9a0b2c55a",
       "version_major": 2,
       "version_minor": 0
      },
      "text/plain": [
       "Training:   0%|          | 0/892 [00:00<?, ?it/s]"
      ]
     },
     "metadata": {},
     "output_type": "display_data"
    },
    {
     "data": {
      "application/vnd.jupyter.widget-view+json": {
       "model_id": "d0c06bb4fc7a48c39c3e1e8485a674f7",
       "version_major": 2,
       "version_minor": 0
      },
      "text/plain": [
       "Updating pseudo-labels:   0%|          | 0/303 [00:00<?, ?it/s]"
      ]
     },
     "metadata": {},
     "output_type": "display_data"
    },
    {
     "name": "stdout",
     "output_type": "stream",
     "text": [
      "Adding 103 new samples to the train dataset.\n",
      "Removing 103 samples from pseudo dataset.\n"
     ]
    },
    {
     "data": {
      "application/vnd.jupyter.widget-view+json": {
       "model_id": "f3a7cc5685a34c45a949926018972253",
       "version_major": 2,
       "version_minor": 0
      },
      "text/plain": [
       "Validation:   0%|          | 0/893 [00:00<?, ?it/s]"
      ]
     },
     "metadata": {},
     "output_type": "display_data"
    },
    {
     "name": "stdout",
     "output_type": "stream",
     "text": [
      "Train Loss: 0.0215, Train AUC: 0.8433\n",
      "Val Loss: 0.0172, Val AUC: 0.9410\n",
      "New best AUC: 0.9410 at epoch 2\n",
      "\n",
      "Epoch 3/10\n"
     ]
    },
    {
     "data": {
      "application/vnd.jupyter.widget-view+json": {
       "model_id": "1cec545c8c3346889b5356837af6faa1",
       "version_major": 2,
       "version_minor": 0
      },
      "text/plain": [
       "Training:   0%|          | 0/895 [00:00<?, ?it/s]"
      ]
     },
     "metadata": {},
     "output_type": "display_data"
    },
    {
     "data": {
      "application/vnd.jupyter.widget-view+json": {
       "model_id": "25afcd48ec8f4947b992ef11216ec3dc",
       "version_major": 2,
       "version_minor": 0
      },
      "text/plain": [
       "Updating pseudo-labels:   0%|          | 0/300 [00:00<?, ?it/s]"
      ]
     },
     "metadata": {},
     "output_type": "display_data"
    },
    {
     "name": "stdout",
     "output_type": "stream",
     "text": [
      "Adding 257 new samples to the train dataset.\n",
      "Removing 257 samples from pseudo dataset.\n"
     ]
    },
    {
     "data": {
      "application/vnd.jupyter.widget-view+json": {
       "model_id": "6de5229a0e0246979ce5c8aa4dfaf9d6",
       "version_major": 2,
       "version_minor": 0
      },
      "text/plain": [
       "Validation:   0%|          | 0/893 [00:00<?, ?it/s]"
      ]
     },
     "metadata": {},
     "output_type": "display_data"
    },
    {
     "name": "stdout",
     "output_type": "stream",
     "text": [
      "Train Loss: 0.0175, Train AUC: 0.9165\n",
      "Val Loss: 0.0140, Val AUC: 0.9651\n",
      "New best AUC: 0.9651 at epoch 3\n",
      "\n",
      "Epoch 4/10\n"
     ]
    },
    {
     "data": {
      "application/vnd.jupyter.widget-view+json": {
       "model_id": "6fd2877e02cc445ea1833981a395c5be",
       "version_major": 2,
       "version_minor": 0
      },
      "text/plain": [
       "Training:   0%|          | 0/903 [00:00<?, ?it/s]"
      ]
     },
     "metadata": {},
     "output_type": "display_data"
    },
    {
     "data": {
      "application/vnd.jupyter.widget-view+json": {
       "model_id": "f5c19236b3df41db966b304a350bf6b6",
       "version_major": 2,
       "version_minor": 0
      },
      "text/plain": [
       "Updating pseudo-labels:   0%|          | 0/292 [00:00<?, ?it/s]"
      ]
     },
     "metadata": {},
     "output_type": "display_data"
    },
    {
     "name": "stdout",
     "output_type": "stream",
     "text": [
      "Adding 128 new samples to the train dataset.\n",
      "Removing 128 samples from pseudo dataset.\n"
     ]
    },
    {
     "data": {
      "application/vnd.jupyter.widget-view+json": {
       "model_id": "a040e385d0af4634b98ea03492120443",
       "version_major": 2,
       "version_minor": 0
      },
      "text/plain": [
       "Validation:   0%|          | 0/893 [00:00<?, ?it/s]"
      ]
     },
     "metadata": {},
     "output_type": "display_data"
    },
    {
     "name": "stdout",
     "output_type": "stream",
     "text": [
      "Train Loss: 0.0149, Train AUC: 0.9490\n",
      "Val Loss: 0.0117, Val AUC: 0.9792\n",
      "New best AUC: 0.9792 at epoch 4\n",
      "\n",
      "Epoch 5/10\n"
     ]
    },
    {
     "data": {
      "application/vnd.jupyter.widget-view+json": {
       "model_id": "9127b0cb1ab542c583a632d6cc2000e2",
       "version_major": 2,
       "version_minor": 0
      },
      "text/plain": [
       "Training:   0%|          | 0/907 [00:00<?, ?it/s]"
      ]
     },
     "metadata": {},
     "output_type": "display_data"
    },
    {
     "data": {
      "application/vnd.jupyter.widget-view+json": {
       "model_id": "189c4cb52ad84af4bfa86f689dfc176a",
       "version_major": 2,
       "version_minor": 0
      },
      "text/plain": [
       "Updating pseudo-labels:   0%|          | 0/288 [00:00<?, ?it/s]"
      ]
     },
     "metadata": {},
     "output_type": "display_data"
    },
    {
     "name": "stdout",
     "output_type": "stream",
     "text": [
      "Adding 128 new samples to the train dataset.\n",
      "Removing 128 samples from pseudo dataset.\n"
     ]
    },
    {
     "data": {
      "application/vnd.jupyter.widget-view+json": {
       "model_id": "04efa8f8e88a40b58f7bfc65bf5c8a2e",
       "version_major": 2,
       "version_minor": 0
      },
      "text/plain": [
       "Validation:   0%|          | 0/893 [00:00<?, ?it/s]"
      ]
     },
     "metadata": {},
     "output_type": "display_data"
    },
    {
     "name": "stdout",
     "output_type": "stream",
     "text": [
      "Train Loss: 0.0130, Train AUC: 0.9678\n",
      "Val Loss: 0.0097, Val AUC: 0.9876\n",
      "New best AUC: 0.9876 at epoch 5\n",
      "\n",
      "Epoch 6/10\n"
     ]
    },
    {
     "data": {
      "application/vnd.jupyter.widget-view+json": {
       "model_id": "78bcc458188e47ad80c76a48cce3218b",
       "version_major": 2,
       "version_minor": 0
      },
      "text/plain": [
       "Training:   0%|          | 0/911 [00:00<?, ?it/s]"
      ]
     },
     "metadata": {},
     "output_type": "display_data"
    },
    {
     "data": {
      "application/vnd.jupyter.widget-view+json": {
       "model_id": "a58bd25bf1ae4926ba7a1ecf4fe9dc3c",
       "version_major": 2,
       "version_minor": 0
      },
      "text/plain": [
       "Updating pseudo-labels:   0%|          | 0/284 [00:00<?, ?it/s]"
      ]
     },
     "metadata": {},
     "output_type": "display_data"
    },
    {
     "name": "stdout",
     "output_type": "stream",
     "text": [
      "Adding 215 new samples to the train dataset.\n",
      "Removing 215 samples from pseudo dataset.\n"
     ]
    },
    {
     "data": {
      "application/vnd.jupyter.widget-view+json": {
       "model_id": "5afdcf048960447c92d98490683fdc7a",
       "version_major": 2,
       "version_minor": 0
      },
      "text/plain": [
       "Validation:   0%|          | 0/893 [00:00<?, ?it/s]"
      ]
     },
     "metadata": {},
     "output_type": "display_data"
    },
    {
     "name": "stdout",
     "output_type": "stream",
     "text": [
      "Train Loss: 0.0111, Train AUC: 0.9799\n",
      "Val Loss: 0.0076, Val AUC: 0.9933\n",
      "New best AUC: 0.9933 at epoch 6\n",
      "\n",
      "Epoch 7/10\n"
     ]
    },
    {
     "data": {
      "application/vnd.jupyter.widget-view+json": {
       "model_id": "ac0932cde50f43428def350e8dd6d9bb",
       "version_major": 2,
       "version_minor": 0
      },
      "text/plain": [
       "Training:   0%|          | 0/918 [00:00<?, ?it/s]"
      ]
     },
     "metadata": {},
     "output_type": "display_data"
    },
    {
     "data": {
      "application/vnd.jupyter.widget-view+json": {
       "model_id": "7a4f0d32f35349adbfcae1dcd1c1aa3a",
       "version_major": 2,
       "version_minor": 0
      },
      "text/plain": [
       "Updating pseudo-labels:   0%|          | 0/277 [00:00<?, ?it/s]"
      ]
     },
     "metadata": {},
     "output_type": "display_data"
    },
    {
     "name": "stdout",
     "output_type": "stream",
     "text": [
      "Adding 192 new samples to the train dataset.\n",
      "Removing 192 samples from pseudo dataset.\n"
     ]
    },
    {
     "data": {
      "application/vnd.jupyter.widget-view+json": {
       "model_id": "cf427a8e53eb42b8a1e8286f9356f18c",
       "version_major": 2,
       "version_minor": 0
      },
      "text/plain": [
       "Validation:   0%|          | 0/893 [00:00<?, ?it/s]"
      ]
     },
     "metadata": {},
     "output_type": "display_data"
    },
    {
     "name": "stdout",
     "output_type": "stream",
     "text": [
      "Train Loss: 0.0093, Train AUC: 0.9874\n",
      "Val Loss: 0.0059, Val AUC: 0.9966\n",
      "New best AUC: 0.9966 at epoch 7\n",
      "\n",
      "Epoch 8/10\n"
     ]
    },
    {
     "data": {
      "application/vnd.jupyter.widget-view+json": {
       "model_id": "61710ee8c0d74d79aa7e11470ab67737",
       "version_major": 2,
       "version_minor": 0
      },
      "text/plain": [
       "Training:   0%|          | 0/924 [00:00<?, ?it/s]"
      ]
     },
     "metadata": {},
     "output_type": "display_data"
    },
    {
     "data": {
      "application/vnd.jupyter.widget-view+json": {
       "model_id": "5268768ab5c34c27bc5746a203d02d4c",
       "version_major": 2,
       "version_minor": 0
      },
      "text/plain": [
       "Updating pseudo-labels:   0%|          | 0/271 [00:00<?, ?it/s]"
      ]
     },
     "metadata": {},
     "output_type": "display_data"
    },
    {
     "name": "stdout",
     "output_type": "stream",
     "text": [
      "Adding 208 new samples to the train dataset.\n",
      "Removing 208 samples from pseudo dataset.\n"
     ]
    },
    {
     "data": {
      "application/vnd.jupyter.widget-view+json": {
       "model_id": "6f1b32f9f8624cda901a6fbac1addef1",
       "version_major": 2,
       "version_minor": 0
      },
      "text/plain": [
       "Validation:   0%|          | 0/893 [00:00<?, ?it/s]"
      ]
     },
     "metadata": {},
     "output_type": "display_data"
    },
    {
     "name": "stdout",
     "output_type": "stream",
     "text": [
      "Train Loss: 0.0078, Train AUC: 0.9924\n",
      "Val Loss: 0.0047, Val AUC: 0.9981\n",
      "New best AUC: 0.9981 at epoch 8\n",
      "\n",
      "Epoch 9/10\n"
     ]
    },
    {
     "data": {
      "application/vnd.jupyter.widget-view+json": {
       "model_id": "b6f73dc7531d4df387838b4691a45a3b",
       "version_major": 2,
       "version_minor": 0
      },
      "text/plain": [
       "Training:   0%|          | 0/931 [00:00<?, ?it/s]"
      ]
     },
     "metadata": {},
     "output_type": "display_data"
    },
    {
     "data": {
      "application/vnd.jupyter.widget-view+json": {
       "model_id": "dc2b6e0293c74728818a26884daa1f44",
       "version_major": 2,
       "version_minor": 0
      },
      "text/plain": [
       "Updating pseudo-labels:   0%|          | 0/265 [00:00<?, ?it/s]"
      ]
     },
     "metadata": {},
     "output_type": "display_data"
    },
    {
     "name": "stdout",
     "output_type": "stream",
     "text": [
      "Adding 446 new samples to the train dataset.\n",
      "Removing 446 samples from pseudo dataset.\n"
     ]
    },
    {
     "data": {
      "application/vnd.jupyter.widget-view+json": {
       "model_id": "575a099e377547139065bfcce9b9b539",
       "version_major": 2,
       "version_minor": 0
      },
      "text/plain": [
       "Validation:   0%|          | 0/893 [00:00<?, ?it/s]"
      ]
     },
     "metadata": {},
     "output_type": "display_data"
    },
    {
     "name": "stdout",
     "output_type": "stream",
     "text": [
      "Train Loss: 0.0068, Train AUC: 0.9948\n",
      "Val Loss: 0.0041, Val AUC: 0.9987\n",
      "New best AUC: 0.9987 at epoch 9\n",
      "\n",
      "Epoch 10/10\n"
     ]
    },
    {
     "data": {
      "application/vnd.jupyter.widget-view+json": {
       "model_id": "21abfd16e28e42d2956dfbabba3ad4d7",
       "version_major": 2,
       "version_minor": 0
      },
      "text/plain": [
       "Training:   0%|          | 0/945 [00:00<?, ?it/s]"
      ]
     },
     "metadata": {},
     "output_type": "display_data"
    },
    {
     "data": {
      "application/vnd.jupyter.widget-view+json": {
       "model_id": "525fc58fd37346e590b23493c5c716b1",
       "version_major": 2,
       "version_minor": 0
      },
      "text/plain": [
       "Updating pseudo-labels:   0%|          | 0/251 [00:00<?, ?it/s]"
      ]
     },
     "metadata": {},
     "output_type": "display_data"
    },
    {
     "name": "stdout",
     "output_type": "stream",
     "text": [
      "Adding 429 new samples to the train dataset.\n",
      "Removing 429 samples from pseudo dataset.\n"
     ]
    },
    {
     "data": {
      "application/vnd.jupyter.widget-view+json": {
       "model_id": "c694c7a591f74c67b6e73e38bf42b671",
       "version_major": 2,
       "version_minor": 0
      },
      "text/plain": [
       "Validation:   0%|          | 0/893 [00:00<?, ?it/s]"
      ]
     },
     "metadata": {},
     "output_type": "display_data"
    },
    {
     "name": "stdout",
     "output_type": "stream",
     "text": [
      "Train Loss: 0.0062, Train AUC: 0.9958\n",
      "Val Loss: 0.0039, Val AUC: 0.9988\n",
      "New best AUC: 0.9988 at epoch 10\n",
      "\n",
      "Best AUC for fold 0: 0.9988 at epoch 10\n",
      "\n",
      "============================================================\n",
      "Cross-Validation Results:\n",
      "Fold 0: 0.9988\n",
      "Mean AUC: 0.9988\n",
      "============================================================\n",
      "\n",
      "Training complete!\n",
      "Config saved to output/config_20250501_131702_efficientnet_b0.json\n"
     ]
    }
   ],
   "source": [
    "if __name__ == \"__main__\":\n",
    "    print(\"\\nLoading training data...\")\n",
    "    train_df = pd.read_csv(cfg.train_csv)\n",
    "    taxonomy_df = pd.read_csv(cfg.taxonomy_csv)\n",
    "    soundscape_df = pd.read_csv(cfg.unlabeled_sample_list)\n",
    "\n",
    "    print(\"\\nStarting training...\")\n",
    "    print(f\"LOAD_DATA is set to {cfg.LOAD_DATA}\")\n",
    "    if cfg.LOAD_DATA:\n",
    "        print(\"Using pre-computed mel spectrograms from NPY file\")\n",
    "    else:\n",
    "        print(\"Will generate spectrograms on-the-fly during training\")\n",
    "\n",
    "    run_training(train_df, cfg, soundscape_df=soundscape_df)\n",
    "    print(\"\\nTraining complete!\")\n",
    "    cfg.save_config()"
   ]
  },
  {
   "cell_type": "code",
   "execution_count": 9,
   "id": "2008b4f4",
   "metadata": {},
   "outputs": [
    {
     "name": "stdout",
     "output_type": "stream",
     "text": [
      "Found 9726 matching spectrograms for train dataset out of 9726 samples\n",
      "Found 28564 matching spectrograms for train dataset out of 28564 samples\n"
     ]
    },
    {
     "data": {
      "text/html": [
       "<div>\n",
       "<style scoped>\n",
       "    .dataframe tbody tr th:only-of-type {\n",
       "        vertical-align: middle;\n",
       "    }\n",
       "\n",
       "    .dataframe tbody tr th {\n",
       "        vertical-align: top;\n",
       "    }\n",
       "\n",
       "    .dataframe thead th {\n",
       "        text-align: right;\n",
       "    }\n",
       "</style>\n",
       "<table border=\"1\" class=\"dataframe\">\n",
       "  <thead>\n",
       "    <tr style=\"text-align: right;\">\n",
       "      <th></th>\n",
       "      <th>Unnamed: 0</th>\n",
       "      <th>filepath</th>\n",
       "      <th>samplename</th>\n",
       "      <th>primary_label</th>\n",
       "      <th>filename</th>\n",
       "    </tr>\n",
       "  </thead>\n",
       "  <tbody>\n",
       "    <tr>\n",
       "      <th>0</th>\n",
       "      <td>0</td>\n",
       "      <td>birdclef-2025/train_soundscapes/H09_20230510_1...</td>\n",
       "      <td>H09_20230510_151000</td>\n",
       "      <td>None</td>\n",
       "      <td>H09_20230510_151000.ogg</td>\n",
       "    </tr>\n",
       "    <tr>\n",
       "      <th>1</th>\n",
       "      <td>1</td>\n",
       "      <td>birdclef-2025/train_soundscapes/H02_20230425_0...</td>\n",
       "      <td>H02_20230425_035000</td>\n",
       "      <td>None</td>\n",
       "      <td>H02_20230425_035000.ogg</td>\n",
       "    </tr>\n",
       "    <tr>\n",
       "      <th>2</th>\n",
       "      <td>2</td>\n",
       "      <td>birdclef-2025/train_soundscapes/H98_20230428_2...</td>\n",
       "      <td>H98_20230428_213000</td>\n",
       "      <td>None</td>\n",
       "      <td>H98_20230428_213000.ogg</td>\n",
       "    </tr>\n",
       "    <tr>\n",
       "      <th>3</th>\n",
       "      <td>3</td>\n",
       "      <td>birdclef-2025/train_soundscapes/H69_20230516_2...</td>\n",
       "      <td>H69_20230516_235000</td>\n",
       "      <td>None</td>\n",
       "      <td>H69_20230516_235000.ogg</td>\n",
       "    </tr>\n",
       "    <tr>\n",
       "      <th>4</th>\n",
       "      <td>4</td>\n",
       "      <td>birdclef-2025/train_soundscapes/H18_20230425_0...</td>\n",
       "      <td>H18_20230425_014000</td>\n",
       "      <td>None</td>\n",
       "      <td>H18_20230425_014000.ogg</td>\n",
       "    </tr>\n",
       "    <tr>\n",
       "      <th>...</th>\n",
       "      <td>...</td>\n",
       "      <td>...</td>\n",
       "      <td>...</td>\n",
       "      <td>...</td>\n",
       "      <td>...</td>\n",
       "    </tr>\n",
       "    <tr>\n",
       "      <th>9721</th>\n",
       "      <td>9721</td>\n",
       "      <td>birdclef-2025/train_soundscapes/H30_20230514_1...</td>\n",
       "      <td>H30_20230514_161500</td>\n",
       "      <td>None</td>\n",
       "      <td>H30_20230514_161500.ogg</td>\n",
       "    </tr>\n",
       "    <tr>\n",
       "      <th>9722</th>\n",
       "      <td>9722</td>\n",
       "      <td>birdclef-2025/train_soundscapes/H92_20230425_1...</td>\n",
       "      <td>H92_20230425_113000</td>\n",
       "      <td>None</td>\n",
       "      <td>H92_20230425_113000.ogg</td>\n",
       "    </tr>\n",
       "    <tr>\n",
       "      <th>9723</th>\n",
       "      <td>9723</td>\n",
       "      <td>birdclef-2025/train_soundscapes/H16_20230429_0...</td>\n",
       "      <td>H16_20230429_064000</td>\n",
       "      <td>None</td>\n",
       "      <td>H16_20230429_064000.ogg</td>\n",
       "    </tr>\n",
       "    <tr>\n",
       "      <th>9724</th>\n",
       "      <td>9724</td>\n",
       "      <td>birdclef-2025/train_soundscapes/H37_20230424_0...</td>\n",
       "      <td>H37_20230424_094500</td>\n",
       "      <td>None</td>\n",
       "      <td>H37_20230424_094500.ogg</td>\n",
       "    </tr>\n",
       "    <tr>\n",
       "      <th>9725</th>\n",
       "      <td>9725</td>\n",
       "      <td>birdclef-2025/train_soundscapes/H31_20230506_1...</td>\n",
       "      <td>H31_20230506_170000</td>\n",
       "      <td>None</td>\n",
       "      <td>H31_20230506_170000.ogg</td>\n",
       "    </tr>\n",
       "  </tbody>\n",
       "</table>\n",
       "<p>9726 rows × 5 columns</p>\n",
       "</div>"
      ],
      "text/plain": [
       "      Unnamed: 0                                           filepath  \\\n",
       "0              0  birdclef-2025/train_soundscapes/H09_20230510_1...   \n",
       "1              1  birdclef-2025/train_soundscapes/H02_20230425_0...   \n",
       "2              2  birdclef-2025/train_soundscapes/H98_20230428_2...   \n",
       "3              3  birdclef-2025/train_soundscapes/H69_20230516_2...   \n",
       "4              4  birdclef-2025/train_soundscapes/H18_20230425_0...   \n",
       "...          ...                                                ...   \n",
       "9721        9721  birdclef-2025/train_soundscapes/H30_20230514_1...   \n",
       "9722        9722  birdclef-2025/train_soundscapes/H92_20230425_1...   \n",
       "9723        9723  birdclef-2025/train_soundscapes/H16_20230429_0...   \n",
       "9724        9724  birdclef-2025/train_soundscapes/H37_20230424_0...   \n",
       "9725        9725  birdclef-2025/train_soundscapes/H31_20230506_1...   \n",
       "\n",
       "               samplename primary_label                 filename  \n",
       "0     H09_20230510_151000          None  H09_20230510_151000.ogg  \n",
       "1     H02_20230425_035000          None  H02_20230425_035000.ogg  \n",
       "2     H98_20230428_213000          None  H98_20230428_213000.ogg  \n",
       "3     H69_20230516_235000          None  H69_20230516_235000.ogg  \n",
       "4     H18_20230425_014000          None  H18_20230425_014000.ogg  \n",
       "...                   ...           ...                      ...  \n",
       "9721  H30_20230514_161500          None  H30_20230514_161500.ogg  \n",
       "9722  H92_20230425_113000          None  H92_20230425_113000.ogg  \n",
       "9723  H16_20230429_064000          None  H16_20230429_064000.ogg  \n",
       "9724  H37_20230424_094500          None  H37_20230424_094500.ogg  \n",
       "9725  H31_20230506_170000          None  H31_20230506_170000.ogg  \n",
       "\n",
       "[9726 rows x 5 columns]"
      ]
     },
     "execution_count": 9,
     "metadata": {},
     "output_type": "execute_result"
    }
   ],
   "source": [
    "# test loading of dataset\n",
    "soundscape_set = np.load(cfg.spectrogram_npy_unlabeled, allow_pickle=True).item()\n",
    "soundscape_meta = pd.read_csv(cfg.unlabeled_sample_list)\n",
    "unlabeled_dataset = SoundscapeDatasetFromNPY(soundscape_meta, cfg, soundscape_set, mode=\"train\")\n",
    "train_set = np.load(cfg.spectrogram_npy, allow_pickle=True).item()\n",
    "train_meta = pd.read_csv(cfg.train_csv)\n",
    "train_dataset = BirdCLEFDatasetFromNPY(train_meta, cfg, train_set, mode=\"train\")\n",
    "unlabeled_dataset.__getitem__(1)\n",
    "train_dataset.__getitem__(1)\n",
    "unlabeled_dataset.df"
   ]
  }
 ],
 "metadata": {
  "kaggle": {
   "accelerator": "nvidiaTeslaT4",
   "dataSources": [
    {
     "databundleVersionId": 11361821,
     "sourceId": 91844,
     "sourceType": "competition"
    },
    {
     "datasetId": 6886569,
     "sourceId": 11053663,
     "sourceType": "datasetVersion"
    }
   ],
   "dockerImageVersionId": 30919,
   "isGpuEnabled": true,
   "isInternetEnabled": true,
   "language": "python",
   "sourceType": "notebook"
  },
  "kernelspec": {
   "display_name": ".birdclef_env",
   "language": "python",
   "name": "python3"
  },
  "language_info": {
   "codemirror_mode": {
    "name": "ipython",
    "version": 3
   },
   "file_extension": ".py",
   "mimetype": "text/x-python",
   "name": "python",
   "nbconvert_exporter": "python",
   "pygments_lexer": "ipython3",
   "version": "3.11.2"
  },
  "papermill": {
   "default_parameters": {},
   "duration": 105.861675,
   "end_time": "2025-03-17T14:02:15.686871",
   "environment_variables": {},
   "exception": null,
   "input_path": "__notebook__.ipynb",
   "output_path": "__notebook__.ipynb",
   "parameters": {},
   "start_time": "2025-03-17T14:00:29.825196",
   "version": "2.6.0"
  },
  "widgets": {
   "application/vnd.jupyter.widget-state+json": {
    "state": {
     "0fa836ee22b04b368008c3690b558e46": {
      "model_module": "@jupyter-widgets/controls",
      "model_module_version": "2.0.0",
      "model_name": "ProgressStyleModel",
      "state": {
       "_model_module": "@jupyter-widgets/controls",
       "_model_module_version": "2.0.0",
       "_model_name": "ProgressStyleModel",
       "_view_count": null,
       "_view_module": "@jupyter-widgets/base",
       "_view_module_version": "2.0.0",
       "_view_name": "StyleView",
       "bar_color": null,
       "description_width": ""
      }
     },
     "114dd08c70bd4b1c9eca37e27bf08897": {
      "model_module": "@jupyter-widgets/base",
      "model_module_version": "2.0.0",
      "model_name": "LayoutModel",
      "state": {
       "_model_module": "@jupyter-widgets/base",
       "_model_module_version": "2.0.0",
       "_model_name": "LayoutModel",
       "_view_count": null,
       "_view_module": "@jupyter-widgets/base",
       "_view_module_version": "2.0.0",
       "_view_name": "LayoutView",
       "align_content": null,
       "align_items": null,
       "align_self": null,
       "border_bottom": null,
       "border_left": null,
       "border_right": null,
       "border_top": null,
       "bottom": null,
       "display": null,
       "flex": null,
       "flex_flow": null,
       "grid_area": null,
       "grid_auto_columns": null,
       "grid_auto_flow": null,
       "grid_auto_rows": null,
       "grid_column": null,
       "grid_gap": null,
       "grid_row": null,
       "grid_template_areas": null,
       "grid_template_columns": null,
       "grid_template_rows": null,
       "height": null,
       "justify_content": null,
       "justify_items": null,
       "left": null,
       "margin": null,
       "max_height": null,
       "max_width": null,
       "min_height": null,
       "min_width": null,
       "object_fit": null,
       "object_position": null,
       "order": null,
       "overflow": null,
       "padding": null,
       "right": null,
       "top": null,
       "visibility": null,
       "width": null
      }
     },
     "1300468cac164026a61e5e60b05b005d": {
      "model_module": "@jupyter-widgets/base",
      "model_module_version": "2.0.0",
      "model_name": "LayoutModel",
      "state": {
       "_model_module": "@jupyter-widgets/base",
       "_model_module_version": "2.0.0",
       "_model_name": "LayoutModel",
       "_view_count": null,
       "_view_module": "@jupyter-widgets/base",
       "_view_module_version": "2.0.0",
       "_view_name": "LayoutView",
       "align_content": null,
       "align_items": null,
       "align_self": null,
       "border_bottom": null,
       "border_left": null,
       "border_right": null,
       "border_top": null,
       "bottom": null,
       "display": null,
       "flex": null,
       "flex_flow": null,
       "grid_area": null,
       "grid_auto_columns": null,
       "grid_auto_flow": null,
       "grid_auto_rows": null,
       "grid_column": null,
       "grid_gap": null,
       "grid_row": null,
       "grid_template_areas": null,
       "grid_template_columns": null,
       "grid_template_rows": null,
       "height": null,
       "justify_content": null,
       "justify_items": null,
       "left": null,
       "margin": null,
       "max_height": null,
       "max_width": null,
       "min_height": null,
       "min_width": null,
       "object_fit": null,
       "object_position": null,
       "order": null,
       "overflow": null,
       "padding": null,
       "right": null,
       "top": null,
       "visibility": null,
       "width": null
      }
     },
     "158d32467f5247c983eb8907b6f5436f": {
      "model_module": "@jupyter-widgets/controls",
      "model_module_version": "2.0.0",
      "model_name": "HBoxModel",
      "state": {
       "_dom_classes": [],
       "_model_module": "@jupyter-widgets/controls",
       "_model_module_version": "2.0.0",
       "_model_name": "HBoxModel",
       "_view_count": null,
       "_view_module": "@jupyter-widgets/controls",
       "_view_module_version": "2.0.0",
       "_view_name": "HBoxView",
       "box_style": "",
       "children": [
        "IPY_MODEL_ad27b2a5cded4c23a3f72be3cee7c158",
        "IPY_MODEL_2d82fd9a33be40a19b68a6b37ee2375c",
        "IPY_MODEL_8720627fe38240cb88edd61a2fa45481"
       ],
       "layout": "IPY_MODEL_8eca206926bb44e9b42a5170bf4b1492",
       "tabbable": null,
       "tooltip": null
      }
     },
     "1ad6a9d60ae24934ae355801b4992850": {
      "model_module": "@jupyter-widgets/controls",
      "model_module_version": "2.0.0",
      "model_name": "HBoxModel",
      "state": {
       "_dom_classes": [],
       "_model_module": "@jupyter-widgets/controls",
       "_model_module_version": "2.0.0",
       "_model_name": "HBoxModel",
       "_view_count": null,
       "_view_module": "@jupyter-widgets/controls",
       "_view_module_version": "2.0.0",
       "_view_name": "HBoxView",
       "box_style": "",
       "children": [
        "IPY_MODEL_1be8903e7c5d424abe30c82905dfa291",
        "IPY_MODEL_beceebaa8bef4939a3027e1756c820ca",
        "IPY_MODEL_65c613e48ff14d02b91adbeae536f703"
       ],
       "layout": "IPY_MODEL_7d38c7c32ff24563ae51248957aac76a",
       "tabbable": null,
       "tooltip": null
      }
     },
     "1be8903e7c5d424abe30c82905dfa291": {
      "model_module": "@jupyter-widgets/controls",
      "model_module_version": "2.0.0",
      "model_name": "HTMLModel",
      "state": {
       "_dom_classes": [],
       "_model_module": "@jupyter-widgets/controls",
       "_model_module_version": "2.0.0",
       "_model_name": "HTMLModel",
       "_view_count": null,
       "_view_module": "@jupyter-widgets/controls",
       "_view_module_version": "2.0.0",
       "_view_name": "HTMLView",
       "description": "",
       "description_allow_html": false,
       "layout": "IPY_MODEL_fbd77392c5e94748a19ab6adc204c0f0",
       "placeholder": "​",
       "style": "IPY_MODEL_5c8f99997b3d447cb7664e6c8213d5af",
       "tabbable": null,
       "tooltip": null,
       "value": "Validation: 100%"
      }
     },
     "1e6784d317664982818c369ec64d4375": {
      "model_module": "@jupyter-widgets/base",
      "model_module_version": "2.0.0",
      "model_name": "LayoutModel",
      "state": {
       "_model_module": "@jupyter-widgets/base",
       "_model_module_version": "2.0.0",
       "_model_name": "LayoutModel",
       "_view_count": null,
       "_view_module": "@jupyter-widgets/base",
       "_view_module_version": "2.0.0",
       "_view_name": "LayoutView",
       "align_content": null,
       "align_items": null,
       "align_self": null,
       "border_bottom": null,
       "border_left": null,
       "border_right": null,
       "border_top": null,
       "bottom": null,
       "display": null,
       "flex": null,
       "flex_flow": null,
       "grid_area": null,
       "grid_auto_columns": null,
       "grid_auto_flow": null,
       "grid_auto_rows": null,
       "grid_column": null,
       "grid_gap": null,
       "grid_row": null,
       "grid_template_areas": null,
       "grid_template_columns": null,
       "grid_template_rows": null,
       "height": null,
       "justify_content": null,
       "justify_items": null,
       "left": null,
       "margin": null,
       "max_height": null,
       "max_width": null,
       "min_height": null,
       "min_width": null,
       "object_fit": null,
       "object_position": null,
       "order": null,
       "overflow": null,
       "padding": null,
       "right": null,
       "top": null,
       "visibility": null,
       "width": null
      }
     },
     "23b325002c114fb6801da1f6f7e2a2eb": {
      "model_module": "@jupyter-widgets/base",
      "model_module_version": "2.0.0",
      "model_name": "LayoutModel",
      "state": {
       "_model_module": "@jupyter-widgets/base",
       "_model_module_version": "2.0.0",
       "_model_name": "LayoutModel",
       "_view_count": null,
       "_view_module": "@jupyter-widgets/base",
       "_view_module_version": "2.0.0",
       "_view_name": "LayoutView",
       "align_content": null,
       "align_items": null,
       "align_self": null,
       "border_bottom": null,
       "border_left": null,
       "border_right": null,
       "border_top": null,
       "bottom": null,
       "display": null,
       "flex": null,
       "flex_flow": null,
       "grid_area": null,
       "grid_auto_columns": null,
       "grid_auto_flow": null,
       "grid_auto_rows": null,
       "grid_column": null,
       "grid_gap": null,
       "grid_row": null,
       "grid_template_areas": null,
       "grid_template_columns": null,
       "grid_template_rows": null,
       "height": null,
       "justify_content": null,
       "justify_items": null,
       "left": null,
       "margin": null,
       "max_height": null,
       "max_width": null,
       "min_height": null,
       "min_width": null,
       "object_fit": null,
       "object_position": null,
       "order": null,
       "overflow": null,
       "padding": null,
       "right": null,
       "top": null,
       "visibility": null,
       "width": null
      }
     },
     "23b951c7b2c847bbaf9c066b7f932c12": {
      "model_module": "@jupyter-widgets/controls",
      "model_module_version": "2.0.0",
      "model_name": "HTMLModel",
      "state": {
       "_dom_classes": [],
       "_model_module": "@jupyter-widgets/controls",
       "_model_module_version": "2.0.0",
       "_model_name": "HTMLModel",
       "_view_count": null,
       "_view_module": "@jupyter-widgets/controls",
       "_view_module_version": "2.0.0",
       "_view_name": "HTMLView",
       "description": "",
       "description_allow_html": false,
       "layout": "IPY_MODEL_f808eb60489b4ef2bc76b055d5c477ff",
       "placeholder": "​",
       "style": "IPY_MODEL_ed26d5cb2ff3426a9449e0166b68afbf",
       "tabbable": null,
       "tooltip": null,
       "value": " 31/31 [00:05&lt;00:00,  5.70it/s, train_loss=0.0308, lr=0.000488]"
      }
     },
     "2b7b0d3f79504d87a8dbfb2f7893399a": {
      "model_module": "@jupyter-widgets/controls",
      "model_module_version": "2.0.0",
      "model_name": "FloatProgressModel",
      "state": {
       "_dom_classes": [],
       "_model_module": "@jupyter-widgets/controls",
       "_model_module_version": "2.0.0",
       "_model_name": "FloatProgressModel",
       "_view_count": null,
       "_view_module": "@jupyter-widgets/controls",
       "_view_module_version": "2.0.0",
       "_view_name": "ProgressView",
       "bar_style": "success",
       "description": "",
       "description_allow_html": false,
       "layout": "IPY_MODEL_527982470da345c590c47f26ce1f9ccf",
       "max": 31,
       "min": 0,
       "orientation": "horizontal",
       "style": "IPY_MODEL_ddf272308e664d24820c9ca6e917e456",
       "tabbable": null,
       "tooltip": null,
       "value": 31
      }
     },
     "2d82fd9a33be40a19b68a6b37ee2375c": {
      "model_module": "@jupyter-widgets/controls",
      "model_module_version": "2.0.0",
      "model_name": "FloatProgressModel",
      "state": {
       "_dom_classes": [],
       "_model_module": "@jupyter-widgets/controls",
       "_model_module_version": "2.0.0",
       "_model_name": "FloatProgressModel",
       "_view_count": null,
       "_view_module": "@jupyter-widgets/controls",
       "_view_module_version": "2.0.0",
       "_view_name": "ProgressView",
       "bar_style": "success",
       "description": "",
       "description_allow_html": false,
       "layout": "IPY_MODEL_f4cc700caf0949c5bf39d8f7539ba2d2",
       "max": 21355344,
       "min": 0,
       "orientation": "horizontal",
       "style": "IPY_MODEL_925afd9abcc74142bd88971863bb345b",
       "tabbable": null,
       "tooltip": null,
       "value": 21355344
      }
     },
     "35b20f9b2e8746c68e234fcb6d29f047": {
      "model_module": "@jupyter-widgets/controls",
      "model_module_version": "2.0.0",
      "model_name": "FloatProgressModel",
      "state": {
       "_dom_classes": [],
       "_model_module": "@jupyter-widgets/controls",
       "_model_module_version": "2.0.0",
       "_model_name": "FloatProgressModel",
       "_view_count": null,
       "_view_module": "@jupyter-widgets/controls",
       "_view_module_version": "2.0.0",
       "_view_name": "ProgressView",
       "bar_style": "success",
       "description": "",
       "description_allow_html": false,
       "layout": "IPY_MODEL_23b325002c114fb6801da1f6f7e2a2eb",
       "max": 31,
       "min": 0,
       "orientation": "horizontal",
       "style": "IPY_MODEL_926aa065fa4f40b4b623fd079ba7cd0f",
       "tabbable": null,
       "tooltip": null,
       "value": 31
      }
     },
     "527982470da345c590c47f26ce1f9ccf": {
      "model_module": "@jupyter-widgets/base",
      "model_module_version": "2.0.0",
      "model_name": "LayoutModel",
      "state": {
       "_model_module": "@jupyter-widgets/base",
       "_model_module_version": "2.0.0",
       "_model_name": "LayoutModel",
       "_view_count": null,
       "_view_module": "@jupyter-widgets/base",
       "_view_module_version": "2.0.0",
       "_view_name": "LayoutView",
       "align_content": null,
       "align_items": null,
       "align_self": null,
       "border_bottom": null,
       "border_left": null,
       "border_right": null,
       "border_top": null,
       "bottom": null,
       "display": null,
       "flex": null,
       "flex_flow": null,
       "grid_area": null,
       "grid_auto_columns": null,
       "grid_auto_flow": null,
       "grid_auto_rows": null,
       "grid_column": null,
       "grid_gap": null,
       "grid_row": null,
       "grid_template_areas": null,
       "grid_template_columns": null,
       "grid_template_rows": null,
       "height": null,
       "justify_content": null,
       "justify_items": null,
       "left": null,
       "margin": null,
       "max_height": null,
       "max_width": null,
       "min_height": null,
       "min_width": null,
       "object_fit": null,
       "object_position": null,
       "order": null,
       "overflow": null,
       "padding": null,
       "right": null,
       "top": null,
       "visibility": null,
       "width": null
      }
     },
     "546a352a5f6d48bd9769e2dff67a1419": {
      "model_module": "@jupyter-widgets/controls",
      "model_module_version": "2.0.0",
      "model_name": "HTMLStyleModel",
      "state": {
       "_model_module": "@jupyter-widgets/controls",
       "_model_module_version": "2.0.0",
       "_model_name": "HTMLStyleModel",
       "_view_count": null,
       "_view_module": "@jupyter-widgets/base",
       "_view_module_version": "2.0.0",
       "_view_name": "StyleView",
       "background": null,
       "description_width": "",
       "font_size": null,
       "text_color": null
      }
     },
     "577df72f0ce349d8988b16f4429c3116": {
      "model_module": "@jupyter-widgets/controls",
      "model_module_version": "2.0.0",
      "model_name": "HTMLModel",
      "state": {
       "_dom_classes": [],
       "_model_module": "@jupyter-widgets/controls",
       "_model_module_version": "2.0.0",
       "_model_name": "HTMLModel",
       "_view_count": null,
       "_view_module": "@jupyter-widgets/controls",
       "_view_module_version": "2.0.0",
       "_view_name": "HTMLView",
       "description": "",
       "description_allow_html": false,
       "layout": "IPY_MODEL_6314d51e57944ca399dd8819d2c5c214",
       "placeholder": "​",
       "style": "IPY_MODEL_c4ccd0e9a85348d4a50bda1dc66d9658",
       "tabbable": null,
       "tooltip": null,
       "value": "Training: 100%"
      }
     },
     "5c8f99997b3d447cb7664e6c8213d5af": {
      "model_module": "@jupyter-widgets/controls",
      "model_module_version": "2.0.0",
      "model_name": "HTMLStyleModel",
      "state": {
       "_model_module": "@jupyter-widgets/controls",
       "_model_module_version": "2.0.0",
       "_model_name": "HTMLStyleModel",
       "_view_count": null,
       "_view_module": "@jupyter-widgets/base",
       "_view_module_version": "2.0.0",
       "_view_name": "StyleView",
       "background": null,
       "description_width": "",
       "font_size": null,
       "text_color": null
      }
     },
     "60623af9dc82439fbac9dce1bb4a9d90": {
      "model_module": "@jupyter-widgets/controls",
      "model_module_version": "2.0.0",
      "model_name": "ProgressStyleModel",
      "state": {
       "_model_module": "@jupyter-widgets/controls",
       "_model_module_version": "2.0.0",
       "_model_name": "ProgressStyleModel",
       "_view_count": null,
       "_view_module": "@jupyter-widgets/base",
       "_view_module_version": "2.0.0",
       "_view_name": "StyleView",
       "bar_color": null,
       "description_width": ""
      }
     },
     "6314d51e57944ca399dd8819d2c5c214": {
      "model_module": "@jupyter-widgets/base",
      "model_module_version": "2.0.0",
      "model_name": "LayoutModel",
      "state": {
       "_model_module": "@jupyter-widgets/base",
       "_model_module_version": "2.0.0",
       "_model_name": "LayoutModel",
       "_view_count": null,
       "_view_module": "@jupyter-widgets/base",
       "_view_module_version": "2.0.0",
       "_view_name": "LayoutView",
       "align_content": null,
       "align_items": null,
       "align_self": null,
       "border_bottom": null,
       "border_left": null,
       "border_right": null,
       "border_top": null,
       "bottom": null,
       "display": null,
       "flex": null,
       "flex_flow": null,
       "grid_area": null,
       "grid_auto_columns": null,
       "grid_auto_flow": null,
       "grid_auto_rows": null,
       "grid_column": null,
       "grid_gap": null,
       "grid_row": null,
       "grid_template_areas": null,
       "grid_template_columns": null,
       "grid_template_rows": null,
       "height": null,
       "justify_content": null,
       "justify_items": null,
       "left": null,
       "margin": null,
       "max_height": null,
       "max_width": null,
       "min_height": null,
       "min_width": null,
       "object_fit": null,
       "object_position": null,
       "order": null,
       "overflow": null,
       "padding": null,
       "right": null,
       "top": null,
       "visibility": null,
       "width": null
      }
     },
     "65c613e48ff14d02b91adbeae536f703": {
      "model_module": "@jupyter-widgets/controls",
      "model_module_version": "2.0.0",
      "model_name": "HTMLModel",
      "state": {
       "_dom_classes": [],
       "_model_module": "@jupyter-widgets/controls",
       "_model_module_version": "2.0.0",
       "_model_name": "HTMLModel",
       "_view_count": null,
       "_view_module": "@jupyter-widgets/controls",
       "_view_module_version": "2.0.0",
       "_view_name": "HTMLView",
       "description": "",
       "description_allow_html": false,
       "layout": "IPY_MODEL_114dd08c70bd4b1c9eca37e27bf08897",
       "placeholder": "​",
       "style": "IPY_MODEL_f8e3ad286a374d558e61627ba3a67d26",
       "tabbable": null,
       "tooltip": null,
       "value": " 32/32 [00:02&lt;00:00, 22.08it/s]"
      }
     },
     "66d95ea040244824b4f188b4985e8cb2": {
      "model_module": "@jupyter-widgets/controls",
      "model_module_version": "2.0.0",
      "model_name": "HTMLStyleModel",
      "state": {
       "_model_module": "@jupyter-widgets/controls",
       "_model_module_version": "2.0.0",
       "_model_name": "HTMLStyleModel",
       "_view_count": null,
       "_view_module": "@jupyter-widgets/base",
       "_view_module_version": "2.0.0",
       "_view_name": "StyleView",
       "background": null,
       "description_width": "",
       "font_size": null,
       "text_color": null
      }
     },
     "690250bf83464a7f91cd587a5f56d48e": {
      "model_module": "@jupyter-widgets/controls",
      "model_module_version": "2.0.0",
      "model_name": "HTMLStyleModel",
      "state": {
       "_model_module": "@jupyter-widgets/controls",
       "_model_module_version": "2.0.0",
       "_model_name": "HTMLStyleModel",
       "_view_count": null,
       "_view_module": "@jupyter-widgets/base",
       "_view_module_version": "2.0.0",
       "_view_name": "StyleView",
       "background": null,
       "description_width": "",
       "font_size": null,
       "text_color": null
      }
     },
     "7036c511c9b34e76837009a371c58be9": {
      "model_module": "@jupyter-widgets/controls",
      "model_module_version": "2.0.0",
      "model_name": "HTMLModel",
      "state": {
       "_dom_classes": [],
       "_model_module": "@jupyter-widgets/controls",
       "_model_module_version": "2.0.0",
       "_model_name": "HTMLModel",
       "_view_count": null,
       "_view_module": "@jupyter-widgets/controls",
       "_view_module_version": "2.0.0",
       "_view_name": "HTMLView",
       "description": "",
       "description_allow_html": false,
       "layout": "IPY_MODEL_1300468cac164026a61e5e60b05b005d",
       "placeholder": "​",
       "style": "IPY_MODEL_690250bf83464a7f91cd587a5f56d48e",
       "tabbable": null,
       "tooltip": null,
       "value": " 32/32 [00:01&lt;00:00, 22.00it/s]"
      }
     },
     "74c1cd7782554123a2d89d46d13808b3": {
      "model_module": "@jupyter-widgets/controls",
      "model_module_version": "2.0.0",
      "model_name": "HBoxModel",
      "state": {
       "_dom_classes": [],
       "_model_module": "@jupyter-widgets/controls",
       "_model_module_version": "2.0.0",
       "_model_name": "HBoxModel",
       "_view_count": null,
       "_view_module": "@jupyter-widgets/controls",
       "_view_module_version": "2.0.0",
       "_view_name": "HBoxView",
       "box_style": "",
       "children": [
        "IPY_MODEL_d995347d83ec40e2b0c1db58a78e3dde",
        "IPY_MODEL_dcdaa701c23b4a1697b18ae319e036f6",
        "IPY_MODEL_7036c511c9b34e76837009a371c58be9"
       ],
       "layout": "IPY_MODEL_dc55c130999847b6a7460d8d68f31668",
       "tabbable": null,
       "tooltip": null
      }
     },
     "7d38c7c32ff24563ae51248957aac76a": {
      "model_module": "@jupyter-widgets/base",
      "model_module_version": "2.0.0",
      "model_name": "LayoutModel",
      "state": {
       "_model_module": "@jupyter-widgets/base",
       "_model_module_version": "2.0.0",
       "_model_name": "LayoutModel",
       "_view_count": null,
       "_view_module": "@jupyter-widgets/base",
       "_view_module_version": "2.0.0",
       "_view_name": "LayoutView",
       "align_content": null,
       "align_items": null,
       "align_self": null,
       "border_bottom": null,
       "border_left": null,
       "border_right": null,
       "border_top": null,
       "bottom": null,
       "display": null,
       "flex": null,
       "flex_flow": null,
       "grid_area": null,
       "grid_auto_columns": null,
       "grid_auto_flow": null,
       "grid_auto_rows": null,
       "grid_column": null,
       "grid_gap": null,
       "grid_row": null,
       "grid_template_areas": null,
       "grid_template_columns": null,
       "grid_template_rows": null,
       "height": null,
       "justify_content": null,
       "justify_items": null,
       "left": null,
       "margin": null,
       "max_height": null,
       "max_width": null,
       "min_height": null,
       "min_width": null,
       "object_fit": null,
       "object_position": null,
       "order": null,
       "overflow": null,
       "padding": null,
       "right": null,
       "top": null,
       "visibility": null,
       "width": null
      }
     },
     "871d479608024b77bb2db8278e3f659d": {
      "model_module": "@jupyter-widgets/base",
      "model_module_version": "2.0.0",
      "model_name": "LayoutModel",
      "state": {
       "_model_module": "@jupyter-widgets/base",
       "_model_module_version": "2.0.0",
       "_model_name": "LayoutModel",
       "_view_count": null,
       "_view_module": "@jupyter-widgets/base",
       "_view_module_version": "2.0.0",
       "_view_name": "LayoutView",
       "align_content": null,
       "align_items": null,
       "align_self": null,
       "border_bottom": null,
       "border_left": null,
       "border_right": null,
       "border_top": null,
       "bottom": null,
       "display": null,
       "flex": null,
       "flex_flow": null,
       "grid_area": null,
       "grid_auto_columns": null,
       "grid_auto_flow": null,
       "grid_auto_rows": null,
       "grid_column": null,
       "grid_gap": null,
       "grid_row": null,
       "grid_template_areas": null,
       "grid_template_columns": null,
       "grid_template_rows": null,
       "height": null,
       "justify_content": null,
       "justify_items": null,
       "left": null,
       "margin": null,
       "max_height": null,
       "max_width": null,
       "min_height": null,
       "min_width": null,
       "object_fit": null,
       "object_position": null,
       "order": null,
       "overflow": null,
       "padding": null,
       "right": null,
       "top": null,
       "visibility": null,
       "width": null
      }
     },
     "8720627fe38240cb88edd61a2fa45481": {
      "model_module": "@jupyter-widgets/controls",
      "model_module_version": "2.0.0",
      "model_name": "HTMLModel",
      "state": {
       "_dom_classes": [],
       "_model_module": "@jupyter-widgets/controls",
       "_model_module_version": "2.0.0",
       "_model_name": "HTMLModel",
       "_view_count": null,
       "_view_module": "@jupyter-widgets/controls",
       "_view_module_version": "2.0.0",
       "_view_name": "HTMLView",
       "description": "",
       "description_allow_html": false,
       "layout": "IPY_MODEL_934ed224b7fd4de3ab54a89a789f0e3a",
       "placeholder": "​",
       "style": "IPY_MODEL_a42ef4d205e74949b7fb2dee1039c2d8",
       "tabbable": null,
       "tooltip": null,
       "value": " 21.4M/21.4M [00:00&lt;00:00, 86.8MB/s]"
      }
     },
     "8e978a7645e7420fb2e452a3e2e7f69d": {
      "model_module": "@jupyter-widgets/controls",
      "model_module_version": "2.0.0",
      "model_name": "HTMLModel",
      "state": {
       "_dom_classes": [],
       "_model_module": "@jupyter-widgets/controls",
       "_model_module_version": "2.0.0",
       "_model_name": "HTMLModel",
       "_view_count": null,
       "_view_module": "@jupyter-widgets/controls",
       "_view_module_version": "2.0.0",
       "_view_name": "HTMLView",
       "description": "",
       "description_allow_html": false,
       "layout": "IPY_MODEL_ab2f0fc298124ff685860a158b2ec252",
       "placeholder": "​",
       "style": "IPY_MODEL_9366d6929e0c44408fb54456fff6c241",
       "tabbable": null,
       "tooltip": null,
       "value": " 31/31 [00:06&lt;00:00,  5.75it/s, train_loss=0.0344, lr=0.0005]"
      }
     },
     "8eca206926bb44e9b42a5170bf4b1492": {
      "model_module": "@jupyter-widgets/base",
      "model_module_version": "2.0.0",
      "model_name": "LayoutModel",
      "state": {
       "_model_module": "@jupyter-widgets/base",
       "_model_module_version": "2.0.0",
       "_model_name": "LayoutModel",
       "_view_count": null,
       "_view_module": "@jupyter-widgets/base",
       "_view_module_version": "2.0.0",
       "_view_name": "LayoutView",
       "align_content": null,
       "align_items": null,
       "align_self": null,
       "border_bottom": null,
       "border_left": null,
       "border_right": null,
       "border_top": null,
       "bottom": null,
       "display": null,
       "flex": null,
       "flex_flow": null,
       "grid_area": null,
       "grid_auto_columns": null,
       "grid_auto_flow": null,
       "grid_auto_rows": null,
       "grid_column": null,
       "grid_gap": null,
       "grid_row": null,
       "grid_template_areas": null,
       "grid_template_columns": null,
       "grid_template_rows": null,
       "height": null,
       "justify_content": null,
       "justify_items": null,
       "left": null,
       "margin": null,
       "max_height": null,
       "max_width": null,
       "min_height": null,
       "min_width": null,
       "object_fit": null,
       "object_position": null,
       "order": null,
       "overflow": null,
       "padding": null,
       "right": null,
       "top": null,
       "visibility": null,
       "width": null
      }
     },
     "9193f88c4b9842c4a73d33b86e2a79b8": {
      "model_module": "@jupyter-widgets/base",
      "model_module_version": "2.0.0",
      "model_name": "LayoutModel",
      "state": {
       "_model_module": "@jupyter-widgets/base",
       "_model_module_version": "2.0.0",
       "_model_name": "LayoutModel",
       "_view_count": null,
       "_view_module": "@jupyter-widgets/base",
       "_view_module_version": "2.0.0",
       "_view_name": "LayoutView",
       "align_content": null,
       "align_items": null,
       "align_self": null,
       "border_bottom": null,
       "border_left": null,
       "border_right": null,
       "border_top": null,
       "bottom": null,
       "display": null,
       "flex": null,
       "flex_flow": null,
       "grid_area": null,
       "grid_auto_columns": null,
       "grid_auto_flow": null,
       "grid_auto_rows": null,
       "grid_column": null,
       "grid_gap": null,
       "grid_row": null,
       "grid_template_areas": null,
       "grid_template_columns": null,
       "grid_template_rows": null,
       "height": null,
       "justify_content": null,
       "justify_items": null,
       "left": null,
       "margin": null,
       "max_height": null,
       "max_width": null,
       "min_height": null,
       "min_width": null,
       "object_fit": null,
       "object_position": null,
       "order": null,
       "overflow": null,
       "padding": null,
       "right": null,
       "top": null,
       "visibility": null,
       "width": null
      }
     },
     "925afd9abcc74142bd88971863bb345b": {
      "model_module": "@jupyter-widgets/controls",
      "model_module_version": "2.0.0",
      "model_name": "ProgressStyleModel",
      "state": {
       "_model_module": "@jupyter-widgets/controls",
       "_model_module_version": "2.0.0",
       "_model_name": "ProgressStyleModel",
       "_view_count": null,
       "_view_module": "@jupyter-widgets/base",
       "_view_module_version": "2.0.0",
       "_view_name": "StyleView",
       "bar_color": null,
       "description_width": ""
      }
     },
     "926aa065fa4f40b4b623fd079ba7cd0f": {
      "model_module": "@jupyter-widgets/controls",
      "model_module_version": "2.0.0",
      "model_name": "ProgressStyleModel",
      "state": {
       "_model_module": "@jupyter-widgets/controls",
       "_model_module_version": "2.0.0",
       "_model_name": "ProgressStyleModel",
       "_view_count": null,
       "_view_module": "@jupyter-widgets/base",
       "_view_module_version": "2.0.0",
       "_view_name": "StyleView",
       "bar_color": null,
       "description_width": ""
      }
     },
     "934ed224b7fd4de3ab54a89a789f0e3a": {
      "model_module": "@jupyter-widgets/base",
      "model_module_version": "2.0.0",
      "model_name": "LayoutModel",
      "state": {
       "_model_module": "@jupyter-widgets/base",
       "_model_module_version": "2.0.0",
       "_model_name": "LayoutModel",
       "_view_count": null,
       "_view_module": "@jupyter-widgets/base",
       "_view_module_version": "2.0.0",
       "_view_name": "LayoutView",
       "align_content": null,
       "align_items": null,
       "align_self": null,
       "border_bottom": null,
       "border_left": null,
       "border_right": null,
       "border_top": null,
       "bottom": null,
       "display": null,
       "flex": null,
       "flex_flow": null,
       "grid_area": null,
       "grid_auto_columns": null,
       "grid_auto_flow": null,
       "grid_auto_rows": null,
       "grid_column": null,
       "grid_gap": null,
       "grid_row": null,
       "grid_template_areas": null,
       "grid_template_columns": null,
       "grid_template_rows": null,
       "height": null,
       "justify_content": null,
       "justify_items": null,
       "left": null,
       "margin": null,
       "max_height": null,
       "max_width": null,
       "min_height": null,
       "min_width": null,
       "object_fit": null,
       "object_position": null,
       "order": null,
       "overflow": null,
       "padding": null,
       "right": null,
       "top": null,
       "visibility": null,
       "width": null
      }
     },
     "9366d6929e0c44408fb54456fff6c241": {
      "model_module": "@jupyter-widgets/controls",
      "model_module_version": "2.0.0",
      "model_name": "HTMLStyleModel",
      "state": {
       "_model_module": "@jupyter-widgets/controls",
       "_model_module_version": "2.0.0",
       "_model_name": "HTMLStyleModel",
       "_view_count": null,
       "_view_module": "@jupyter-widgets/base",
       "_view_module_version": "2.0.0",
       "_view_name": "StyleView",
       "background": null,
       "description_width": "",
       "font_size": null,
       "text_color": null
      }
     },
     "93a38cd64b7e457082b679b1aace02df": {
      "model_module": "@jupyter-widgets/base",
      "model_module_version": "2.0.0",
      "model_name": "LayoutModel",
      "state": {
       "_model_module": "@jupyter-widgets/base",
       "_model_module_version": "2.0.0",
       "_model_name": "LayoutModel",
       "_view_count": null,
       "_view_module": "@jupyter-widgets/base",
       "_view_module_version": "2.0.0",
       "_view_name": "LayoutView",
       "align_content": null,
       "align_items": null,
       "align_self": null,
       "border_bottom": null,
       "border_left": null,
       "border_right": null,
       "border_top": null,
       "bottom": null,
       "display": null,
       "flex": null,
       "flex_flow": null,
       "grid_area": null,
       "grid_auto_columns": null,
       "grid_auto_flow": null,
       "grid_auto_rows": null,
       "grid_column": null,
       "grid_gap": null,
       "grid_row": null,
       "grid_template_areas": null,
       "grid_template_columns": null,
       "grid_template_rows": null,
       "height": null,
       "justify_content": null,
       "justify_items": null,
       "left": null,
       "margin": null,
       "max_height": null,
       "max_width": null,
       "min_height": null,
       "min_width": null,
       "object_fit": null,
       "object_position": null,
       "order": null,
       "overflow": null,
       "padding": null,
       "right": null,
       "top": null,
       "visibility": null,
       "width": null
      }
     },
     "a17d437eca184c35ae51d6ddf160ad00": {
      "model_module": "@jupyter-widgets/controls",
      "model_module_version": "2.0.0",
      "model_name": "HTMLModel",
      "state": {
       "_dom_classes": [],
       "_model_module": "@jupyter-widgets/controls",
       "_model_module_version": "2.0.0",
       "_model_name": "HTMLModel",
       "_view_count": null,
       "_view_module": "@jupyter-widgets/controls",
       "_view_module_version": "2.0.0",
       "_view_name": "HTMLView",
       "description": "",
       "description_allow_html": false,
       "layout": "IPY_MODEL_b3d1cca7cebb47ee9a5fb1281ffa00bb",
       "placeholder": "​",
       "style": "IPY_MODEL_546a352a5f6d48bd9769e2dff67a1419",
       "tabbable": null,
       "tooltip": null,
       "value": "Training: 100%"
      }
     },
     "a337ff0d214a41d1a7314a4ca229bfd3": {
      "model_module": "@jupyter-widgets/base",
      "model_module_version": "2.0.0",
      "model_name": "LayoutModel",
      "state": {
       "_model_module": "@jupyter-widgets/base",
       "_model_module_version": "2.0.0",
       "_model_name": "LayoutModel",
       "_view_count": null,
       "_view_module": "@jupyter-widgets/base",
       "_view_module_version": "2.0.0",
       "_view_name": "LayoutView",
       "align_content": null,
       "align_items": null,
       "align_self": null,
       "border_bottom": null,
       "border_left": null,
       "border_right": null,
       "border_top": null,
       "bottom": null,
       "display": null,
       "flex": null,
       "flex_flow": null,
       "grid_area": null,
       "grid_auto_columns": null,
       "grid_auto_flow": null,
       "grid_auto_rows": null,
       "grid_column": null,
       "grid_gap": null,
       "grid_row": null,
       "grid_template_areas": null,
       "grid_template_columns": null,
       "grid_template_rows": null,
       "height": null,
       "justify_content": null,
       "justify_items": null,
       "left": null,
       "margin": null,
       "max_height": null,
       "max_width": null,
       "min_height": null,
       "min_width": null,
       "object_fit": null,
       "object_position": null,
       "order": null,
       "overflow": null,
       "padding": null,
       "right": null,
       "top": null,
       "visibility": null,
       "width": null
      }
     },
     "a42ef4d205e74949b7fb2dee1039c2d8": {
      "model_module": "@jupyter-widgets/controls",
      "model_module_version": "2.0.0",
      "model_name": "HTMLStyleModel",
      "state": {
       "_model_module": "@jupyter-widgets/controls",
       "_model_module_version": "2.0.0",
       "_model_name": "HTMLStyleModel",
       "_view_count": null,
       "_view_module": "@jupyter-widgets/base",
       "_view_module_version": "2.0.0",
       "_view_name": "StyleView",
       "background": null,
       "description_width": "",
       "font_size": null,
       "text_color": null
      }
     },
     "ab2f0fc298124ff685860a158b2ec252": {
      "model_module": "@jupyter-widgets/base",
      "model_module_version": "2.0.0",
      "model_name": "LayoutModel",
      "state": {
       "_model_module": "@jupyter-widgets/base",
       "_model_module_version": "2.0.0",
       "_model_name": "LayoutModel",
       "_view_count": null,
       "_view_module": "@jupyter-widgets/base",
       "_view_module_version": "2.0.0",
       "_view_name": "LayoutView",
       "align_content": null,
       "align_items": null,
       "align_self": null,
       "border_bottom": null,
       "border_left": null,
       "border_right": null,
       "border_top": null,
       "bottom": null,
       "display": null,
       "flex": null,
       "flex_flow": null,
       "grid_area": null,
       "grid_auto_columns": null,
       "grid_auto_flow": null,
       "grid_auto_rows": null,
       "grid_column": null,
       "grid_gap": null,
       "grid_row": null,
       "grid_template_areas": null,
       "grid_template_columns": null,
       "grid_template_rows": null,
       "height": null,
       "justify_content": null,
       "justify_items": null,
       "left": null,
       "margin": null,
       "max_height": null,
       "max_width": null,
       "min_height": null,
       "min_width": null,
       "object_fit": null,
       "object_position": null,
       "order": null,
       "overflow": null,
       "padding": null,
       "right": null,
       "top": null,
       "visibility": null,
       "width": null
      }
     },
     "ac1a06c6ab024f11a1a52431788f6823": {
      "model_module": "@jupyter-widgets/base",
      "model_module_version": "2.0.0",
      "model_name": "LayoutModel",
      "state": {
       "_model_module": "@jupyter-widgets/base",
       "_model_module_version": "2.0.0",
       "_model_name": "LayoutModel",
       "_view_count": null,
       "_view_module": "@jupyter-widgets/base",
       "_view_module_version": "2.0.0",
       "_view_name": "LayoutView",
       "align_content": null,
       "align_items": null,
       "align_self": null,
       "border_bottom": null,
       "border_left": null,
       "border_right": null,
       "border_top": null,
       "bottom": null,
       "display": null,
       "flex": null,
       "flex_flow": null,
       "grid_area": null,
       "grid_auto_columns": null,
       "grid_auto_flow": null,
       "grid_auto_rows": null,
       "grid_column": null,
       "grid_gap": null,
       "grid_row": null,
       "grid_template_areas": null,
       "grid_template_columns": null,
       "grid_template_rows": null,
       "height": null,
       "justify_content": null,
       "justify_items": null,
       "left": null,
       "margin": null,
       "max_height": null,
       "max_width": null,
       "min_height": null,
       "min_width": null,
       "object_fit": null,
       "object_position": null,
       "order": null,
       "overflow": null,
       "padding": null,
       "right": null,
       "top": null,
       "visibility": null,
       "width": null
      }
     },
     "ad27b2a5cded4c23a3f72be3cee7c158": {
      "model_module": "@jupyter-widgets/controls",
      "model_module_version": "2.0.0",
      "model_name": "HTMLModel",
      "state": {
       "_dom_classes": [],
       "_model_module": "@jupyter-widgets/controls",
       "_model_module_version": "2.0.0",
       "_model_name": "HTMLModel",
       "_view_count": null,
       "_view_module": "@jupyter-widgets/controls",
       "_view_module_version": "2.0.0",
       "_view_name": "HTMLView",
       "description": "",
       "description_allow_html": false,
       "layout": "IPY_MODEL_93a38cd64b7e457082b679b1aace02df",
       "placeholder": "​",
       "style": "IPY_MODEL_fb003526535b4cba8efa507d3f92a66b",
       "tabbable": null,
       "tooltip": null,
       "value": "model.safetensors: 100%"
      }
     },
     "b3d1cca7cebb47ee9a5fb1281ffa00bb": {
      "model_module": "@jupyter-widgets/base",
      "model_module_version": "2.0.0",
      "model_name": "LayoutModel",
      "state": {
       "_model_module": "@jupyter-widgets/base",
       "_model_module_version": "2.0.0",
       "_model_name": "LayoutModel",
       "_view_count": null,
       "_view_module": "@jupyter-widgets/base",
       "_view_module_version": "2.0.0",
       "_view_name": "LayoutView",
       "align_content": null,
       "align_items": null,
       "align_self": null,
       "border_bottom": null,
       "border_left": null,
       "border_right": null,
       "border_top": null,
       "bottom": null,
       "display": null,
       "flex": null,
       "flex_flow": null,
       "grid_area": null,
       "grid_auto_columns": null,
       "grid_auto_flow": null,
       "grid_auto_rows": null,
       "grid_column": null,
       "grid_gap": null,
       "grid_row": null,
       "grid_template_areas": null,
       "grid_template_columns": null,
       "grid_template_rows": null,
       "height": null,
       "justify_content": null,
       "justify_items": null,
       "left": null,
       "margin": null,
       "max_height": null,
       "max_width": null,
       "min_height": null,
       "min_width": null,
       "object_fit": null,
       "object_position": null,
       "order": null,
       "overflow": null,
       "padding": null,
       "right": null,
       "top": null,
       "visibility": null,
       "width": null
      }
     },
     "beceebaa8bef4939a3027e1756c820ca": {
      "model_module": "@jupyter-widgets/controls",
      "model_module_version": "2.0.0",
      "model_name": "FloatProgressModel",
      "state": {
       "_dom_classes": [],
       "_model_module": "@jupyter-widgets/controls",
       "_model_module_version": "2.0.0",
       "_model_name": "FloatProgressModel",
       "_view_count": null,
       "_view_module": "@jupyter-widgets/controls",
       "_view_module_version": "2.0.0",
       "_view_name": "ProgressView",
       "bar_style": "success",
       "description": "",
       "description_allow_html": false,
       "layout": "IPY_MODEL_ac1a06c6ab024f11a1a52431788f6823",
       "max": 32,
       "min": 0,
       "orientation": "horizontal",
       "style": "IPY_MODEL_0fa836ee22b04b368008c3690b558e46",
       "tabbable": null,
       "tooltip": null,
       "value": 32
      }
     },
     "c4ccd0e9a85348d4a50bda1dc66d9658": {
      "model_module": "@jupyter-widgets/controls",
      "model_module_version": "2.0.0",
      "model_name": "HTMLStyleModel",
      "state": {
       "_model_module": "@jupyter-widgets/controls",
       "_model_module_version": "2.0.0",
       "_model_name": "HTMLStyleModel",
       "_view_count": null,
       "_view_module": "@jupyter-widgets/base",
       "_view_module_version": "2.0.0",
       "_view_name": "StyleView",
       "background": null,
       "description_width": "",
       "font_size": null,
       "text_color": null
      }
     },
     "cafb1e5ee8af47dc9a8813cdb7dad1b5": {
      "model_module": "@jupyter-widgets/controls",
      "model_module_version": "2.0.0",
      "model_name": "HBoxModel",
      "state": {
       "_dom_classes": [],
       "_model_module": "@jupyter-widgets/controls",
       "_model_module_version": "2.0.0",
       "_model_name": "HBoxModel",
       "_view_count": null,
       "_view_module": "@jupyter-widgets/controls",
       "_view_module_version": "2.0.0",
       "_view_name": "HBoxView",
       "box_style": "",
       "children": [
        "IPY_MODEL_577df72f0ce349d8988b16f4429c3116",
        "IPY_MODEL_2b7b0d3f79504d87a8dbfb2f7893399a",
        "IPY_MODEL_23b951c7b2c847bbaf9c066b7f932c12"
       ],
       "layout": "IPY_MODEL_a337ff0d214a41d1a7314a4ca229bfd3",
       "tabbable": null,
       "tooltip": null
      }
     },
     "d995347d83ec40e2b0c1db58a78e3dde": {
      "model_module": "@jupyter-widgets/controls",
      "model_module_version": "2.0.0",
      "model_name": "HTMLModel",
      "state": {
       "_dom_classes": [],
       "_model_module": "@jupyter-widgets/controls",
       "_model_module_version": "2.0.0",
       "_model_name": "HTMLModel",
       "_view_count": null,
       "_view_module": "@jupyter-widgets/controls",
       "_view_module_version": "2.0.0",
       "_view_name": "HTMLView",
       "description": "",
       "description_allow_html": false,
       "layout": "IPY_MODEL_1e6784d317664982818c369ec64d4375",
       "placeholder": "​",
       "style": "IPY_MODEL_66d95ea040244824b4f188b4985e8cb2",
       "tabbable": null,
       "tooltip": null,
       "value": "Validation: 100%"
      }
     },
     "dc55c130999847b6a7460d8d68f31668": {
      "model_module": "@jupyter-widgets/base",
      "model_module_version": "2.0.0",
      "model_name": "LayoutModel",
      "state": {
       "_model_module": "@jupyter-widgets/base",
       "_model_module_version": "2.0.0",
       "_model_name": "LayoutModel",
       "_view_count": null,
       "_view_module": "@jupyter-widgets/base",
       "_view_module_version": "2.0.0",
       "_view_name": "LayoutView",
       "align_content": null,
       "align_items": null,
       "align_self": null,
       "border_bottom": null,
       "border_left": null,
       "border_right": null,
       "border_top": null,
       "bottom": null,
       "display": null,
       "flex": null,
       "flex_flow": null,
       "grid_area": null,
       "grid_auto_columns": null,
       "grid_auto_flow": null,
       "grid_auto_rows": null,
       "grid_column": null,
       "grid_gap": null,
       "grid_row": null,
       "grid_template_areas": null,
       "grid_template_columns": null,
       "grid_template_rows": null,
       "height": null,
       "justify_content": null,
       "justify_items": null,
       "left": null,
       "margin": null,
       "max_height": null,
       "max_width": null,
       "min_height": null,
       "min_width": null,
       "object_fit": null,
       "object_position": null,
       "order": null,
       "overflow": null,
       "padding": null,
       "right": null,
       "top": null,
       "visibility": null,
       "width": null
      }
     },
     "dcdaa701c23b4a1697b18ae319e036f6": {
      "model_module": "@jupyter-widgets/controls",
      "model_module_version": "2.0.0",
      "model_name": "FloatProgressModel",
      "state": {
       "_dom_classes": [],
       "_model_module": "@jupyter-widgets/controls",
       "_model_module_version": "2.0.0",
       "_model_name": "FloatProgressModel",
       "_view_count": null,
       "_view_module": "@jupyter-widgets/controls",
       "_view_module_version": "2.0.0",
       "_view_name": "ProgressView",
       "bar_style": "success",
       "description": "",
       "description_allow_html": false,
       "layout": "IPY_MODEL_871d479608024b77bb2db8278e3f659d",
       "max": 32,
       "min": 0,
       "orientation": "horizontal",
       "style": "IPY_MODEL_60623af9dc82439fbac9dce1bb4a9d90",
       "tabbable": null,
       "tooltip": null,
       "value": 32
      }
     },
     "ddf272308e664d24820c9ca6e917e456": {
      "model_module": "@jupyter-widgets/controls",
      "model_module_version": "2.0.0",
      "model_name": "ProgressStyleModel",
      "state": {
       "_model_module": "@jupyter-widgets/controls",
       "_model_module_version": "2.0.0",
       "_model_name": "ProgressStyleModel",
       "_view_count": null,
       "_view_module": "@jupyter-widgets/base",
       "_view_module_version": "2.0.0",
       "_view_name": "StyleView",
       "bar_color": null,
       "description_width": ""
      }
     },
     "e80cbc93209642a8bbe28877b257eab6": {
      "model_module": "@jupyter-widgets/controls",
      "model_module_version": "2.0.0",
      "model_name": "HBoxModel",
      "state": {
       "_dom_classes": [],
       "_model_module": "@jupyter-widgets/controls",
       "_model_module_version": "2.0.0",
       "_model_name": "HBoxModel",
       "_view_count": null,
       "_view_module": "@jupyter-widgets/controls",
       "_view_module_version": "2.0.0",
       "_view_name": "HBoxView",
       "box_style": "",
       "children": [
        "IPY_MODEL_a17d437eca184c35ae51d6ddf160ad00",
        "IPY_MODEL_35b20f9b2e8746c68e234fcb6d29f047",
        "IPY_MODEL_8e978a7645e7420fb2e452a3e2e7f69d"
       ],
       "layout": "IPY_MODEL_9193f88c4b9842c4a73d33b86e2a79b8",
       "tabbable": null,
       "tooltip": null
      }
     },
     "ed26d5cb2ff3426a9449e0166b68afbf": {
      "model_module": "@jupyter-widgets/controls",
      "model_module_version": "2.0.0",
      "model_name": "HTMLStyleModel",
      "state": {
       "_model_module": "@jupyter-widgets/controls",
       "_model_module_version": "2.0.0",
       "_model_name": "HTMLStyleModel",
       "_view_count": null,
       "_view_module": "@jupyter-widgets/base",
       "_view_module_version": "2.0.0",
       "_view_name": "StyleView",
       "background": null,
       "description_width": "",
       "font_size": null,
       "text_color": null
      }
     },
     "f4cc700caf0949c5bf39d8f7539ba2d2": {
      "model_module": "@jupyter-widgets/base",
      "model_module_version": "2.0.0",
      "model_name": "LayoutModel",
      "state": {
       "_model_module": "@jupyter-widgets/base",
       "_model_module_version": "2.0.0",
       "_model_name": "LayoutModel",
       "_view_count": null,
       "_view_module": "@jupyter-widgets/base",
       "_view_module_version": "2.0.0",
       "_view_name": "LayoutView",
       "align_content": null,
       "align_items": null,
       "align_self": null,
       "border_bottom": null,
       "border_left": null,
       "border_right": null,
       "border_top": null,
       "bottom": null,
       "display": null,
       "flex": null,
       "flex_flow": null,
       "grid_area": null,
       "grid_auto_columns": null,
       "grid_auto_flow": null,
       "grid_auto_rows": null,
       "grid_column": null,
       "grid_gap": null,
       "grid_row": null,
       "grid_template_areas": null,
       "grid_template_columns": null,
       "grid_template_rows": null,
       "height": null,
       "justify_content": null,
       "justify_items": null,
       "left": null,
       "margin": null,
       "max_height": null,
       "max_width": null,
       "min_height": null,
       "min_width": null,
       "object_fit": null,
       "object_position": null,
       "order": null,
       "overflow": null,
       "padding": null,
       "right": null,
       "top": null,
       "visibility": null,
       "width": null
      }
     },
     "f808eb60489b4ef2bc76b055d5c477ff": {
      "model_module": "@jupyter-widgets/base",
      "model_module_version": "2.0.0",
      "model_name": "LayoutModel",
      "state": {
       "_model_module": "@jupyter-widgets/base",
       "_model_module_version": "2.0.0",
       "_model_name": "LayoutModel",
       "_view_count": null,
       "_view_module": "@jupyter-widgets/base",
       "_view_module_version": "2.0.0",
       "_view_name": "LayoutView",
       "align_content": null,
       "align_items": null,
       "align_self": null,
       "border_bottom": null,
       "border_left": null,
       "border_right": null,
       "border_top": null,
       "bottom": null,
       "display": null,
       "flex": null,
       "flex_flow": null,
       "grid_area": null,
       "grid_auto_columns": null,
       "grid_auto_flow": null,
       "grid_auto_rows": null,
       "grid_column": null,
       "grid_gap": null,
       "grid_row": null,
       "grid_template_areas": null,
       "grid_template_columns": null,
       "grid_template_rows": null,
       "height": null,
       "justify_content": null,
       "justify_items": null,
       "left": null,
       "margin": null,
       "max_height": null,
       "max_width": null,
       "min_height": null,
       "min_width": null,
       "object_fit": null,
       "object_position": null,
       "order": null,
       "overflow": null,
       "padding": null,
       "right": null,
       "top": null,
       "visibility": null,
       "width": null
      }
     },
     "f8e3ad286a374d558e61627ba3a67d26": {
      "model_module": "@jupyter-widgets/controls",
      "model_module_version": "2.0.0",
      "model_name": "HTMLStyleModel",
      "state": {
       "_model_module": "@jupyter-widgets/controls",
       "_model_module_version": "2.0.0",
       "_model_name": "HTMLStyleModel",
       "_view_count": null,
       "_view_module": "@jupyter-widgets/base",
       "_view_module_version": "2.0.0",
       "_view_name": "StyleView",
       "background": null,
       "description_width": "",
       "font_size": null,
       "text_color": null
      }
     },
     "fb003526535b4cba8efa507d3f92a66b": {
      "model_module": "@jupyter-widgets/controls",
      "model_module_version": "2.0.0",
      "model_name": "HTMLStyleModel",
      "state": {
       "_model_module": "@jupyter-widgets/controls",
       "_model_module_version": "2.0.0",
       "_model_name": "HTMLStyleModel",
       "_view_count": null,
       "_view_module": "@jupyter-widgets/base",
       "_view_module_version": "2.0.0",
       "_view_name": "StyleView",
       "background": null,
       "description_width": "",
       "font_size": null,
       "text_color": null
      }
     },
     "fbd77392c5e94748a19ab6adc204c0f0": {
      "model_module": "@jupyter-widgets/base",
      "model_module_version": "2.0.0",
      "model_name": "LayoutModel",
      "state": {
       "_model_module": "@jupyter-widgets/base",
       "_model_module_version": "2.0.0",
       "_model_name": "LayoutModel",
       "_view_count": null,
       "_view_module": "@jupyter-widgets/base",
       "_view_module_version": "2.0.0",
       "_view_name": "LayoutView",
       "align_content": null,
       "align_items": null,
       "align_self": null,
       "border_bottom": null,
       "border_left": null,
       "border_right": null,
       "border_top": null,
       "bottom": null,
       "display": null,
       "flex": null,
       "flex_flow": null,
       "grid_area": null,
       "grid_auto_columns": null,
       "grid_auto_flow": null,
       "grid_auto_rows": null,
       "grid_column": null,
       "grid_gap": null,
       "grid_row": null,
       "grid_template_areas": null,
       "grid_template_columns": null,
       "grid_template_rows": null,
       "height": null,
       "justify_content": null,
       "justify_items": null,
       "left": null,
       "margin": null,
       "max_height": null,
       "max_width": null,
       "min_height": null,
       "min_width": null,
       "object_fit": null,
       "object_position": null,
       "order": null,
       "overflow": null,
       "padding": null,
       "right": null,
       "top": null,
       "visibility": null,
       "width": null
      }
     }
    },
    "version_major": 2,
    "version_minor": 0
   }
  }
 },
 "nbformat": 4,
 "nbformat_minor": 5
}
