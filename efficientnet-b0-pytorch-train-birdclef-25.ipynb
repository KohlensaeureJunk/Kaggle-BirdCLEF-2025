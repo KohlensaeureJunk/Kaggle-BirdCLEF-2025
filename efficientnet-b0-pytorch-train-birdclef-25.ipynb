{
 "cells": [
  {
   "cell_type": "markdown",
   "id": "dd19261b",
   "metadata": {
    "papermill": {
     "duration": 0.00461,
     "end_time": "2025-03-17T14:00:32.494653",
     "exception": false,
     "start_time": "2025-03-17T14:00:32.490043",
     "status": "completed"
    },
    "tags": []
   },
   "source": [
    "# **BirdCLEF 2025 Training Notebook**\n",
    "\n",
    "This is a baseline training pipeline for BirdCLEF 2025 using EfficientNetB0 with PyTorch and Timm(for pretrained EffNet). You can check inference and preprocessing notebooks in the following links: \n",
    "\n",
    "- [EfficientNet B0 Pytorch [Inference] | BirdCLEF'25](https://www.kaggle.com/code/kadircandrisolu/efficientnet-b0-pytorch-inference-birdclef-25)\n",
    "\n",
    "  \n",
    "- [Transforming Audio-to-Mel Spec. | BirdCLEF'25](https://www.kaggle.com/code/kadircandrisolu/transforming-audio-to-mel-spec-birdclef-25)  \n",
    "\n",
    "Note that by default this notebook is in Debug Mode, so it will only train the model with 2 epochs, but the [weight](https://www.kaggle.com/datasets/kadircandrisolu/birdclef25-effnetb0-starter-weight) I used in the inference notebook was obtained after 10 epochs of training.\n",
    "\n",
    "**Features**\n",
    "* Implement with Pytorch and Timm\n",
    "* Flexible audio processing with both pre-computed and on-the-fly mel spectrograms\n",
    "* Stratified 5-fold cross-validation with ensemble capability\n",
    "* Mixup training for improved generalization\n",
    "* Spectrogram augmentations (time/frequency masking, brightness adjustment)\n",
    "* AdamW optimizer with Cosine Annealing LR scheduling\n",
    "* Debug mode for quick experimentation with smaller datasets\n",
    "\n",
    "**Pre-computed Spectrograms**\n",
    "For faster training, you can use pre-computed mel spectrograms from [this dataset](https://www.kaggle.com/datasets/kadircandrisolu/birdclef25-mel-spectrograms) by setting `LOAD_DATA = True`"
   ]
  },
  {
   "cell_type": "markdown",
   "id": "34a699fa",
   "metadata": {
    "papermill": {
     "duration": 0.003494,
     "end_time": "2025-03-17T14:00:32.502085",
     "exception": false,
     "start_time": "2025-03-17T14:00:32.498591",
     "status": "completed"
    },
    "tags": []
   },
   "source": [
    "## Libraries"
   ]
  },
  {
   "cell_type": "code",
   "execution_count": 8,
   "id": "f7ca2ea8",
   "metadata": {
    "execution": {
     "iopub.execute_input": "2025-03-17T14:00:32.510711Z",
     "iopub.status.busy": "2025-03-17T14:00:32.510382Z",
     "iopub.status.idle": "2025-03-17T14:00:46.238785Z",
     "shell.execute_reply": "2025-03-17T14:00:46.238073Z"
    },
    "papermill": {
     "duration": 13.73451,
     "end_time": "2025-03-17T14:00:46.240399",
     "exception": false,
     "start_time": "2025-03-17T14:00:32.505889",
     "status": "completed"
    },
    "tags": []
   },
   "outputs": [],
   "source": [
    "# Basic imports\n",
    "import numpy as np, pandas as pd, os, random, warnings, json, datetime, time\n",
    "from tqdm.auto import tqdm\n",
    "from copy import deepcopy\n",
    "\n",
    "\n",
    "# Specific imports\n",
    "import logging\n",
    "from metric_logger import MetricLogger\n",
    "\n",
    "# PyTorch imports\n",
    "import torch\n",
    "import torch.nn as nn\n",
    "import torch.nn.functional as F\n",
    "import torch.optim as optim\n",
    "from torch.optim import lr_scheduler\n",
    "from torch.utils.data import Dataset, DataLoader\n",
    "from torch.amp import autocast, GradScaler\n",
    "\n",
    "# Other ML imports\n",
    "from sklearn.model_selection import StratifiedKFold\n",
    "import timm\n",
    "\n",
    "# Custom imports\n",
    "from processing import process_audio_file\n",
    "from utilities import set_seed, collate_fn\n",
    "from training_utilities import get_scheduler, get_criterion, clean_gpu_memory, compile_model\n",
    "from training_utilities import calculate_soft_label_metrics, calculate_hard_label_metrics, get_improved_folds\n",
    "from label_loading import load_pseudolabels, load_soft_pseudolabels, filter_training_labels\n",
    "\n",
    "# Suppress warnings and set logging level\n",
    "warnings.filterwarnings(\"ignore\")\n",
    "logging.basicConfig(level=logging.ERROR)"
   ]
  },
  {
   "cell_type": "markdown",
   "id": "0d0f9c08",
   "metadata": {
    "papermill": {
     "duration": 0.003721,
     "end_time": "2025-03-17T14:00:46.248317",
     "exception": false,
     "start_time": "2025-03-17T14:00:46.244596",
     "status": "completed"
    },
    "tags": []
   },
   "source": [
    "## Configuration"
   ]
  },
  {
   "cell_type": "code",
   "execution_count": 9,
   "id": "06591264",
   "metadata": {
    "execution": {
     "iopub.execute_input": "2025-03-17T14:00:46.256618Z",
     "iopub.status.busy": "2025-03-17T14:00:46.256366Z",
     "iopub.status.idle": "2025-03-17T14:00:46.333416Z",
     "shell.execute_reply": "2025-03-17T14:00:46.332684Z"
    },
    "papermill": {
     "duration": 0.082704,
     "end_time": "2025-03-17T14:00:46.334712",
     "exception": false,
     "start_time": "2025-03-17T14:00:46.252008",
     "status": "completed"
    },
    "tags": []
   },
   "outputs": [
    {
     "name": "stdout",
     "output_type": "stream",
     "text": [
      "Using device: cuda\n"
     ]
    }
   ],
   "source": [
    "class CFG:\n",
    "    \n",
    "    seed = 2025\n",
    "    debug = False \n",
    "    LOAD_DATA = True\n",
    "    \n",
    "    # Paths and directories\n",
    "    OUTPUT_DIR = 'output/'\n",
    "    plots_dir = 'output/plots/'\n",
    "    metrics_dir = 'output/metrics/'\n",
    "    configs_dir = 'output/configs/'\n",
    "    models_dir = 'output/models/'\n",
    "    train_datadir = 'birdclef-2025/train_audio'\n",
    "    train_csv = 'birdclef-2025/train.csv'\n",
    "    train_soundscapes = 'birdclef-2025/train_soundscapes'\n",
    "    test_soundscapes = 'birdclef-2025/test_soundscapes'\n",
    "    submission_csv = 'birdclef-2025/sample_submission.csv'\n",
    "    taxonomy_csv = 'birdclef-2025/taxonomy.csv'\n",
    "    spectrogram_npy = 'archive/train_melspec_5_256_256.npy'\n",
    "    train_soundscapes_spectrograms = 'archive/train_soundscapes_melspec_12x5_256_256/'\n",
    "    train_full_spectrograms = 'archive/train_audio_melspec_Xx5_256_256/'\n",
    "    \n",
    "    # Label processing\n",
    "    use_train_filtering = False\n",
    "    train_pseudolabels = 'train_pseudolabels.csv'\n",
    "    train_label_confidence = 0.0\n",
    "    secondary_label_confidence = 0.0\n",
    "    secondary_weight = 1.0 \n",
    "    normalize_labels = False\n",
    "\n",
    "    # Pseudolabeling settings\n",
    "    use_external_pseudolabels = False\n",
    "    use_soft_labels = False\n",
    "    external_pseudolabels = 'pseudolabels_even_better.csv'\n",
    "    pseudolabel_confidence_threshold = 0.04  # Only use predictions above this threshold, only if using hard labels\n",
    "    max_pseudolabels = 25000  # Maximum number of pseudolabeled samples to use\n",
    "    stratified_pseudolabels = True  # Use stratified sampling for pseudolabels (currently only for hard labels)\n",
    " \n",
    "    timestamp = datetime.datetime.now().strftime(\"%Y%m%d_%H%M%S\")\n",
    "\n",
    "    # Training settings\n",
    "    epochs = 15\n",
    "    n_fold = 5\n",
    "    use_early_stopping = True\n",
    "    early_stopping_epochs = 3 \n",
    "\n",
    "    # Mel spectrogram parameters\n",
    "    FS = 32000\n",
    "    TARGET_DURATION = 5.0\n",
    "    TARGET_SHAPE = (256, 256)\n",
    "    N_FFT = 1024\n",
    "    HOP_LENGTH = 512\n",
    "    N_MELS = 128\n",
    "    FMIN = 50\n",
    "    FMAX = 14000\n",
    "    \n",
    "    device = 'cuda' if torch.cuda.is_available() else 'cpu'\n",
    "    print(f\"Using device: {device}\")\n",
    "    \n",
    "    # Loss parameters\n",
    "    criterion = 'CombinedLoss'  # Options: 'BCEWithLogitsLoss', 'FocalLoss', 'CombinedLoss'\n",
    "    focal_alpha = 1.0\n",
    "    focal_gamma = 3.0\n",
    "    bce_weight = 0.5\n",
    "    focal_weight = 0.5\n",
    "\n",
    "    # optimizer parameters\n",
    "    lr = 0.5e-3 \n",
    "    weight_decay = 5.0e-5\n",
    "\n",
    "    #scheduler parameters\n",
    "    scheduler = 'CosineAnnealingLR'\n",
    "    min_lr = 1e-6\n",
    "    use_lr_warmup = True\n",
    "    warmup_epochs = 2\n",
    "\n",
    "    # augmentation options\n",
    "    aug_prob = 0.5\n",
    "    spec_augment = True\n",
    "    spec_augment_params = {\n",
    "        'time_mask_param': 30,\n",
    "        'freq_mask_param': 20,\n",
    "        'num_masks': 2,\n",
    "    }\n",
    "    mixup_alpha = 0.5\n",
    "    cutmix_alpha = 1.0\n",
    "    use_cutmix = True\n",
    "    \n",
    "    # Model architecture options\n",
    "    model_name = 'efficientnet_b0'  # Options: 'efficientnetv2_s', 'convnext_tiny', 'efficientnet_b0' \n",
    "    pretrained = True\n",
    "    in_channels = 1\n",
    "    dropout_rate = 0.2\n",
    "    drop_path_rate = 0.2\n",
    "    projection_dim = 0\n",
    "\n",
    "    # Memory and speed optimizations\n",
    "    gradient_accumulation_steps = 2  # Increase effective batch size without more memory\n",
    "    use_amp = True                   # Use automatic mixed precision\n",
    "    pin_memory = True                # Faster data transfer to GPU\n",
    "    num_workers = 0                  # Set to 0 on Windows\n",
    "    batch_size = 32                  # Effective batch size will be batch_size * gradient_accumulation_steps\n",
    "    \n",
    "    # Compiler settings\n",
    "    compile_backend = \"inductor\"        # Options: \"eager\", \"inductor\"\n",
    "    compile_mode = \"default\"         # Options: \"default\", \"reduce-overhead\", \"max-autotune\"\n",
    "\n",
    "    def update_debug_settings(self):\n",
    "        if self.debug:\n",
    "            self.n_fold = 2\n",
    "            self.epochs = 2\n",
    "\n",
    "    def save_config(self):\n",
    "        \"\"\"Save configuration to file unless in debug mode\"\"\"\n",
    "        if not self.debug:    \n",
    "            config_dict = {attr: getattr(self, attr) for attr in dir(self) if not attr.startswith('__') and not callable(getattr(self, attr))}\n",
    "            filename = f\"config_{self.timestamp}_{self.model_name}.json\"\n",
    "            filepath = os.path.join(self.configs_dir, filename)\n",
    "            \n",
    "            with open(filepath, 'w') as f:\n",
    "                json.dump(config_dict, f, indent=4, default=str)\n",
    "            print(f\"Config saved to {filepath}\")\n",
    "\n",
    "cfg = CFG()\n",
    "set_seed(cfg.seed)\n",
    "cfg.update_debug_settings()"
   ]
  },
  {
   "cell_type": "markdown",
   "id": "939033bf",
   "metadata": {
    "papermill": {
     "duration": 0.003549,
     "end_time": "2025-03-17T14:00:46.393394",
     "exception": false,
     "start_time": "2025-03-17T14:00:46.389845",
     "status": "completed"
    },
    "tags": []
   },
   "source": [
    "## Dataset Preparation and Data Augmentations\n",
    "We'll convert audio to mel spectrograms and apply random augmentations with 50% probability each - including time stretching, pitch shifting, and volume adjustments. This randomized approach creates diverse training samples from the same audio files."
   ]
  },
  {
   "cell_type": "code",
   "execution_count": 10,
   "id": "b6b2ea48",
   "metadata": {
    "execution": {
     "iopub.execute_input": "2025-03-17T14:00:46.401415Z",
     "iopub.status.busy": "2025-03-17T14:00:46.401216Z",
     "iopub.status.idle": "2025-03-17T14:00:46.413659Z",
     "shell.execute_reply": "2025-03-17T14:00:46.412877Z"
    },
    "papermill": {
     "duration": 0.017836,
     "end_time": "2025-03-17T14:00:46.414835",
     "exception": false,
     "start_time": "2025-03-17T14:00:46.396999",
     "status": "completed"
    },
    "tags": []
   },
   "outputs": [],
   "source": [
    "class BirdCLEFDatasetFromNPY(Dataset):\n",
    "    _taxonomy_cache = {}\n",
    "    \n",
    "    def __init__(self, df, cfg, spectrograms=None, mode=\"train\"):\n",
    "        self.df, self.cfg, self.mode, self.spectrograms = df, cfg, mode, spectrograms\n",
    "        \n",
    "        # Use cached taxonomy or load once\n",
    "        tax_key = cfg.taxonomy_csv\n",
    "        if tax_key not in self._taxonomy_cache:\n",
    "            tax_df = pd.read_csv(cfg.taxonomy_csv)\n",
    "            species = tax_df['primary_label'].tolist()\n",
    "            self._taxonomy_cache[tax_key] = {\n",
    "                'species_ids': species,\n",
    "                'num_classes': len(species),\n",
    "                'label_to_idx': {l: i for i, l in enumerate(species)}\n",
    "            }\n",
    "        self.species_ids = self._taxonomy_cache[tax_key]['species_ids']\n",
    "        self.num_classes = self._taxonomy_cache[tax_key]['num_classes']\n",
    "        self.label_to_idx = self._taxonomy_cache[tax_key]['label_to_idx']\n",
    "        \n",
    "        if cfg.debug:\n",
    "            self.df = self.df.sample(min(1000, len(self.df)), random_state=cfg.seed).reset_index(drop=True)\n",
    "    \n",
    "    def __len__(self):\n",
    "        return len(self.df)\n",
    "    \n",
    "    def __getitem__(self, idx):\n",
    "        row = self.df.iloc[idx]\n",
    "        samplename = row['samplename']\n",
    "\n",
    "        # Get spectrogram\n",
    "        if self.spectrograms and samplename in self.spectrograms:\n",
    "            spec = self.spectrograms[samplename]\n",
    "        elif not self.cfg.LOAD_DATA:\n",
    "            spec = process_audio_file(row['filepath'], self.cfg)\n",
    "        else:\n",
    "            spec = np.zeros(self.cfg.TARGET_SHAPE, dtype=np.float32)\n",
    "            \n",
    "        # Convert to tensor and apply augmentations\n",
    "        spec = torch.from_numpy(spec).float().unsqueeze(0)\n",
    "        if self.mode == \"train\" and random.random() < self.cfg.aug_prob:\n",
    "            spec = self.apply_spec_augmentations(spec)\n",
    "        \n",
    "        # Create target\n",
    "        if row[\"primary_label\"] == 'soft':\n",
    "            target = row['secondary_labels']\n",
    "        else:\n",
    "            target = np.zeros(self.num_classes, dtype=np.float32)\n",
    "            primary_idx = self.label_to_idx.get(row['primary_label'])\n",
    "            if primary_idx is not None:\n",
    "                target[primary_idx] = 1.0\n",
    "            \n",
    "            # Handle secondary labels\n",
    "            if 'secondary_labels' in row and row['secondary_labels'] not in [[''], None, np.nan, [], \"['']\", \"[]\"]:\n",
    "                sec_labels = eval(row['secondary_labels']) if isinstance(row['secondary_labels'], str) else row['secondary_labels']\n",
    "                for label in sec_labels:\n",
    "                    idx = self.label_to_idx.get(label)\n",
    "                    if idx is not None:\n",
    "                        target[idx] = self.cfg.secondary_weight\n",
    "                \n",
    "                if self.cfg.normalize_labels:\n",
    "                    target /= np.sum(target)\n",
    "            \n",
    "        return {'melspec': spec, 'target': torch.from_numpy(target).float()}\n",
    "    \n",
    "    def apply_spec_augmentations(self, spec):\n",
    "        # Time masking\n",
    "        if random.random() < 0.5:\n",
    "            for _ in range(random.randint(1, 3)):\n",
    "                w, s = random.randint(5, 20), random.randint(0, spec.shape[2] - 20)\n",
    "                spec[0, :, s:s+w] = 0\n",
    "        \n",
    "        # Frequency masking\n",
    "        if random.random() < 0.5:\n",
    "            for _ in range(random.randint(1, 3)):\n",
    "                h, s = random.randint(5, 20), random.randint(0, spec.shape[1] - 20)\n",
    "                spec[0, s:s+h, :] = 0\n",
    "        \n",
    "        # Combined brightness/contrast adjustment and noise\n",
    "        needs_clamp = False\n",
    "        \n",
    "        if random.random() < 0.5:\n",
    "            spec = spec * random.uniform(0.8, 1.2) + random.uniform(-0.1, 0.1)\n",
    "            needs_clamp = True\n",
    "        \n",
    "        if random.random() < 0.3:\n",
    "            spec = spec + torch.randn_like(spec) * random.uniform(0.001, 0.005)\n",
    "            needs_clamp = True\n",
    "            \n",
    "        if needs_clamp:\n",
    "            spec = torch.clamp(spec, 0, 1)\n",
    "            \n",
    "        # Random shifts\n",
    "        if random.random() < 0.3:\n",
    "            x, y = random.randint(-4, 4), random.randint(-4, 4)\n",
    "            if x or y:\n",
    "                spec = torch.roll(spec, shifts=(y, x), dims=(1, 2))\n",
    "        \n",
    "        return spec"
   ]
  },
  {
   "cell_type": "markdown",
   "id": "7cbb84a1",
   "metadata": {
    "papermill": {
     "duration": 0.003491,
     "end_time": "2025-03-17T14:00:46.436543",
     "exception": false,
     "start_time": "2025-03-17T14:00:46.433052",
     "status": "completed"
    },
    "tags": []
   },
   "source": [
    "## Model Definition"
   ]
  },
  {
   "cell_type": "code",
   "execution_count": 11,
   "id": "741451ce",
   "metadata": {
    "execution": {
     "iopub.execute_input": "2025-03-17T14:00:46.444643Z",
     "iopub.status.busy": "2025-03-17T14:00:46.444412Z",
     "iopub.status.idle": "2025-03-17T14:00:46.452684Z",
     "shell.execute_reply": "2025-03-17T14:00:46.452070Z"
    },
    "papermill": {
     "duration": 0.013532,
     "end_time": "2025-03-17T14:00:46.453738",
     "exception": false,
     "start_time": "2025-03-17T14:00:46.440206",
     "status": "completed"
    },
    "tags": []
   },
   "outputs": [],
   "source": [
    "class BirdCLEFModel(nn.Module):\n",
    "    def __init__(self, cfg):\n",
    "        super().__init__()\n",
    "        self.cfg = cfg\n",
    "        taxonomy_df = pd.read_csv(cfg.taxonomy_csv)\n",
    "        cfg.num_classes = len(taxonomy_df)\n",
    "        \n",
    "        # Support for different model architectures\n",
    "        self.backbone = timm.create_model(\n",
    "            cfg.model_name,\n",
    "            pretrained=cfg.pretrained,\n",
    "            in_chans=cfg.in_channels,\n",
    "            drop_rate=cfg.dropout_rate,\n",
    "            drop_path_rate=cfg.drop_path_rate if hasattr(cfg, 'drop_path_rate') else 0.2\n",
    "        )\n",
    "        \n",
    "        # Extract feature dimension based on model type\n",
    "        if 'efficientnet' in cfg.model_name:\n",
    "            backbone_out = self.backbone.classifier.in_features\n",
    "            self.backbone.classifier = nn.Identity()\n",
    "        elif 'convnext' in cfg.model_name:\n",
    "            backbone_out = self.backbone.head.fc.in_features\n",
    "            self.backbone.head.fc = nn.Identity()\n",
    "        elif 'resnet' in cfg.model_name:\n",
    "            backbone_out = self.backbone.fc.in_features\n",
    "            self.backbone.fc = nn.Identity()\n",
    "        else:\n",
    "            backbone_out = self.backbone.get_classifier().in_features\n",
    "            self.backbone.reset_classifier(0, '')\n",
    "        \n",
    "        self.pooling = nn.AdaptiveAvgPool2d(1)\n",
    "        self.feat_dim = backbone_out\n",
    "        \n",
    "        # Add an additional projection layer for better feature representation\n",
    "        if hasattr(cfg, 'projection_dim') and cfg.projection_dim > 0:\n",
    "            self.projection = nn.Sequential(\n",
    "                nn.Linear(backbone_out, cfg.projection_dim),\n",
    "                nn.BatchNorm1d(cfg.projection_dim),\n",
    "                nn.ReLU(inplace=True),\n",
    "                nn.Dropout(0.3),\n",
    "                nn.Linear(cfg.projection_dim, cfg.num_classes)\n",
    "            )\n",
    "            self.classifier = self.projection\n",
    "        else:\n",
    "            self.classifier = nn.Linear(backbone_out, cfg.num_classes)\n",
    "        \n",
    "        # Mixup and CutMix support\n",
    "        self.mixup_enabled = hasattr(cfg, 'mixup_alpha') and cfg.mixup_alpha > 0\n",
    "        self.cutmix_enabled = hasattr(cfg, 'use_cutmix') and cfg.use_cutmix and hasattr(cfg, 'cutmix_alpha') and cfg.cutmix_alpha > 0\n",
    "        \n",
    "        if self.mixup_enabled:\n",
    "            self.mixup_alpha = cfg.mixup_alpha\n",
    "        if self.cutmix_enabled:\n",
    "            self.cutmix_alpha = cfg.cutmix_alpha\n",
    "    \n",
    "    def forward(self, x, targets=None):\n",
    "    \n",
    "        if self.training and self.mixup_enabled and targets is not None:\n",
    "            mixed_x, targets_a, targets_b, lam = self.mixup_data(x, targets)\n",
    "            x = mixed_x\n",
    "        else:\n",
    "            targets_a, targets_b, lam = None, None, None\n",
    "        \n",
    "        features = self.backbone(x)\n",
    "        \n",
    "        if isinstance(features, dict):\n",
    "            features = features['features']\n",
    "            \n",
    "        if len(features.shape) == 4:\n",
    "            features = self.pooling(features)\n",
    "            features = features.view(features.size(0), -1)\n",
    "        \n",
    "        logits = self.classifier(features)\n",
    "        \n",
    "        if self.training and self.mixup_enabled and targets is not None:\n",
    "            loss = self.mixup_criterion(F.binary_cross_entropy_with_logits, logits, targets_a, targets_b, lam)\n",
    "            return logits, loss\n",
    "            \n",
    "        return logits\n",
    "    \n",
    "    def mixup_data(self, x, targets):\n",
    "        \"\"\"Applies mixup to the data batch\"\"\"\n",
    "        batch_size = x.size(0)\n",
    "        lam = np.random.beta(self.mixup_alpha, self.mixup_alpha)\n",
    "        indices = torch.randperm(batch_size).to(x.device, non_blocking=True)\n",
    "        mixed_x = lam * x + (1 - lam) * x[indices]\n",
    "        \n",
    "        return mixed_x, targets, targets[indices], lam\n",
    "    \n",
    "    def mixup_criterion(self, criterion, pred, y_a, y_b, lam):\n",
    "        \"\"\"Applies mixup to the loss function\"\"\"\n",
    "        return lam * criterion(pred, y_a) + (1 - lam) * criterion(pred, y_b)\n",
    "    \n",
    "    def cutmix_data(self, x, targets):\n",
    "        batch_size = x.size(0)\n",
    "        lam = np.random.beta(self.cutmix_alpha, self.cutmix_alpha)\n",
    "        \n",
    "        # Get random indices for mixing\n",
    "        indices = torch.randperm(batch_size).to(x.device)\n",
    "        \n",
    "        # Get random box coordinates\n",
    "        W, H = x.size(2), x.size(3)\n",
    "        cut_ratio = np.sqrt(1. - lam)\n",
    "        cut_w = np.int_(W * cut_ratio)\n",
    "        cut_h = np.int_(H * cut_ratio)\n",
    "        \n",
    "        cx = np.random.randint(W)\n",
    "        cy = np.random.randint(H)\n",
    "        \n",
    "        bbx1 = np.clip(cx - cut_w // 2, 0, W)\n",
    "        bby1 = np.clip(cy - cut_h // 2, 0, H)\n",
    "        bbx2 = np.clip(cx + cut_w // 2, 0, W)\n",
    "        bby2 = np.clip(cy + cut_h // 2, 0, H)\n",
    "        \n",
    "        # Apply cutmix\n",
    "        x_mixed = x.clone()\n",
    "        x_mixed[:, :, bbx1:bbx2, bby1:bby2] = x[indices, :, bbx1:bbx2, bby1:bby2]\n",
    "        \n",
    "        # Adjust lambda to actual area ratio\n",
    "        lam = 1 - ((bbx2 - bbx1) * (bby2 - bby1) / (W * H))\n",
    "        \n",
    "        return x_mixed, targets, targets[indices], lam"
   ]
  },
  {
   "cell_type": "markdown",
   "id": "5aa08772",
   "metadata": {
    "papermill": {
     "duration": 0.003637,
     "end_time": "2025-03-17T14:00:46.461097",
     "exception": false,
     "start_time": "2025-03-17T14:00:46.457460",
     "status": "completed"
    },
    "tags": []
   },
   "source": [
    "## Training Utilities\n",
    "We are configuring our optimization strategy with the AdamW optimizer, cosine scheduling, and the BCEWithLogitsLoss criterion."
   ]
  },
  {
   "cell_type": "markdown",
   "id": "25fd70fd",
   "metadata": {
    "papermill": {
     "duration": 0.003514,
     "end_time": "2025-03-17T14:00:46.483348",
     "exception": false,
     "start_time": "2025-03-17T14:00:46.479834",
     "status": "completed"
    },
    "tags": []
   },
   "source": [
    "## Training Loop"
   ]
  },
  {
   "cell_type": "code",
   "execution_count": 12,
   "id": "d944f8ff",
   "metadata": {
    "execution": {
     "iopub.execute_input": "2025-03-17T14:00:46.491507Z",
     "iopub.status.busy": "2025-03-17T14:00:46.491314Z",
     "iopub.status.idle": "2025-03-17T14:00:46.504038Z",
     "shell.execute_reply": "2025-03-17T14:00:46.503466Z"
    },
    "papermill": {
     "duration": 0.018173,
     "end_time": "2025-03-17T14:00:46.505200",
     "exception": false,
     "start_time": "2025-03-17T14:00:46.487027",
     "status": "completed"
    },
    "tags": []
   },
   "outputs": [],
   "source": [
    "def train_one_epoch(model, loader, optimizer, criterion, device, scheduler=None, use_amp=True, grad_accum_steps=1):\n",
    "    model.train()\n",
    "    scaler = GradScaler(enabled=use_amp)\n",
    "    \n",
    "    # Use lists to accumulate batches, but don't keep all outputs in memory\n",
    "    batch_count = 0\n",
    "    running_loss = 0\n",
    "    outputs_for_metrics = []\n",
    "    targets_for_metrics = []\n",
    "\n",
    "    optimizer.zero_grad(set_to_none=True)\n",
    "    pbar = tqdm(enumerate(loader), total=len(loader), desc=\"Training\")\n",
    "    \n",
    "    # Track additional metrics\n",
    "    total_samples = 0\n",
    "    epoch_start_time = time.time()\n",
    "    \n",
    "    for step, batch in pbar:\n",
    "        inputs = batch['melspec'].to(device, non_blocking=True)\n",
    "        targets = batch['target'].to(device, non_blocking=True)\n",
    "        \n",
    "        with autocast(enabled=use_amp, device_type=device):\n",
    "            # Handle model outputs with mixup/cutmix\n",
    "            if (model.mixup_enabled or model.cutmix_enabled) and model.training:\n",
    "                if model.mixup_enabled and model.cutmix_enabled:\n",
    "                    # Randomly choose between mixup and cutmix\n",
    "                    if random.random() < 0.5:\n",
    "                        mixed_x, targets_a, targets_b, lam = model.mixup_data(inputs, targets)\n",
    "                    else:\n",
    "                        mixed_x, targets_a, targets_b, lam = model.cutmix_data(inputs, targets)\n",
    "                elif model.mixup_enabled:\n",
    "                    mixed_x, targets_a, targets_b, lam = model.mixup_data(inputs, targets)\n",
    "                else:\n",
    "                    mixed_x, targets_a, targets_b, lam = model.cutmix_data(inputs, targets)\n",
    "                    \n",
    "                outputs = model(mixed_x)\n",
    "                loss = lam * criterion(outputs, targets_a) + (1 - lam) * criterion(outputs, targets_b)\n",
    "            else:\n",
    "                outputs = model(inputs)\n",
    "                loss = criterion(outputs, targets)\n",
    "        \n",
    "        # Normalize loss for gradient accumulation\n",
    "        loss = loss / grad_accum_steps\n",
    "        scaler.scale(loss).backward()\n",
    "        \n",
    "        batch_count += 1\n",
    "        running_loss += loss.item() * grad_accum_steps\n",
    "        total_samples += inputs.size(0)\n",
    "\n",
    "        outputs_for_metrics.append(outputs.detach().cpu())\n",
    "        targets_for_metrics.append(targets.detach().cpu())\n",
    "        \n",
    "        # Step optimizer after accumulating gradients\n",
    "        if batch_count % grad_accum_steps == 0 or step == len(loader) - 1:\n",
    "            # Unscale before possible gradient clipping\n",
    "            scaler.unscale_(optimizer)\n",
    "            scaler.step(optimizer)\n",
    "            scaler.update()\n",
    "            optimizer.zero_grad(set_to_none=True)\n",
    "            \n",
    "            if scheduler and isinstance(scheduler, lr_scheduler.OneCycleLR):\n",
    "                scheduler.step()\n",
    "\n",
    "        # Update progress bar with running loss\n",
    "        pbar.set_postfix({\n",
    "            'it/s/bs' : pbar.n / pbar.format_dict['elapsed'] / cfg.batch_size,\n",
    "            'train_loss': running_loss / (step + 1),\n",
    "            'lr': optimizer.param_groups[0]['lr'],\n",
    "        })\n",
    "        del inputs, outputs\n",
    "\n",
    "    all_outputs = torch.cat(outputs_for_metrics)\n",
    "    all_targets = torch.cat(targets_for_metrics)\n",
    "\n",
    "    # Metric calculation\n",
    "    epoch_time = time.time() - epoch_start_time\n",
    "    if cfg.use_soft_labels:\n",
    "        soft_metrics = calculate_soft_label_metrics(all_targets.numpy(), all_outputs.numpy())\n",
    "    else:\n",
    "        soft_metrics = calculate_hard_label_metrics(all_targets.numpy(), all_outputs.numpy())\n",
    "    auc = soft_metrics['macro_auc']\n",
    "    avg_loss = running_loss / len(loader)\n",
    "    \n",
    "    # Return comprehensive metrics\n",
    "    metrics = {\n",
    "        'train_loss': avg_loss,\n",
    "        'train_auc': auc,\n",
    "        'learning_rate': optimizer.param_groups[0]['lr'],\n",
    "        'epoch_time_minutes': epoch_time / 60,\n",
    "        'samples_per_second': total_samples / epoch_time,\n",
    "        'total_samples': total_samples\n",
    "    }\n",
    "    \n",
    "    del outputs_for_metrics, targets_for_metrics, all_outputs, all_targets\n",
    "    \n",
    "    return metrics\n",
    "\n",
    "# Fixed validate function to properly accumulate predictions\n",
    "def validate(model, loader, criterion, device, use_amp=True):\n",
    "    model.eval()\n",
    "    total_loss = 0.0\n",
    "    \n",
    "    # Store all predictions and targets for final metrics\n",
    "    all_probs_accumulated = []\n",
    "    all_targets_accumulated = []\n",
    "    total_samples = 0\n",
    "    val_start_time = time.time()\n",
    "    \n",
    "    with torch.no_grad():\n",
    "        for batch_idx, batch in enumerate(tqdm(loader, desc=\"Validation\")):\n",
    "            inputs = batch['melspec'].to(device, non_blocking=True)\n",
    "            targets = batch['target'].to(device, non_blocking=True)\n",
    "\n",
    "            with autocast(enabled=use_amp, device_type=device):\n",
    "                outputs = model(inputs)\n",
    "                loss = criterion(outputs, targets)\n",
    "\n",
    "            total_loss += loss.item()\n",
    "            total_samples += inputs.size(0)\n",
    "            \n",
    "            probs = torch.sigmoid(outputs).cpu().numpy()\n",
    "            targets_np = targets.cpu().numpy()\n",
    "            \n",
    "            # Accumulate all predictions and targets\n",
    "            all_probs_accumulated.append(probs)\n",
    "            all_targets_accumulated.append(targets_np)\n",
    "            \n",
    "            # Clear memory but keep accumulating\n",
    "            del inputs, outputs, targets, probs, targets_np\n",
    "    \n",
    "    # Combine all accumulated predictions and targets\n",
    "    probs_array = np.vstack(all_probs_accumulated)\n",
    "    targets_array = np.vstack(all_targets_accumulated)\n",
    "    \n",
    "    val_time = time.time() - val_start_time\n",
    "    \n",
    "    # Use macro-averaged AUC as primary metric\n",
    "    if cfg.use_soft_labels:\n",
    "        soft_metrics = calculate_soft_label_metrics(targets_array, probs_array)\n",
    "    else:\n",
    "        soft_metrics = calculate_hard_label_metrics(targets_array, probs_array)\n",
    "    auc = soft_metrics['macro_auc']\n",
    "    valid_classes = soft_metrics['valid_classes']\n",
    "    \n",
    "    avg_loss = total_loss / len(loader)\n",
    "    \n",
    "    # Return comprehensive metrics focused on macro-averaged AUC\n",
    "    metrics = {\n",
    "        'val_loss': avg_loss,\n",
    "        'val_auc': auc,  # This is macro-averaged AUC\n",
    "        'val_valid_classes': valid_classes,\n",
    "        'val_time_minutes': val_time / 60,\n",
    "        'val_samples_per_second': total_samples / val_time if val_time > 0 else 0,\n",
    "        'val_total_samples': total_samples\n",
    "    }\n",
    "    \n",
    "    # Return ROC data\n",
    "    roc_data = (targets_array, probs_array)\n",
    "    \n",
    "    # Clean up memory\n",
    "    del all_probs_accumulated, all_targets_accumulated\n",
    "    \n",
    "    return metrics, roc_data"
   ]
  },
  {
   "cell_type": "code",
   "execution_count": 13,
   "id": "8fc1e3fc",
   "metadata": {},
   "outputs": [],
   "source": [
    "def train_fold(cfg, train_df, val_df, fold, metric_logger, spectrograms=None):\n",
    "    \n",
    "    print(f'Training set: {len(train_df)} samples')\n",
    "    print(f'Validation set: {len(val_df)} samples')\n",
    "\n",
    "    # Prepare datasets\n",
    "    train_dataset = BirdCLEFDatasetFromNPY(train_df, cfg, spectrograms=spectrograms, mode='train')\n",
    "    val_dataset = BirdCLEFDatasetFromNPY(val_df, cfg, spectrograms=spectrograms, mode='valid')\n",
    "    \n",
    "    # Prepare data loaders\n",
    "    train_loader = DataLoader(\n",
    "        train_dataset, \n",
    "        batch_size=cfg.batch_size, \n",
    "        shuffle=True, \n",
    "        num_workers=cfg.num_workers,\n",
    "        pin_memory=True,\n",
    "        collate_fn=collate_fn,\n",
    "        drop_last=True\n",
    "    )\n",
    "\n",
    "    val_loader = DataLoader(\n",
    "        val_dataset, \n",
    "        batch_size=cfg.batch_size * 2,\n",
    "        shuffle=False, \n",
    "        num_workers=cfg.num_workers,\n",
    "        pin_memory=True,\n",
    "        collate_fn=collate_fn\n",
    "    )\n",
    "\n",
    "    print(f\"\\n{'-'*20} Training Model {'-'*20}\")\n",
    "\n",
    "    model = BirdCLEFModel(cfg).to(cfg.device, non_blocking=True)\n",
    "    model = compile_model(model, cfg)\n",
    "    optimizer = optim.AdamW(\n",
    "        model.parameters(),\n",
    "        lr=cfg.lr,\n",
    "        weight_decay=cfg.weight_decay\n",
    "    )\n",
    "    criterion = get_criterion(cfg)\n",
    "\n",
    "    if cfg.scheduler == 'CosineAnnealingLR':\n",
    "        cfg.T_max = cfg.epochs\n",
    "    scheduler = get_scheduler(optimizer, cfg, len(train_loader))\n",
    "    \n",
    "    best_auc, best_epoch = 0, 0\n",
    "    fold_start_time = time.time()\n",
    "    \n",
    "    for epoch in range(cfg.epochs):\n",
    "        print(f\"\\n{'='*50}\")\n",
    "        print(f\"Epoch {epoch+1}/{cfg.epochs} | Fold {fold}\")\n",
    "        print(f\"{'='*50}\")\n",
    "        \n",
    "        # Get comprehensive training metrics\n",
    "        train_metrics = train_one_epoch(\n",
    "            model, train_loader, optimizer, criterion, cfg.device,\n",
    "            scheduler if isinstance(scheduler, lr_scheduler.OneCycleLR) else None,\n",
    "            use_amp=cfg.use_amp,\n",
    "            grad_accum_steps=cfg.gradient_accumulation_steps\n",
    "        )\n",
    "        \n",
    "        # Get comprehensive validation metrics\n",
    "        val_metrics, roc_data = validate(model, val_loader, criterion, cfg.device, use_amp=cfg.use_amp)\n",
    "        \n",
    "        # Log metrics to our metrics dataframe\n",
    "        metric_logger.log_metrics(epoch, fold, train_metrics, val_metrics, roc_data)\n",
    "        \n",
    "        if scheduler is not None and not isinstance(scheduler, lr_scheduler.OneCycleLR):\n",
    "            if isinstance(scheduler, lr_scheduler.ReduceLROnPlateau):\n",
    "                scheduler.step(val_metrics['val_loss'])\n",
    "            else:\n",
    "                scheduler.step()\n",
    "        \n",
    "        # Print epoch summary\n",
    "        print(f\"\\n--- Epoch {epoch+1} Summary ---\")\n",
    "        print(f\"Train Loss: {train_metrics['train_loss']:.4f}, Train AUC: {train_metrics['train_auc']:.4f}\")\n",
    "        print(f\"Val Loss: {val_metrics['val_loss']:.4f}, Val AUC: {val_metrics['val_auc']:.4f}\")\n",
    "        print(f\"LR: {train_metrics['learning_rate']:.6f}, Epoch Time: {train_metrics['epoch_time_minutes']:.2f}m\")\n",
    "        print(f\"Valid Classes: {val_metrics['val_valid_classes']}\")\n",
    "        \n",
    "        if val_metrics['val_auc'] > best_auc:\n",
    "            best_auc = val_metrics['val_auc']\n",
    "            best_epoch = epoch\n",
    "            print(f\"New best AUC: {best_auc:.4f} at epoch {best_epoch}\")\n",
    "            \n",
    "            if not cfg.debug:\n",
    "                model_path = f\"{cfg.models_dir}/model_{cfg.timestamp}_{cfg.model_name}_fold{fold}.pth\"\n",
    "                torch.save({\n",
    "                    'model_state_dict': model.state_dict(),\n",
    "                    'optimizer_state_dict': optimizer.state_dict(),\n",
    "                    'scheduler_state_dict': scheduler.state_dict() if scheduler else None,\n",
    "                    'epoch': epoch,\n",
    "                    'best_auc': best_auc,\n",
    "                    'cfg': cfg\n",
    "                }, model_path)\n",
    "        elif cfg.use_early_stopping and epoch - best_epoch >= cfg.early_stopping_epochs:\n",
    "            print(f\"Early stopping at epoch {epoch}\")\n",
    "            break\n",
    "    \n",
    "    # Calculate fold completion time\n",
    "    fold_time = time.time() - fold_start_time\n",
    "    fold_metrics = {\n",
    "        'fold_time_minutes': fold_time / 60,\n",
    "        'best_epoch': best_epoch,\n",
    "        'best_val_auc': best_auc\n",
    "    }\n",
    "\n",
    "    print(f\"\\n*** FOLD {fold} COMPLETE ***\")\n",
    "    print(f\"Best AUC: {best_auc:.4f} at epoch {best_epoch}\")\n",
    "    print(f\"Fold training time: {fold_time/60:.1f} minutes\")\n",
    "     \n",
    "    del model, optimizer, scheduler, criterion\n",
    "    del train_loader, val_loader\n",
    "    del train_dataset, val_dataset\n",
    "    del val_df, train_df, spectrograms\n",
    "    del train_metrics, val_metrics, roc_data\n",
    "    clean_gpu_memory(cfg)\n",
    "\n",
    "    return fold_metrics, best_auc"
   ]
  },
  {
   "cell_type": "code",
   "execution_count": 14,
   "id": "5de76a1c",
   "metadata": {
    "execution": {
     "iopub.execute_input": "2025-03-17T14:00:46.520217Z",
     "iopub.status.busy": "2025-03-17T14:00:46.520008Z",
     "iopub.status.idle": "2025-03-17T14:00:46.531337Z",
     "shell.execute_reply": "2025-03-17T14:00:46.530758Z"
    },
    "papermill": {
     "duration": 0.016548,
     "end_time": "2025-03-17T14:00:46.532461",
     "exception": false,
     "start_time": "2025-03-17T14:00:46.515913",
     "status": "completed"
    },
    "tags": []
   },
   "outputs": [],
   "source": [
    "def load_data(df, cfg, soundscape_df=None):\n",
    "    taxonomy_df = pd.read_csv(cfg.taxonomy_csv)\n",
    "    species_ids = taxonomy_df['primary_label'].tolist()\n",
    "    cfg.num_classes = len(species_ids)\n",
    "\n",
    "    if cfg.use_train_filtering:\n",
    "        external_df = pd.read_csv(cfg.train_pseudolabels)\n",
    "        df = filter_training_labels(df, external_df, cfg)\n",
    "        spectrograms = {}\n",
    "        for _, row in tqdm(df.iterrows(), desc=\"Loading training spectrograms\", total=len(df)):\n",
    "            spectrograms[row['samplename']] = np.load(f\"{cfg.train_full_spectrograms}{row['samplename']}.npy\", allow_pickle=True)\n",
    "    else: \n",
    "        if cfg.LOAD_DATA:\n",
    "            spectrograms = np.load(cfg.spectrogram_npy, allow_pickle=True).item()\n",
    "            print(f\"Loaded {len(spectrograms)} pre-computed mel spectrograms for labeled data\")\n",
    "        else:   \n",
    "            spectrograms = None\n",
    "            print(\"Will generate spectrograms on-the-fly during training.\")\n",
    "        df['filepath'] = cfg.train_datadir + '/' + df.filename\n",
    "        df['samplename'] = df.filename.map(lambda x: x.split('/')[0] + '-' + x.split('/')[-1].split('.')[0])\n",
    "\n",
    "    if cfg.use_external_pseudolabels and soundscape_df is not None:\n",
    "        print(f\"Loading external pseudolabels...\")\n",
    "        if cfg.use_soft_labels:\n",
    "            print(\"Using soft pseudolabels\")\n",
    "            pseudolabel_df = load_soft_pseudolabels(soundscape_df, cfg)\n",
    "        else:\n",
    "            print(\"Filtering pseudolabels with confidence threshold:\", cfg.pseudolabel_confidence_threshold)\n",
    "            pseudolabel_df = load_pseudolabels(soundscape_df, cfg)\n",
    "        if cfg.LOAD_DATA:\n",
    "            for _, row in tqdm(pseudolabel_df.iterrows(), desc=\"Loading soundscape spectrograms\", total=len(pseudolabel_df)):\n",
    "                spectrograms[row['samplename']] = np.load(f\"{cfg.train_soundscapes_spectrograms}{row['samplename']}.npy\", allow_pickle=True)\n",
    "        else:\n",
    "            print(\"Will generate soundscape spectrograms on-the-fly during training.\")\n",
    "\n",
    "        df = pd.concat([df, pseudolabel_df], ignore_index=True)\n",
    "        \n",
    "    return df, spectrograms"
   ]
  },
  {
   "cell_type": "code",
   "execution_count": 15,
   "id": "9c0e6b49",
   "metadata": {
    "execution": {
     "iopub.execute_input": "2025-03-17T14:00:46.540675Z",
     "iopub.status.busy": "2025-03-17T14:00:46.540437Z",
     "iopub.status.idle": "2025-03-17T14:02:12.293026Z",
     "shell.execute_reply": "2025-03-17T14:02:12.292000Z"
    },
    "papermill": {
     "duration": 85.763673,
     "end_time": "2025-03-17T14:02:12.299868",
     "exception": false,
     "start_time": "2025-03-17T14:00:46.536195",
     "status": "completed"
    },
    "tags": []
   },
   "outputs": [
    {
     "name": "stdout",
     "output_type": "stream",
     "text": [
      "Loaded 28579 pre-computed mel spectrograms for labeled data\n",
      "Class distribution: 30 extremely rare, 25 rare, 151 common\n",
      "\n",
      "Extremely rare class distribution across validation folds:\n",
      "  Class '1139490' (total: 3): [1, 1, 1, 0, 0]\n",
      "  Class '1192948' (total: 4): [1, 1, 0, 1, 1]\n",
      "  Class '1194042' (total: 3): [0, 0, 1, 1, 1]\n",
      "  Class '1346504' (total: 5): [1, 1, 1, 1, 1]\n",
      "  Class '134933' (total: 4): [1, 1, 1, 1, 0]\n",
      "  Class '1462711' (total: 3): [1, 1, 0, 0, 1]\n",
      "  Class '21038' (total: 2): [0, 0, 1, 1, 0]\n",
      "  Class '21116' (total: 2): [1, 0, 0, 0, 1]\n",
      "  Class '24292' (total: 3): [0, 1, 1, 1, 0]\n",
      "  Class '41778' (total: 2): [1, 0, 0, 0, 1]\n",
      "  Class '42087' (total: 2): [0, 1, 1, 0, 0]\n",
      "  Class '42113' (total: 3): [1, 0, 0, 1, 1]\n",
      "  Class '46010' (total: 5): [1, 1, 1, 1, 1]\n",
      "  Class '47067' (total: 2): [0, 1, 1, 0, 0]\n",
      "  Class '476537' (total: 2): [0, 0, 0, 1, 1]\n",
      "  Class '476538' (total: 5): [1, 1, 1, 1, 1]\n",
      "  Class '523060' (total: 4): [1, 1, 1, 1, 0]\n",
      "  Class '528041' (total: 2): [1, 0, 0, 0, 1]\n",
      "  Class '548639' (total: 5): [1, 1, 1, 1, 1]\n",
      "  Class '64862' (total: 2): [0, 1, 1, 0, 0]\n",
      "  Class '65419' (total: 3): [1, 0, 0, 1, 1]\n",
      "  Class '66016' (total: 5): [1, 1, 1, 1, 1]\n",
      "  Class '66531' (total: 2): [0, 1, 1, 0, 0]\n",
      "  Class '66578' (total: 3): [1, 0, 0, 1, 1]\n",
      "  Class '66893' (total: 5): [1, 1, 1, 1, 1]\n",
      "  Class '67082' (total: 2): [0, 1, 1, 0, 0]\n",
      "  Class '714022' (total: 5): [1, 1, 1, 1, 1]\n",
      "  Class '81930' (total: 2): [0, 0, 0, 1, 1]\n",
      "  Class '868458' (total: 5): [1, 1, 1, 1, 1]\n",
      "  Class '963335' (total: 5): [1, 1, 1, 1, 1]\n",
      "\n",
      "****************************** Starting Fold 0 ******************************\n",
      "Training set: 22852 samples\n",
      "Validation set: 5727 samples\n",
      "\n",
      "-------------------- Training Model --------------------\n",
      "Training set: 22852 samples\n",
      "Validation set: 5727 samples\n",
      "\n",
      "-------------------- Training Model --------------------\n",
      "Model compiled successfully with backend 'inductor', mode 'default'\n",
      "\n",
      "==================================================\n",
      "Epoch 1/15 | Fold 0\n",
      "==================================================\n",
      "Model compiled successfully with backend 'inductor', mode 'default'\n",
      "\n",
      "==================================================\n",
      "Epoch 1/15 | Fold 0\n",
      "==================================================\n"
     ]
    },
    {
     "data": {
      "application/vnd.jupyter.widget-view+json": {
       "model_id": "1d3861258f254a9e9eecf18b19a387eb",
       "version_major": 2,
       "version_minor": 0
      },
      "text/plain": [
       "Training:   0%|          | 0/714 [00:00<?, ?it/s]"
      ]
     },
     "metadata": {},
     "output_type": "display_data"
    },
    {
     "data": {
      "application/vnd.jupyter.widget-view+json": {
       "model_id": "08f8cbd1554044fdb16e352d0ce2da3c",
       "version_major": 2,
       "version_minor": 0
      },
      "text/plain": [
       "Validation:   0%|          | 0/90 [00:00<?, ?it/s]"
      ]
     },
     "metadata": {},
     "output_type": "display_data"
    },
    {
     "name": "stdout",
     "output_type": "stream",
     "text": [
      "\n",
      "--- Epoch 1 Summary ---\n",
      "Train Loss: 0.0331, Train AUC: 0.5226\n",
      "Val Loss: 0.0232, Val AUC: 0.7496\n",
      "LR: 0.000500, Epoch Time: 2.28m\n",
      "Valid Classes: 196\n",
      "New best AUC: 0.7496 at epoch 0\n",
      "\n",
      "==================================================\n",
      "Epoch 2/15 | Fold 0\n",
      "==================================================\n"
     ]
    },
    {
     "data": {
      "application/vnd.jupyter.widget-view+json": {
       "model_id": "5e8b5d49e40847878b0e982e133952e0",
       "version_major": 2,
       "version_minor": 0
      },
      "text/plain": [
       "Training:   0%|          | 0/714 [00:00<?, ?it/s]"
      ]
     },
     "metadata": {},
     "output_type": "display_data"
    },
    {
     "data": {
      "application/vnd.jupyter.widget-view+json": {
       "model_id": "8d920cafce7c41eabc9fa0628de0cb73",
       "version_major": 2,
       "version_minor": 0
      },
      "text/plain": [
       "Validation:   0%|          | 0/90 [00:00<?, ?it/s]"
      ]
     },
     "metadata": {},
     "output_type": "display_data"
    },
    {
     "name": "stdout",
     "output_type": "stream",
     "text": [
      "\n",
      "--- Epoch 2 Summary ---\n",
      "Train Loss: 0.0232, Train AUC: 0.6578\n",
      "Val Loss: 0.0188, Val AUC: 0.8675\n",
      "LR: 0.000500, Epoch Time: 1.39m\n",
      "Valid Classes: 196\n",
      "New best AUC: 0.8675 at epoch 1\n",
      "\n",
      "==================================================\n",
      "Epoch 3/15 | Fold 0\n",
      "==================================================\n"
     ]
    },
    {
     "data": {
      "application/vnd.jupyter.widget-view+json": {
       "model_id": "96301c1b58314ae3885a23e6a396c079",
       "version_major": 2,
       "version_minor": 0
      },
      "text/plain": [
       "Training:   0%|          | 0/714 [00:00<?, ?it/s]"
      ]
     },
     "metadata": {},
     "output_type": "display_data"
    },
    {
     "data": {
      "application/vnd.jupyter.widget-view+json": {
       "model_id": "5e482fa3b03b4355b0a9e6bb405d2170",
       "version_major": 2,
       "version_minor": 0
      },
      "text/plain": [
       "Validation:   0%|          | 0/90 [00:00<?, ?it/s]"
      ]
     },
     "metadata": {},
     "output_type": "display_data"
    },
    {
     "name": "stdout",
     "output_type": "stream",
     "text": [
      "\n",
      "--- Epoch 3 Summary ---\n",
      "Train Loss: 0.0213, Train AUC: 0.7110\n",
      "Val Loss: 0.0163, Val AUC: 0.8986\n",
      "LR: 0.000500, Epoch Time: 1.39m\n",
      "Valid Classes: 196\n",
      "New best AUC: 0.8986 at epoch 2\n",
      "\n",
      "==================================================\n",
      "Epoch 4/15 | Fold 0\n",
      "==================================================\n"
     ]
    },
    {
     "data": {
      "application/vnd.jupyter.widget-view+json": {
       "model_id": "e798a2735f3646fa898773eaf12f8f48",
       "version_major": 2,
       "version_minor": 0
      },
      "text/plain": [
       "Training:   0%|          | 0/714 [00:00<?, ?it/s]"
      ]
     },
     "metadata": {},
     "output_type": "display_data"
    },
    {
     "data": {
      "application/vnd.jupyter.widget-view+json": {
       "model_id": "97efb88c4cb143199d24708c2520a463",
       "version_major": 2,
       "version_minor": 0
      },
      "text/plain": [
       "Validation:   0%|          | 0/90 [00:00<?, ?it/s]"
      ]
     },
     "metadata": {},
     "output_type": "display_data"
    },
    {
     "name": "stdout",
     "output_type": "stream",
     "text": [
      "\n",
      "--- Epoch 4 Summary ---\n",
      "Train Loss: 0.0200, Train AUC: 0.7542\n",
      "Val Loss: 0.0150, Val AUC: 0.9222\n",
      "LR: 0.000500, Epoch Time: 1.39m\n",
      "Valid Classes: 196\n",
      "New best AUC: 0.9222 at epoch 3\n",
      "\n",
      "==================================================\n",
      "Epoch 5/15 | Fold 0\n",
      "==================================================\n"
     ]
    },
    {
     "data": {
      "application/vnd.jupyter.widget-view+json": {
       "model_id": "6f1f0fcf85b342bdbc4882842789d40e",
       "version_major": 2,
       "version_minor": 0
      },
      "text/plain": [
       "Training:   0%|          | 0/714 [00:00<?, ?it/s]"
      ]
     },
     "metadata": {},
     "output_type": "display_data"
    },
    {
     "data": {
      "application/vnd.jupyter.widget-view+json": {
       "model_id": "e9aff52060d64a44a6a0398a698d65df",
       "version_major": 2,
       "version_minor": 0
      },
      "text/plain": [
       "Validation:   0%|          | 0/90 [00:00<?, ?it/s]"
      ]
     },
     "metadata": {},
     "output_type": "display_data"
    },
    {
     "name": "stdout",
     "output_type": "stream",
     "text": [
      "\n",
      "--- Epoch 5 Summary ---\n",
      "Train Loss: 0.0192, Train AUC: 0.7741\n",
      "Val Loss: 0.0140, Val AUC: 0.9295\n",
      "LR: 0.000495, Epoch Time: 1.41m\n",
      "Valid Classes: 196\n",
      "New best AUC: 0.9295 at epoch 4\n",
      "\n",
      "==================================================\n",
      "Epoch 6/15 | Fold 0\n",
      "==================================================\n"
     ]
    },
    {
     "data": {
      "application/vnd.jupyter.widget-view+json": {
       "model_id": "8ef84f4868de4e9da52b9015516a5d8f",
       "version_major": 2,
       "version_minor": 0
      },
      "text/plain": [
       "Training:   0%|          | 0/714 [00:00<?, ?it/s]"
      ]
     },
     "metadata": {},
     "output_type": "display_data"
    },
    {
     "data": {
      "application/vnd.jupyter.widget-view+json": {
       "model_id": "f452bed8873d4021b68d71a08af1820a",
       "version_major": 2,
       "version_minor": 0
      },
      "text/plain": [
       "Validation:   0%|          | 0/90 [00:00<?, ?it/s]"
      ]
     },
     "metadata": {},
     "output_type": "display_data"
    },
    {
     "name": "stdout",
     "output_type": "stream",
     "text": [
      "\n",
      "--- Epoch 6 Summary ---\n",
      "Train Loss: 0.0186, Train AUC: 0.7729\n",
      "Val Loss: 0.0136, Val AUC: 0.9352\n",
      "LR: 0.000478, Epoch Time: 1.39m\n",
      "Valid Classes: 196\n",
      "New best AUC: 0.9352 at epoch 5\n",
      "\n",
      "==================================================\n",
      "Epoch 7/15 | Fold 0\n",
      "==================================================\n"
     ]
    },
    {
     "data": {
      "application/vnd.jupyter.widget-view+json": {
       "model_id": "6fb30f44442443528f519f4a33c02101",
       "version_major": 2,
       "version_minor": 0
      },
      "text/plain": [
       "Training:   0%|          | 0/714 [00:00<?, ?it/s]"
      ]
     },
     "metadata": {},
     "output_type": "display_data"
    },
    {
     "data": {
      "application/vnd.jupyter.widget-view+json": {
       "model_id": "3f1dc96419804b90bce8441249b0ad82",
       "version_major": 2,
       "version_minor": 0
      },
      "text/plain": [
       "Validation:   0%|          | 0/90 [00:00<?, ?it/s]"
      ]
     },
     "metadata": {},
     "output_type": "display_data"
    },
    {
     "name": "stdout",
     "output_type": "stream",
     "text": [
      "\n",
      "--- Epoch 7 Summary ---\n",
      "Train Loss: 0.0181, Train AUC: 0.7988\n",
      "Val Loss: 0.0130, Val AUC: 0.9407\n",
      "LR: 0.000452, Epoch Time: 1.39m\n",
      "Valid Classes: 196\n",
      "New best AUC: 0.9407 at epoch 6\n",
      "\n",
      "==================================================\n",
      "Epoch 8/15 | Fold 0\n",
      "==================================================\n"
     ]
    },
    {
     "data": {
      "application/vnd.jupyter.widget-view+json": {
       "model_id": "3bb71d03a9824a9abd6917ca99497297",
       "version_major": 2,
       "version_minor": 0
      },
      "text/plain": [
       "Training:   0%|          | 0/714 [00:00<?, ?it/s]"
      ]
     },
     "metadata": {},
     "output_type": "display_data"
    },
    {
     "data": {
      "application/vnd.jupyter.widget-view+json": {
       "model_id": "3d094d5b1f45403e901ec6596f6f3547",
       "version_major": 2,
       "version_minor": 0
      },
      "text/plain": [
       "Validation:   0%|          | 0/90 [00:00<?, ?it/s]"
      ]
     },
     "metadata": {},
     "output_type": "display_data"
    },
    {
     "name": "stdout",
     "output_type": "stream",
     "text": [
      "\n",
      "--- Epoch 8 Summary ---\n",
      "Train Loss: 0.0176, Train AUC: 0.8039\n",
      "Val Loss: 0.0126, Val AUC: 0.9426\n",
      "LR: 0.000417, Epoch Time: 1.39m\n",
      "Valid Classes: 196\n",
      "New best AUC: 0.9426 at epoch 7\n",
      "\n",
      "==================================================\n",
      "Epoch 9/15 | Fold 0\n",
      "==================================================\n"
     ]
    },
    {
     "data": {
      "application/vnd.jupyter.widget-view+json": {
       "model_id": "15c6b00b09db4ccb844ba780aa95ebfd",
       "version_major": 2,
       "version_minor": 0
      },
      "text/plain": [
       "Training:   0%|          | 0/714 [00:00<?, ?it/s]"
      ]
     },
     "metadata": {},
     "output_type": "display_data"
    },
    {
     "data": {
      "application/vnd.jupyter.widget-view+json": {
       "model_id": "9cf072a40c1842798355acc630cf79d9",
       "version_major": 2,
       "version_minor": 0
      },
      "text/plain": [
       "Validation:   0%|          | 0/90 [00:00<?, ?it/s]"
      ]
     },
     "metadata": {},
     "output_type": "display_data"
    },
    {
     "name": "stdout",
     "output_type": "stream",
     "text": [
      "\n",
      "--- Epoch 9 Summary ---\n",
      "Train Loss: 0.0175, Train AUC: 0.8140\n",
      "Val Loss: 0.0124, Val AUC: 0.9460\n",
      "LR: 0.000375, Epoch Time: 1.39m\n",
      "Valid Classes: 196\n",
      "New best AUC: 0.9460 at epoch 8\n",
      "\n",
      "==================================================\n",
      "Epoch 10/15 | Fold 0\n",
      "==================================================\n"
     ]
    },
    {
     "data": {
      "application/vnd.jupyter.widget-view+json": {
       "model_id": "de94afc50b9c4826aaaf48c937171a0f",
       "version_major": 2,
       "version_minor": 0
      },
      "text/plain": [
       "Training:   0%|          | 0/714 [00:00<?, ?it/s]"
      ]
     },
     "metadata": {},
     "output_type": "display_data"
    },
    {
     "data": {
      "application/vnd.jupyter.widget-view+json": {
       "model_id": "4934f3a5e83840c6a097b6bc6ef0dc24",
       "version_major": 2,
       "version_minor": 0
      },
      "text/plain": [
       "Validation:   0%|          | 0/90 [00:00<?, ?it/s]"
      ]
     },
     "metadata": {},
     "output_type": "display_data"
    },
    {
     "name": "stdout",
     "output_type": "stream",
     "text": [
      "\n",
      "--- Epoch 10 Summary ---\n",
      "Train Loss: 0.0169, Train AUC: 0.8108\n",
      "Val Loss: 0.0122, Val AUC: 0.9466\n",
      "LR: 0.000328, Epoch Time: 1.39m\n",
      "Valid Classes: 196\n",
      "New best AUC: 0.9466 at epoch 9\n",
      "\n",
      "==================================================\n",
      "Epoch 11/15 | Fold 0\n",
      "==================================================\n"
     ]
    },
    {
     "data": {
      "application/vnd.jupyter.widget-view+json": {
       "model_id": "8e00cb18b9294f85815ceb5d724d9ea9",
       "version_major": 2,
       "version_minor": 0
      },
      "text/plain": [
       "Training:   0%|          | 0/714 [00:00<?, ?it/s]"
      ]
     },
     "metadata": {},
     "output_type": "display_data"
    },
    {
     "data": {
      "application/vnd.jupyter.widget-view+json": {
       "model_id": "9c8478f0e2e44aa0bb05d2f7d7e97072",
       "version_major": 2,
       "version_minor": 0
      },
      "text/plain": [
       "Validation:   0%|          | 0/90 [00:00<?, ?it/s]"
      ]
     },
     "metadata": {},
     "output_type": "display_data"
    },
    {
     "name": "stdout",
     "output_type": "stream",
     "text": [
      "\n",
      "--- Epoch 11 Summary ---\n",
      "Train Loss: 0.0167, Train AUC: 0.8232\n",
      "Val Loss: 0.0119, Val AUC: 0.9493\n",
      "LR: 0.000277, Epoch Time: 1.39m\n",
      "Valid Classes: 196\n",
      "New best AUC: 0.9493 at epoch 10\n",
      "\n",
      "==================================================\n",
      "Epoch 12/15 | Fold 0\n",
      "==================================================\n"
     ]
    },
    {
     "data": {
      "application/vnd.jupyter.widget-view+json": {
       "model_id": "9ce9bafcc6c746cfbea4123e29205e79",
       "version_major": 2,
       "version_minor": 0
      },
      "text/plain": [
       "Training:   0%|          | 0/714 [00:00<?, ?it/s]"
      ]
     },
     "metadata": {},
     "output_type": "display_data"
    },
    {
     "data": {
      "application/vnd.jupyter.widget-view+json": {
       "model_id": "c51e702e0b614d1b8355f83cc5bce633",
       "version_major": 2,
       "version_minor": 0
      },
      "text/plain": [
       "Validation:   0%|          | 0/90 [00:00<?, ?it/s]"
      ]
     },
     "metadata": {},
     "output_type": "display_data"
    },
    {
     "name": "stdout",
     "output_type": "stream",
     "text": [
      "\n",
      "--- Epoch 12 Summary ---\n",
      "Train Loss: 0.0160, Train AUC: 0.8479\n",
      "Val Loss: 0.0117, Val AUC: 0.9493\n",
      "LR: 0.000224, Epoch Time: 1.39m\n",
      "Valid Classes: 196\n",
      "\n",
      "==================================================\n",
      "Epoch 13/15 | Fold 0\n",
      "==================================================\n"
     ]
    },
    {
     "data": {
      "application/vnd.jupyter.widget-view+json": {
       "model_id": "15c00b44efca4b398e2133f5178f8f6f",
       "version_major": 2,
       "version_minor": 0
      },
      "text/plain": [
       "Training:   0%|          | 0/714 [00:00<?, ?it/s]"
      ]
     },
     "metadata": {},
     "output_type": "display_data"
    },
    {
     "data": {
      "application/vnd.jupyter.widget-view+json": {
       "model_id": "9c43d1b0b2d34e30a8f5b7481a260b91",
       "version_major": 2,
       "version_minor": 0
      },
      "text/plain": [
       "Validation:   0%|          | 0/90 [00:00<?, ?it/s]"
      ]
     },
     "metadata": {},
     "output_type": "display_data"
    },
    {
     "name": "stdout",
     "output_type": "stream",
     "text": [
      "\n",
      "--- Epoch 13 Summary ---\n",
      "Train Loss: 0.0161, Train AUC: 0.8187\n",
      "Val Loss: 0.0116, Val AUC: 0.9491\n",
      "LR: 0.000173, Epoch Time: 1.40m\n",
      "Valid Classes: 196\n",
      "\n",
      "==================================================\n",
      "Epoch 14/15 | Fold 0\n",
      "==================================================\n"
     ]
    },
    {
     "data": {
      "application/vnd.jupyter.widget-view+json": {
       "model_id": "216508bfafe84f4fbed368cbb8834d3c",
       "version_major": 2,
       "version_minor": 0
      },
      "text/plain": [
       "Training:   0%|          | 0/714 [00:00<?, ?it/s]"
      ]
     },
     "metadata": {},
     "output_type": "display_data"
    },
    {
     "data": {
      "application/vnd.jupyter.widget-view+json": {
       "model_id": "a5ed153b72c646848f7a043756ea17d8",
       "version_major": 2,
       "version_minor": 0
      },
      "text/plain": [
       "Validation:   0%|          | 0/90 [00:00<?, ?it/s]"
      ]
     },
     "metadata": {},
     "output_type": "display_data"
    },
    {
     "name": "stdout",
     "output_type": "stream",
     "text": [
      "\n",
      "--- Epoch 14 Summary ---\n",
      "Train Loss: 0.0160, Train AUC: 0.8315\n",
      "Val Loss: 0.0115, Val AUC: 0.9505\n",
      "LR: 0.000126, Epoch Time: 1.39m\n",
      "Valid Classes: 196\n",
      "New best AUC: 0.9505 at epoch 13\n",
      "\n",
      "==================================================\n",
      "Epoch 15/15 | Fold 0\n",
      "==================================================\n"
     ]
    },
    {
     "data": {
      "application/vnd.jupyter.widget-view+json": {
       "model_id": "6da0223c1c5a4408bd841f9733555099",
       "version_major": 2,
       "version_minor": 0
      },
      "text/plain": [
       "Training:   0%|          | 0/714 [00:00<?, ?it/s]"
      ]
     },
     "metadata": {},
     "output_type": "display_data"
    },
    {
     "data": {
      "application/vnd.jupyter.widget-view+json": {
       "model_id": "955602276601464086990a084c352e86",
       "version_major": 2,
       "version_minor": 0
      },
      "text/plain": [
       "Validation:   0%|          | 0/90 [00:00<?, ?it/s]"
      ]
     },
     "metadata": {},
     "output_type": "display_data"
    },
    {
     "name": "stdout",
     "output_type": "stream",
     "text": [
      "\n",
      "--- Epoch 15 Summary ---\n",
      "Train Loss: 0.0157, Train AUC: 0.8202\n",
      "Val Loss: 0.0115, Val AUC: 0.9505\n",
      "LR: 0.000084, Epoch Time: 1.39m\n",
      "Valid Classes: 196\n",
      "\n",
      "*** FOLD 0 COMPLETE ***\n",
      "Best AUC: 0.9505 at epoch 13\n",
      "Fold training time: 23.9 minutes\n",
      "\n",
      "****************************** Starting Fold 1 ******************************\n",
      "\n",
      "****************************** Starting Fold 1 ******************************\n",
      "Training set: 22860 samples\n",
      "Validation set: 5719 samples\n",
      "\n",
      "-------------------- Training Model --------------------\n",
      "Training set: 22860 samples\n",
      "Validation set: 5719 samples\n",
      "\n",
      "-------------------- Training Model --------------------\n",
      "Model compiled successfully with backend 'inductor', mode 'default'\n",
      "\n",
      "==================================================\n",
      "Epoch 1/15 | Fold 1\n",
      "==================================================\n",
      "Model compiled successfully with backend 'inductor', mode 'default'\n",
      "\n",
      "==================================================\n",
      "Epoch 1/15 | Fold 1\n",
      "==================================================\n"
     ]
    },
    {
     "data": {
      "application/vnd.jupyter.widget-view+json": {
       "model_id": "f5673bab55f3469f9cb8ec259fce4929",
       "version_major": 2,
       "version_minor": 0
      },
      "text/plain": [
       "Training:   0%|          | 0/714 [00:00<?, ?it/s]"
      ]
     },
     "metadata": {},
     "output_type": "display_data"
    },
    {
     "data": {
      "application/vnd.jupyter.widget-view+json": {
       "model_id": "a4d583e0c3414a88b92497ab1465d50b",
       "version_major": 2,
       "version_minor": 0
      },
      "text/plain": [
       "Validation:   0%|          | 0/90 [00:00<?, ?it/s]"
      ]
     },
     "metadata": {},
     "output_type": "display_data"
    },
    {
     "name": "stdout",
     "output_type": "stream",
     "text": [
      "\n",
      "--- Epoch 1 Summary ---\n",
      "Train Loss: 0.0329, Train AUC: 0.5247\n",
      "Val Loss: 0.0233, Val AUC: 0.7446\n",
      "LR: 0.000500, Epoch Time: 1.59m\n",
      "Valid Classes: 196\n",
      "New best AUC: 0.7446 at epoch 0\n",
      "\n",
      "==================================================\n",
      "Epoch 2/15 | Fold 1\n",
      "==================================================\n"
     ]
    },
    {
     "data": {
      "application/vnd.jupyter.widget-view+json": {
       "model_id": "88c72b9912c9425080ad8284b63566ba",
       "version_major": 2,
       "version_minor": 0
      },
      "text/plain": [
       "Training:   0%|          | 0/714 [00:00<?, ?it/s]"
      ]
     },
     "metadata": {},
     "output_type": "display_data"
    },
    {
     "data": {
      "application/vnd.jupyter.widget-view+json": {
       "model_id": "20c1dd2a0d8043519610ff3d35927339",
       "version_major": 2,
       "version_minor": 0
      },
      "text/plain": [
       "Validation:   0%|          | 0/90 [00:00<?, ?it/s]"
      ]
     },
     "metadata": {},
     "output_type": "display_data"
    },
    {
     "name": "stdout",
     "output_type": "stream",
     "text": [
      "\n",
      "--- Epoch 2 Summary ---\n",
      "Train Loss: 0.0232, Train AUC: 0.6583\n",
      "Val Loss: 0.0186, Val AUC: 0.8651\n",
      "LR: 0.000500, Epoch Time: 1.39m\n",
      "Valid Classes: 196\n",
      "New best AUC: 0.8651 at epoch 1\n",
      "\n",
      "==================================================\n",
      "Epoch 3/15 | Fold 1\n",
      "==================================================\n"
     ]
    },
    {
     "data": {
      "application/vnd.jupyter.widget-view+json": {
       "model_id": "e8235be948c2421d809977a0bf674f03",
       "version_major": 2,
       "version_minor": 0
      },
      "text/plain": [
       "Training:   0%|          | 0/714 [00:00<?, ?it/s]"
      ]
     },
     "metadata": {},
     "output_type": "display_data"
    },
    {
     "data": {
      "application/vnd.jupyter.widget-view+json": {
       "model_id": "f88ec4f9502b43f6890daa094fd76989",
       "version_major": 2,
       "version_minor": 0
      },
      "text/plain": [
       "Validation:   0%|          | 0/90 [00:00<?, ?it/s]"
      ]
     },
     "metadata": {},
     "output_type": "display_data"
    },
    {
     "name": "stdout",
     "output_type": "stream",
     "text": [
      "\n",
      "--- Epoch 3 Summary ---\n",
      "Train Loss: 0.0208, Train AUC: 0.7180\n",
      "Val Loss: 0.0158, Val AUC: 0.9152\n",
      "LR: 0.000500, Epoch Time: 1.39m\n",
      "Valid Classes: 196\n",
      "New best AUC: 0.9152 at epoch 2\n",
      "\n",
      "==================================================\n",
      "Epoch 4/15 | Fold 1\n",
      "==================================================\n"
     ]
    },
    {
     "data": {
      "application/vnd.jupyter.widget-view+json": {
       "model_id": "85aa9a39bfc44996938cb4827f1c1cfa",
       "version_major": 2,
       "version_minor": 0
      },
      "text/plain": [
       "Training:   0%|          | 0/714 [00:00<?, ?it/s]"
      ]
     },
     "metadata": {},
     "output_type": "display_data"
    },
    {
     "data": {
      "application/vnd.jupyter.widget-view+json": {
       "model_id": "d0d913fb22424e928435ac8285a95673",
       "version_major": 2,
       "version_minor": 0
      },
      "text/plain": [
       "Validation:   0%|          | 0/90 [00:00<?, ?it/s]"
      ]
     },
     "metadata": {},
     "output_type": "display_data"
    },
    {
     "name": "stdout",
     "output_type": "stream",
     "text": [
      "\n",
      "--- Epoch 4 Summary ---\n",
      "Train Loss: 0.0195, Train AUC: 0.7458\n",
      "Val Loss: 0.0145, Val AUC: 0.9272\n",
      "LR: 0.000500, Epoch Time: 1.39m\n",
      "Valid Classes: 196\n",
      "New best AUC: 0.9272 at epoch 3\n",
      "\n",
      "==================================================\n",
      "Epoch 5/15 | Fold 1\n",
      "==================================================\n"
     ]
    },
    {
     "data": {
      "application/vnd.jupyter.widget-view+json": {
       "model_id": "4cef088721ea406e8ac0b0fabe3cb251",
       "version_major": 2,
       "version_minor": 0
      },
      "text/plain": [
       "Training:   0%|          | 0/714 [00:00<?, ?it/s]"
      ]
     },
     "metadata": {},
     "output_type": "display_data"
    },
    {
     "data": {
      "application/vnd.jupyter.widget-view+json": {
       "model_id": "6d9932fb13454ff583006f47137ac2db",
       "version_major": 2,
       "version_minor": 0
      },
      "text/plain": [
       "Validation:   0%|          | 0/90 [00:00<?, ?it/s]"
      ]
     },
     "metadata": {},
     "output_type": "display_data"
    },
    {
     "name": "stdout",
     "output_type": "stream",
     "text": [
      "\n",
      "--- Epoch 5 Summary ---\n",
      "Train Loss: 0.0187, Train AUC: 0.7757\n",
      "Val Loss: 0.0137, Val AUC: 0.9390\n",
      "LR: 0.000495, Epoch Time: 1.39m\n",
      "Valid Classes: 196\n",
      "New best AUC: 0.9390 at epoch 4\n",
      "\n",
      "==================================================\n",
      "Epoch 6/15 | Fold 1\n",
      "==================================================\n"
     ]
    },
    {
     "data": {
      "application/vnd.jupyter.widget-view+json": {
       "model_id": "72044484b32d4cf58bdf22bddffcb2da",
       "version_major": 2,
       "version_minor": 0
      },
      "text/plain": [
       "Training:   0%|          | 0/714 [00:00<?, ?it/s]"
      ]
     },
     "metadata": {},
     "output_type": "display_data"
    },
    {
     "data": {
      "application/vnd.jupyter.widget-view+json": {
       "model_id": "a91771d8176644a6a3630e9a43402d55",
       "version_major": 2,
       "version_minor": 0
      },
      "text/plain": [
       "Validation:   0%|          | 0/90 [00:00<?, ?it/s]"
      ]
     },
     "metadata": {},
     "output_type": "display_data"
    },
    {
     "name": "stdout",
     "output_type": "stream",
     "text": [
      "\n",
      "--- Epoch 6 Summary ---\n",
      "Train Loss: 0.0181, Train AUC: 0.7701\n",
      "Val Loss: 0.0131, Val AUC: 0.9417\n",
      "LR: 0.000478, Epoch Time: 1.39m\n",
      "Valid Classes: 196\n",
      "New best AUC: 0.9417 at epoch 5\n",
      "\n",
      "==================================================\n",
      "Epoch 7/15 | Fold 1\n",
      "==================================================\n"
     ]
    },
    {
     "data": {
      "application/vnd.jupyter.widget-view+json": {
       "model_id": "0c0f90d31192409d87e9e4ffcc8a4b86",
       "version_major": 2,
       "version_minor": 0
      },
      "text/plain": [
       "Training:   0%|          | 0/714 [00:00<?, ?it/s]"
      ]
     },
     "metadata": {},
     "output_type": "display_data"
    },
    {
     "data": {
      "application/vnd.jupyter.widget-view+json": {
       "model_id": "1719bc4825ef4945810e0e76c29783aa",
       "version_major": 2,
       "version_minor": 0
      },
      "text/plain": [
       "Validation:   0%|          | 0/90 [00:00<?, ?it/s]"
      ]
     },
     "metadata": {},
     "output_type": "display_data"
    },
    {
     "name": "stdout",
     "output_type": "stream",
     "text": [
      "\n",
      "--- Epoch 7 Summary ---\n",
      "Train Loss: 0.0175, Train AUC: 0.7862\n",
      "Val Loss: 0.0127, Val AUC: 0.9470\n",
      "LR: 0.000452, Epoch Time: 1.39m\n",
      "Valid Classes: 196\n",
      "New best AUC: 0.9470 at epoch 6\n",
      "\n",
      "==================================================\n",
      "Epoch 8/15 | Fold 1\n",
      "==================================================\n"
     ]
    },
    {
     "data": {
      "application/vnd.jupyter.widget-view+json": {
       "model_id": "f4a78808faf54c9b80842d0df2104bf5",
       "version_major": 2,
       "version_minor": 0
      },
      "text/plain": [
       "Training:   0%|          | 0/714 [00:00<?, ?it/s]"
      ]
     },
     "metadata": {},
     "output_type": "display_data"
    },
    {
     "data": {
      "application/vnd.jupyter.widget-view+json": {
       "model_id": "121bbd9d34fd474d833aaf02aa842aea",
       "version_major": 2,
       "version_minor": 0
      },
      "text/plain": [
       "Validation:   0%|          | 0/90 [00:00<?, ?it/s]"
      ]
     },
     "metadata": {},
     "output_type": "display_data"
    },
    {
     "name": "stdout",
     "output_type": "stream",
     "text": [
      "\n",
      "--- Epoch 8 Summary ---\n",
      "Train Loss: 0.0173, Train AUC: 0.8121\n",
      "Val Loss: 0.0126, Val AUC: 0.9456\n",
      "LR: 0.000417, Epoch Time: 1.39m\n",
      "Valid Classes: 196\n",
      "\n",
      "==================================================\n",
      "Epoch 9/15 | Fold 1\n",
      "==================================================\n"
     ]
    },
    {
     "data": {
      "application/vnd.jupyter.widget-view+json": {
       "model_id": "265e6daf87cb4b52bb63505d590acdc9",
       "version_major": 2,
       "version_minor": 0
      },
      "text/plain": [
       "Training:   0%|          | 0/714 [00:00<?, ?it/s]"
      ]
     },
     "metadata": {},
     "output_type": "display_data"
    },
    {
     "data": {
      "application/vnd.jupyter.widget-view+json": {
       "model_id": "221f992006734ce6864c860891cdc194",
       "version_major": 2,
       "version_minor": 0
      },
      "text/plain": [
       "Validation:   0%|          | 0/90 [00:00<?, ?it/s]"
      ]
     },
     "metadata": {},
     "output_type": "display_data"
    },
    {
     "name": "stdout",
     "output_type": "stream",
     "text": [
      "\n",
      "--- Epoch 9 Summary ---\n",
      "Train Loss: 0.0166, Train AUC: 0.8217\n",
      "Val Loss: 0.0121, Val AUC: 0.9518\n",
      "LR: 0.000375, Epoch Time: 1.39m\n",
      "Valid Classes: 196\n",
      "New best AUC: 0.9518 at epoch 8\n",
      "\n",
      "==================================================\n",
      "Epoch 10/15 | Fold 1\n",
      "==================================================\n"
     ]
    },
    {
     "data": {
      "application/vnd.jupyter.widget-view+json": {
       "model_id": "5a301da3c7f14d868e4727cdaba85217",
       "version_major": 2,
       "version_minor": 0
      },
      "text/plain": [
       "Training:   0%|          | 0/714 [00:00<?, ?it/s]"
      ]
     },
     "metadata": {},
     "output_type": "display_data"
    },
    {
     "data": {
      "application/vnd.jupyter.widget-view+json": {
       "model_id": "442f442d59ec4b00b68dee655b7b7c8b",
       "version_major": 2,
       "version_minor": 0
      },
      "text/plain": [
       "Validation:   0%|          | 0/90 [00:00<?, ?it/s]"
      ]
     },
     "metadata": {},
     "output_type": "display_data"
    },
    {
     "name": "stdout",
     "output_type": "stream",
     "text": [
      "\n",
      "--- Epoch 10 Summary ---\n",
      "Train Loss: 0.0166, Train AUC: 0.8235\n",
      "Val Loss: 0.0119, Val AUC: 0.9515\n",
      "LR: 0.000328, Epoch Time: 1.39m\n",
      "Valid Classes: 196\n",
      "\n",
      "==================================================\n",
      "Epoch 11/15 | Fold 1\n",
      "==================================================\n"
     ]
    },
    {
     "data": {
      "application/vnd.jupyter.widget-view+json": {
       "model_id": "7389be6626dd4e4386313ef509d9caac",
       "version_major": 2,
       "version_minor": 0
      },
      "text/plain": [
       "Training:   0%|          | 0/714 [00:00<?, ?it/s]"
      ]
     },
     "metadata": {},
     "output_type": "display_data"
    },
    {
     "data": {
      "application/vnd.jupyter.widget-view+json": {
       "model_id": "a22e3225265f454db30918946f587be4",
       "version_major": 2,
       "version_minor": 0
      },
      "text/plain": [
       "Validation:   0%|          | 0/90 [00:00<?, ?it/s]"
      ]
     },
     "metadata": {},
     "output_type": "display_data"
    },
    {
     "name": "stdout",
     "output_type": "stream",
     "text": [
      "\n",
      "--- Epoch 11 Summary ---\n",
      "Train Loss: 0.0157, Train AUC: 0.8201\n",
      "Val Loss: 0.0119, Val AUC: 0.9498\n",
      "LR: 0.000277, Epoch Time: 1.39m\n",
      "Valid Classes: 196\n",
      "\n",
      "==================================================\n",
      "Epoch 12/15 | Fold 1\n",
      "==================================================\n"
     ]
    },
    {
     "data": {
      "application/vnd.jupyter.widget-view+json": {
       "model_id": "cfb14114b1014016b4fa21464275d00e",
       "version_major": 2,
       "version_minor": 0
      },
      "text/plain": [
       "Training:   0%|          | 0/714 [00:00<?, ?it/s]"
      ]
     },
     "metadata": {},
     "output_type": "display_data"
    },
    {
     "data": {
      "application/vnd.jupyter.widget-view+json": {
       "model_id": "547d0178073944248491fa481b3e067b",
       "version_major": 2,
       "version_minor": 0
      },
      "text/plain": [
       "Validation:   0%|          | 0/90 [00:00<?, ?it/s]"
      ]
     },
     "metadata": {},
     "output_type": "display_data"
    },
    {
     "name": "stdout",
     "output_type": "stream",
     "text": [
      "\n",
      "--- Epoch 12 Summary ---\n",
      "Train Loss: 0.0159, Train AUC: 0.8311\n",
      "Val Loss: 0.0118, Val AUC: 0.9509\n",
      "LR: 0.000224, Epoch Time: 1.39m\n",
      "Valid Classes: 196\n",
      "Early stopping at epoch 11\n",
      "\n",
      "*** FOLD 1 COMPLETE ***\n",
      "Best AUC: 0.9518 at epoch 8\n",
      "Fold training time: 18.6 minutes\n",
      "\n",
      "****************************** Starting Fold 2 ******************************\n",
      "\n",
      "****************************** Starting Fold 2 ******************************\n",
      "Training set: 22865 samples\n",
      "Validation set: 5714 samples\n",
      "\n",
      "-------------------- Training Model --------------------\n",
      "Training set: 22865 samples\n",
      "Validation set: 5714 samples\n",
      "\n",
      "-------------------- Training Model --------------------\n",
      "Model compiled successfully with backend 'inductor', mode 'default'\n",
      "\n",
      "==================================================\n",
      "Epoch 1/15 | Fold 2\n",
      "==================================================\n",
      "Model compiled successfully with backend 'inductor', mode 'default'\n",
      "\n",
      "==================================================\n",
      "Epoch 1/15 | Fold 2\n",
      "==================================================\n"
     ]
    },
    {
     "data": {
      "application/vnd.jupyter.widget-view+json": {
       "model_id": "471d22c101da4d54a2cac53e348ea96f",
       "version_major": 2,
       "version_minor": 0
      },
      "text/plain": [
       "Training:   0%|          | 0/714 [00:00<?, ?it/s]"
      ]
     },
     "metadata": {},
     "output_type": "display_data"
    },
    {
     "data": {
      "application/vnd.jupyter.widget-view+json": {
       "model_id": "4b13fd05a62d42eba652eccdc0dee30a",
       "version_major": 2,
       "version_minor": 0
      },
      "text/plain": [
       "Validation:   0%|          | 0/90 [00:00<?, ?it/s]"
      ]
     },
     "metadata": {},
     "output_type": "display_data"
    },
    {
     "name": "stdout",
     "output_type": "stream",
     "text": [
      "\n",
      "--- Epoch 1 Summary ---\n",
      "Train Loss: 0.0329, Train AUC: 0.5014\n",
      "Val Loss: 0.0246, Val AUC: 0.6610\n",
      "LR: 0.000500, Epoch Time: 1.60m\n",
      "Valid Classes: 196\n",
      "New best AUC: 0.6610 at epoch 0\n",
      "\n",
      "==================================================\n",
      "Epoch 2/15 | Fold 2\n",
      "==================================================\n"
     ]
    },
    {
     "data": {
      "application/vnd.jupyter.widget-view+json": {
       "model_id": "a23efc66ceb6459ca63dc502ad5152c1",
       "version_major": 2,
       "version_minor": 0
      },
      "text/plain": [
       "Training:   0%|          | 0/714 [00:00<?, ?it/s]"
      ]
     },
     "metadata": {},
     "output_type": "display_data"
    },
    {
     "data": {
      "application/vnd.jupyter.widget-view+json": {
       "model_id": "278f755dc8474802bc01de23dc6d72d5",
       "version_major": 2,
       "version_minor": 0
      },
      "text/plain": [
       "Validation:   0%|          | 0/90 [00:00<?, ?it/s]"
      ]
     },
     "metadata": {},
     "output_type": "display_data"
    },
    {
     "name": "stdout",
     "output_type": "stream",
     "text": [
      "\n",
      "--- Epoch 2 Summary ---\n",
      "Train Loss: 0.0240, Train AUC: 0.6249\n",
      "Val Loss: 0.0198, Val AUC: 0.8330\n",
      "LR: 0.000500, Epoch Time: 1.38m\n",
      "Valid Classes: 196\n",
      "New best AUC: 0.8330 at epoch 1\n",
      "\n",
      "==================================================\n",
      "Epoch 3/15 | Fold 2\n",
      "==================================================\n"
     ]
    },
    {
     "data": {
      "application/vnd.jupyter.widget-view+json": {
       "model_id": "e76e68ac0b634e7d90736d7da58f1d0c",
       "version_major": 2,
       "version_minor": 0
      },
      "text/plain": [
       "Training:   0%|          | 0/714 [00:00<?, ?it/s]"
      ]
     },
     "metadata": {},
     "output_type": "display_data"
    },
    {
     "data": {
      "application/vnd.jupyter.widget-view+json": {
       "model_id": "92f840f0093142b29602e1bbe25f958e",
       "version_major": 2,
       "version_minor": 0
      },
      "text/plain": [
       "Validation:   0%|          | 0/90 [00:00<?, ?it/s]"
      ]
     },
     "metadata": {},
     "output_type": "display_data"
    },
    {
     "name": "stdout",
     "output_type": "stream",
     "text": [
      "\n",
      "--- Epoch 3 Summary ---\n",
      "Train Loss: 0.0216, Train AUC: 0.7011\n",
      "Val Loss: 0.0165, Val AUC: 0.8999\n",
      "LR: 0.000500, Epoch Time: 1.39m\n",
      "Valid Classes: 196\n",
      "New best AUC: 0.8999 at epoch 2\n",
      "\n",
      "==================================================\n",
      "Epoch 4/15 | Fold 2\n",
      "==================================================\n"
     ]
    },
    {
     "data": {
      "application/vnd.jupyter.widget-view+json": {
       "model_id": "48dc9eee9ecf4cbe9d22b510633dac3e",
       "version_major": 2,
       "version_minor": 0
      },
      "text/plain": [
       "Training:   0%|          | 0/714 [00:00<?, ?it/s]"
      ]
     },
     "metadata": {},
     "output_type": "display_data"
    },
    {
     "data": {
      "application/vnd.jupyter.widget-view+json": {
       "model_id": "1ba58b13e9d34a40a4cc8dc21908d656",
       "version_major": 2,
       "version_minor": 0
      },
      "text/plain": [
       "Validation:   0%|          | 0/90 [00:00<?, ?it/s]"
      ]
     },
     "metadata": {},
     "output_type": "display_data"
    },
    {
     "name": "stdout",
     "output_type": "stream",
     "text": [
      "\n",
      "--- Epoch 4 Summary ---\n",
      "Train Loss: 0.0200, Train AUC: 0.7466\n",
      "Val Loss: 0.0150, Val AUC: 0.9167\n",
      "LR: 0.000500, Epoch Time: 1.39m\n",
      "Valid Classes: 196\n",
      "New best AUC: 0.9167 at epoch 3\n",
      "\n",
      "==================================================\n",
      "Epoch 5/15 | Fold 2\n",
      "==================================================\n"
     ]
    },
    {
     "data": {
      "application/vnd.jupyter.widget-view+json": {
       "model_id": "93cdd9dc60c54170adb03f9d835328d7",
       "version_major": 2,
       "version_minor": 0
      },
      "text/plain": [
       "Training:   0%|          | 0/714 [00:00<?, ?it/s]"
      ]
     },
     "metadata": {},
     "output_type": "display_data"
    },
    {
     "data": {
      "application/vnd.jupyter.widget-view+json": {
       "model_id": "be846c9dc08b49f3af6bddbd552d660c",
       "version_major": 2,
       "version_minor": 0
      },
      "text/plain": [
       "Validation:   0%|          | 0/90 [00:00<?, ?it/s]"
      ]
     },
     "metadata": {},
     "output_type": "display_data"
    },
    {
     "name": "stdout",
     "output_type": "stream",
     "text": [
      "\n",
      "--- Epoch 5 Summary ---\n",
      "Train Loss: 0.0189, Train AUC: 0.7493\n",
      "Val Loss: 0.0139, Val AUC: 0.9240\n",
      "LR: 0.000495, Epoch Time: 1.39m\n",
      "Valid Classes: 196\n",
      "New best AUC: 0.9240 at epoch 4\n",
      "\n",
      "==================================================\n",
      "Epoch 6/15 | Fold 2\n",
      "==================================================\n"
     ]
    },
    {
     "data": {
      "application/vnd.jupyter.widget-view+json": {
       "model_id": "eee297eb1efe41eb934790be0f83f41a",
       "version_major": 2,
       "version_minor": 0
      },
      "text/plain": [
       "Training:   0%|          | 0/714 [00:00<?, ?it/s]"
      ]
     },
     "metadata": {},
     "output_type": "display_data"
    },
    {
     "data": {
      "application/vnd.jupyter.widget-view+json": {
       "model_id": "4d096139b1af43e286cc7f62b52eed9c",
       "version_major": 2,
       "version_minor": 0
      },
      "text/plain": [
       "Validation:   0%|          | 0/90 [00:00<?, ?it/s]"
      ]
     },
     "metadata": {},
     "output_type": "display_data"
    },
    {
     "name": "stdout",
     "output_type": "stream",
     "text": [
      "\n",
      "--- Epoch 6 Summary ---\n",
      "Train Loss: 0.0184, Train AUC: 0.7755\n",
      "Val Loss: 0.0133, Val AUC: 0.9346\n",
      "LR: 0.000478, Epoch Time: 1.39m\n",
      "Valid Classes: 196\n",
      "New best AUC: 0.9346 at epoch 5\n",
      "\n",
      "==================================================\n",
      "Epoch 7/15 | Fold 2\n",
      "==================================================\n"
     ]
    },
    {
     "data": {
      "application/vnd.jupyter.widget-view+json": {
       "model_id": "f2f3254306ea401cb1156f697f58eebf",
       "version_major": 2,
       "version_minor": 0
      },
      "text/plain": [
       "Training:   0%|          | 0/714 [00:00<?, ?it/s]"
      ]
     },
     "metadata": {},
     "output_type": "display_data"
    },
    {
     "data": {
      "application/vnd.jupyter.widget-view+json": {
       "model_id": "682bba4e75ed445c9a55dbd8b2829860",
       "version_major": 2,
       "version_minor": 0
      },
      "text/plain": [
       "Validation:   0%|          | 0/90 [00:00<?, ?it/s]"
      ]
     },
     "metadata": {},
     "output_type": "display_data"
    },
    {
     "name": "stdout",
     "output_type": "stream",
     "text": [
      "\n",
      "--- Epoch 7 Summary ---\n",
      "Train Loss: 0.0179, Train AUC: 0.7988\n",
      "Val Loss: 0.0130, Val AUC: 0.9398\n",
      "LR: 0.000452, Epoch Time: 1.39m\n",
      "Valid Classes: 196\n",
      "New best AUC: 0.9398 at epoch 6\n",
      "\n",
      "==================================================\n",
      "Epoch 8/15 | Fold 2\n",
      "==================================================\n"
     ]
    },
    {
     "data": {
      "application/vnd.jupyter.widget-view+json": {
       "model_id": "b2f3088faa3140c89ad95a14c5d22863",
       "version_major": 2,
       "version_minor": 0
      },
      "text/plain": [
       "Training:   0%|          | 0/714 [00:00<?, ?it/s]"
      ]
     },
     "metadata": {},
     "output_type": "display_data"
    },
    {
     "data": {
      "application/vnd.jupyter.widget-view+json": {
       "model_id": "b544bc37a4124cc8ae659386d4280456",
       "version_major": 2,
       "version_minor": 0
      },
      "text/plain": [
       "Validation:   0%|          | 0/90 [00:00<?, ?it/s]"
      ]
     },
     "metadata": {},
     "output_type": "display_data"
    },
    {
     "name": "stdout",
     "output_type": "stream",
     "text": [
      "\n",
      "--- Epoch 8 Summary ---\n",
      "Train Loss: 0.0174, Train AUC: 0.8191\n",
      "Val Loss: 0.0125, Val AUC: 0.9384\n",
      "LR: 0.000417, Epoch Time: 1.39m\n",
      "Valid Classes: 196\n",
      "\n",
      "==================================================\n",
      "Epoch 9/15 | Fold 2\n",
      "==================================================\n"
     ]
    },
    {
     "data": {
      "application/vnd.jupyter.widget-view+json": {
       "model_id": "5915068fd3044ae58bff7f79627ca606",
       "version_major": 2,
       "version_minor": 0
      },
      "text/plain": [
       "Training:   0%|          | 0/714 [00:00<?, ?it/s]"
      ]
     },
     "metadata": {},
     "output_type": "display_data"
    },
    {
     "data": {
      "application/vnd.jupyter.widget-view+json": {
       "model_id": "21bd19e003a94caebda3e602bb5125fb",
       "version_major": 2,
       "version_minor": 0
      },
      "text/plain": [
       "Validation:   0%|          | 0/90 [00:00<?, ?it/s]"
      ]
     },
     "metadata": {},
     "output_type": "display_data"
    },
    {
     "name": "stdout",
     "output_type": "stream",
     "text": [
      "\n",
      "--- Epoch 9 Summary ---\n",
      "Train Loss: 0.0170, Train AUC: 0.8150\n",
      "Val Loss: 0.0122, Val AUC: 0.9477\n",
      "LR: 0.000375, Epoch Time: 1.39m\n",
      "Valid Classes: 196\n",
      "New best AUC: 0.9477 at epoch 8\n",
      "\n",
      "==================================================\n",
      "Epoch 10/15 | Fold 2\n",
      "==================================================\n"
     ]
    },
    {
     "data": {
      "application/vnd.jupyter.widget-view+json": {
       "model_id": "9a2ac3889c57422aa4de3c26618ebe7c",
       "version_major": 2,
       "version_minor": 0
      },
      "text/plain": [
       "Training:   0%|          | 0/714 [00:00<?, ?it/s]"
      ]
     },
     "metadata": {},
     "output_type": "display_data"
    },
    {
     "data": {
      "application/vnd.jupyter.widget-view+json": {
       "model_id": "b38f97b0f411483da31da1c3f491bc1e",
       "version_major": 2,
       "version_minor": 0
      },
      "text/plain": [
       "Validation:   0%|          | 0/90 [00:00<?, ?it/s]"
      ]
     },
     "metadata": {},
     "output_type": "display_data"
    },
    {
     "name": "stdout",
     "output_type": "stream",
     "text": [
      "\n",
      "--- Epoch 10 Summary ---\n",
      "Train Loss: 0.0166, Train AUC: 0.8147\n",
      "Val Loss: 0.0122, Val AUC: 0.9491\n",
      "LR: 0.000328, Epoch Time: 1.39m\n",
      "Valid Classes: 196\n",
      "New best AUC: 0.9491 at epoch 9\n",
      "\n",
      "==================================================\n",
      "Epoch 11/15 | Fold 2\n",
      "==================================================\n"
     ]
    },
    {
     "data": {
      "application/vnd.jupyter.widget-view+json": {
       "model_id": "d613c1b92d314261b5058870ecb45fe9",
       "version_major": 2,
       "version_minor": 0
      },
      "text/plain": [
       "Training:   0%|          | 0/714 [00:00<?, ?it/s]"
      ]
     },
     "metadata": {},
     "output_type": "display_data"
    },
    {
     "data": {
      "application/vnd.jupyter.widget-view+json": {
       "model_id": "707349b7f0124435ac6829420615a88e",
       "version_major": 2,
       "version_minor": 0
      },
      "text/plain": [
       "Validation:   0%|          | 0/90 [00:00<?, ?it/s]"
      ]
     },
     "metadata": {},
     "output_type": "display_data"
    },
    {
     "name": "stdout",
     "output_type": "stream",
     "text": [
      "\n",
      "--- Epoch 11 Summary ---\n",
      "Train Loss: 0.0163, Train AUC: 0.8157\n",
      "Val Loss: 0.0119, Val AUC: 0.9501\n",
      "LR: 0.000277, Epoch Time: 1.39m\n",
      "Valid Classes: 196\n",
      "New best AUC: 0.9501 at epoch 10\n",
      "\n",
      "==================================================\n",
      "Epoch 12/15 | Fold 2\n",
      "==================================================\n"
     ]
    },
    {
     "data": {
      "application/vnd.jupyter.widget-view+json": {
       "model_id": "6576d32486f6441d8243eee4ecd22b64",
       "version_major": 2,
       "version_minor": 0
      },
      "text/plain": [
       "Training:   0%|          | 0/714 [00:00<?, ?it/s]"
      ]
     },
     "metadata": {},
     "output_type": "display_data"
    },
    {
     "data": {
      "application/vnd.jupyter.widget-view+json": {
       "model_id": "7c0308f12e234a52bd383643de5ce7e5",
       "version_major": 2,
       "version_minor": 0
      },
      "text/plain": [
       "Validation:   0%|          | 0/90 [00:00<?, ?it/s]"
      ]
     },
     "metadata": {},
     "output_type": "display_data"
    },
    {
     "name": "stdout",
     "output_type": "stream",
     "text": [
      "\n",
      "--- Epoch 12 Summary ---\n",
      "Train Loss: 0.0160, Train AUC: 0.8529\n",
      "Val Loss: 0.0119, Val AUC: 0.9466\n",
      "LR: 0.000224, Epoch Time: 1.39m\n",
      "Valid Classes: 196\n",
      "\n",
      "==================================================\n",
      "Epoch 13/15 | Fold 2\n",
      "==================================================\n"
     ]
    },
    {
     "data": {
      "application/vnd.jupyter.widget-view+json": {
       "model_id": "45a33b9015404edd9c5a86a8d00246b6",
       "version_major": 2,
       "version_minor": 0
      },
      "text/plain": [
       "Training:   0%|          | 0/714 [00:00<?, ?it/s]"
      ]
     },
     "metadata": {},
     "output_type": "display_data"
    },
    {
     "data": {
      "application/vnd.jupyter.widget-view+json": {
       "model_id": "11221229382242b0ab81f59b858aa171",
       "version_major": 2,
       "version_minor": 0
      },
      "text/plain": [
       "Validation:   0%|          | 0/90 [00:00<?, ?it/s]"
      ]
     },
     "metadata": {},
     "output_type": "display_data"
    },
    {
     "name": "stdout",
     "output_type": "stream",
     "text": [
      "\n",
      "--- Epoch 13 Summary ---\n",
      "Train Loss: 0.0156, Train AUC: 0.8556\n",
      "Val Loss: 0.0119, Val AUC: 0.9480\n",
      "LR: 0.000173, Epoch Time: 1.39m\n",
      "Valid Classes: 196\n",
      "\n",
      "==================================================\n",
      "Epoch 14/15 | Fold 2\n",
      "==================================================\n"
     ]
    },
    {
     "data": {
      "application/vnd.jupyter.widget-view+json": {
       "model_id": "aa22abbc470246959b5bdf9a2fdff494",
       "version_major": 2,
       "version_minor": 0
      },
      "text/plain": [
       "Training:   0%|          | 0/714 [00:00<?, ?it/s]"
      ]
     },
     "metadata": {},
     "output_type": "display_data"
    },
    {
     "data": {
      "application/vnd.jupyter.widget-view+json": {
       "model_id": "ed3a183c30a740598a0eb74f0b382990",
       "version_major": 2,
       "version_minor": 0
      },
      "text/plain": [
       "Validation:   0%|          | 0/90 [00:00<?, ?it/s]"
      ]
     },
     "metadata": {},
     "output_type": "display_data"
    },
    {
     "name": "stdout",
     "output_type": "stream",
     "text": [
      "\n",
      "--- Epoch 14 Summary ---\n",
      "Train Loss: 0.0155, Train AUC: 0.8314\n",
      "Val Loss: 0.0119, Val AUC: 0.9476\n",
      "LR: 0.000126, Epoch Time: 1.39m\n",
      "Valid Classes: 196\n",
      "Early stopping at epoch 13\n",
      "\n",
      "*** FOLD 2 COMPLETE ***\n",
      "Best AUC: 0.9501 at epoch 10\n",
      "Fold training time: 21.6 minutes\n",
      "\n",
      "****************************** Starting Fold 3 ******************************\n",
      "\n",
      "****************************** Starting Fold 3 ******************************\n",
      "Training set: 22866 samples\n",
      "Validation set: 5713 samples\n",
      "\n",
      "-------------------- Training Model --------------------\n",
      "Training set: 22866 samples\n",
      "Validation set: 5713 samples\n",
      "\n",
      "-------------------- Training Model --------------------\n",
      "Model compiled successfully with backend 'inductor', mode 'default'\n",
      "\n",
      "==================================================\n",
      "Epoch 1/15 | Fold 3\n",
      "==================================================\n",
      "Model compiled successfully with backend 'inductor', mode 'default'\n",
      "\n",
      "==================================================\n",
      "Epoch 1/15 | Fold 3\n",
      "==================================================\n"
     ]
    },
    {
     "data": {
      "application/vnd.jupyter.widget-view+json": {
       "model_id": "88ec64ea28d146c995d714ecaaf43258",
       "version_major": 2,
       "version_minor": 0
      },
      "text/plain": [
       "Training:   0%|          | 0/714 [00:00<?, ?it/s]"
      ]
     },
     "metadata": {},
     "output_type": "display_data"
    },
    {
     "data": {
      "application/vnd.jupyter.widget-view+json": {
       "model_id": "f3ecd77e2e4c49bb91fdbc722fe8b735",
       "version_major": 2,
       "version_minor": 0
      },
      "text/plain": [
       "Validation:   0%|          | 0/90 [00:00<?, ?it/s]"
      ]
     },
     "metadata": {},
     "output_type": "display_data"
    },
    {
     "name": "stdout",
     "output_type": "stream",
     "text": [
      "\n",
      "--- Epoch 1 Summary ---\n",
      "Train Loss: 0.0327, Train AUC: 0.5300\n",
      "Val Loss: 0.0230, Val AUC: 0.7296\n",
      "LR: 0.000500, Epoch Time: 1.59m\n",
      "Valid Classes: 196\n",
      "New best AUC: 0.7296 at epoch 0\n",
      "\n",
      "==================================================\n",
      "Epoch 2/15 | Fold 3\n",
      "==================================================\n"
     ]
    },
    {
     "data": {
      "application/vnd.jupyter.widget-view+json": {
       "model_id": "1e002575f30647e68d61a4315e150226",
       "version_major": 2,
       "version_minor": 0
      },
      "text/plain": [
       "Training:   0%|          | 0/714 [00:00<?, ?it/s]"
      ]
     },
     "metadata": {},
     "output_type": "display_data"
    },
    {
     "data": {
      "application/vnd.jupyter.widget-view+json": {
       "model_id": "2e4598a0ae7b4d829b86caf43da049a0",
       "version_major": 2,
       "version_minor": 0
      },
      "text/plain": [
       "Validation:   0%|          | 0/90 [00:00<?, ?it/s]"
      ]
     },
     "metadata": {},
     "output_type": "display_data"
    },
    {
     "name": "stdout",
     "output_type": "stream",
     "text": [
      "\n",
      "--- Epoch 2 Summary ---\n",
      "Train Loss: 0.0230, Train AUC: 0.6601\n",
      "Val Loss: 0.0179, Val AUC: 0.8620\n",
      "LR: 0.000500, Epoch Time: 1.39m\n",
      "Valid Classes: 196\n",
      "New best AUC: 0.8620 at epoch 1\n",
      "\n",
      "==================================================\n",
      "Epoch 3/15 | Fold 3\n",
      "==================================================\n"
     ]
    },
    {
     "data": {
      "application/vnd.jupyter.widget-view+json": {
       "model_id": "e14f648169d741be9f6b8088ece3f7f0",
       "version_major": 2,
       "version_minor": 0
      },
      "text/plain": [
       "Training:   0%|          | 0/714 [00:00<?, ?it/s]"
      ]
     },
     "metadata": {},
     "output_type": "display_data"
    },
    {
     "data": {
      "application/vnd.jupyter.widget-view+json": {
       "model_id": "6f4063d8ddb24f73a20baead71b23a4d",
       "version_major": 2,
       "version_minor": 0
      },
      "text/plain": [
       "Validation:   0%|          | 0/90 [00:00<?, ?it/s]"
      ]
     },
     "metadata": {},
     "output_type": "display_data"
    },
    {
     "name": "stdout",
     "output_type": "stream",
     "text": [
      "\n",
      "--- Epoch 3 Summary ---\n",
      "Train Loss: 0.0208, Train AUC: 0.7170\n",
      "Val Loss: 0.0156, Val AUC: 0.9046\n",
      "LR: 0.000500, Epoch Time: 1.39m\n",
      "Valid Classes: 196\n",
      "New best AUC: 0.9046 at epoch 2\n",
      "\n",
      "==================================================\n",
      "Epoch 4/15 | Fold 3\n",
      "==================================================\n"
     ]
    },
    {
     "data": {
      "application/vnd.jupyter.widget-view+json": {
       "model_id": "e5bb904719414d92b0453a0d8921cb1b",
       "version_major": 2,
       "version_minor": 0
      },
      "text/plain": [
       "Training:   0%|          | 0/714 [00:00<?, ?it/s]"
      ]
     },
     "metadata": {},
     "output_type": "display_data"
    },
    {
     "data": {
      "application/vnd.jupyter.widget-view+json": {
       "model_id": "826f6ee9483b462f9b226f1395d4372f",
       "version_major": 2,
       "version_minor": 0
      },
      "text/plain": [
       "Validation:   0%|          | 0/90 [00:00<?, ?it/s]"
      ]
     },
     "metadata": {},
     "output_type": "display_data"
    },
    {
     "name": "stdout",
     "output_type": "stream",
     "text": [
      "\n",
      "--- Epoch 4 Summary ---\n",
      "Train Loss: 0.0194, Train AUC: 0.7530\n",
      "Val Loss: 0.0142, Val AUC: 0.9266\n",
      "LR: 0.000500, Epoch Time: 1.39m\n",
      "Valid Classes: 196\n",
      "New best AUC: 0.9266 at epoch 3\n",
      "\n",
      "==================================================\n",
      "Epoch 5/15 | Fold 3\n",
      "==================================================\n"
     ]
    },
    {
     "data": {
      "application/vnd.jupyter.widget-view+json": {
       "model_id": "b3820ff234f94b17ad23ee5395f06ad9",
       "version_major": 2,
       "version_minor": 0
      },
      "text/plain": [
       "Training:   0%|          | 0/714 [00:00<?, ?it/s]"
      ]
     },
     "metadata": {},
     "output_type": "display_data"
    },
    {
     "data": {
      "application/vnd.jupyter.widget-view+json": {
       "model_id": "704a869b584c45fc9bba9b4fba31565c",
       "version_major": 2,
       "version_minor": 0
      },
      "text/plain": [
       "Validation:   0%|          | 0/90 [00:00<?, ?it/s]"
      ]
     },
     "metadata": {},
     "output_type": "display_data"
    },
    {
     "name": "stdout",
     "output_type": "stream",
     "text": [
      "\n",
      "--- Epoch 5 Summary ---\n",
      "Train Loss: 0.0184, Train AUC: 0.7749\n",
      "Val Loss: 0.0135, Val AUC: 0.9350\n",
      "LR: 0.000495, Epoch Time: 1.39m\n",
      "Valid Classes: 196\n",
      "New best AUC: 0.9350 at epoch 4\n",
      "\n",
      "==================================================\n",
      "Epoch 6/15 | Fold 3\n",
      "==================================================\n"
     ]
    },
    {
     "data": {
      "application/vnd.jupyter.widget-view+json": {
       "model_id": "7e12210b6b524fa99daab8c1b8605327",
       "version_major": 2,
       "version_minor": 0
      },
      "text/plain": [
       "Training:   0%|          | 0/714 [00:00<?, ?it/s]"
      ]
     },
     "metadata": {},
     "output_type": "display_data"
    },
    {
     "data": {
      "application/vnd.jupyter.widget-view+json": {
       "model_id": "16523a5f752b4fe48eae956c071efa65",
       "version_major": 2,
       "version_minor": 0
      },
      "text/plain": [
       "Validation:   0%|          | 0/90 [00:00<?, ?it/s]"
      ]
     },
     "metadata": {},
     "output_type": "display_data"
    },
    {
     "name": "stdout",
     "output_type": "stream",
     "text": [
      "\n",
      "--- Epoch 6 Summary ---\n",
      "Train Loss: 0.0179, Train AUC: 0.7940\n",
      "Val Loss: 0.0128, Val AUC: 0.9373\n",
      "LR: 0.000478, Epoch Time: 1.40m\n",
      "Valid Classes: 196\n",
      "New best AUC: 0.9373 at epoch 5\n",
      "\n",
      "==================================================\n",
      "Epoch 7/15 | Fold 3\n",
      "==================================================\n"
     ]
    },
    {
     "data": {
      "application/vnd.jupyter.widget-view+json": {
       "model_id": "03afba06aeaf4bba987a87708d741421",
       "version_major": 2,
       "version_minor": 0
      },
      "text/plain": [
       "Training:   0%|          | 0/714 [00:00<?, ?it/s]"
      ]
     },
     "metadata": {},
     "output_type": "display_data"
    },
    {
     "data": {
      "application/vnd.jupyter.widget-view+json": {
       "model_id": "f84d45f6214340828858a352fdafeb3b",
       "version_major": 2,
       "version_minor": 0
      },
      "text/plain": [
       "Validation:   0%|          | 0/90 [00:00<?, ?it/s]"
      ]
     },
     "metadata": {},
     "output_type": "display_data"
    },
    {
     "name": "stdout",
     "output_type": "stream",
     "text": [
      "\n",
      "--- Epoch 7 Summary ---\n",
      "Train Loss: 0.0176, Train AUC: 0.8042\n",
      "Val Loss: 0.0127, Val AUC: 0.9422\n",
      "LR: 0.000452, Epoch Time: 1.39m\n",
      "Valid Classes: 196\n",
      "New best AUC: 0.9422 at epoch 6\n",
      "\n",
      "==================================================\n",
      "Epoch 8/15 | Fold 3\n",
      "==================================================\n"
     ]
    },
    {
     "data": {
      "application/vnd.jupyter.widget-view+json": {
       "model_id": "99949d9dcb544c09886242610c42b708",
       "version_major": 2,
       "version_minor": 0
      },
      "text/plain": [
       "Training:   0%|          | 0/714 [00:00<?, ?it/s]"
      ]
     },
     "metadata": {},
     "output_type": "display_data"
    },
    {
     "data": {
      "application/vnd.jupyter.widget-view+json": {
       "model_id": "5877091ea88c47a38d41a3a145f85e45",
       "version_major": 2,
       "version_minor": 0
      },
      "text/plain": [
       "Validation:   0%|          | 0/90 [00:00<?, ?it/s]"
      ]
     },
     "metadata": {},
     "output_type": "display_data"
    },
    {
     "name": "stdout",
     "output_type": "stream",
     "text": [
      "\n",
      "--- Epoch 8 Summary ---\n",
      "Train Loss: 0.0171, Train AUC: 0.8077\n",
      "Val Loss: 0.0121, Val AUC: 0.9496\n",
      "LR: 0.000417, Epoch Time: 1.43m\n",
      "Valid Classes: 196\n",
      "New best AUC: 0.9496 at epoch 7\n",
      "\n",
      "==================================================\n",
      "Epoch 9/15 | Fold 3\n",
      "==================================================\n"
     ]
    },
    {
     "data": {
      "application/vnd.jupyter.widget-view+json": {
       "model_id": "f6ae16a0472441708ac90149ea865d07",
       "version_major": 2,
       "version_minor": 0
      },
      "text/plain": [
       "Training:   0%|          | 0/714 [00:00<?, ?it/s]"
      ]
     },
     "metadata": {},
     "output_type": "display_data"
    },
    {
     "data": {
      "application/vnd.jupyter.widget-view+json": {
       "model_id": "b1245818f25b4382b26319ea54f4bc59",
       "version_major": 2,
       "version_minor": 0
      },
      "text/plain": [
       "Validation:   0%|          | 0/90 [00:00<?, ?it/s]"
      ]
     },
     "metadata": {},
     "output_type": "display_data"
    },
    {
     "name": "stdout",
     "output_type": "stream",
     "text": [
      "\n",
      "--- Epoch 9 Summary ---\n",
      "Train Loss: 0.0165, Train AUC: 0.8111\n",
      "Val Loss: 0.0120, Val AUC: 0.9487\n",
      "LR: 0.000375, Epoch Time: 1.45m\n",
      "Valid Classes: 196\n",
      "\n",
      "==================================================\n",
      "Epoch 10/15 | Fold 3\n",
      "==================================================\n"
     ]
    },
    {
     "data": {
      "application/vnd.jupyter.widget-view+json": {
       "model_id": "34c8795b4d504e73ba6872c46a1f27cd",
       "version_major": 2,
       "version_minor": 0
      },
      "text/plain": [
       "Training:   0%|          | 0/714 [00:00<?, ?it/s]"
      ]
     },
     "metadata": {},
     "output_type": "display_data"
    },
    {
     "data": {
      "application/vnd.jupyter.widget-view+json": {
       "model_id": "0255041e34aa4c35aad8bdbb91acc4ec",
       "version_major": 2,
       "version_minor": 0
      },
      "text/plain": [
       "Validation:   0%|          | 0/90 [00:00<?, ?it/s]"
      ]
     },
     "metadata": {},
     "output_type": "display_data"
    },
    {
     "name": "stdout",
     "output_type": "stream",
     "text": [
      "\n",
      "--- Epoch 10 Summary ---\n",
      "Train Loss: 0.0162, Train AUC: 0.8150\n",
      "Val Loss: 0.0118, Val AUC: 0.9518\n",
      "LR: 0.000328, Epoch Time: 1.46m\n",
      "Valid Classes: 196\n",
      "New best AUC: 0.9518 at epoch 9\n",
      "\n",
      "==================================================\n",
      "Epoch 11/15 | Fold 3\n",
      "==================================================\n"
     ]
    },
    {
     "data": {
      "application/vnd.jupyter.widget-view+json": {
       "model_id": "6e2fdb07377342539e721359623b0eac",
       "version_major": 2,
       "version_minor": 0
      },
      "text/plain": [
       "Training:   0%|          | 0/714 [00:00<?, ?it/s]"
      ]
     },
     "metadata": {},
     "output_type": "display_data"
    },
    {
     "data": {
      "application/vnd.jupyter.widget-view+json": {
       "model_id": "5b22c6b758e04a6f8bd13f2f5aa7ad2f",
       "version_major": 2,
       "version_minor": 0
      },
      "text/plain": [
       "Validation:   0%|          | 0/90 [00:00<?, ?it/s]"
      ]
     },
     "metadata": {},
     "output_type": "display_data"
    },
    {
     "name": "stdout",
     "output_type": "stream",
     "text": [
      "\n",
      "--- Epoch 11 Summary ---\n",
      "Train Loss: 0.0161, Train AUC: 0.8297\n",
      "Val Loss: 0.0115, Val AUC: 0.9534\n",
      "LR: 0.000277, Epoch Time: 1.48m\n",
      "Valid Classes: 196\n",
      "New best AUC: 0.9534 at epoch 10\n",
      "\n",
      "==================================================\n",
      "Epoch 12/15 | Fold 3\n",
      "==================================================\n"
     ]
    },
    {
     "data": {
      "application/vnd.jupyter.widget-view+json": {
       "model_id": "da412f257eef4cda965fe780ced65362",
       "version_major": 2,
       "version_minor": 0
      },
      "text/plain": [
       "Training:   0%|          | 0/714 [00:00<?, ?it/s]"
      ]
     },
     "metadata": {},
     "output_type": "display_data"
    },
    {
     "data": {
      "application/vnd.jupyter.widget-view+json": {
       "model_id": "702016ce6ac84ac0bd2a7f44da36ffa2",
       "version_major": 2,
       "version_minor": 0
      },
      "text/plain": [
       "Validation:   0%|          | 0/90 [00:00<?, ?it/s]"
      ]
     },
     "metadata": {},
     "output_type": "display_data"
    },
    {
     "name": "stdout",
     "output_type": "stream",
     "text": [
      "\n",
      "--- Epoch 12 Summary ---\n",
      "Train Loss: 0.0156, Train AUC: 0.8307\n",
      "Val Loss: 0.0118, Val AUC: 0.9518\n",
      "LR: 0.000224, Epoch Time: 1.48m\n",
      "Valid Classes: 196\n",
      "\n",
      "==================================================\n",
      "Epoch 13/15 | Fold 3\n",
      "==================================================\n"
     ]
    },
    {
     "data": {
      "application/vnd.jupyter.widget-view+json": {
       "model_id": "726c9af35f39448aac2b3fc6bcadd202",
       "version_major": 2,
       "version_minor": 0
      },
      "text/plain": [
       "Training:   0%|          | 0/714 [00:00<?, ?it/s]"
      ]
     },
     "metadata": {},
     "output_type": "display_data"
    },
    {
     "data": {
      "application/vnd.jupyter.widget-view+json": {
       "model_id": "cfa4375d96e6487fb9ed0d0bc1724d99",
       "version_major": 2,
       "version_minor": 0
      },
      "text/plain": [
       "Validation:   0%|          | 0/90 [00:00<?, ?it/s]"
      ]
     },
     "metadata": {},
     "output_type": "display_data"
    },
    {
     "name": "stdout",
     "output_type": "stream",
     "text": [
      "\n",
      "--- Epoch 13 Summary ---\n",
      "Train Loss: 0.0156, Train AUC: 0.8297\n",
      "Val Loss: 0.0115, Val AUC: 0.9527\n",
      "LR: 0.000173, Epoch Time: 1.48m\n",
      "Valid Classes: 196\n",
      "\n",
      "==================================================\n",
      "Epoch 14/15 | Fold 3\n",
      "==================================================\n"
     ]
    },
    {
     "data": {
      "application/vnd.jupyter.widget-view+json": {
       "model_id": "4fa9f34ec05340018c41410c478e47eb",
       "version_major": 2,
       "version_minor": 0
      },
      "text/plain": [
       "Training:   0%|          | 0/714 [00:00<?, ?it/s]"
      ]
     },
     "metadata": {},
     "output_type": "display_data"
    },
    {
     "data": {
      "application/vnd.jupyter.widget-view+json": {
       "model_id": "94c6a2ff39f94b40bd60aadb23869c2e",
       "version_major": 2,
       "version_minor": 0
      },
      "text/plain": [
       "Validation:   0%|          | 0/90 [00:00<?, ?it/s]"
      ]
     },
     "metadata": {},
     "output_type": "display_data"
    },
    {
     "name": "stdout",
     "output_type": "stream",
     "text": [
      "\n",
      "--- Epoch 14 Summary ---\n",
      "Train Loss: 0.0152, Train AUC: 0.8375\n",
      "Val Loss: 0.0114, Val AUC: 0.9554\n",
      "LR: 0.000126, Epoch Time: 1.46m\n",
      "Valid Classes: 196\n",
      "New best AUC: 0.9554 at epoch 13\n",
      "\n",
      "==================================================\n",
      "Epoch 15/15 | Fold 3\n",
      "==================================================\n"
     ]
    },
    {
     "data": {
      "application/vnd.jupyter.widget-view+json": {
       "model_id": "bdbe0bbf61e1449bb2e90a07642871cb",
       "version_major": 2,
       "version_minor": 0
      },
      "text/plain": [
       "Training:   0%|          | 0/714 [00:00<?, ?it/s]"
      ]
     },
     "metadata": {},
     "output_type": "display_data"
    },
    {
     "data": {
      "application/vnd.jupyter.widget-view+json": {
       "model_id": "a2c377708a33432fa24c583efffbbb17",
       "version_major": 2,
       "version_minor": 0
      },
      "text/plain": [
       "Validation:   0%|          | 0/90 [00:00<?, ?it/s]"
      ]
     },
     "metadata": {},
     "output_type": "display_data"
    },
    {
     "name": "stdout",
     "output_type": "stream",
     "text": [
      "\n",
      "--- Epoch 15 Summary ---\n",
      "Train Loss: 0.0151, Train AUC: 0.8485\n",
      "Val Loss: 0.0115, Val AUC: 0.9542\n",
      "LR: 0.000084, Epoch Time: 1.49m\n",
      "Valid Classes: 196\n",
      "\n",
      "*** FOLD 3 COMPLETE ***\n",
      "Best AUC: 0.9554 at epoch 13\n",
      "Fold training time: 23.9 minutes\n",
      "\n",
      "****************************** Starting Fold 4 ******************************\n",
      "\n",
      "****************************** Starting Fold 4 ******************************\n",
      "Training set: 22873 samples\n",
      "Validation set: 5706 samples\n",
      "\n",
      "-------------------- Training Model --------------------\n",
      "Training set: 22873 samples\n",
      "Validation set: 5706 samples\n",
      "\n",
      "-------------------- Training Model --------------------\n",
      "Model compiled successfully with backend 'inductor', mode 'default'\n",
      "\n",
      "==================================================\n",
      "Epoch 1/15 | Fold 4\n",
      "==================================================\n",
      "Model compiled successfully with backend 'inductor', mode 'default'\n",
      "\n",
      "==================================================\n",
      "Epoch 1/15 | Fold 4\n",
      "==================================================\n"
     ]
    },
    {
     "data": {
      "application/vnd.jupyter.widget-view+json": {
       "model_id": "5920513681204a668b2ab4e115109965",
       "version_major": 2,
       "version_minor": 0
      },
      "text/plain": [
       "Training:   0%|          | 0/714 [00:00<?, ?it/s]"
      ]
     },
     "metadata": {},
     "output_type": "display_data"
    },
    {
     "data": {
      "application/vnd.jupyter.widget-view+json": {
       "model_id": "2808f1d6896f4737b1893a6705aadf32",
       "version_major": 2,
       "version_minor": 0
      },
      "text/plain": [
       "Validation:   0%|          | 0/90 [00:00<?, ?it/s]"
      ]
     },
     "metadata": {},
     "output_type": "display_data"
    },
    {
     "name": "stdout",
     "output_type": "stream",
     "text": [
      "\n",
      "--- Epoch 1 Summary ---\n",
      "Train Loss: 0.0331, Train AUC: 0.4943\n",
      "Val Loss: 0.0239, Val AUC: 0.7176\n",
      "LR: 0.000500, Epoch Time: 1.69m\n",
      "Valid Classes: 196\n",
      "New best AUC: 0.7176 at epoch 0\n",
      "\n",
      "==================================================\n",
      "Epoch 2/15 | Fold 4\n",
      "==================================================\n"
     ]
    },
    {
     "data": {
      "application/vnd.jupyter.widget-view+json": {
       "model_id": "d03349b5868948928e98303479bf8b2f",
       "version_major": 2,
       "version_minor": 0
      },
      "text/plain": [
       "Training:   0%|          | 0/714 [00:00<?, ?it/s]"
      ]
     },
     "metadata": {},
     "output_type": "display_data"
    },
    {
     "data": {
      "application/vnd.jupyter.widget-view+json": {
       "model_id": "399e7e29f99449489532971ebe31b000",
       "version_major": 2,
       "version_minor": 0
      },
      "text/plain": [
       "Validation:   0%|          | 0/90 [00:00<?, ?it/s]"
      ]
     },
     "metadata": {},
     "output_type": "display_data"
    },
    {
     "name": "stdout",
     "output_type": "stream",
     "text": [
      "\n",
      "--- Epoch 2 Summary ---\n",
      "Train Loss: 0.0234, Train AUC: 0.6433\n",
      "Val Loss: 0.0189, Val AUC: 0.8437\n",
      "LR: 0.000500, Epoch Time: 1.43m\n",
      "Valid Classes: 196\n",
      "New best AUC: 0.8437 at epoch 1\n",
      "\n",
      "==================================================\n",
      "Epoch 3/15 | Fold 4\n",
      "==================================================\n"
     ]
    },
    {
     "data": {
      "application/vnd.jupyter.widget-view+json": {
       "model_id": "7069aeb9ba064cb0b75c7a407312b509",
       "version_major": 2,
       "version_minor": 0
      },
      "text/plain": [
       "Training:   0%|          | 0/714 [00:00<?, ?it/s]"
      ]
     },
     "metadata": {},
     "output_type": "display_data"
    },
    {
     "data": {
      "application/vnd.jupyter.widget-view+json": {
       "model_id": "a0d46c89644b4d89ae41a1a5dbf04500",
       "version_major": 2,
       "version_minor": 0
      },
      "text/plain": [
       "Validation:   0%|          | 0/90 [00:00<?, ?it/s]"
      ]
     },
     "metadata": {},
     "output_type": "display_data"
    },
    {
     "name": "stdout",
     "output_type": "stream",
     "text": [
      "\n",
      "--- Epoch 3 Summary ---\n",
      "Train Loss: 0.0211, Train AUC: 0.7205\n",
      "Val Loss: 0.0163, Val AUC: 0.8934\n",
      "LR: 0.000500, Epoch Time: 1.47m\n",
      "Valid Classes: 196\n",
      "New best AUC: 0.8934 at epoch 2\n",
      "\n",
      "==================================================\n",
      "Epoch 4/15 | Fold 4\n",
      "==================================================\n"
     ]
    },
    {
     "data": {
      "application/vnd.jupyter.widget-view+json": {
       "model_id": "7ddba04e90264f1e89495388030806c4",
       "version_major": 2,
       "version_minor": 0
      },
      "text/plain": [
       "Training:   0%|          | 0/714 [00:00<?, ?it/s]"
      ]
     },
     "metadata": {},
     "output_type": "display_data"
    },
    {
     "data": {
      "application/vnd.jupyter.widget-view+json": {
       "model_id": "f3977209448f4187927619408c52c070",
       "version_major": 2,
       "version_minor": 0
      },
      "text/plain": [
       "Validation:   0%|          | 0/90 [00:00<?, ?it/s]"
      ]
     },
     "metadata": {},
     "output_type": "display_data"
    },
    {
     "name": "stdout",
     "output_type": "stream",
     "text": [
      "\n",
      "--- Epoch 4 Summary ---\n",
      "Train Loss: 0.0200, Train AUC: 0.7369\n",
      "Val Loss: 0.0151, Val AUC: 0.9144\n",
      "LR: 0.000500, Epoch Time: 1.44m\n",
      "Valid Classes: 196\n",
      "New best AUC: 0.9144 at epoch 3\n",
      "\n",
      "==================================================\n",
      "Epoch 5/15 | Fold 4\n",
      "==================================================\n"
     ]
    },
    {
     "data": {
      "application/vnd.jupyter.widget-view+json": {
       "model_id": "eabaa49b2a11476ca40a95e8cb835914",
       "version_major": 2,
       "version_minor": 0
      },
      "text/plain": [
       "Training:   0%|          | 0/714 [00:00<?, ?it/s]"
      ]
     },
     "metadata": {},
     "output_type": "display_data"
    },
    {
     "data": {
      "application/vnd.jupyter.widget-view+json": {
       "model_id": "e051edcccccf446593716ac0f9617f45",
       "version_major": 2,
       "version_minor": 0
      },
      "text/plain": [
       "Validation:   0%|          | 0/90 [00:00<?, ?it/s]"
      ]
     },
     "metadata": {},
     "output_type": "display_data"
    },
    {
     "name": "stdout",
     "output_type": "stream",
     "text": [
      "\n",
      "--- Epoch 5 Summary ---\n",
      "Train Loss: 0.0190, Train AUC: 0.7522\n",
      "Val Loss: 0.0138, Val AUC: 0.9282\n",
      "LR: 0.000495, Epoch Time: 1.41m\n",
      "Valid Classes: 196\n",
      "New best AUC: 0.9282 at epoch 4\n",
      "\n",
      "==================================================\n",
      "Epoch 6/15 | Fold 4\n",
      "==================================================\n"
     ]
    },
    {
     "data": {
      "application/vnd.jupyter.widget-view+json": {
       "model_id": "602955f2c7ab4887a33cfed30435f35e",
       "version_major": 2,
       "version_minor": 0
      },
      "text/plain": [
       "Training:   0%|          | 0/714 [00:00<?, ?it/s]"
      ]
     },
     "metadata": {},
     "output_type": "display_data"
    },
    {
     "data": {
      "application/vnd.jupyter.widget-view+json": {
       "model_id": "f65aaa79a37f479b9f3b8b74bf15a5ad",
       "version_major": 2,
       "version_minor": 0
      },
      "text/plain": [
       "Validation:   0%|          | 0/90 [00:00<?, ?it/s]"
      ]
     },
     "metadata": {},
     "output_type": "display_data"
    },
    {
     "name": "stdout",
     "output_type": "stream",
     "text": [
      "\n",
      "--- Epoch 6 Summary ---\n",
      "Train Loss: 0.0184, Train AUC: 0.7662\n",
      "Val Loss: 0.0133, Val AUC: 0.9336\n",
      "LR: 0.000478, Epoch Time: 1.45m\n",
      "Valid Classes: 196\n",
      "New best AUC: 0.9336 at epoch 5\n",
      "\n",
      "==================================================\n",
      "Epoch 7/15 | Fold 4\n",
      "==================================================\n"
     ]
    },
    {
     "data": {
      "application/vnd.jupyter.widget-view+json": {
       "model_id": "2b428fca722b44a3b0a8c59b586064b6",
       "version_major": 2,
       "version_minor": 0
      },
      "text/plain": [
       "Training:   0%|          | 0/714 [00:00<?, ?it/s]"
      ]
     },
     "metadata": {},
     "output_type": "display_data"
    },
    {
     "data": {
      "application/vnd.jupyter.widget-view+json": {
       "model_id": "1cbdff1c867d4c2c9c9be6d79a1440c5",
       "version_major": 2,
       "version_minor": 0
      },
      "text/plain": [
       "Validation:   0%|          | 0/90 [00:00<?, ?it/s]"
      ]
     },
     "metadata": {},
     "output_type": "display_data"
    },
    {
     "name": "stdout",
     "output_type": "stream",
     "text": [
      "\n",
      "--- Epoch 7 Summary ---\n",
      "Train Loss: 0.0181, Train AUC: 0.7975\n",
      "Val Loss: 0.0128, Val AUC: 0.9365\n",
      "LR: 0.000452, Epoch Time: 1.43m\n",
      "Valid Classes: 196\n",
      "New best AUC: 0.9365 at epoch 6\n",
      "\n",
      "==================================================\n",
      "Epoch 8/15 | Fold 4\n",
      "==================================================\n"
     ]
    },
    {
     "data": {
      "application/vnd.jupyter.widget-view+json": {
       "model_id": "a24fee18651d4878b4c3ac23c61f33b0",
       "version_major": 2,
       "version_minor": 0
      },
      "text/plain": [
       "Training:   0%|          | 0/714 [00:00<?, ?it/s]"
      ]
     },
     "metadata": {},
     "output_type": "display_data"
    },
    {
     "data": {
      "application/vnd.jupyter.widget-view+json": {
       "model_id": "2a28ddb4bc3d43b5bbaa14257ebc0f62",
       "version_major": 2,
       "version_minor": 0
      },
      "text/plain": [
       "Validation:   0%|          | 0/90 [00:00<?, ?it/s]"
      ]
     },
     "metadata": {},
     "output_type": "display_data"
    },
    {
     "name": "stdout",
     "output_type": "stream",
     "text": [
      "\n",
      "--- Epoch 8 Summary ---\n",
      "Train Loss: 0.0175, Train AUC: 0.8045\n",
      "Val Loss: 0.0125, Val AUC: 0.9433\n",
      "LR: 0.000417, Epoch Time: 1.41m\n",
      "Valid Classes: 196\n",
      "New best AUC: 0.9433 at epoch 7\n",
      "\n",
      "==================================================\n",
      "Epoch 9/15 | Fold 4\n",
      "==================================================\n"
     ]
    },
    {
     "data": {
      "application/vnd.jupyter.widget-view+json": {
       "model_id": "cb4b692ce6e147b99c219da7f751c855",
       "version_major": 2,
       "version_minor": 0
      },
      "text/plain": [
       "Training:   0%|          | 0/714 [00:00<?, ?it/s]"
      ]
     },
     "metadata": {},
     "output_type": "display_data"
    },
    {
     "data": {
      "application/vnd.jupyter.widget-view+json": {
       "model_id": "0c8639ae3aa64f2cac5b869d6e82c06b",
       "version_major": 2,
       "version_minor": 0
      },
      "text/plain": [
       "Validation:   0%|          | 0/90 [00:00<?, ?it/s]"
      ]
     },
     "metadata": {},
     "output_type": "display_data"
    },
    {
     "name": "stdout",
     "output_type": "stream",
     "text": [
      "\n",
      "--- Epoch 9 Summary ---\n",
      "Train Loss: 0.0171, Train AUC: 0.8088\n",
      "Val Loss: 0.0123, Val AUC: 0.9446\n",
      "LR: 0.000375, Epoch Time: 1.41m\n",
      "Valid Classes: 196\n",
      "New best AUC: 0.9446 at epoch 8\n",
      "\n",
      "==================================================\n",
      "Epoch 10/15 | Fold 4\n",
      "==================================================\n"
     ]
    },
    {
     "data": {
      "application/vnd.jupyter.widget-view+json": {
       "model_id": "9cbe95a6921c4d88a0d51137c493f05b",
       "version_major": 2,
       "version_minor": 0
      },
      "text/plain": [
       "Training:   0%|          | 0/714 [00:00<?, ?it/s]"
      ]
     },
     "metadata": {},
     "output_type": "display_data"
    },
    {
     "data": {
      "application/vnd.jupyter.widget-view+json": {
       "model_id": "b29727bba0a24898be02f83ee3ead21c",
       "version_major": 2,
       "version_minor": 0
      },
      "text/plain": [
       "Validation:   0%|          | 0/90 [00:00<?, ?it/s]"
      ]
     },
     "metadata": {},
     "output_type": "display_data"
    },
    {
     "name": "stdout",
     "output_type": "stream",
     "text": [
      "\n",
      "--- Epoch 10 Summary ---\n",
      "Train Loss: 0.0168, Train AUC: 0.8201\n",
      "Val Loss: 0.0122, Val AUC: 0.9472\n",
      "LR: 0.000328, Epoch Time: 1.42m\n",
      "Valid Classes: 196\n",
      "New best AUC: 0.9472 at epoch 9\n",
      "\n",
      "==================================================\n",
      "Epoch 11/15 | Fold 4\n",
      "==================================================\n"
     ]
    },
    {
     "data": {
      "application/vnd.jupyter.widget-view+json": {
       "model_id": "82de87a050684b25ae7926635724a2df",
       "version_major": 2,
       "version_minor": 0
      },
      "text/plain": [
       "Training:   0%|          | 0/714 [00:00<?, ?it/s]"
      ]
     },
     "metadata": {},
     "output_type": "display_data"
    },
    {
     "data": {
      "application/vnd.jupyter.widget-view+json": {
       "model_id": "387eb308827a498bb9f2504661619358",
       "version_major": 2,
       "version_minor": 0
      },
      "text/plain": [
       "Validation:   0%|          | 0/90 [00:00<?, ?it/s]"
      ]
     },
     "metadata": {},
     "output_type": "display_data"
    },
    {
     "name": "stdout",
     "output_type": "stream",
     "text": [
      "\n",
      "--- Epoch 11 Summary ---\n",
      "Train Loss: 0.0164, Train AUC: 0.8219\n",
      "Val Loss: 0.0120, Val AUC: 0.9489\n",
      "LR: 0.000277, Epoch Time: 1.42m\n",
      "Valid Classes: 196\n",
      "New best AUC: 0.9489 at epoch 10\n",
      "\n",
      "==================================================\n",
      "Epoch 12/15 | Fold 4\n",
      "==================================================\n"
     ]
    },
    {
     "data": {
      "application/vnd.jupyter.widget-view+json": {
       "model_id": "49640561aa9c4365902243d1271f40ca",
       "version_major": 2,
       "version_minor": 0
      },
      "text/plain": [
       "Training:   0%|          | 0/714 [00:00<?, ?it/s]"
      ]
     },
     "metadata": {},
     "output_type": "display_data"
    },
    {
     "data": {
      "application/vnd.jupyter.widget-view+json": {
       "model_id": "cf212e7ce9ae4581930787b028e0b803",
       "version_major": 2,
       "version_minor": 0
      },
      "text/plain": [
       "Validation:   0%|          | 0/90 [00:00<?, ?it/s]"
      ]
     },
     "metadata": {},
     "output_type": "display_data"
    },
    {
     "name": "stdout",
     "output_type": "stream",
     "text": [
      "\n",
      "--- Epoch 12 Summary ---\n",
      "Train Loss: 0.0160, Train AUC: 0.8200\n",
      "Val Loss: 0.0119, Val AUC: 0.9481\n",
      "LR: 0.000224, Epoch Time: 1.41m\n",
      "Valid Classes: 196\n",
      "\n",
      "==================================================\n",
      "Epoch 13/15 | Fold 4\n",
      "==================================================\n"
     ]
    },
    {
     "data": {
      "application/vnd.jupyter.widget-view+json": {
       "model_id": "0b23c2bf712a489786cb57a6fa11c7b3",
       "version_major": 2,
       "version_minor": 0
      },
      "text/plain": [
       "Training:   0%|          | 0/714 [00:00<?, ?it/s]"
      ]
     },
     "metadata": {},
     "output_type": "display_data"
    },
    {
     "data": {
      "application/vnd.jupyter.widget-view+json": {
       "model_id": "6f687c393e69496bb25a8e13e97871d2",
       "version_major": 2,
       "version_minor": 0
      },
      "text/plain": [
       "Validation:   0%|          | 0/90 [00:00<?, ?it/s]"
      ]
     },
     "metadata": {},
     "output_type": "display_data"
    },
    {
     "name": "stdout",
     "output_type": "stream",
     "text": [
      "\n",
      "--- Epoch 13 Summary ---\n",
      "Train Loss: 0.0158, Train AUC: 0.8479\n",
      "Val Loss: 0.0118, Val AUC: 0.9513\n",
      "LR: 0.000173, Epoch Time: 1.41m\n",
      "Valid Classes: 196\n",
      "New best AUC: 0.9513 at epoch 12\n",
      "\n",
      "==================================================\n",
      "Epoch 14/15 | Fold 4\n",
      "==================================================\n"
     ]
    },
    {
     "data": {
      "application/vnd.jupyter.widget-view+json": {
       "model_id": "beba5549fd694a55827ade0e733120ba",
       "version_major": 2,
       "version_minor": 0
      },
      "text/plain": [
       "Training:   0%|          | 0/714 [00:00<?, ?it/s]"
      ]
     },
     "metadata": {},
     "output_type": "display_data"
    },
    {
     "data": {
      "application/vnd.jupyter.widget-view+json": {
       "model_id": "d8362274853543f3aa3485dc32f5ae04",
       "version_major": 2,
       "version_minor": 0
      },
      "text/plain": [
       "Validation:   0%|          | 0/90 [00:00<?, ?it/s]"
      ]
     },
     "metadata": {},
     "output_type": "display_data"
    },
    {
     "name": "stdout",
     "output_type": "stream",
     "text": [
      "\n",
      "--- Epoch 14 Summary ---\n",
      "Train Loss: 0.0158, Train AUC: 0.8319\n",
      "Val Loss: 0.0117, Val AUC: 0.9505\n",
      "LR: 0.000126, Epoch Time: 1.42m\n",
      "Valid Classes: 196\n",
      "\n",
      "==================================================\n",
      "Epoch 15/15 | Fold 4\n",
      "==================================================\n"
     ]
    },
    {
     "data": {
      "application/vnd.jupyter.widget-view+json": {
       "model_id": "8b512fdb9bf444d98747c561fd65f6e0",
       "version_major": 2,
       "version_minor": 0
      },
      "text/plain": [
       "Training:   0%|          | 0/714 [00:00<?, ?it/s]"
      ]
     },
     "metadata": {},
     "output_type": "display_data"
    },
    {
     "data": {
      "application/vnd.jupyter.widget-view+json": {
       "model_id": "aa91816a1e174cce923d45d64d3caf0c",
       "version_major": 2,
       "version_minor": 0
      },
      "text/plain": [
       "Validation:   0%|          | 0/90 [00:00<?, ?it/s]"
      ]
     },
     "metadata": {},
     "output_type": "display_data"
    },
    {
     "name": "stdout",
     "output_type": "stream",
     "text": [
      "\n",
      "--- Epoch 15 Summary ---\n",
      "Train Loss: 0.0157, Train AUC: 0.8339\n",
      "Val Loss: 0.0116, Val AUC: 0.9497\n",
      "LR: 0.000084, Epoch Time: 1.46m\n",
      "Valid Classes: 196\n",
      "\n",
      "*** FOLD 4 COMPLETE ***\n",
      "Best AUC: 0.9513 at epoch 12\n",
      "Fold training time: 23.8 minutes\n",
      "\n",
      "============================================================\n",
      "CROSS-VALIDATION RESULTS:\n",
      "============================================================\n",
      "Fold 0: 0.9505 (Best epoch: 13)\n",
      "Fold 1: 0.9518 (Best epoch: 8)\n",
      "Fold 2: 0.9501 (Best epoch: 10)\n",
      "Fold 3: 0.9554 (Best epoch: 13)\n",
      "Fold 4: 0.9513 (Best epoch: 12)\n",
      "\n",
      "Mean AUC: 0.9518 ± 0.0019\n",
      "Min AUC: 0.9501\n",
      "Max AUC: 0.9554\n",
      "============================================================\n",
      "\n",
      "============================================================\n",
      "CROSS-VALIDATION RESULTS:\n",
      "============================================================\n",
      "Fold 0: 0.9505 (Best epoch: 13)\n",
      "Fold 1: 0.9518 (Best epoch: 8)\n",
      "Fold 2: 0.9501 (Best epoch: 10)\n",
      "Fold 3: 0.9554 (Best epoch: 13)\n",
      "Fold 4: 0.9513 (Best epoch: 12)\n",
      "\n",
      "Mean AUC: 0.9518 ± 0.0019\n",
      "Min AUC: 0.9501\n",
      "Max AUC: 0.9554\n",
      "============================================================\n",
      "Plotting ROC curves for folds: [0, 1, 2, 3, 4]\n",
      "Plotting ROC curves for folds: [0, 1, 2, 3, 4]\n",
      "Metrics saved to output/metrics//metrics_20250602_221740.csv\n",
      "\n",
      "Training complete!\n",
      "Config saved to output/configs/config_20250602_221740_efficientnet_b0.json\n",
      "\n",
      "Final Results Summary:\n",
      "Best scores per fold: ['0.9505', '0.9518', '0.9501', '0.9554', '0.9513']\n",
      "Cross-validation mean: 0.9518 ± 0.0019\n",
      "Metrics saved to output/metrics//metrics_20250602_221740.csv\n",
      "\n",
      "Training complete!\n",
      "Config saved to output/configs/config_20250602_221740_efficientnet_b0.json\n",
      "\n",
      "Final Results Summary:\n",
      "Best scores per fold: ['0.9505', '0.9518', '0.9501', '0.9554', '0.9513']\n",
      "Cross-validation mean: 0.9518 ± 0.0019\n"
     ]
    }
   ],
   "source": [
    "metric_logger = MetricLogger(cfg)\n",
    "all_fold_metrics = []\n",
    "best_scores = []\n",
    "train_df = pd.read_csv(cfg.train_csv)\n",
    "\n",
    "soundscape_df = None\n",
    "if cfg.use_external_pseudolabels:\n",
    "    print(f\"Will use external pseudolabels from: {cfg.external_pseudolabels}\")\n",
    "    soundscape_df = pd.read_csv(cfg.external_pseudolabels)\n",
    "\n",
    "df, spectrograms = load_data(pd.read_csv(cfg.train_csv), cfg, soundscape_df=soundscape_df)\n",
    "\n",
    "# Create folds\n",
    "if cfg.n_fold > 1:\n",
    "    folds = get_improved_folds(df, cfg)\n",
    "    #skf = StratifiedKFold(n_splits=cfg.n_fold, shuffle=True, random_state=cfg.seed)\n",
    "    #folds = skf.split(df, df['primary_label'])\n",
    "else:\n",
    "    folds = [(np.arange(len(df)), np.arange(len(df)))]\n",
    "\n",
    "for fold, (train_idx, val_idx) in enumerate(folds):\n",
    "    print(f\"\\n{'*' * 30} Starting Fold {fold} {'*' * 30}\")\n",
    "    df_fold = deepcopy(df)\n",
    "    spectrograms_fold = deepcopy(spectrograms)\n",
    "    set_seed(cfg.seed + fold)\n",
    "    train_df = df.iloc[train_idx].reset_index(drop=True)\n",
    "    val_df = df.iloc[val_idx].reset_index(drop=True)\n",
    "\n",
    "    if __name__ == \"__main__\":\n",
    "        # Run training and get best scores\n",
    "        fold_metrics, best_auc = train_fold(cfg, train_df, val_df, fold, metric_logger, spectrograms=spectrograms_fold)\n",
    "        best_scores.append(best_auc)\n",
    "        all_fold_metrics.append(fold_metrics)\n",
    "\n",
    "print(\"\\n\" + \"=\"*60 + \"\\n\" + \"CROSS-VALIDATION RESULTS:\" + \"\\n\" + \"=\"*60)\n",
    "for fold, score in enumerate(best_scores):\n",
    "    print(f\"Fold {fold}: {score:.4f} (Best epoch: {all_fold_metrics[fold]['best_epoch']})\")\n",
    "\n",
    "print(f\"\\nMean AUC: {np.mean(best_scores):.4f} ± {np.std(best_scores):.4f}\")\n",
    "print(f\"Min AUC: {np.min(best_scores):.4f}\")\n",
    "print(f\"Max AUC: {np.max(best_scores):.4f}\")\n",
    "print(\"=\"*60)\n",
    "\n",
    "# Generate and save plots\n",
    "if not cfg.debug:\n",
    "    metric_logger.plot_metrics()\n",
    "    print(\"\\nTraining complete!\")\n",
    "    cfg.save_config()\n",
    "    \n",
    "    # Additional analysis\n",
    "    print(f\"\\nFinal Results Summary:\")\n",
    "    print(f\"Best scores per fold: {[f'{score:.4f}' for score in best_scores]}\")\n",
    "    print(f\"Cross-validation mean: {np.mean(best_scores):.4f} ± {np.std(best_scores):.4f}\")"
   ]
  },
  {
   "cell_type": "markdown",
   "id": "4dc3f607",
   "metadata": {},
   "source": [
    "## Cross-Validation Analysis\n",
    "\n",
    "Before training, let's analyze class distribution across folds to understand potential causes of variance."
   ]
  },
  {
   "cell_type": "code",
   "execution_count": 16,
   "id": "730f24cc",
   "metadata": {},
   "outputs": [
    {
     "name": "stdout",
     "output_type": "stream",
     "text": [
      "Class distribution: 30 extremely rare, 25 rare, 151 common\n",
      "\n",
      "Extremely rare class distribution across validation folds:\n",
      "  Class '1139490' (total: 3): [1, 1, 1, 0, 0]\n",
      "  Class '1192948' (total: 4): [1, 1, 0, 1, 1]\n",
      "  Class '1194042' (total: 3): [0, 0, 1, 1, 1]\n",
      "  Class '1346504' (total: 5): [1, 1, 1, 1, 1]\n",
      "  Class '134933' (total: 4): [1, 1, 1, 1, 0]\n",
      "  Class '1462711' (total: 3): [1, 1, 0, 0, 1]\n",
      "  Class '21038' (total: 2): [0, 0, 1, 1, 0]\n",
      "  Class '21116' (total: 2): [1, 0, 0, 0, 1]\n",
      "  Class '24292' (total: 3): [0, 1, 1, 1, 0]\n",
      "  Class '41778' (total: 2): [1, 0, 0, 0, 1]\n",
      "  Class '42087' (total: 2): [0, 1, 1, 0, 0]\n",
      "  Class '42113' (total: 3): [1, 0, 0, 1, 1]\n",
      "  Class '46010' (total: 5): [1, 1, 1, 1, 1]\n",
      "  Class '47067' (total: 2): [0, 1, 1, 0, 0]\n",
      "  Class '476537' (total: 2): [0, 0, 0, 1, 1]\n",
      "  Class '476538' (total: 5): [1, 1, 1, 1, 1]\n",
      "  Class '523060' (total: 4): [1, 1, 1, 1, 0]\n",
      "  Class '528041' (total: 2): [1, 0, 0, 0, 1]\n",
      "  Class '548639' (total: 5): [1, 1, 1, 1, 1]\n",
      "  Class '64862' (total: 2): [0, 1, 1, 0, 0]\n",
      "  Class '65419' (total: 3): [1, 0, 0, 1, 1]\n",
      "  Class '66016' (total: 5): [1, 1, 1, 1, 1]\n",
      "  Class '66531' (total: 2): [0, 1, 1, 0, 0]\n",
      "  Class '66578' (total: 3): [1, 0, 0, 1, 1]\n",
      "  Class '66893' (total: 5): [1, 1, 1, 1, 1]\n",
      "  Class '67082' (total: 2): [0, 1, 1, 0, 0]\n",
      "  Class '714022' (total: 5): [1, 1, 1, 1, 1]\n",
      "  Class '81930' (total: 2): [0, 0, 0, 1, 1]\n",
      "  Class '868458' (total: 5): [1, 1, 1, 1, 1]\n",
      "  Class '963335' (total: 5): [1, 1, 1, 1, 1]\n"
     ]
    },
    {
     "data": {
      "image/png": "[encoded data removed]",
      "text/plain": [
       "<Figure size 1500x1000 with 2 Axes>"
      ]
     },
     "metadata": {},
     "output_type": "display_data"
    },
    {
     "data": {
      "image/png": "[encoded data removed]",
      "text/plain": [
       "<Figure size 1500x600 with 1 Axes>"
      ]
     },
     "metadata": {},
     "output_type": "display_data"
    },
    {
     "name": "stdout",
     "output_type": "stream",
     "text": [
      "Top 10 most variable classes across folds:\n"
     ]
    },
    {
     "data": {
      "text/html": [
       "<div>\n",
       "<style scoped>\n",
       "    .dataframe tbody tr th:only-of-type {\n",
       "        vertical-align: middle;\n",
       "    }\n",
       "\n",
       "    .dataframe tbody tr th {\n",
       "        vertical-align: top;\n",
       "    }\n",
       "\n",
       "    .dataframe thead th {\n",
       "        text-align: right;\n",
       "    }\n",
       "</style>\n",
       "<table border=\"1\" class=\"dataframe\">\n",
       "  <thead>\n",
       "    <tr style=\"text-align: right;\">\n",
       "      <th></th>\n",
       "      <th>Mean</th>\n",
       "      <th>Std</th>\n",
       "      <th>CV</th>\n",
       "    </tr>\n",
       "    <tr>\n",
       "      <th>primary_label</th>\n",
       "      <th></th>\n",
       "      <th></th>\n",
       "      <th></th>\n",
       "    </tr>\n",
       "  </thead>\n",
       "  <tbody>\n",
       "    <tr>\n",
       "      <th>81930</th>\n",
       "      <td>0.4</td>\n",
       "      <td>0.489898</td>\n",
       "      <td>122.474487</td>\n",
       "    </tr>\n",
       "    <tr>\n",
       "      <th>476537</th>\n",
       "      <td>0.4</td>\n",
       "      <td>0.489898</td>\n",
       "      <td>122.474487</td>\n",
       "    </tr>\n",
       "    <tr>\n",
       "      <th>528041</th>\n",
       "      <td>0.4</td>\n",
       "      <td>0.489898</td>\n",
       "      <td>122.474487</td>\n",
       "    </tr>\n",
       "    <tr>\n",
       "      <th>67082</th>\n",
       "      <td>0.4</td>\n",
       "      <td>0.489898</td>\n",
       "      <td>122.474487</td>\n",
       "    </tr>\n",
       "    <tr>\n",
       "      <th>66531</th>\n",
       "      <td>0.4</td>\n",
       "      <td>0.489898</td>\n",
       "      <td>122.474487</td>\n",
       "    </tr>\n",
       "    <tr>\n",
       "      <th>64862</th>\n",
       "      <td>0.4</td>\n",
       "      <td>0.489898</td>\n",
       "      <td>122.474487</td>\n",
       "    </tr>\n",
       "    <tr>\n",
       "      <th>47067</th>\n",
       "      <td>0.4</td>\n",
       "      <td>0.489898</td>\n",
       "      <td>122.474487</td>\n",
       "    </tr>\n",
       "    <tr>\n",
       "      <th>21038</th>\n",
       "      <td>0.4</td>\n",
       "      <td>0.489898</td>\n",
       "      <td>122.474487</td>\n",
       "    </tr>\n",
       "    <tr>\n",
       "      <th>21116</th>\n",
       "      <td>0.4</td>\n",
       "      <td>0.489898</td>\n",
       "      <td>122.474487</td>\n",
       "    </tr>\n",
       "    <tr>\n",
       "      <th>42087</th>\n",
       "      <td>0.4</td>\n",
       "      <td>0.489898</td>\n",
       "      <td>122.474487</td>\n",
       "    </tr>\n",
       "  </tbody>\n",
       "</table>\n",
       "</div>"
      ],
      "text/plain": [
       "               Mean       Std          CV\n",
       "primary_label                            \n",
       "81930           0.4  0.489898  122.474487\n",
       "476537          0.4  0.489898  122.474487\n",
       "528041          0.4  0.489898  122.474487\n",
       "67082           0.4  0.489898  122.474487\n",
       "66531           0.4  0.489898  122.474487\n",
       "64862           0.4  0.489898  122.474487\n",
       "47067           0.4  0.489898  122.474487\n",
       "21038           0.4  0.489898  122.474487\n",
       "21116           0.4  0.489898  122.474487\n",
       "42087           0.4  0.489898  122.474487"
      ]
     },
     "metadata": {},
     "output_type": "display_data"
    }
   ],
   "source": [
    "def analyze_fold_distributions(df, cfg):\n",
    "    \"\"\"Analyze and visualize class distributions across folds\"\"\"\n",
    "    import matplotlib.pyplot as plt\n",
    "    import seaborn as sns\n",
    "    \n",
    "    # Create folds\n",
    "    fold_indices = get_improved_folds(df, cfg)\n",
    "    #skf = StratifiedKFold(n_splits=cfg.n_fold, shuffle=True, random_state=cfg.seed)\n",
    "    #fold_indices = list(skf.split(df, df['primary_label']))\n",
    "    \n",
    "    # Count samples per class per fold\n",
    "    all_labels = df['primary_label'].unique()\n",
    "    fold_class_counts = {}\n",
    "    \n",
    "    for fold_idx, (train_idx, val_idx) in enumerate(fold_indices):\n",
    "        val_df = df.iloc[val_idx]\n",
    "        class_counts = val_df['primary_label'].value_counts()\n",
    "        fold_class_counts[f'Fold {fold_idx}'] = class_counts\n",
    "    \n",
    "    # Convert to DataFrame for easier plotting\n",
    "    fold_df = pd.DataFrame(fold_class_counts)\n",
    "    fold_df = fold_df.fillna(0)  # Replace NaN with 0\n",
    "\n",
    "    \n",
    "    # Calculate coefficient of variation (CV) for each class across folds\n",
    "    fold_df['Mean'] = fold_df.mean(axis=1)\n",
    "    fold_df['Std'] = fold_df.std(axis=1)\n",
    "    fold_df['CV'] = (fold_df['Std'] / fold_df['Mean']) * 100  # CV as percentage\n",
    "    \n",
    "    # Sort by CV to identify classes with highest variance\n",
    "    fold_df = fold_df.sort_values('CV', ascending=False)\n",
    "    \n",
    "    # Visualize distribution for top 20 most variable classes\n",
    "    plt.figure(figsize=(15, 10))\n",
    "    sns.heatmap(fold_df.drop(['Mean', 'Std', 'CV'], axis=1).head(20), \n",
    "                annot=True, cmap='YlGnBu', fmt='.0f')\n",
    "    plt.title('Top 20 Classes with Highest Variance Across Folds')\n",
    "    plt.tight_layout()\n",
    "    plt.show()\n",
    "    \n",
    "    # Plot coefficient of variation distribution\n",
    "    plt.figure(figsize=(15, 6))\n",
    "    sns.histplot(fold_df['CV'].dropna(), bins=50)\n",
    "    plt.title('Distribution of Coefficient of Variation Across Classes')\n",
    "    plt.xlabel('Coefficient of Variation (%)')\n",
    "    plt.axvline(fold_df['CV'].median(), color='red', linestyle='--', \n",
    "                label=f'Median CV: {fold_df[\"CV\"].median():.2f}%')\n",
    "    plt.legend()\n",
    "    plt.tight_layout()\n",
    "    plt.show()\n",
    "    \n",
    "    # Return problematic classes\n",
    "    return fold_df\n",
    "\n",
    "# Run the analysis before training\n",
    "train_df = pd.read_csv(cfg.train_csv)\n",
    "fold_analysis = analyze_fold_distributions(train_df, cfg)\n",
    "print(f\"Top 10 most variable classes across folds:\")\n",
    "display(fold_analysis[['Mean', 'Std', 'CV']].head(10))"
   ]
  }
 ],
 "metadata": {
  "kaggle": {
   "accelerator": "nvidiaTeslaT4",
   "dataSources": [
    {
     "databundleVersionId": 11361821,
     "sourceId": 91844,
     "sourceType": "competition"
    },
    {
     "datasetId": 6886569,
     "sourceId": 11053663,
     "sourceType": "datasetVersion"
    }
   ],
   "dockerImageVersionId": 30919,
   "isGpuEnabled": true,
   "isInternetEnabled": true,
   "language": "python",
   "sourceType": "notebook"
  },
  "kernelspec": {
   "display_name": "Python 3",
   "language": "python",
   "name": "python3"
  },
  "language_info": {
   "codemirror_mode": {
    "name": "ipython",
    "version": 3
   },
   "file_extension": ".py",
   "mimetype": "text/x-python",
   "name": "python",
   "nbconvert_exporter": "python",
   "pygments_lexer": "ipython3",
   "version": "3.11.9"
  },
  "papermill": {
   "default_parameters": {},
   "duration": 105.861675,
   "end_time": "2025-03-17T14:02:15.686871",
   "environment_variables": {},
   "exception": null,
   "input_path": "__notebook__.ipynb",
   "output_path": "__notebook__.ipynb",
   "parameters": {},
   "start_time": "2025-03-17T14:00:29.825196",
   "version": "2.6.0"
  },
  "widgets": {
   "application/vnd.jupyter.widget-state+json": {
    "state": {
     "0fa836ee22b04b368008c3690b558e46": {
      "model_module": "@jupyter-widgets/controls",
      "model_module_version": "2.0.0",
      "model_name": "ProgressStyleModel",
      "state": {
       "_model_module": "@jupyter-widgets/controls",
       "_model_module_version": "2.0.0",
       "_model_name": "ProgressStyleModel",
       "_view_count": null,
       "_view_module": "@jupyter-widgets/base",
       "_view_module_version": "2.0.0",
       "_view_name": "StyleView",
       "bar_color": null,
       "description_width": ""
      }
     },
     "114dd08c70bd4b1c9eca37e27bf08897": {
      "model_module": "@jupyter-widgets/base",
      "model_module_version": "2.0.0",
      "model_name": "LayoutModel",
      "state": {
       "_model_module": "@jupyter-widgets/base",
       "_model_module_version": "2.0.0",
       "_model_name": "LayoutModel",
       "_view_count": null,
       "_view_module": "@jupyter-widgets/base",
       "_view_module_version": "2.0.0",
       "_view_name": "LayoutView",
       "align_content": null,
       "align_items": null,
       "align_self": null,
       "border_bottom": null,
       "border_left": null,
       "border_right": null,
       "border_top": null,
       "bottom": null,
       "display": null,
       "flex": null,
       "flex_flow": null,
       "grid_area": null,
       "grid_auto_columns": null,
       "grid_auto_flow": null,
       "grid_auto_rows": null,
       "grid_column": null,
       "grid_gap": null,
       "grid_row": null,
       "grid_template_areas": null,
       "grid_template_columns": null,
       "grid_template_rows": null,
       "height": null,
       "justify_content": null,
       "justify_items": null,
       "left": null,
       "margin": null,
       "max_height": null,
       "max_width": null,
       "min_height": null,
       "min_width": null,
       "object_fit": null,
       "object_position": null,
       "order": null,
       "overflow": null,
       "padding": null,
       "right": null,
       "top": null,
       "visibility": null,
       "width": null
      }
     },
     "1300468cac164026a61e5e60b05b005d": {
      "model_module": "@jupyter-widgets/base",
      "model_module_version": "2.0.0",
      "model_name": "LayoutModel",
      "state": {
       "_model_module": "@jupyter-widgets/base",
       "_model_module_version": "2.0.0",
       "_model_name": "LayoutModel",
       "_view_count": null,
       "_view_module": "@jupyter-widgets/base",
       "_view_module_version": "2.0.0",
       "_view_name": "LayoutView",
       "align_content": null,
       "align_items": null,
       "align_self": null,
       "border_bottom": null,
       "border_left": null,
       "border_right": null,
       "border_top": null,
       "bottom": null,
       "display": null,
       "flex": null,
       "flex_flow": null,
       "grid_area": null,
       "grid_auto_columns": null,
       "grid_auto_flow": null,
       "grid_auto_rows": null,
       "grid_column": null,
       "grid_gap": null,
       "grid_row": null,
       "grid_template_areas": null,
       "grid_template_columns": null,
       "grid_template_rows": null,
       "height": null,
       "justify_content": null,
       "justify_items": null,
       "left": null,
       "margin": null,
       "max_height": null,
       "max_width": null,
       "min_height": null,
       "min_width": null,
       "object_fit": null,
       "object_position": null,
       "order": null,
       "overflow": null,
       "padding": null,
       "right": null,
       "top": null,
       "visibility": null,
       "width": null
      }
     },
     "158d32467f5247c983eb8907b6f5436f": {
      "model_module": "@jupyter-widgets/controls",
      "model_module_version": "2.0.0",
      "model_name": "HBoxModel",
      "state": {
       "_dom_classes": [],
       "_model_module": "@jupyter-widgets/controls",
       "_model_module_version": "2.0.0",
       "_model_name": "HBoxModel",
       "_view_count": null,
       "_view_module": "@jupyter-widgets/controls",
       "_view_module_version": "2.0.0",
       "_view_name": "HBoxView",
       "box_style": "",
       "children": [
        "IPY_MODEL_ad27b2a5cded4c23a3f72be3cee7c158",
        "IPY_MODEL_2d82fd9a33be40a19b68a6b37ee2375c",
        "IPY_MODEL_8720627fe38240cb88edd61a2fa45481"
       ],
       "layout": "IPY_MODEL_8eca206926bb44e9b42a5170bf4b1492",
       "tabbable": null,
       "tooltip": null
      }
     },
     "1ad6a9d60ae24934ae355801b4992850": {
      "model_module": "@jupyter-widgets/controls",
      "model_module_version": "2.0.0",
      "model_name": "HBoxModel",
      "state": {
       "_dom_classes": [],
       "_model_module": "@jupyter-widgets/controls",
       "_model_module_version": "2.0.0",
       "_model_name": "HBoxModel",
       "_view_count": null,
       "_view_module": "@jupyter-widgets/controls",
       "_view_module_version": "2.0.0",
       "_view_name": "HBoxView",
       "box_style": "",
       "children": [
        "IPY_MODEL_1be8903e7c5d424abe30c82905dfa291",
        "IPY_MODEL_beceebaa8bef4939a3027e1756c820ca",
        "IPY_MODEL_65c613e48ff14d02b91adbeae536f703"
       ],
       "layout": "IPY_MODEL_7d38c7c32ff24563ae51248957aac76a",
       "tabbable": null,
       "tooltip": null
      }
     },
     "1be8903e7c5d424abe30c82905dfa291": {
      "model_module": "@jupyter-widgets/controls",
      "model_module_version": "2.0.0",
      "model_name": "HTMLModel",
      "state": {
       "_dom_classes": [],
       "_model_module": "@jupyter-widgets/controls",
       "_model_module_version": "2.0.0",
       "_model_name": "HTMLModel",
       "_view_count": null,
       "_view_module": "@jupyter-widgets/controls",
       "_view_module_version": "2.0.0",
       "_view_name": "HTMLView",
       "description": "",
       "description_allow_html": false,
       "layout": "IPY_MODEL_fbd77392c5e94748a19ab6adc204c0f0",
       "placeholder": "​",
       "style": "IPY_MODEL_5c8f99997b3d447cb7664e6c8213d5af",
       "tabbable": null,
       "tooltip": null,
       "value": "Validation: 100%"
      }
     },
     "1e6784d317664982818c369ec64d4375": {
      "model_module": "@jupyter-widgets/base",
      "model_module_version": "2.0.0",
      "model_name": "LayoutModel",
      "state": {
       "_model_module": "@jupyter-widgets/base",
       "_model_module_version": "2.0.0",
       "_model_name": "LayoutModel",
       "_view_count": null,
       "_view_module": "@jupyter-widgets/base",
       "_view_module_version": "2.0.0",
       "_view_name": "LayoutView",
       "align_content": null,
       "align_items": null,
       "align_self": null,
       "border_bottom": null,
       "border_left": null,
       "border_right": null,
       "border_top": null,
       "bottom": null,
       "display": null,
       "flex": null,
       "flex_flow": null,
       "grid_area": null,
       "grid_auto_columns": null,
       "grid_auto_flow": null,
       "grid_auto_rows": null,
       "grid_column": null,
       "grid_gap": null,
       "grid_row": null,
       "grid_template_areas": null,
       "grid_template_columns": null,
       "grid_template_rows": null,
       "height": null,
       "justify_content": null,
       "justify_items": null,
       "left": null,
       "margin": null,
       "max_height": null,
       "max_width": null,
       "min_height": null,
       "min_width": null,
       "object_fit": null,
       "object_position": null,
       "order": null,
       "overflow": null,
       "padding": null,
       "right": null,
       "top": null,
       "visibility": null,
       "width": null
      }
     },
     "23b325002c114fb6801da1f6f7e2a2eb": {
      "model_module": "@jupyter-widgets/base",
      "model_module_version": "2.0.0",
      "model_name": "LayoutModel",
      "state": {
       "_model_module": "@jupyter-widgets/base",
       "_model_module_version": "2.0.0",
       "_model_name": "LayoutModel",
       "_view_count": null,
       "_view_module": "@jupyter-widgets/base",
       "_view_module_version": "2.0.0",
       "_view_name": "LayoutView",
       "align_content": null,
       "align_items": null,
       "align_self": null,
       "border_bottom": null,
       "border_left": null,
       "border_right": null,
       "border_top": null,
       "bottom": null,
       "display": null,
       "flex": null,
       "flex_flow": null,
       "grid_area": null,
       "grid_auto_columns": null,
       "grid_auto_flow": null,
       "grid_auto_rows": null,
       "grid_column": null,
       "grid_gap": null,
       "grid_row": null,
       "grid_template_areas": null,
       "grid_template_columns": null,
       "grid_template_rows": null,
       "height": null,
       "justify_content": null,
       "justify_items": null,
       "left": null,
       "margin": null,
       "max_height": null,
       "max_width": null,
       "min_height": null,
       "min_width": null,
       "object_fit": null,
       "object_position": null,
       "order": null,
       "overflow": null,
       "padding": null,
       "right": null,
       "top": null,
       "visibility": null,
       "width": null
      }
     },
     "23b951c7b2c847bbaf9c066b7f932c12": {
      "model_module": "@jupyter-widgets/controls",
      "model_module_version": "2.0.0",
      "model_name": "HTMLModel",
      "state": {
       "_dom_classes": [],
       "_model_module": "@jupyter-widgets/controls",
       "_model_module_version": "2.0.0",
       "_model_name": "HTMLModel",
       "_view_count": null,
       "_view_module": "@jupyter-widgets/controls",
       "_view_module_version": "2.0.0",
       "_view_name": "HTMLView",
       "description": "",
       "description_allow_html": false,
       "layout": "IPY_MODEL_f808eb60489b4ef2bc76b055d5c477ff",
       "placeholder": "​",
       "style": "IPY_MODEL_ed26d5cb2ff3426a9449e0166b68afbf",
       "tabbable": null,
       "tooltip": null,
       "value": " 31/31 [00:05&lt;00:00,  5.70it/s, train_loss=0.0308, lr=0.000488]"
      }
     },
     "2b7b0d3f79504d87a8dbfb2f7893399a": {
      "model_module": "@jupyter-widgets/controls",
      "model_module_version": "2.0.0",
      "model_name": "FloatProgressModel",
      "state": {
       "_dom_classes": [],
       "_model_module": "@jupyter-widgets/controls",
       "_model_module_version": "2.0.0",
       "_model_name": "FloatProgressModel",
       "_view_count": null,
       "_view_module": "@jupyter-widgets/controls",
       "_view_module_version": "2.0.0",
       "_view_name": "ProgressView",
       "bar_style": "success",
       "description": "",
       "description_allow_html": false,
       "layout": "IPY_MODEL_527982470da345c590c47f26ce1f9ccf",
       "max": 31,
       "min": 0,
       "orientation": "horizontal",
       "style": "IPY_MODEL_ddf272308e664d24820c9ca6e917e456",
       "tabbable": null,
       "tooltip": null,
       "value": 31
      }
     },
     "2d82fd9a33be40a19b68a6b37ee2375c": {
      "model_module": "@jupyter-widgets/controls",
      "model_module_version": "2.0.0",
      "model_name": "FloatProgressModel",
      "state": {
       "_dom_classes": [],
       "_model_module": "@jupyter-widgets/controls",
       "_model_module_version": "2.0.0",
       "_model_name": "FloatProgressModel",
       "_view_count": null,
       "_view_module": "@jupyter-widgets/controls",
       "_view_module_version": "2.0.0",
       "_view_name": "ProgressView",
       "bar_style": "success",
       "description": "",
       "description_allow_html": false,
       "layout": "IPY_MODEL_f4cc700caf0949c5bf39d8f7539ba2d2",
       "max": 21355344,
       "min": 0,
       "orientation": "horizontal",
       "style": "IPY_MODEL_925afd9abcc74142bd88971863bb345b",
       "tabbable": null,
       "tooltip": null,
       "value": 21355344
      }
     },
     "35b20f9b2e8746c68e234fcb6d29f047": {
      "model_module": "@jupyter-widgets/controls",
      "model_module_version": "2.0.0",
      "model_name": "FloatProgressModel",
      "state": {
       "_dom_classes": [],
       "_model_module": "@jupyter-widgets/controls",
       "_model_module_version": "2.0.0",
       "_model_name": "FloatProgressModel",
       "_view_count": null,
       "_view_module": "@jupyter-widgets/controls",
       "_view_module_version": "2.0.0",
       "_view_name": "ProgressView",
       "bar_style": "success",
       "description": "",
       "description_allow_html": false,
       "layout": "IPY_MODEL_23b325002c114fb6801da1f6f7e2a2eb",
       "max": 31,
       "min": 0,
       "orientation": "horizontal",
       "style": "IPY_MODEL_926aa065fa4f40b4b623fd079ba7cd0f",
       "tabbable": null,
       "tooltip": null,
       "value": 31
      }
     },
     "527982470da345c590c47f26ce1f9ccf": {
      "model_module": "@jupyter-widgets/base",
      "model_module_version": "2.0.0",
      "model_name": "LayoutModel",
      "state": {
       "_model_module": "@jupyter-widgets/base",
       "_model_module_version": "2.0.0",
       "_model_name": "LayoutModel",
       "_view_count": null,
       "_view_module": "@jupyter-widgets/base",
       "_view_module_version": "2.0.0",
       "_view_name": "LayoutView",
       "align_content": null,
       "align_items": null,
       "align_self": null,
       "border_bottom": null,
       "border_left": null,
       "border_right": null,
       "border_top": null,
       "bottom": null,
       "display": null,
       "flex": null,
       "flex_flow": null,
       "grid_area": null,
       "grid_auto_columns": null,
       "grid_auto_flow": null,
       "grid_auto_rows": null,
       "grid_column": null,
       "grid_gap": null,
       "grid_row": null,
       "grid_template_areas": null,
       "grid_template_columns": null,
       "grid_template_rows": null,
       "height": null,
       "justify_content": null,
       "justify_items": null,
       "left": null,
       "margin": null,
       "max_height": null,
       "max_width": null,
       "min_height": null,
       "min_width": null,
       "object_fit": null,
       "object_position": null,
       "order": null,
       "overflow": null,
       "padding": null,
       "right": null,
       "top": null,
       "visibility": null,
       "width": null
      }
     },
     "546a352a5f6d48bd9769e2dff67a1419": {
      "model_module": "@jupyter-widgets/controls",
      "model_module_version": "2.0.0",
      "model_name": "HTMLStyleModel",
      "state": {
       "_model_module": "@jupyter-widgets/controls",
       "_model_module_version": "2.0.0",
       "_model_name": "HTMLStyleModel",
       "_view_count": null,
       "_view_module": "@jupyter-widgets/base",
       "_view_module_version": "2.0.0",
       "_view_name": "StyleView",
       "background": null,
       "description_width": "",
       "font_size": null,
       "text_color": null
      }
     },
     "577df72f0ce349d8988b16f4429c3116": {
      "model_module": "@jupyter-widgets/controls",
      "model_module_version": "2.0.0",
      "model_name": "HTMLModel",
      "state": {
       "_dom_classes": [],
       "_model_module": "@jupyter-widgets/controls",
       "_model_module_version": "2.0.0",
       "_model_name": "HTMLModel",
       "_view_count": null,
       "_view_module": "@jupyter-widgets/controls",
       "_view_module_version": "2.0.0",
       "_view_name": "HTMLView",
       "description": "",
       "description_allow_html": false,
       "layout": "IPY_MODEL_6314d51e57944ca399dd8819d2c5c214",
       "placeholder": "​",
       "style": "IPY_MODEL_c4ccd0e9a85348d4a50bda1dc66d9658",
       "tabbable": null,
       "tooltip": null,
       "value": "Training: 100%"
      }
     },
     "5c8f99997b3d447cb7664e6c8213d5af": {
      "model_module": "@jupyter-widgets/controls",
      "model_module_version": "2.0.0",
      "model_name": "HTMLStyleModel",
      "state": {
       "_model_module": "@jupyter-widgets/controls",
       "_model_module_version": "2.0.0",
       "_model_name": "HTMLStyleModel",
       "_view_count": null,
       "_view_module": "@jupyter-widgets/base",
       "_view_module_version": "2.0.0",
       "_view_name": "StyleView",
       "background": null,
       "description_width": "",
       "font_size": null,
       "text_color": null
      }
     },
     "60623af9dc82439fbac9dce1bb4a9d90": {
      "model_module": "@jupyter-widgets/controls",
      "model_module_version": "2.0.0",
      "model_name": "ProgressStyleModel",
      "state": {
       "_model_module": "@jupyter-widgets/controls",
       "_model_module_version": "2.0.0",
       "_model_name": "ProgressStyleModel",
       "_view_count": null,
       "_view_module": "@jupyter-widgets/base",
       "_view_module_version": "2.0.0",
       "_view_name": "StyleView",
       "bar_color": null,
       "description_width": ""
      }
     },
     "6314d51e57944ca399dd8819d2c5c214": {
      "model_module": "@jupyter-widgets/base",
      "model_module_version": "2.0.0",
      "model_name": "LayoutModel",
      "state": {
       "_model_module": "@jupyter-widgets/base",
       "_model_module_version": "2.0.0",
       "_model_name": "LayoutModel",
       "_view_count": null,
       "_view_module": "@jupyter-widgets/base",
       "_view_module_version": "2.0.0",
       "_view_name": "LayoutView",
       "align_content": null,
       "align_items": null,
       "align_self": null,
       "border_bottom": null,
       "border_left": null,
       "border_right": null,
       "border_top": null,
       "bottom": null,
       "display": null,
       "flex": null,
       "flex_flow": null,
       "grid_area": null,
       "grid_auto_columns": null,
       "grid_auto_flow": null,
       "grid_auto_rows": null,
       "grid_column": null,
       "grid_gap": null,
       "grid_row": null,
       "grid_template_areas": null,
       "grid_template_columns": null,
       "grid_template_rows": null,
       "height": null,
       "justify_content": null,
       "justify_items": null,
       "left": null,
       "margin": null,
       "max_height": null,
       "max_width": null,
       "min_height": null,
       "min_width": null,
       "object_fit": null,
       "object_position": null,
       "order": null,
       "overflow": null,
       "padding": null,
       "right": null,
       "top": null,
       "visibility": null,
       "width": null
      }
     },
     "65c613e48ff14d02b91adbeae536f703": {
      "model_module": "@jupyter-widgets/controls",
      "model_module_version": "2.0.0",
      "model_name": "HTMLModel",
      "state": {
       "_dom_classes": [],
       "_model_module": "@jupyter-widgets/controls",
       "_model_module_version": "2.0.0",
       "_model_name": "HTMLModel",
       "_view_count": null,
       "_view_module": "@jupyter-widgets/controls",
       "_view_module_version": "2.0.0",
       "_view_name": "HTMLView",
       "description": "",
       "description_allow_html": false,
       "layout": "IPY_MODEL_114dd08c70bd4b1c9eca37e27bf08897",
       "placeholder": "​",
       "style": "IPY_MODEL_f8e3ad286a374d558e61627ba3a67d26",
       "tabbable": null,
       "tooltip": null,
       "value": " 32/32 [00:02&lt;00:00, 22.08it/s]"
      }
     },
     "66d95ea040244824b4f188b4985e8cb2": {
      "model_module": "@jupyter-widgets/controls",
      "model_module_version": "2.0.0",
      "model_name": "HTMLStyleModel",
      "state": {
       "_model_module": "@jupyter-widgets/controls",
       "_model_module_version": "2.0.0",
       "_model_name": "HTMLStyleModel",
       "_view_count": null,
       "_view_module": "@jupyter-widgets/base",
       "_view_module_version": "2.0.0",
       "_view_name": "StyleView",
       "background": null,
       "description_width": "",
       "font_size": null,
       "text_color": null
      }
     },
     "690250bf83464a7f91cd587a5f56d48e": {
      "model_module": "@jupyter-widgets/controls",
      "model_module_version": "2.0.0",
      "model_name": "HTMLStyleModel",
      "state": {
       "_model_module": "@jupyter-widgets/controls",
       "_model_module_version": "2.0.0",
       "_model_name": "HTMLStyleModel",
       "_view_count": null,
       "_view_module": "@jupyter-widgets/base",
       "_view_module_version": "2.0.0",
       "_view_name": "StyleView",
       "background": null,
       "description_width": "",
       "font_size": null,
       "text_color": null
      }
     },
     "7036c511c9b34e76837009a371c58be9": {
      "model_module": "@jupyter-widgets/controls",
      "model_module_version": "2.0.0",
      "model_name": "HTMLModel",
      "state": {
       "_dom_classes": [],
       "_model_module": "@jupyter-widgets/controls",
       "_model_module_version": "2.0.0",
       "_model_name": "HTMLModel",
       "_view_count": null,
       "_view_module": "@jupyter-widgets/controls",
       "_view_module_version": "2.0.0",
       "_view_name": "HTMLView",
       "description": "",
       "description_allow_html": false,
       "layout": "IPY_MODEL_1300468cac164026a61e5e60b05b005d",
       "placeholder": "​",
       "style": "IPY_MODEL_690250bf83464a7f91cd587a5f56d48e",
       "tabbable": null,
       "tooltip": null,
       "value": " 32/32 [00:01&lt;00:00, 22.00it/s]"
      }
     },
     "74c1cd7782554123a2d89d46d13808b3": {
      "model_module": "@jupyter-widgets/controls",
      "model_module_version": "2.0.0",
      "model_name": "HBoxModel",
      "state": {
       "_dom_classes": [],
       "_model_module": "@jupyter-widgets/controls",
       "_model_module_version": "2.0.0",
       "_model_name": "HBoxModel",
       "_view_count": null,
       "_view_module": "@jupyter-widgets/controls",
       "_view_module_version": "2.0.0",
       "_view_name": "HBoxView",
       "box_style": "",
       "children": [
        "IPY_MODEL_d995347d83ec40e2b0c1db58a78e3dde",
        "IPY_MODEL_dcdaa701c23b4a1697b18ae319e036f6",
        "IPY_MODEL_7036c511c9b34e76837009a371c58be9"
       ],
       "layout": "IPY_MODEL_dc55c130999847b6a7460d8d68f31668",
       "tabbable": null,
       "tooltip": null
      }
     },
     "7d38c7c32ff24563ae51248957aac76a": {
      "model_module": "@jupyter-widgets/base",
      "model_module_version": "2.0.0",
      "model_name": "LayoutModel",
      "state": {
       "_model_module": "@jupyter-widgets/base",
       "_model_module_version": "2.0.0",
       "_model_name": "LayoutModel",
       "_view_count": null,
       "_view_module": "@jupyter-widgets/base",
       "_view_module_version": "2.0.0",
       "_view_name": "LayoutView",
       "align_content": null,
       "align_items": null,
       "align_self": null,
       "border_bottom": null,
       "border_left": null,
       "border_right": null,
       "border_top": null,
       "bottom": null,
       "display": null,
       "flex": null,
       "flex_flow": null,
       "grid_area": null,
       "grid_auto_columns": null,
       "grid_auto_flow": null,
       "grid_auto_rows": null,
       "grid_column": null,
       "grid_gap": null,
       "grid_row": null,
       "grid_template_areas": null,
       "grid_template_columns": null,
       "grid_template_rows": null,
       "height": null,
       "justify_content": null,
       "justify_items": null,
       "left": null,
       "margin": null,
       "max_height": null,
       "max_width": null,
       "min_height": null,
       "min_width": null,
       "object_fit": null,
       "object_position": null,
       "order": null,
       "overflow": null,
       "padding": null,
       "right": null,
       "top": null,
       "visibility": null,
       "width": null
      }
     },
     "871d479608024b77bb2db8278e3f659d": {
      "model_module": "@jupyter-widgets/base",
      "model_module_version": "2.0.0",
      "model_name": "LayoutModel",
      "state": {
       "_model_module": "@jupyter-widgets/base",
       "_model_module_version": "2.0.0",
       "_model_name": "LayoutModel",
       "_view_count": null,
       "_view_module": "@jupyter-widgets/base",
       "_view_module_version": "2.0.0",
       "_view_name": "LayoutView",
       "align_content": null,
       "align_items": null,
       "align_self": null,
       "border_bottom": null,
       "border_left": null,
       "border_right": null,
       "border_top": null,
       "bottom": null,
       "display": null,
       "flex": null,
       "flex_flow": null,
       "grid_area": null,
       "grid_auto_columns": null,
       "grid_auto_flow": null,
       "grid_auto_rows": null,
       "grid_column": null,
       "grid_gap": null,
       "grid_row": null,
       "grid_template_areas": null,
       "grid_template_columns": null,
       "grid_template_rows": null,
       "height": null,
       "justify_content": null,
       "justify_items": null,
       "left": null,
       "margin": null,
       "max_height": null,
       "max_width": null,
       "min_height": null,
       "min_width": null,
       "object_fit": null,
       "object_position": null,
       "order": null,
       "overflow": null,
       "padding": null,
       "right": null,
       "top": null,
       "visibility": null,
       "width": null
      }
     },
     "8720627fe38240cb88edd61a2fa45481": {
      "model_module": "@jupyter-widgets/controls",
      "model_module_version": "2.0.0",
      "model_name": "HTMLModel",
      "state": {
       "_dom_classes": [],
       "_model_module": "@jupyter-widgets/controls",
       "_model_module_version": "2.0.0",
       "_model_name": "HTMLModel",
       "_view_count": null,
       "_view_module": "@jupyter-widgets/controls",
       "_view_module_version": "2.0.0",
       "_view_name": "HTMLView",
       "description": "",
       "description_allow_html": false,
       "layout": "IPY_MODEL_934ed224b7fd4de3ab54a89a789f0e3a",
       "placeholder": "​",
       "style": "IPY_MODEL_a42ef4d205e74949b7fb2dee1039c2d8",
       "tabbable": null,
       "tooltip": null,
       "value": " 21.4M/21.4M [00:00&lt;00:00, 86.8MB/s]"
      }
     },
     "8e978a7645e7420fb2e452a3e2e7f69d": {
      "model_module": "@jupyter-widgets/controls",
      "model_module_version": "2.0.0",
      "model_name": "HTMLModel",
      "state": {
       "_dom_classes": [],
       "_model_module": "@jupyter-widgets/controls",
       "_model_module_version": "2.0.0",
       "_model_name": "HTMLModel",
       "_view_count": null,
       "_view_module": "@jupyter-widgets/controls",
       "_view_module_version": "2.0.0",
       "_view_name": "HTMLView",
       "description": "",
       "description_allow_html": false,
       "layout": "IPY_MODEL_ab2f0fc298124ff685860a158b2ec252",
       "placeholder": "​",
       "style": "IPY_MODEL_9366d6929e0c44408fb54456fff6c241",
       "tabbable": null,
       "tooltip": null,
       "value": " 31/31 [00:06&lt;00:00,  5.75it/s, train_loss=0.0344, lr=0.0005]"
      }
     },
     "8eca206926bb44e9b42a5170bf4b1492": {
      "model_module": "@jupyter-widgets/base",
      "model_module_version": "2.0.0",
      "model_name": "LayoutModel",
      "state": {
       "_model_module": "@jupyter-widgets/base",
       "_model_module_version": "2.0.0",
       "_model_name": "LayoutModel",
       "_view_count": null,
       "_view_module": "@jupyter-widgets/base",
       "_view_module_version": "2.0.0",
       "_view_name": "LayoutView",
       "align_content": null,
       "align_items": null,
       "align_self": null,
       "border_bottom": null,
       "border_left": null,
       "border_right": null,
       "border_top": null,
       "bottom": null,
       "display": null,
       "flex": null,
       "flex_flow": null,
       "grid_area": null,
       "grid_auto_columns": null,
       "grid_auto_flow": null,
       "grid_auto_rows": null,
       "grid_column": null,
       "grid_gap": null,
       "grid_row": null,
       "grid_template_areas": null,
       "grid_template_columns": null,
       "grid_template_rows": null,
       "height": null,
       "justify_content": null,
       "justify_items": null,
       "left": null,
       "margin": null,
       "max_height": null,
       "max_width": null,
       "min_height": null,
       "min_width": null,
       "object_fit": null,
       "object_position": null,
       "order": null,
       "overflow": null,
       "padding": null,
       "right": null,
       "top": null,
       "visibility": null,
       "width": null
      }
     },
     "9193f88c4b9842c4a73d33b86e2a79b8": {
      "model_module": "@jupyter-widgets/base",
      "model_module_version": "2.0.0",
      "model_name": "LayoutModel",
      "state": {
       "_model_module": "@jupyter-widgets/base",
       "_model_module_version": "2.0.0",
       "_model_name": "LayoutModel",
       "_view_count": null,
       "_view_module": "@jupyter-widgets/base",
       "_view_module_version": "2.0.0",
       "_view_name": "LayoutView",
       "align_content": null,
       "align_items": null,
       "align_self": null,
       "border_bottom": null,
       "border_left": null,
       "border_right": null,
       "border_top": null,
       "bottom": null,
       "display": null,
       "flex": null,
       "flex_flow": null,
       "grid_area": null,
       "grid_auto_columns": null,
       "grid_auto_flow": null,
       "grid_auto_rows": null,
       "grid_column": null,
       "grid_gap": null,
       "grid_row": null,
       "grid_template_areas": null,
       "grid_template_columns": null,
       "grid_template_rows": null,
       "height": null,
       "justify_content": null,
       "justify_items": null,
       "left": null,
       "margin": null,
       "max_height": null,
       "max_width": null,
       "min_height": null,
       "min_width": null,
       "object_fit": null,
       "object_position": null,
       "order": null,
       "overflow": null,
       "padding": null,
       "right": null,
       "top": null,
       "visibility": null,
       "width": null
      }
     },
     "925afd9abcc74142bd88971863bb345b": {
      "model_module": "@jupyter-widgets/controls",
      "model_module_version": "2.0.0",
      "model_name": "ProgressStyleModel",
      "state": {
       "_model_module": "@jupyter-widgets/controls",
       "_model_module_version": "2.0.0",
       "_model_name": "ProgressStyleModel",
       "_view_count": null,
       "_view_module": "@jupyter-widgets/base",
       "_view_module_version": "2.0.0",
       "_view_name": "StyleView",
       "bar_color": null,
       "description_width": ""
      }
     },
     "926aa065fa4f40b4b623fd079ba7cd0f": {
      "model_module": "@jupyter-widgets/controls",
      "model_module_version": "2.0.0",
      "model_name": "ProgressStyleModel",
      "state": {
       "_model_module": "@jupyter-widgets/controls",
       "_model_module_version": "2.0.0",
       "_model_name": "ProgressStyleModel",
       "_view_count": null,
       "_view_module": "@jupyter-widgets/base",
       "_view_module_version": "2.0.0",
       "_view_name": "StyleView",
       "bar_color": null,
       "description_width": ""
      }
     },
     "934ed224b7fd4de3ab54a89a789f0e3a": {
      "model_module": "@jupyter-widgets/base",
      "model_module_version": "2.0.0",
      "model_name": "LayoutModel",
      "state": {
       "_model_module": "@jupyter-widgets/base",
       "_model_module_version": "2.0.0",
       "_model_name": "LayoutModel",
       "_view_count": null,
       "_view_module": "@jupyter-widgets/base",
       "_view_module_version": "2.0.0",
       "_view_name": "LayoutView",
       "align_content": null,
       "align_items": null,
       "align_self": null,
       "border_bottom": null,
       "border_left": null,
       "border_right": null,
       "border_top": null,
       "bottom": null,
       "display": null,
       "flex": null,
       "flex_flow": null,
       "grid_area": null,
       "grid_auto_columns": null,
       "grid_auto_flow": null,
       "grid_auto_rows": null,
       "grid_column": null,
       "grid_gap": null,
       "grid_row": null,
       "grid_template_areas": null,
       "grid_template_columns": null,
       "grid_template_rows": null,
       "height": null,
       "justify_content": null,
       "justify_items": null,
       "left": null,
       "margin": null,
       "max_height": null,
       "max_width": null,
       "min_height": null,
       "min_width": null,
       "object_fit": null,
       "object_position": null,
       "order": null,
       "overflow": null,
       "padding": null,
       "right": null,
       "top": null,
       "visibility": null,
       "width": null
      }
     },
     "9366d6929e0c44408fb54456fff6c241": {
      "model_module": "@jupyter-widgets/controls",
      "model_module_version": "2.0.0",
      "model_name": "HTMLStyleModel",
      "state": {
       "_model_module": "@jupyter-widgets/controls",
       "_model_module_version": "2.0.0",
       "_model_name": "HTMLStyleModel",
       "_view_count": null,
       "_view_module": "@jupyter-widgets/base",
       "_view_module_version": "2.0.0",
       "_view_name": "StyleView",
       "background": null,
       "description_width": "",
       "font_size": null,
       "text_color": null
      }
     },
     "93a38cd64b7e457082b679b1aace02df": {
      "model_module": "@jupyter-widgets/base",
      "model_module_version": "2.0.0",
      "model_name": "LayoutModel",
      "state": {
       "_model_module": "@jupyter-widgets/base",
       "_model_module_version": "2.0.0",
       "_model_name": "LayoutModel",
       "_view_count": null,
       "_view_module": "@jupyter-widgets/base",
       "_view_module_version": "2.0.0",
       "_view_name": "LayoutView",
       "align_content": null,
       "align_items": null,
       "align_self": null,
       "border_bottom": null,
       "border_left": null,
       "border_right": null,
       "border_top": null,
       "bottom": null,
       "display": null,
       "flex": null,
       "flex_flow": null,
       "grid_area": null,
       "grid_auto_columns": null,
       "grid_auto_flow": null,
       "grid_auto_rows": null,
       "grid_column": null,
       "grid_gap": null,
       "grid_row": null,
       "grid_template_areas": null,
       "grid_template_columns": null,
       "grid_template_rows": null,
       "height": null,
       "justify_content": null,
       "justify_items": null,
       "left": null,
       "margin": null,
       "max_height": null,
       "max_width": null,
       "min_height": null,
       "min_width": null,
       "object_fit": null,
       "object_position": null,
       "order": null,
       "overflow": null,
       "padding": null,
       "right": null,
       "top": null,
       "visibility": null,
       "width": null
      }
     },
     "a17d437eca184c35ae51d6ddf160ad00": {
      "model_module": "@jupyter-widgets/controls",
      "model_module_version": "2.0.0",
      "model_name": "HTMLModel",
      "state": {
       "_dom_classes": [],
       "_model_module": "@jupyter-widgets/controls",
       "_model_module_version": "2.0.0",
       "_model_name": "HTMLModel",
       "_view_count": null,
       "_view_module": "@jupyter-widgets/controls",
       "_view_module_version": "2.0.0",
       "_view_name": "HTMLView",
       "description": "",
       "description_allow_html": false,
       "layout": "IPY_MODEL_b3d1cca7cebb47ee9a5fb1281ffa00bb",
       "placeholder": "​",
       "style": "IPY_MODEL_546a352a5f6d48bd9769e2dff67a1419",
       "tabbable": null,
       "tooltip": null,
       "value": "Training: 100%"
      }
     },
     "a337ff0d214a41d1a7314a4ca229bfd3": {
      "model_module": "@jupyter-widgets/base",
      "model_module_version": "2.0.0",
      "model_name": "LayoutModel",
      "state": {
       "_model_module": "@jupyter-widgets/base",
       "_model_module_version": "2.0.0",
       "_model_name": "LayoutModel",
       "_view_count": null,
       "_view_module": "@jupyter-widgets/base",
       "_view_module_version": "2.0.0",
       "_view_name": "LayoutView",
       "align_content": null,
       "align_items": null,
       "align_self": null,
       "border_bottom": null,
       "border_left": null,
       "border_right": null,
       "border_top": null,
       "bottom": null,
       "display": null,
       "flex": null,
       "flex_flow": null,
       "grid_area": null,
       "grid_auto_columns": null,
       "grid_auto_flow": null,
       "grid_auto_rows": null,
       "grid_column": null,
       "grid_gap": null,
       "grid_row": null,
       "grid_template_areas": null,
       "grid_template_columns": null,
       "grid_template_rows": null,
       "height": null,
       "justify_content": null,
       "justify_items": null,
       "left": null,
       "margin": null,
       "max_height": null,
       "max_width": null,
       "min_height": null,
       "min_width": null,
       "object_fit": null,
       "object_position": null,
       "order": null,
       "overflow": null,
       "padding": null,
       "right": null,
       "top": null,
       "visibility": null,
       "width": null
      }
     },
     "a42ef4d205e74949b7fb2dee1039c2d8": {
      "model_module": "@jupyter-widgets/controls",
      "model_module_version": "2.0.0",
      "model_name": "HTMLStyleModel",
      "state": {
       "_model_module": "@jupyter-widgets/controls",
       "_model_module_version": "2.0.0",
       "_model_name": "HTMLStyleModel",
       "_view_count": null,
       "_view_module": "@jupyter-widgets/base",
       "_view_module_version": "2.0.0",
       "_view_name": "StyleView",
       "background": null,
       "description_width": "",
       "font_size": null,
       "text_color": null
      }
     },
     "ab2f0fc298124ff685860a158b2ec252": {
      "model_module": "@jupyter-widgets/base",
      "model_module_version": "2.0.0",
      "model_name": "LayoutModel",
      "state": {
       "_model_module": "@jupyter-widgets/base",
       "_model_module_version": "2.0.0",
       "_model_name": "LayoutModel",
       "_view_count": null,
       "_view_module": "@jupyter-widgets/base",
       "_view_module_version": "2.0.0",
       "_view_name": "LayoutView",
       "align_content": null,
       "align_items": null,
       "align_self": null,
       "border_bottom": null,
       "border_left": null,
       "border_right": null,
       "border_top": null,
       "bottom": null,
       "display": null,
       "flex": null,
       "flex_flow": null,
       "grid_area": null,
       "grid_auto_columns": null,
       "grid_auto_flow": null,
       "grid_auto_rows": null,
       "grid_column": null,
       "grid_gap": null,
       "grid_row": null,
       "grid_template_areas": null,
       "grid_template_columns": null,
       "grid_template_rows": null,
       "height": null,
       "justify_content": null,
       "justify_items": null,
       "left": null,
       "margin": null,
       "max_height": null,
       "max_width": null,
       "min_height": null,
       "min_width": null,
       "object_fit": null,
       "object_position": null,
       "order": null,
       "overflow": null,
       "padding": null,
       "right": null,
       "top": null,
       "visibility": null,
       "width": null
      }
     },
     "ac1a06c6ab024f11a1a52431788f6823": {
      "model_module": "@jupyter-widgets/base",
      "model_module_version": "2.0.0",
      "model_name": "LayoutModel",
      "state": {
       "_model_module": "@jupyter-widgets/base",
       "_model_module_version": "2.0.0",
       "_model_name": "LayoutModel",
       "_view_count": null,
       "_view_module": "@jupyter-widgets/base",
       "_view_module_version": "2.0.0",
       "_view_name": "LayoutView",
       "align_content": null,
       "align_items": null,
       "align_self": null,
       "border_bottom": null,
       "border_left": null,
       "border_right": null,
       "border_top": null,
       "bottom": null,
       "display": null,
       "flex": null,
       "flex_flow": null,
       "grid_area": null,
       "grid_auto_columns": null,
       "grid_auto_flow": null,
       "grid_auto_rows": null,
       "grid_column": null,
       "grid_gap": null,
       "grid_row": null,
       "grid_template_areas": null,
       "grid_template_columns": null,
       "grid_template_rows": null,
       "height": null,
       "justify_content": null,
       "justify_items": null,
       "left": null,
       "margin": null,
       "max_height": null,
       "max_width": null,
       "min_height": null,
       "min_width": null,
       "object_fit": null,
       "object_position": null,
       "order": null,
       "overflow": null,
       "padding": null,
       "right": null,
       "top": null,
       "visibility": null,
       "width": null
      }
     },
     "ad27b2a5cded4c23a3f72be3cee7c158": {
      "model_module": "@jupyter-widgets/controls",
      "model_module_version": "2.0.0",
      "model_name": "HTMLModel",
      "state": {
       "_dom_classes": [],
       "_model_module": "@jupyter-widgets/controls",
       "_model_module_version": "2.0.0",
       "_model_name": "HTMLModel",
       "_view_count": null,
       "_view_module": "@jupyter-widgets/controls",
       "_view_module_version": "2.0.0",
       "_view_name": "HTMLView",
       "description": "",
       "description_allow_html": false,
       "layout": "IPY_MODEL_93a38cd64b7e457082b679b1aace02df",
       "placeholder": "​",
       "style": "IPY_MODEL_fb003526535b4cba8efa507d3f92a66b",
       "tabbable": null,
       "tooltip": null,
       "value": "model.safetensors: 100%"
      }
     },
     "b3d1cca7cebb47ee9a5fb1281ffa00bb": {
      "model_module": "@jupyter-widgets/base",
      "model_module_version": "2.0.0",
      "model_name": "LayoutModel",
      "state": {
       "_model_module": "@jupyter-widgets/base",
       "_model_module_version": "2.0.0",
       "_model_name": "LayoutModel",
       "_view_count": null,
       "_view_module": "@jupyter-widgets/base",
       "_view_module_version": "2.0.0",
       "_view_name": "LayoutView",
       "align_content": null,
       "align_items": null,
       "align_self": null,
       "border_bottom": null,
       "border_left": null,
       "border_right": null,
       "border_top": null,
       "bottom": null,
       "display": null,
       "flex": null,
       "flex_flow": null,
       "grid_area": null,
       "grid_auto_columns": null,
       "grid_auto_flow": null,
       "grid_auto_rows": null,
       "grid_column": null,
       "grid_gap": null,
       "grid_row": null,
       "grid_template_areas": null,
       "grid_template_columns": null,
       "grid_template_rows": null,
       "height": null,
       "justify_content": null,
       "justify_items": null,
       "left": null,
       "margin": null,
       "max_height": null,
       "max_width": null,
       "min_height": null,
       "min_width": null,
       "object_fit": null,
       "object_position": null,
       "order": null,
       "overflow": null,
       "padding": null,
       "right": null,
       "top": null,
       "visibility": null,
       "width": null
      }
     },
     "beceebaa8bef4939a3027e1756c820ca": {
      "model_module": "@jupyter-widgets/controls",
      "model_module_version": "2.0.0",
      "model_name": "FloatProgressModel",
      "state": {
       "_dom_classes": [],
       "_model_module": "@jupyter-widgets/controls",
       "_model_module_version": "2.0.0",
       "_model_name": "FloatProgressModel",
       "_view_count": null,
       "_view_module": "@jupyter-widgets/controls",
       "_view_module_version": "2.0.0",
       "_view_name": "ProgressView",
       "bar_style": "success",
       "description": "",
       "description_allow_html": false,
       "layout": "IPY_MODEL_ac1a06c6ab024f11a1a52431788f6823",
       "max": 32,
       "min": 0,
       "orientation": "horizontal",
       "style": "IPY_MODEL_0fa836ee22b04b368008c3690b558e46",
       "tabbable": null,
       "tooltip": null,
       "value": 32
      }
     },
     "c4ccd0e9a85348d4a50bda1dc66d9658": {
      "model_module": "@jupyter-widgets/controls",
      "model_module_version": "2.0.0",
      "model_name": "HTMLStyleModel",
      "state": {
       "_model_module": "@jupyter-widgets/controls",
       "_model_module_version": "2.0.0",
       "_model_name": "HTMLStyleModel",
       "_view_count": null,
       "_view_module": "@jupyter-widgets/base",
       "_view_module_version": "2.0.0",
       "_view_name": "StyleView",
       "background": null,
       "description_width": "",
       "font_size": null,
       "text_color": null
      }
     },
     "cafb1e5ee8af47dc9a8813cdb7dad1b5": {
      "model_module": "@jupyter-widgets/controls",
      "model_module_version": "2.0.0",
      "model_name": "HBoxModel",
      "state": {
       "_dom_classes": [],
       "_model_module": "@jupyter-widgets/controls",
       "_model_module_version": "2.0.0",
       "_model_name": "HBoxModel",
       "_view_count": null,
       "_view_module": "@jupyter-widgets/controls",
       "_view_module_version": "2.0.0",
       "_view_name": "HBoxView",
       "box_style": "",
       "children": [
        "IPY_MODEL_577df72f0ce349d8988b16f4429c3116",
        "IPY_MODEL_2b7b0d3f79504d87a8dbfb2f7893399a",
        "IPY_MODEL_23b951c7b2c847bbaf9c066b7f932c12"
       ],
       "layout": "IPY_MODEL_a337ff0d214a41d1a7314a4ca229bfd3",
       "tabbable": null,
       "tooltip": null
      }
     },
     "d995347d83ec40e2b0c1db58a78e3dde": {
      "model_module": "@jupyter-widgets/controls",
      "model_module_version": "2.0.0",
      "model_name": "HTMLModel",
      "state": {
       "_dom_classes": [],
       "_model_module": "@jupyter-widgets/controls",
       "_model_module_version": "2.0.0",
       "_model_name": "HTMLModel",
       "_view_count": null,
       "_view_module": "@jupyter-widgets/controls",
       "_view_module_version": "2.0.0",
       "_view_name": "HTMLView",
       "description": "",
       "description_allow_html": false,
       "layout": "IPY_MODEL_1e6784d317664982818c369ec64d4375",
       "placeholder": "​",
       "style": "IPY_MODEL_66d95ea040244824b4f188b4985e8cb2",
       "tabbable": null,
       "tooltip": null,
       "value": "Validation: 100%"
      }
     },
     "dc55c130999847b6a7460d8d68f31668": {
      "model_module": "@jupyter-widgets/base",
      "model_module_version": "2.0.0",
      "model_name": "LayoutModel",
      "state": {
       "_model_module": "@jupyter-widgets/base",
       "_model_module_version": "2.0.0",
       "_model_name": "LayoutModel",
       "_view_count": null,
       "_view_module": "@jupyter-widgets/base",
       "_view_module_version": "2.0.0",
       "_view_name": "LayoutView",
       "align_content": null,
       "align_items": null,
       "align_self": null,
       "border_bottom": null,
       "border_left": null,
       "border_right": null,
       "border_top": null,
       "bottom": null,
       "display": null,
       "flex": null,
       "flex_flow": null,
       "grid_area": null,
       "grid_auto_columns": null,
       "grid_auto_flow": null,
       "grid_auto_rows": null,
       "grid_column": null,
       "grid_gap": null,
       "grid_row": null,
       "grid_template_areas": null,
       "grid_template_columns": null,
       "grid_template_rows": null,
       "height": null,
       "justify_content": null,
       "justify_items": null,
       "left": null,
       "margin": null,
       "max_height": null,
       "max_width": null,
       "min_height": null,
       "min_width": null,
       "object_fit": null,
       "object_position": null,
       "order": null,
       "overflow": null,
       "padding": null,
       "right": null,
       "top": null,
       "visibility": null,
       "width": null
      }
     },
     "dcdaa701c23b4a1697b18ae319e036f6": {
      "model_module": "@jupyter-widgets/controls",
      "model_module_version": "2.0.0",
      "model_name": "FloatProgressModel",
      "state": {
       "_dom_classes": [],
       "_model_module": "@jupyter-widgets/controls",
       "_model_module_version": "2.0.0",
       "_model_name": "FloatProgressModel",
       "_view_count": null,
       "_view_module": "@jupyter-widgets/controls",
       "_view_module_version": "2.0.0",
       "_view_name": "ProgressView",
       "bar_style": "success",
       "description": "",
       "description_allow_html": false,
       "layout": "IPY_MODEL_871d479608024b77bb2db8278e3f659d",
       "max": 32,
       "min": 0,
       "orientation": "horizontal",
       "style": "IPY_MODEL_60623af9dc82439fbac9dce1bb4a9d90",
       "tabbable": null,
       "tooltip": null,
       "value": 32
      }
     },
     "ddf272308e664d24820c9ca6e917e456": {
      "model_module": "@jupyter-widgets/controls",
      "model_module_version": "2.0.0",
      "model_name": "ProgressStyleModel",
      "state": {
       "_model_module": "@jupyter-widgets/controls",
       "_model_module_version": "2.0.0",
       "_model_name": "ProgressStyleModel",
       "_view_count": null,
       "_view_module": "@jupyter-widgets/base",
       "_view_module_version": "2.0.0",
       "_view_name": "StyleView",
       "bar_color": null,
       "description_width": ""
      }
     },
     "e80cbc93209642a8bbe28877b257eab6": {
      "model_module": "@jupyter-widgets/controls",
      "model_module_version": "2.0.0",
      "model_name": "HBoxModel",
      "state": {
       "_dom_classes": [],
       "_model_module": "@jupyter-widgets/controls",
       "_model_module_version": "2.0.0",
       "_model_name": "HBoxModel",
       "_view_count": null,
       "_view_module": "@jupyter-widgets/controls",
       "_view_module_version": "2.0.0",
       "_view_name": "HBoxView",
       "box_style": "",
       "children": [
        "IPY_MODEL_a17d437eca184c35ae51d6ddf160ad00",
        "IPY_MODEL_35b20f9b2e8746c68e234fcb6d29f047",
        "IPY_MODEL_8e978a7645e7420fb2e452a3e2e7f69d"
       ],
       "layout": "IPY_MODEL_9193f88c4b9842c4a73d33b86e2a79b8",
       "tabbable": null,
       "tooltip": null
      }
     },
     "ed26d5cb2ff3426a9449e0166b68afbf": {
      "model_module": "@jupyter-widgets/controls",
      "model_module_version": "2.0.0",
      "model_name": "HTMLStyleModel",
      "state": {
       "_model_module": "@jupyter-widgets/controls",
       "_model_module_version": "2.0.0",
       "_model_name": "HTMLStyleModel",
       "_view_count": null,
       "_view_module": "@jupyter-widgets/base",
       "_view_module_version": "2.0.0",
       "_view_name": "StyleView",
       "background": null,
       "description_width": "",
       "font_size": null,
       "text_color": null
      }
     },
     "f4cc700caf0949c5bf39d8f7539ba2d2": {
      "model_module": "@jupyter-widgets/base",
      "model_module_version": "2.0.0",
      "model_name": "LayoutModel",
      "state": {
       "_model_module": "@jupyter-widgets/base",
       "_model_module_version": "2.0.0",
       "_model_name": "LayoutModel",
       "_view_count": null,
       "_view_module": "@jupyter-widgets/base",
       "_view_module_version": "2.0.0",
       "_view_name": "LayoutView",
       "align_content": null,
       "align_items": null,
       "align_self": null,
       "border_bottom": null,
       "border_left": null,
       "border_right": null,
       "border_top": null,
       "bottom": null,
       "display": null,
       "flex": null,
       "flex_flow": null,
       "grid_area": null,
       "grid_auto_columns": null,
       "grid_auto_flow": null,
       "grid_auto_rows": null,
       "grid_column": null,
       "grid_gap": null,
       "grid_row": null,
       "grid_template_areas": null,
       "grid_template_columns": null,
       "grid_template_rows": null,
       "height": null,
       "justify_content": null,
       "justify_items": null,
       "left": null,
       "margin": null,
       "max_height": null,
       "max_width": null,
       "min_height": null,
       "min_width": null,
       "object_fit": null,
       "object_position": null,
       "order": null,
       "overflow": null,
       "padding": null,
       "right": null,
       "top": null,
       "visibility": null,
       "width": null
      }
     },
     "f808eb60489b4ef2bc76b055d5c477ff": {
      "model_module": "@jupyter-widgets/base",
      "model_module_version": "2.0.0",
      "model_name": "LayoutModel",
      "state": {
       "_model_module": "@jupyter-widgets/base",
       "_model_module_version": "2.0.0",
       "_model_name": "LayoutModel",
       "_view_count": null,
       "_view_module": "@jupyter-widgets/base",
       "_view_module_version": "2.0.0",
       "_view_name": "LayoutView",
       "align_content": null,
       "align_items": null,
       "align_self": null,
       "border_bottom": null,
       "border_left": null,
       "border_right": null,
       "border_top": null,
       "bottom": null,
       "display": null,
       "flex": null,
       "flex_flow": null,
       "grid_area": null,
       "grid_auto_columns": null,
       "grid_auto_flow": null,
       "grid_auto_rows": null,
       "grid_column": null,
       "grid_gap": null,
       "grid_row": null,
       "grid_template_areas": null,
       "grid_template_columns": null,
       "grid_template_rows": null,
       "height": null,
       "justify_content": null,
       "justify_items": null,
       "left": null,
       "margin": null,
       "max_height": null,
       "max_width": null,
       "min_height": null,
       "min_width": null,
       "object_fit": null,
       "object_position": null,
       "order": null,
       "overflow": null,
       "padding": null,
       "right": null,
       "top": null,
       "visibility": null,
       "width": null
      }
     },
     "f8e3ad286a374d558e61627ba3a67d26": {
      "model_module": "@jupyter-widgets/controls",
      "model_module_version": "2.0.0",
      "model_name": "HTMLStyleModel",
      "state": {
       "_model_module": "@jupyter-widgets/controls",
       "_model_module_version": "2.0.0",
       "_model_name": "HTMLStyleModel",
       "_view_count": null,
       "_view_module": "@jupyter-widgets/base",
       "_view_module_version": "2.0.0",
       "_view_name": "StyleView",
       "background": null,
       "description_width": "",
       "font_size": null,
       "text_color": null
      }
     },
     "fb003526535b4cba8efa507d3f92a66b": {
      "model_module": "@jupyter-widgets/controls",
      "model_module_version": "2.0.0",
      "model_name": "HTMLStyleModel",
      "state": {
       "_model_module": "@jupyter-widgets/controls",
       "_model_module_version": "2.0.0",
       "_model_name": "HTMLStyleModel",
       "_view_count": null,
       "_view_module": "@jupyter-widgets/base",
       "_view_module_version": "2.0.0",
       "_view_name": "StyleView",
       "background": null,
       "description_width": "",
       "font_size": null,
       "text_color": null
      }
     },
     "fbd77392c5e94748a19ab6adc204c0f0": {
      "model_module": "@jupyter-widgets/base",
      "model_module_version": "2.0.0",
      "model_name": "LayoutModel",
      "state": {
       "_model_module": "@jupyter-widgets/base",
       "_model_module_version": "2.0.0",
       "_model_name": "LayoutModel",
       "_view_count": null,
       "_view_module": "@jupyter-widgets/base",
       "_view_module_version": "2.0.0",
       "_view_name": "LayoutView",
       "align_content": null,
       "align_items": null,
       "align_self": null,
       "border_bottom": null,
       "border_left": null,
       "border_right": null,
       "border_top": null,
       "bottom": null,
       "display": null,
       "flex": null,
       "flex_flow": null,
       "grid_area": null,
       "grid_auto_columns": null,
       "grid_auto_flow": null,
       "grid_auto_rows": null,
       "grid_column": null,
       "grid_gap": null,
       "grid_row": null,
       "grid_template_areas": null,
       "grid_template_columns": null,
       "grid_template_rows": null,
       "height": null,
       "justify_content": null,
       "justify_items": null,
       "left": null,
       "margin": null,
       "max_height": null,
       "max_width": null,
       "min_height": null,
       "min_width": null,
       "object_fit": null,
       "object_position": null,
       "order": null,
       "overflow": null,
       "padding": null,
       "right": null,
       "top": null,
       "visibility": null,
       "width": null
      }
     }
    },
    "version_major": 2,
    "version_minor": 0
   }
  }
 },
 "nbformat": 4,
 "nbformat_minor": 5
}
