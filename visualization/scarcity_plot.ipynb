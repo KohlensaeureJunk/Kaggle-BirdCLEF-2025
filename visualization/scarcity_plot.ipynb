{
 "cells": [
  {
   "cell_type": "code",
   "execution_count": 1,
   "id": "a1c6da76",
   "metadata": {},
   "outputs": [],
   "source": [
    "import pandas as pd\n",
    "import matplotlib.pyplot as plt\n",
    "import matplotlib"
   ]
  },
  {
   "cell_type": "code",
   "execution_count": 3,
   "id": "081faa30",
   "metadata": {},
   "outputs": [
    {
     "data": {
      "text/html": [
       "<div>\n",
       "<style scoped>\n",
       "    .dataframe tbody tr th:only-of-type {\n",
       "        vertical-align: middle;\n",
       "    }\n",
       "\n",
       "    .dataframe tbody tr th {\n",
       "        vertical-align: top;\n",
       "    }\n",
       "\n",
       "    .dataframe thead th {\n",
       "        text-align: right;\n",
       "    }\n",
       "</style>\n",
       "<table border=\"1\" class=\"dataframe\">\n",
       "  <thead>\n",
       "    <tr style=\"text-align: right;\">\n",
       "      <th></th>\n",
       "      <th>primary_label</th>\n",
       "      <th>secondary_labels</th>\n",
       "      <th>type</th>\n",
       "      <th>filename</th>\n",
       "      <th>collection</th>\n",
       "      <th>rating</th>\n",
       "      <th>url</th>\n",
       "      <th>latitude</th>\n",
       "      <th>longitude</th>\n",
       "      <th>scientific_name</th>\n",
       "      <th>common_name</th>\n",
       "      <th>author</th>\n",
       "      <th>license</th>\n",
       "    </tr>\n",
       "  </thead>\n",
       "  <tbody>\n",
       "    <tr>\n",
       "      <th>0</th>\n",
       "      <td>1139490</td>\n",
       "      <td>['']</td>\n",
       "      <td>['']</td>\n",
       "      <td>1139490/CSA36385.ogg</td>\n",
       "      <td>CSA</td>\n",
       "      <td>0.0</td>\n",
       "      <td>http://colecciones.humboldt.org.co/rec/sonidos...</td>\n",
       "      <td>7.3206</td>\n",
       "      <td>-73.7128</td>\n",
       "      <td>Ragoniella pulchella</td>\n",
       "      <td>Ragoniella pulchella</td>\n",
       "      <td>Fabio A. Sarria-S</td>\n",
       "      <td>cc-by-nc-sa 4.0</td>\n",
       "    </tr>\n",
       "    <tr>\n",
       "      <th>1</th>\n",
       "      <td>1139490</td>\n",
       "      <td>['']</td>\n",
       "      <td>['']</td>\n",
       "      <td>1139490/CSA36389.ogg</td>\n",
       "      <td>CSA</td>\n",
       "      <td>0.0</td>\n",
       "      <td>http://colecciones.humboldt.org.co/rec/sonidos...</td>\n",
       "      <td>7.3206</td>\n",
       "      <td>-73.7128</td>\n",
       "      <td>Ragoniella pulchella</td>\n",
       "      <td>Ragoniella pulchella</td>\n",
       "      <td>Fabio A. Sarria-S</td>\n",
       "      <td>cc-by-nc-sa 4.0</td>\n",
       "    </tr>\n",
       "    <tr>\n",
       "      <th>2</th>\n",
       "      <td>1192948</td>\n",
       "      <td>['']</td>\n",
       "      <td>['']</td>\n",
       "      <td>1192948/CSA36358.ogg</td>\n",
       "      <td>CSA</td>\n",
       "      <td>0.0</td>\n",
       "      <td>http://colecciones.humboldt.org.co/rec/sonidos...</td>\n",
       "      <td>7.3791</td>\n",
       "      <td>-73.7313</td>\n",
       "      <td>Oxyprora surinamensis</td>\n",
       "      <td>Oxyprora surinamensis</td>\n",
       "      <td>Fabio A. Sarria-S</td>\n",
       "      <td>cc-by-nc-sa 4.0</td>\n",
       "    </tr>\n",
       "    <tr>\n",
       "      <th>3</th>\n",
       "      <td>1192948</td>\n",
       "      <td>['']</td>\n",
       "      <td>['']</td>\n",
       "      <td>1192948/CSA36366.ogg</td>\n",
       "      <td>CSA</td>\n",
       "      <td>0.0</td>\n",
       "      <td>http://colecciones.humboldt.org.co/rec/sonidos...</td>\n",
       "      <td>7.2800</td>\n",
       "      <td>-73.8582</td>\n",
       "      <td>Oxyprora surinamensis</td>\n",
       "      <td>Oxyprora surinamensis</td>\n",
       "      <td>Fabio A. Sarria-S</td>\n",
       "      <td>cc-by-nc-sa 4.0</td>\n",
       "    </tr>\n",
       "    <tr>\n",
       "      <th>4</th>\n",
       "      <td>1192948</td>\n",
       "      <td>['']</td>\n",
       "      <td>['']</td>\n",
       "      <td>1192948/CSA36373.ogg</td>\n",
       "      <td>CSA</td>\n",
       "      <td>0.0</td>\n",
       "      <td>http://colecciones.humboldt.org.co/rec/sonidos...</td>\n",
       "      <td>7.3791</td>\n",
       "      <td>-73.7313</td>\n",
       "      <td>Oxyprora surinamensis</td>\n",
       "      <td>Oxyprora surinamensis</td>\n",
       "      <td>Fabio A. Sarria-S</td>\n",
       "      <td>cc-by-nc-sa 4.0</td>\n",
       "    </tr>\n",
       "  </tbody>\n",
       "</table>\n",
       "</div>"
      ],
      "text/plain": [
       "  primary_label secondary_labels  type              filename collection  \\\n",
       "0       1139490             ['']  ['']  1139490/CSA36385.ogg        CSA   \n",
       "1       1139490             ['']  ['']  1139490/CSA36389.ogg        CSA   \n",
       "2       1192948             ['']  ['']  1192948/CSA36358.ogg        CSA   \n",
       "3       1192948             ['']  ['']  1192948/CSA36366.ogg        CSA   \n",
       "4       1192948             ['']  ['']  1192948/CSA36373.ogg        CSA   \n",
       "\n",
       "   rating                                                url  latitude  \\\n",
       "0     0.0  http://colecciones.humboldt.org.co/rec/sonidos...    7.3206   \n",
       "1     0.0  http://colecciones.humboldt.org.co/rec/sonidos...    7.3206   \n",
       "2     0.0  http://colecciones.humboldt.org.co/rec/sonidos...    7.3791   \n",
       "3     0.0  http://colecciones.humboldt.org.co/rec/sonidos...    7.2800   \n",
       "4     0.0  http://colecciones.humboldt.org.co/rec/sonidos...    7.3791   \n",
       "\n",
       "   longitude        scientific_name            common_name             author  \\\n",
       "0   -73.7128   Ragoniella pulchella   Ragoniella pulchella  Fabio A. Sarria-S   \n",
       "1   -73.7128   Ragoniella pulchella   Ragoniella pulchella  Fabio A. Sarria-S   \n",
       "2   -73.7313  Oxyprora surinamensis  Oxyprora surinamensis  Fabio A. Sarria-S   \n",
       "3   -73.8582  Oxyprora surinamensis  Oxyprora surinamensis  Fabio A. Sarria-S   \n",
       "4   -73.7313  Oxyprora surinamensis  Oxyprora surinamensis  Fabio A. Sarria-S   \n",
       "\n",
       "           license  \n",
       "0  cc-by-nc-sa 4.0  \n",
       "1  cc-by-nc-sa 4.0  \n",
       "2  cc-by-nc-sa 4.0  \n",
       "3  cc-by-nc-sa 4.0  \n",
       "4  cc-by-nc-sa 4.0  "
      ]
     },
     "execution_count": 3,
     "metadata": {},
     "output_type": "execute_result"
    }
   ],
   "source": [
    "train_df = pd.read_csv(\"../birdclef-2025/train.csv\")\n",
    "train_df.head()"
   ]
  },
  {
   "cell_type": "code",
   "execution_count": 6,
   "id": "4922ed8e",
   "metadata": {},
   "outputs": [
    {
     "data": {
      "text/html": [
       "<div>\n",
       "<style scoped>\n",
       "    .dataframe tbody tr th:only-of-type {\n",
       "        vertical-align: middle;\n",
       "    }\n",
       "\n",
       "    .dataframe tbody tr th {\n",
       "        vertical-align: top;\n",
       "    }\n",
       "\n",
       "    .dataframe thead th {\n",
       "        text-align: right;\n",
       "    }\n",
       "</style>\n",
       "<table border=\"1\" class=\"dataframe\">\n",
       "  <thead>\n",
       "    <tr style=\"text-align: right;\">\n",
       "      <th></th>\n",
       "      <th>primary_label</th>\n",
       "      <th>inat_taxon_id</th>\n",
       "      <th>scientific_name</th>\n",
       "      <th>common_name</th>\n",
       "      <th>class_name</th>\n",
       "    </tr>\n",
       "  </thead>\n",
       "  <tbody>\n",
       "    <tr>\n",
       "      <th>0</th>\n",
       "      <td>1139490</td>\n",
       "      <td>1139490</td>\n",
       "      <td>Ragoniella pulchella</td>\n",
       "      <td>Ragoniella pulchella</td>\n",
       "      <td>Insecta</td>\n",
       "    </tr>\n",
       "    <tr>\n",
       "      <th>1</th>\n",
       "      <td>1192948</td>\n",
       "      <td>1192948</td>\n",
       "      <td>Oxyprora surinamensis</td>\n",
       "      <td>Oxyprora surinamensis</td>\n",
       "      <td>Insecta</td>\n",
       "    </tr>\n",
       "    <tr>\n",
       "      <th>2</th>\n",
       "      <td>1194042</td>\n",
       "      <td>1194042</td>\n",
       "      <td>Copiphora colombiae</td>\n",
       "      <td>Copiphora colombiae</td>\n",
       "      <td>Insecta</td>\n",
       "    </tr>\n",
       "    <tr>\n",
       "      <th>3</th>\n",
       "      <td>126247</td>\n",
       "      <td>126247</td>\n",
       "      <td>Leptodactylus insularum</td>\n",
       "      <td>Spotted Foam-nest Frog</td>\n",
       "      <td>Amphibia</td>\n",
       "    </tr>\n",
       "    <tr>\n",
       "      <th>4</th>\n",
       "      <td>1346504</td>\n",
       "      <td>1346504</td>\n",
       "      <td>Neoconocephalus brachypterus</td>\n",
       "      <td>Neoconocephalus brachypterus</td>\n",
       "      <td>Insecta</td>\n",
       "    </tr>\n",
       "  </tbody>\n",
       "</table>\n",
       "</div>"
      ],
      "text/plain": [
       "  primary_label  inat_taxon_id               scientific_name  \\\n",
       "0       1139490        1139490          Ragoniella pulchella   \n",
       "1       1192948        1192948         Oxyprora surinamensis   \n",
       "2       1194042        1194042           Copiphora colombiae   \n",
       "3        126247         126247       Leptodactylus insularum   \n",
       "4       1346504        1346504  Neoconocephalus brachypterus   \n",
       "\n",
       "                    common_name class_name  \n",
       "0          Ragoniella pulchella    Insecta  \n",
       "1         Oxyprora surinamensis    Insecta  \n",
       "2           Copiphora colombiae    Insecta  \n",
       "3        Spotted Foam-nest Frog   Amphibia  \n",
       "4  Neoconocephalus brachypterus    Insecta  "
      ]
     },
     "execution_count": 6,
     "metadata": {},
     "output_type": "execute_result"
    }
   ],
   "source": [
    "taxonomy_df = pd.read_csv(\"../birdclef-2025/taxonomy.csv\")\n",
    "taxonomy_df.head()"
   ]
  },
  {
   "cell_type": "code",
   "execution_count": 7,
   "id": "7315c72b",
   "metadata": {},
   "outputs": [
    {
     "name": "stdout",
     "output_type": "stream",
     "text": [
      "Number of common names: 206\n"
     ]
    }
   ],
   "source": [
    "all_names = taxonomy_df[\"common_name\"]\n",
    "print(f\"Number of common names: {len(all_names)}\")\n"
   ]
  },
  {
   "cell_type": "code",
   "execution_count": 8,
   "id": "5d00416c",
   "metadata": {},
   "outputs": [
    {
     "name": "stdout",
     "output_type": "stream",
     "text": [
      "Number of unique common names in train: 207\n"
     ]
    }
   ],
   "source": [
    "names_train = train_df[\"common_name\"]\n",
    "names_train_unique = names_train.unique()\n",
    "print(f\"Number of unique common names in train: {len(names_train_unique)}\")"
   ]
  },
  {
   "cell_type": "code",
   "execution_count": 9,
   "id": "02de093d",
   "metadata": {},
   "outputs": [
    {
     "data": {
      "text/plain": [
       "common_name\n",
       "Great Kiskadee                     990\n",
       "Common Pauraque                    808\n",
       "Tropical Kingbird                  787\n",
       "Roadside Hawk                      709\n",
       "Bananaquit                         610\n",
       "                                  ... \n",
       "Colombian Plump Frog                 2\n",
       "Brown-throated Three-toed Sloth      2\n",
       "Collared Peccary                     2\n",
       "Crab-eating Fox                      2\n",
       "Ragoniella pulchella                 2\n",
       "Name: count, Length: 206, dtype: int64"
      ]
     },
     "execution_count": 9,
     "metadata": {},
     "output_type": "execute_result"
    }
   ],
   "source": [
    "val_counts = names_train.value_counts()\n",
    "val_counts"
   ]
  },
  {
   "cell_type": "code",
   "execution_count": 10,
   "id": "da3e220f",
   "metadata": {},
   "outputs": [
    {
     "data": {
      "text/plain": [
       "<Axes: title={'center': 'Number of train samples per common name'}, xlabel='common_name'>"
      ]
     },
     "execution_count": 10,
     "metadata": {},
     "output_type": "execute_result"
    },
    {
     "data": {
      "image/png": "[encoded data removed]",
      "text/plain": [
       "<Figure size 1200x500 with 1 Axes>"
      ]
     },
     "metadata": {},
     "output_type": "display_data"
    }
   ],
   "source": [
    "names_train.value_counts().plot(kind=\"bar\", figsize=(12, 5), title=\"Number of train samples per common name\", xticks=[])"
   ]
  },
  {
   "cell_type": "code",
   "execution_count": 11,
   "id": "5344499e",
   "metadata": {},
   "outputs": [
    {
     "data": {
      "image/png": "[encoded data removed]",
      "text/plain": [
       "<Figure size 1500x600 with 1 Axes>"
      ]
     },
     "metadata": {},
     "output_type": "display_data"
    }
   ],
   "source": [
    "counts = val_counts.values\n",
    "matplotlib.rcParams['figure.dpi'] = 100\n",
    "plt.figure(figsize=(15, 6))\n",
    "plt.bar(range(len(counts)), counts, width=1, color=\"tab:red\")\n",
    "plt.xlim(-0.5, len(counts)-0.5)\n",
    "plt.yscale(\"log\")\n",
    "plt.xticks([])\n",
    "plt.xlabel(\"primary labels\")\n",
    "plt.ylabel(\"Number of Samples\")\n",
    "plt.ylim(1,10e2+300)\n",
    "plt.tick_params(labeltop=False, labelright=True, which =\"both\", right=True)\n"
   ]
  },
  {
   "cell_type": "code",
   "execution_count": 12,
   "id": "2c8ad1b5",
   "metadata": {},
   "outputs": [
    {
     "name": "stdout",
     "output_type": "stream",
     "text": [
      "Number of unique primary labels in train: 206\n"
     ]
    }
   ],
   "source": [
    "primary_labels = train_df[\"primary_label\"]\n",
    "primary_labels_unique = primary_labels.unique()\n",
    "print(f\"Number of unique primary labels in train: {len(primary_labels_unique)}\")"
   ]
  },
  {
   "cell_type": "code",
   "execution_count": 13,
   "id": "e3f3304a",
   "metadata": {},
   "outputs": [
    {
     "name": "stdout",
     "output_type": "stream",
     "text": [
      "Number of unique secondary labels in train: 132\n"
     ]
    }
   ],
   "source": [
    "secondary_labels = train_df[\"secondary_labels\"]\n",
    "all_secondary_labels = []\n",
    "for labels in secondary_labels:\n",
    "    if labels != \"['']\":\n",
    "        labels = labels.replace(\"'\", \"\").replace(\"[\", \"\").replace(\"]\", \"\")\n",
    "        all_secondary_labels.extend(labels.split(\", \"))\n",
    "all_secondary_labels = pd.Series(all_secondary_labels)\n",
    "all_secondary_labels.drop(all_secondary_labels[all_secondary_labels==''].keys(), inplace=True)\n",
    "secondary_labels_unique = pd.Series(all_secondary_labels.unique())\n",
    "print(f\"Number of unique secondary labels in train: {len(secondary_labels_unique)}\")"
   ]
  },
  {
   "cell_type": "code",
   "execution_count": 14,
   "id": "a86a3d99",
   "metadata": {},
   "outputs": [
    {
     "data": {
      "text/plain": [
       "132"
      ]
     },
     "execution_count": 14,
     "metadata": {},
     "output_type": "execute_result"
    }
   ],
   "source": [
    "primary_labels_grouped = primary_labels.groupby(primary_labels).count().sort_values(ascending=False)\n",
    "secondary_labels_grouped = all_secondary_labels.groupby(all_secondary_labels).count().sort_values(ascending=False)\n",
    "secondary_labels_grouped.name = \"secondary_labels\"\n",
    "len(secondary_labels_grouped)"
   ]
  },
  {
   "cell_type": "code",
   "execution_count": 15,
   "id": "a6c34820",
   "metadata": {},
   "outputs": [
    {
     "data": {
      "text/html": [
       "<div>\n",
       "<style scoped>\n",
       "    .dataframe tbody tr th:only-of-type {\n",
       "        vertical-align: middle;\n",
       "    }\n",
       "\n",
       "    .dataframe tbody tr th {\n",
       "        vertical-align: top;\n",
       "    }\n",
       "\n",
       "    .dataframe thead th {\n",
       "        text-align: right;\n",
       "    }\n",
       "</style>\n",
       "<table border=\"1\" class=\"dataframe\">\n",
       "  <thead>\n",
       "    <tr style=\"text-align: right;\">\n",
       "      <th></th>\n",
       "      <th>primary_label</th>\n",
       "      <th>secondary_labels</th>\n",
       "    </tr>\n",
       "    <tr>\n",
       "      <th>primary_label</th>\n",
       "      <th></th>\n",
       "      <th></th>\n",
       "    </tr>\n",
       "  </thead>\n",
       "  <tbody>\n",
       "    <tr>\n",
       "      <th>grekis</th>\n",
       "      <td>990</td>\n",
       "      <td>489.0</td>\n",
       "    </tr>\n",
       "    <tr>\n",
       "      <th>compau</th>\n",
       "      <td>808</td>\n",
       "      <td>44.0</td>\n",
       "    </tr>\n",
       "    <tr>\n",
       "      <th>trokin</th>\n",
       "      <td>787</td>\n",
       "      <td>188.0</td>\n",
       "    </tr>\n",
       "    <tr>\n",
       "      <th>roahaw</th>\n",
       "      <td>709</td>\n",
       "      <td>2.0</td>\n",
       "    </tr>\n",
       "    <tr>\n",
       "      <th>banana</th>\n",
       "      <td>610</td>\n",
       "      <td>104.0</td>\n",
       "    </tr>\n",
       "    <tr>\n",
       "      <th>...</th>\n",
       "      <td>...</td>\n",
       "      <td>...</td>\n",
       "    </tr>\n",
       "    <tr>\n",
       "      <th>66531</th>\n",
       "      <td>2</td>\n",
       "      <td>NaN</td>\n",
       "    </tr>\n",
       "    <tr>\n",
       "      <th>67082</th>\n",
       "      <td>2</td>\n",
       "      <td>NaN</td>\n",
       "    </tr>\n",
       "    <tr>\n",
       "      <th>81930</th>\n",
       "      <td>2</td>\n",
       "      <td>NaN</td>\n",
       "    </tr>\n",
       "    <tr>\n",
       "      <th>42087</th>\n",
       "      <td>2</td>\n",
       "      <td>NaN</td>\n",
       "    </tr>\n",
       "    <tr>\n",
       "      <th>528041</th>\n",
       "      <td>2</td>\n",
       "      <td>NaN</td>\n",
       "    </tr>\n",
       "  </tbody>\n",
       "</table>\n",
       "<p>206 rows × 2 columns</p>\n",
       "</div>"
      ],
      "text/plain": [
       "               primary_label  secondary_labels\n",
       "primary_label                                 \n",
       "grekis                   990             489.0\n",
       "compau                   808              44.0\n",
       "trokin                   787             188.0\n",
       "roahaw                   709               2.0\n",
       "banana                   610             104.0\n",
       "...                      ...               ...\n",
       "66531                      2               NaN\n",
       "67082                      2               NaN\n",
       "81930                      2               NaN\n",
       "42087                      2               NaN\n",
       "528041                     2               NaN\n",
       "\n",
       "[206 rows x 2 columns]"
      ]
     },
     "execution_count": 15,
     "metadata": {},
     "output_type": "execute_result"
    }
   ],
   "source": [
    "merged_label_counts = pd.merge(primary_labels_grouped, secondary_labels_grouped, how=\"left\", left_index=True, right_index=True)\n",
    "merged_label_counts"
   ]
  },
  {
   "cell_type": "code",
   "execution_count": 16,
   "id": "5d8bb616",
   "metadata": {},
   "outputs": [
    {
     "data": {
      "image/png": "[encoded data removed]",
      "text/plain": [
       "<Figure size 1500x600 with 1 Axes>"
      ]
     },
     "metadata": {},
     "output_type": "display_data"
    }
   ],
   "source": [
    "matplotlib.rcParams['figure.dpi'] = 100\n",
    "plt.figure(figsize=(15, 6))\n",
    "plt.bar(range(len(primary_labels_grouped)), merged_label_counts[\"primary_label\"], width=1, color=\"tab:red\", label=f\"primary_labels (Σ={len(primary_labels_grouped)})\")\n",
    "plt.bar(range(len(primary_labels_grouped)), merged_label_counts[\"secondary_labels\"], width=1, color=\"tab:cyan\", label=f\"secondary_labels (Σ={len(secondary_labels_grouped)})\")\n",
    "plt.xlim(-0.5, len(counts)-0.5)\n",
    "plt.yscale(\"log\")\n",
    "plt.xticks([])\n",
    "plt.xlabel(\"Labels\")\n",
    "plt.ylabel(\"Number of Samples\")\n",
    "plt.ylim(1,10e2+300)\n",
    "plt.tick_params(labeltop=False, labelright=True, which =\"both\", right=True)\n",
    "plt.legend(loc=\"upper right\")\n",
    "plt.text\n",
    "plt.savefig(\"scarcity_plot.png\", dpi=300, bbox_inches='tight')\n"
   ]
  },
  {
   "cell_type": "code",
   "execution_count": 69,
   "id": "521d556c",
   "metadata": {},
   "outputs": [
    {
     "data": {
      "image/png": "[encoded data removed]",
      "text/plain": [
       "<Figure size 600x800 with 1 Axes>"
      ]
     },
     "metadata": {},
     "output_type": "display_data"
    }
   ],
   "source": [
    "matplotlib.rcParams['figure.dpi'] = 100\n",
    "plt.figure(figsize=(6, 8))  # Swapped dimensions for horizontal orientation\n",
    "plt.barh(range(len(primary_labels_grouped)), merged_label_counts[\"primary_label\"], height=1, color=\"tab:red\", label=f\"primary_labels (Σ={len(primary_labels_grouped)})\")\n",
    "plt.barh(range(len(primary_labels_grouped)), merged_label_counts[\"secondary_labels\"], height=1, color=\"tab:cyan\", label=f\"secondary_labels (Σ={len(secondary_labels_grouped)})\")\n",
    "plt.ylim(-0.5, len(counts)-0.5)  # Changed from xlim to ylim\n",
    "plt.xscale(\"log\")  # Changed from yscale to xscale\n",
    "plt.yticks([])  # Changed from xticks to yticks\n",
    "plt.ylabel(\"Labels\")  # Swapped labels\n",
    "plt.xlabel(\"Number of Samples\")\n",
    "plt.xlim(1,10e2+300)  # Changed from ylim to xlim\n",
    "plt.tick_params(labeltop=False, labelright=False, which=\"both\", top=True)  # Adjusted tick parameters\n",
    "plt.legend(loc=\"upper right\")\n",
    "plt.savefig(\"scarcity_plot_horizontal.png\", dpi=300, bbox_inches='tight')"
   ]
  },
  {
   "cell_type": "code",
   "execution_count": 61,
   "id": "aacb1eb0",
   "metadata": {},
   "outputs": [
    {
     "name": "stdout",
     "output_type": "stream",
     "text": [
      "Found 104530 samples with confidence > 0.2\n",
      "Using randomly selected 1000000000 pseudolabels that pass confidence threshold\n"
     ]
    },
    {
     "data": {
      "text/html": [
       "<div>\n",
       "<style scoped>\n",
       "    .dataframe tbody tr th:only-of-type {\n",
       "        vertical-align: middle;\n",
       "    }\n",
       "\n",
       "    .dataframe tbody tr th {\n",
       "        vertical-align: top;\n",
       "    }\n",
       "\n",
       "    .dataframe thead th {\n",
       "        text-align: right;\n",
       "    }\n",
       "</style>\n",
       "<table border=\"1\" class=\"dataframe\">\n",
       "  <thead>\n",
       "    <tr style=\"text-align: right;\">\n",
       "      <th></th>\n",
       "      <th>samplename</th>\n",
       "      <th>filename</th>\n",
       "      <th>timestamp</th>\n",
       "      <th>primary_label</th>\n",
       "      <th>secondary_labels</th>\n",
       "      <th>filepath</th>\n",
       "    </tr>\n",
       "  </thead>\n",
       "  <tbody>\n",
       "    <tr>\n",
       "      <th>0</th>\n",
       "      <td>H22_20230520_002000_15</td>\n",
       "      <td>H22_20230520_002000.ogg</td>\n",
       "      <td>15</td>\n",
       "      <td>turvul</td>\n",
       "      <td>[]</td>\n",
       "      <td>../birdclef-2025/train_soundscapes\\H22_2023052...</td>\n",
       "    </tr>\n",
       "    <tr>\n",
       "      <th>1</th>\n",
       "      <td>H98_20230430_112500_15</td>\n",
       "      <td>H98_20230430_112500.ogg</td>\n",
       "      <td>15</td>\n",
       "      <td>thlsch3</td>\n",
       "      <td>[21211, blbwre1]</td>\n",
       "      <td>../birdclef-2025/train_soundscapes\\H98_2023043...</td>\n",
       "    </tr>\n",
       "    <tr>\n",
       "      <th>2</th>\n",
       "      <td>H74_20230502_100500_55</td>\n",
       "      <td>H74_20230502_100500.ogg</td>\n",
       "      <td>55</td>\n",
       "      <td>whbman1</td>\n",
       "      <td>[gohman1]</td>\n",
       "      <td>../birdclef-2025/train_soundscapes\\H74_2023050...</td>\n",
       "    </tr>\n",
       "    <tr>\n",
       "      <th>3</th>\n",
       "      <td>H17_20230509_101500_25</td>\n",
       "      <td>H17_20230509_101500.ogg</td>\n",
       "      <td>25</td>\n",
       "      <td>thlsch3</td>\n",
       "      <td>[]</td>\n",
       "      <td>../birdclef-2025/train_soundscapes\\H17_2023050...</td>\n",
       "    </tr>\n",
       "    <tr>\n",
       "      <th>4</th>\n",
       "      <td>H91_20230513_034000_10</td>\n",
       "      <td>H91_20230513_034000.ogg</td>\n",
       "      <td>10</td>\n",
       "      <td>135045</td>\n",
       "      <td>[]</td>\n",
       "      <td>../birdclef-2025/train_soundscapes\\H91_2023051...</td>\n",
       "    </tr>\n",
       "  </tbody>\n",
       "</table>\n",
       "</div>"
      ],
      "text/plain": [
       "               samplename                 filename  timestamp primary_label  \\\n",
       "0  H22_20230520_002000_15  H22_20230520_002000.ogg         15        turvul   \n",
       "1  H98_20230430_112500_15  H98_20230430_112500.ogg         15       thlsch3   \n",
       "2  H74_20230502_100500_55  H74_20230502_100500.ogg         55       whbman1   \n",
       "3  H17_20230509_101500_25  H17_20230509_101500.ogg         25       thlsch3   \n",
       "4  H91_20230513_034000_10  H91_20230513_034000.ogg         10        135045   \n",
       "\n",
       "   secondary_labels                                           filepath  \n",
       "0                []  ../birdclef-2025/train_soundscapes\\H22_2023052...  \n",
       "1  [21211, blbwre1]  ../birdclef-2025/train_soundscapes\\H98_2023043...  \n",
       "2         [gohman1]  ../birdclef-2025/train_soundscapes\\H74_2023050...  \n",
       "3                []  ../birdclef-2025/train_soundscapes\\H17_2023050...  \n",
       "4                []  ../birdclef-2025/train_soundscapes\\H91_2023051...  "
      ]
     },
     "execution_count": 61,
     "metadata": {},
     "output_type": "execute_result"
    }
   ],
   "source": [
    "# Now we add the pseudo-labels\n",
    "import sys\n",
    "sys.path.insert(1, \"../\")\n",
    "from label_loading import load_pseudolabels\n",
    "\n",
    "class CFG:\n",
    "    seed = 2025\n",
    "    normalize_labels = False\n",
    "    debug = False\n",
    "    stratified_pseudolabels = False\n",
    "    max_pseudolabels = 1000000000 # make sure we get all the pseudolabels\n",
    "    pseudolabels_path = \"../pseudolabels_even_better.csv\"\n",
    "    train_soundscapes = \"../birdclef-2025/train_soundscapes\"\n",
    "    pseudolabel_confidence_threshold = 0.2\n",
    "\n",
    "cfg = CFG()\n",
    "\n",
    "pseudodf = pd.read_csv(cfg.pseudolabels_path)\n",
    "pseudo_labels = load_pseudolabels(pseudodf, cfg)\n",
    "pseudo_labels.head()"
   ]
  },
  {
   "cell_type": "code",
   "execution_count": 62,
   "id": "3ae68515",
   "metadata": {},
   "outputs": [
    {
     "name": "stdout",
     "output_type": "stream",
     "text": [
      "Total pseudo-labels = 104530\n",
      "Number of unique primary pseudolabels: 194\n"
     ]
    }
   ],
   "source": [
    "print(f\"Total pseudo-labels = {len(pseudo_labels)}\")\n",
    "primary_pslabels = pseudo_labels[\"primary_label\"]\n",
    "primary_pslabels_unique = primary_pslabels.unique()\n",
    "print(f\"Number of unique primary pseudolabels: {len(primary_pslabels_unique)}\")"
   ]
  },
  {
   "cell_type": "code",
   "execution_count": 63,
   "id": "4e53a573",
   "metadata": {},
   "outputs": [
    {
     "name": "stdout",
     "output_type": "stream",
     "text": [
      "Number of unique secondary pseudo-labels: 196\n"
     ]
    }
   ],
   "source": [
    "secondary_pslabels = pseudo_labels[\"secondary_labels\"]\n",
    "all_secondary_pslabels = []\n",
    "for labels in secondary_pslabels:\n",
    "    if labels not in [[''], None, [], \"['']\", \"[]\"]:\n",
    "        all_secondary_pslabels.extend(labels)\n",
    "all_secondary_pslabels = pd.Series(all_secondary_pslabels)\n",
    "all_secondary_pslabels.drop(all_secondary_pslabels[all_secondary_pslabels==''].keys(), inplace=True)\n",
    "secondary_pslabels_unique = pd.Series(all_secondary_pslabels.unique())\n",
    "print(f\"Number of unique secondary pseudo-labels: {len(secondary_pslabels_unique)}\")"
   ]
  },
  {
   "cell_type": "code",
   "execution_count": 64,
   "id": "7b521f2e",
   "metadata": {},
   "outputs": [
    {
     "data": {
      "text/html": [
       "<div>\n",
       "<style scoped>\n",
       "    .dataframe tbody tr th:only-of-type {\n",
       "        vertical-align: middle;\n",
       "    }\n",
       "\n",
       "    .dataframe tbody tr th {\n",
       "        vertical-align: top;\n",
       "    }\n",
       "\n",
       "    .dataframe thead th {\n",
       "        text-align: right;\n",
       "    }\n",
       "</style>\n",
       "<table border=\"1\" class=\"dataframe\">\n",
       "  <thead>\n",
       "    <tr style=\"text-align: right;\">\n",
       "      <th></th>\n",
       "      <th>primary_label</th>\n",
       "      <th>secondary_labels</th>\n",
       "      <th>primary_label_pseudo</th>\n",
       "      <th>secondary_labels_pseudo</th>\n",
       "    </tr>\n",
       "    <tr>\n",
       "      <th>primary_label</th>\n",
       "      <th></th>\n",
       "      <th></th>\n",
       "      <th></th>\n",
       "      <th></th>\n",
       "    </tr>\n",
       "  </thead>\n",
       "  <tbody>\n",
       "    <tr>\n",
       "      <th>grekis</th>\n",
       "      <td>990</td>\n",
       "      <td>489.0</td>\n",
       "      <td>542.0</td>\n",
       "      <td>749.0</td>\n",
       "    </tr>\n",
       "    <tr>\n",
       "      <th>compau</th>\n",
       "      <td>808</td>\n",
       "      <td>44.0</td>\n",
       "      <td>75.0</td>\n",
       "      <td>227.0</td>\n",
       "    </tr>\n",
       "    <tr>\n",
       "      <th>trokin</th>\n",
       "      <td>787</td>\n",
       "      <td>188.0</td>\n",
       "      <td>270.0</td>\n",
       "      <td>553.0</td>\n",
       "    </tr>\n",
       "    <tr>\n",
       "      <th>roahaw</th>\n",
       "      <td>709</td>\n",
       "      <td>2.0</td>\n",
       "      <td>143.0</td>\n",
       "      <td>220.0</td>\n",
       "    </tr>\n",
       "    <tr>\n",
       "      <th>banana</th>\n",
       "      <td>610</td>\n",
       "      <td>104.0</td>\n",
       "      <td>288.0</td>\n",
       "      <td>373.0</td>\n",
       "    </tr>\n",
       "    <tr>\n",
       "      <th>...</th>\n",
       "      <td>...</td>\n",
       "      <td>...</td>\n",
       "      <td>...</td>\n",
       "      <td>...</td>\n",
       "    </tr>\n",
       "    <tr>\n",
       "      <th>66531</th>\n",
       "      <td>2</td>\n",
       "      <td>NaN</td>\n",
       "      <td>2.0</td>\n",
       "      <td>2.0</td>\n",
       "    </tr>\n",
       "    <tr>\n",
       "      <th>67082</th>\n",
       "      <td>2</td>\n",
       "      <td>NaN</td>\n",
       "      <td>NaN</td>\n",
       "      <td>NaN</td>\n",
       "    </tr>\n",
       "    <tr>\n",
       "      <th>81930</th>\n",
       "      <td>2</td>\n",
       "      <td>NaN</td>\n",
       "      <td>NaN</td>\n",
       "      <td>NaN</td>\n",
       "    </tr>\n",
       "    <tr>\n",
       "      <th>42087</th>\n",
       "      <td>2</td>\n",
       "      <td>NaN</td>\n",
       "      <td>11.0</td>\n",
       "      <td>8.0</td>\n",
       "    </tr>\n",
       "    <tr>\n",
       "      <th>528041</th>\n",
       "      <td>2</td>\n",
       "      <td>NaN</td>\n",
       "      <td>4.0</td>\n",
       "      <td>13.0</td>\n",
       "    </tr>\n",
       "  </tbody>\n",
       "</table>\n",
       "<p>206 rows × 4 columns</p>\n",
       "</div>"
      ],
      "text/plain": [
       "               primary_label  secondary_labels  primary_label_pseudo  \\\n",
       "primary_label                                                          \n",
       "grekis                   990             489.0                 542.0   \n",
       "compau                   808              44.0                  75.0   \n",
       "trokin                   787             188.0                 270.0   \n",
       "roahaw                   709               2.0                 143.0   \n",
       "banana                   610             104.0                 288.0   \n",
       "...                      ...               ...                   ...   \n",
       "66531                      2               NaN                   2.0   \n",
       "67082                      2               NaN                   NaN   \n",
       "81930                      2               NaN                   NaN   \n",
       "42087                      2               NaN                  11.0   \n",
       "528041                     2               NaN                   4.0   \n",
       "\n",
       "               secondary_labels_pseudo  \n",
       "primary_label                           \n",
       "grekis                           749.0  \n",
       "compau                           227.0  \n",
       "trokin                           553.0  \n",
       "roahaw                           220.0  \n",
       "banana                           373.0  \n",
       "...                                ...  \n",
       "66531                              2.0  \n",
       "67082                              NaN  \n",
       "81930                              NaN  \n",
       "42087                              8.0  \n",
       "528041                            13.0  \n",
       "\n",
       "[206 rows x 4 columns]"
      ]
     },
     "execution_count": 64,
     "metadata": {},
     "output_type": "execute_result"
    }
   ],
   "source": [
    "primary_pslabels_grouped = primary_pslabels.groupby(primary_pslabels).count().sort_values(ascending=False)\n",
    "secondary_pslabels_grouped = all_secondary_pslabels.groupby(all_secondary_pslabels).count().sort_values(ascending=False)\n",
    "secondary_pslabels_grouped.name = \"secondary_labels\"\n",
    "all_merged_label_counts = pd.merge(primary_labels_grouped, secondary_labels_grouped, how=\"left\", left_index=True, right_index=True)\n",
    "all_merged_label_counts = pd.merge(all_merged_label_counts, primary_pslabels_grouped, how=\"left\", left_index=True, right_index=True, suffixes=('', '_pseudo'))\n",
    "all_merged_label_counts = pd.merge(all_merged_label_counts, secondary_pslabels_grouped, how=\"left\", left_index=True, right_index=True, suffixes=('', '_pseudo'))  \n",
    "all_merged_label_counts"
   ]
  },
  {
   "cell_type": "code",
   "execution_count": null,
   "id": "36ab328f",
   "metadata": {},
   "outputs": [
    {
     "data": {
      "image/png": "[encoded data removed]",
      "text/plain": [
       "<Figure size 1500x600 with 1 Axes>"
      ]
     },
     "metadata": {},
     "output_type": "display_data"
    }
   ],
   "source": [
    "plt.figure(figsize=(15, 6))\n",
    "\n",
    "plt.bar(range(len(primary_labels_grouped)), all_merged_label_counts[\"secondary_labels_pseudo\"], width=1, color=\"c\", label=f\"secondary pseudolabels (Σ={len(secondary_pslabels_grouped)})\", alpha=1)\n",
    "plt.bar(range(len(primary_labels_grouped)), all_merged_label_counts[\"primary_label_pseudo\"], width=1, color=\"r\", label=f\"primary pseudolabels (Σ={len(primary_pslabels_grouped)})\", alpha=1)\n",
    "\n",
    "plt.xlim(-0.5, len(counts)-0.5)\n",
    "plt.yscale(\"log\")\n",
    "plt.xticks([])\n",
    "plt.xlabel(\"Labels\")\n",
    "plt.ylabel(\"Number of Samples\")\n",
    "#plt.ylim(1,10e2+300)\n",
    "plt.tick_params(labeltop=False, labelright=True, which =\"both\", right=True)\n",
    "plt.legend(loc=\"upper right\")\n",
    "plt.text(0.942, 0.85, f\"threshold: {cfg.pseudolabel_confidence_threshold}\", transform=plt.gca().transAxes, ha='center', fontsize=11, bbox=dict(facecolor='white', alpha=0.5, edgecolor='grey', boxstyle='round,pad=0.2'))\n",
    "plt.savefig(f\"scarcity_plot_pseudo_thr{cfg.pseudolabel_confidence_threshold}.png\", dpi=300)"
   ]
  },
  {
   "cell_type": "code",
   "execution_count": 65,
   "id": "27c6c5ac",
   "metadata": {},
   "outputs": [
    {
     "data": {
      "image/png": "[encoded data removed]",
      "text/plain": [
       "<Figure size 600x800 with 1 Axes>"
      ]
     },
     "metadata": {},
     "output_type": "display_data"
    }
   ],
   "source": [
    "plt.figure(figsize=(6, 8))\n",
    "\n",
    "plt.barh(range(len(primary_labels_grouped)), all_merged_label_counts[\"secondary_labels_pseudo\"], height=1, color=\"tab:cyan\", label=f\"secondary (Σ={len(secondary_pslabels_grouped)})\", alpha=1)\n",
    "plt.barh(range(len(primary_labels_grouped)), all_merged_label_counts[\"primary_label_pseudo\"], height=1, color=\"tab:red\", label=f\"primary (Σ={len(primary_pslabels_grouped)})\", alpha=1)\n",
    "\n",
    "plt.ylim(-0.5, len(counts)-0.5)\n",
    "plt.xscale(\"log\")\n",
    "plt.xlim(1, 10e4)\n",
    "plt.yticks([])\n",
    "plt.ylabel(\"Labels\")\n",
    "plt.xlabel(\"Number of Samples\")\n",
    "plt.tick_params(labeltop=False, labelright=False, which =\"both\", top=True)\n",
    "plt.legend(loc=\"upper right\", title=\"pseudolabels:\", fontsize=9, title_fontsize=9)\n",
    "plt.text(0.89, 0.86, f\"threshold: {cfg.pseudolabel_confidence_threshold}\", transform=plt.gca().transAxes, ha='center', fontsize=9, bbox=dict(facecolor='white', alpha=0.5, edgecolor='grey', boxstyle='round,pad=0.2'))\n",
    "plt.savefig(f\"scarcity_plot_pseudo_thr{cfg.pseudolabel_confidence_threshold}.png\", dpi=300, bbox_inches='tight')"
   ]
  },
  {
   "cell_type": "code",
   "execution_count": null,
   "id": "7120ecd1",
   "metadata": {},
   "outputs": [],
   "source": []
  }
 ],
 "metadata": {
  "kernelspec": {
   "display_name": "Python 3",
   "language": "python",
   "name": "python3"
  },
  "language_info": {
   "codemirror_mode": {
    "name": "ipython",
    "version": 3
   },
   "file_extension": ".py",
   "mimetype": "text/x-python",
   "name": "python",
   "nbconvert_exporter": "python",
   "pygments_lexer": "ipython3",
   "version": "3.11.9"
  }
 },
 "nbformat": 4,
 "nbformat_minor": 5
}
